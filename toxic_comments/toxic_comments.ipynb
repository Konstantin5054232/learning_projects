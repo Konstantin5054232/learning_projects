{
 "cells": [
  {
   "cell_type": "markdown",
   "metadata": {
    "toc": true
   },
   "source": [
    "<h1>Содержание<span class=\"tocSkip\"></span></h1>\n",
    "<div class=\"toc\"><ul class=\"toc-item\"><li><span><a href=\"#Подготовка\" data-toc-modified-id=\"Подготовка-1\"><span class=\"toc-item-num\">1&nbsp;&nbsp;</span>Подготовка</a></span></li><li><span><a href=\"#Обучение\" data-toc-modified-id=\"Обучение-2\"><span class=\"toc-item-num\">2&nbsp;&nbsp;</span>Обучение</a></span></li><li><span><a href=\"#Выводы\" data-toc-modified-id=\"Выводы-3\"><span class=\"toc-item-num\">3&nbsp;&nbsp;</span>Выводы</a></span></li></ul></div>"
   ]
  },
  {
   "cell_type": "markdown",
   "metadata": {},
   "source": [
    "#  Классификация комментариев на позитивные и негативные"
   ]
  },
  {
   "cell_type": "markdown",
   "metadata": {},
   "source": [
    "Интернет-магазин «Викишоп» запускает новый сервис. Теперь пользователи могут редактировать и дополнять описания товаров, как в вики-сообществах. То есть клиенты предлагают свои правки и комментируют изменения других. Магазину нужен инструмент, который будет искать токсичные комментарии и отправлять их на модерацию. \n",
    "\n",
    "Обучим модель классифицировать комментарии на позитивные и негативные. В нашем распоряжении набор данных с разметкой о токсичности правок.\n",
    "\n",
    "Необходимо построить модель со значением метрики качества *F1* не меньше 0.75. "
   ]
  },
  {
   "cell_type": "markdown",
   "metadata": {},
   "source": [
    "## Подготовка"
   ]
  },
  {
   "cell_type": "code",
   "execution_count": 1,
   "metadata": {},
   "outputs": [],
   "source": [
    "# Загрузим необходимые библиотеки\n",
    "import pandas as pd\n",
    "import numpy as np\n",
    "from sklearn.metrics import accuracy_score\n",
    "from pymystem3 import Mystem\n",
    "import re\n",
    "import nltk\n",
    "from nltk.corpus import stopwords as nltk_stopwords\n",
    "from sklearn.feature_extraction.text import TfidfVectorizer\n",
    "from sklearn.metrics import f1_score \n",
    "from sklearn.linear_model import LogisticRegression\n",
    "from sklearn.tree import DecisionTreeClassifier\n",
    "from sklearn.ensemble import RandomForestClassifier\n",
    "from sklearn.model_selection import train_test_split"
   ]
  },
  {
   "cell_type": "code",
   "execution_count": 2,
   "metadata": {},
   "outputs": [
    {
     "data": {
      "text/plain": [
       "(159571, 2)"
      ]
     },
     "metadata": {},
     "output_type": "display_data"
    },
    {
     "data": {
      "text/html": [
       "<div>\n",
       "<style scoped>\n",
       "    .dataframe tbody tr th:only-of-type {\n",
       "        vertical-align: middle;\n",
       "    }\n",
       "\n",
       "    .dataframe tbody tr th {\n",
       "        vertical-align: top;\n",
       "    }\n",
       "\n",
       "    .dataframe thead th {\n",
       "        text-align: right;\n",
       "    }\n",
       "</style>\n",
       "<table border=\"1\" class=\"dataframe\">\n",
       "  <thead>\n",
       "    <tr style=\"text-align: right;\">\n",
       "      <th></th>\n",
       "      <th>text</th>\n",
       "      <th>toxic</th>\n",
       "    </tr>\n",
       "  </thead>\n",
       "  <tbody>\n",
       "    <tr>\n",
       "      <td>0</td>\n",
       "      <td>Explanation\\nWhy the edits made under my usern...</td>\n",
       "      <td>0</td>\n",
       "    </tr>\n",
       "    <tr>\n",
       "      <td>1</td>\n",
       "      <td>D'aww! He matches this background colour I'm s...</td>\n",
       "      <td>0</td>\n",
       "    </tr>\n",
       "    <tr>\n",
       "      <td>2</td>\n",
       "      <td>Hey man, I'm really not trying to edit war. It...</td>\n",
       "      <td>0</td>\n",
       "    </tr>\n",
       "    <tr>\n",
       "      <td>3</td>\n",
       "      <td>\"\\nMore\\nI can't make any real suggestions on ...</td>\n",
       "      <td>0</td>\n",
       "    </tr>\n",
       "    <tr>\n",
       "      <td>4</td>\n",
       "      <td>You, sir, are my hero. Any chance you remember...</td>\n",
       "      <td>0</td>\n",
       "    </tr>\n",
       "  </tbody>\n",
       "</table>\n",
       "</div>"
      ],
      "text/plain": [
       "                                                text  toxic\n",
       "0  Explanation\\nWhy the edits made under my usern...      0\n",
       "1  D'aww! He matches this background colour I'm s...      0\n",
       "2  Hey man, I'm really not trying to edit war. It...      0\n",
       "3  \"\\nMore\\nI can't make any real suggestions on ...      0\n",
       "4  You, sir, are my hero. Any chance you remember...      0"
      ]
     },
     "metadata": {},
     "output_type": "display_data"
    },
    {
     "name": "stdout",
     "output_type": "stream",
     "text": [
      "<class 'pandas.core.frame.DataFrame'>\n",
      "RangeIndex: 159571 entries, 0 to 159570\n",
      "Data columns (total 2 columns):\n",
      "text     159571 non-null object\n",
      "toxic    159571 non-null int64\n",
      "dtypes: int64(1), object(1)\n",
      "memory usage: 2.4+ MB\n"
     ]
    }
   ],
   "source": [
    "# Загрузим и изучим данные\n",
    "data = pd.read_csv('/datasets/toxic_comments.csv')\n",
    "display(data.shape)\n",
    "display(data.head())\n",
    "data.info()"
   ]
  },
  {
   "cell_type": "code",
   "execution_count": 3,
   "metadata": {},
   "outputs": [
    {
     "data": {
      "text/plain": [
       "0.10167887648758234"
      ]
     },
     "execution_count": 3,
     "metadata": {},
     "output_type": "execute_result"
    }
   ],
   "source": [
    "# Изучим баланс классов\n",
    "balance = data['toxic'].sum() / len(data)\n",
    "balance"
   ]
  },
  {
   "cell_type": "markdown",
   "metadata": {},
   "source": [
    "Мы видим, что классы несбалансированы: токсичных комментариев примерно 10%"
   ]
  },
  {
   "cell_type": "code",
   "execution_count": 4,
   "metadata": {},
   "outputs": [],
   "source": [
    "# Напишем функции лемматизации текста и отчистки от всех символов, кроме английских букв\n",
    "#m = Mystem()\n",
    "corpus = data['text']\n",
    "\n",
    "def lemmatize(text):\n",
    "    lemm_list = m.lemmatize(text)\n",
    "    lemm_text = \"\".join(lemm_list)\n",
    "    return lemm_text\n",
    "\n",
    "\n",
    "def clear_text(text):\n",
    "    return \" \".join(re.sub(r'[^a-zA-Z ]', ' ', text).split())\n",
    "\n",
    "data['lemm_text'] = corpus.apply(clear_text)\n",
    "#data['lemm_text'] = corpus.apply(lemmatize)"
   ]
  },
  {
   "cell_type": "markdown",
   "metadata": {},
   "source": [
    "Проведем разбиение на обучающую и тестовую выборки"
   ]
  },
  {
   "cell_type": "code",
   "execution_count": 5,
   "metadata": {},
   "outputs": [],
   "source": [
    "data_train, data_test = train_test_split(data, test_size=0.25, random_state=12345)"
   ]
  },
  {
   "cell_type": "code",
   "execution_count": 6,
   "metadata": {},
   "outputs": [],
   "source": [
    "# Вычислим TF-IDF для обучающего и тестового корпусов текстов\n",
    "train_corpus = data_train['lemm_text'].values.astype('U')\n",
    "train_labels = data_train['toxic']\n",
    " \n",
    "stopwords = set(nltk_stopwords.words('english'))\n",
    "count_tf_idf = TfidfVectorizer(stop_words=stopwords)\n",
    " \n",
    "tfidf_train = count_tf_idf.fit_transform(train_corpus)\n",
    "\n",
    "\n",
    "test_corpus = data_test['lemm_text'].values.astype('U')\n",
    "test_labels = data_test['toxic']\n",
    "\n",
    "tfidf_test = count_tf_idf.transform(test_corpus)"
   ]
  },
  {
   "cell_type": "markdown",
   "metadata": {},
   "source": [
    "## Обучение"
   ]
  },
  {
   "cell_type": "markdown",
   "metadata": {},
   "source": [
    "Обучим 3 различные модели, сформируем прогнозы, рассчитаем метрику f1 для тестовой выборки"
   ]
  },
  {
   "cell_type": "code",
   "execution_count": 7,
   "metadata": {},
   "outputs": [
    {
     "name": "stdout",
     "output_type": "stream",
     "text": [
      "0.7588081774684645\n"
     ]
    }
   ],
   "source": [
    "model_1 = LogisticRegression(random_state=12345, solver='liblinear', class_weight='balanced')\n",
    "model_1.fit(tfidf_train, train_labels)\n",
    "predictions = model_1.predict(tfidf_test)\n",
    " \n",
    "print(f1_score(test_labels, predictions))"
   ]
  },
  {
   "cell_type": "code",
   "execution_count": 8,
   "metadata": {},
   "outputs": [
    {
     "name": "stdout",
     "output_type": "stream",
     "text": [
      "0.7117315699240754\n"
     ]
    }
   ],
   "source": [
    "model_2 = DecisionTreeClassifier()\n",
    "model_2.fit(tfidf_train, train_labels)\n",
    "predictions = model_2.predict(tfidf_test)\n",
    " \n",
    "print(f1_score(test_labels, predictions))"
   ]
  },
  {
   "cell_type": "code",
   "execution_count": 9,
   "metadata": {},
   "outputs": [
    {
     "name": "stderr",
     "output_type": "stream",
     "text": [
      "/opt/conda/lib/python3.7/site-packages/sklearn/ensemble/forest.py:245: FutureWarning: The default value of n_estimators will change from 10 in version 0.20 to 100 in 0.22.\n",
      "  \"10 in version 0.20 to 100 in 0.22.\", FutureWarning)\n"
     ]
    },
    {
     "name": "stdout",
     "output_type": "stream",
     "text": [
      "0.6798780487804879\n"
     ]
    }
   ],
   "source": [
    "model_3 = RandomForestClassifier()\n",
    "model_3.fit(tfidf_train, train_labels)\n",
    "predictions = model_3.predict(tfidf_test)\n",
    " \n",
    "print(f1_score(test_labels, predictions))"
   ]
  },
  {
   "cell_type": "markdown",
   "metadata": {},
   "source": [
    "## Выводы"
   ]
  },
  {
   "cell_type": "markdown",
   "metadata": {},
   "source": [
    "Мы обучили три различные модели LogisticRegression, DecisionTreeClassifier, RandomForestClassifier. Для каждой модели сформировали прогнозы, а также рассчитали метрику f1. Наибольшее значение метрики f1 получилось у модели LogisticRegression, наименьшее - у модели RandomForestClassifier.\n",
    "\n",
    "Используя написанный код мы можем классифицировать комментарии на позитивные и негативные, не тратя время на их прочтение, что позволит сохранить рабочее время работников интернет-магазина при оценке комментариев."
   ]
  }
 ],
 "metadata": {
  "ExecuteTimeLog": [
   {
    "duration": 1418,
    "start_time": "2021-08-23T15:24:08.345Z"
   },
   {
    "duration": 765,
    "start_time": "2021-08-23T15:24:10.977Z"
   },
   {
    "duration": 2218,
    "start_time": "2021-08-23T18:40:09.471Z"
   },
   {
    "duration": 48,
    "start_time": "2021-08-23T18:40:26.262Z"
   },
   {
    "duration": 639,
    "start_time": "2021-08-23T18:41:13.145Z"
   },
   {
    "duration": 7536,
    "start_time": "2021-08-23T18:41:45.321Z"
   },
   {
    "duration": 1928,
    "start_time": "2021-08-23T18:42:37.675Z"
   },
   {
    "duration": 835,
    "start_time": "2021-08-23T18:42:39.606Z"
   },
   {
    "duration": 2867,
    "start_time": "2021-08-23T18:42:43.799Z"
   },
   {
    "duration": 968,
    "start_time": "2021-08-23T18:43:04.437Z"
   },
   {
    "duration": 1860,
    "start_time": "2021-08-23T18:43:09.785Z"
   },
   {
    "duration": 934,
    "start_time": "2021-08-23T18:43:12.454Z"
   },
   {
    "duration": 3055,
    "start_time": "2021-08-23T18:43:15.592Z"
   },
   {
    "duration": 913,
    "start_time": "2021-08-23T18:45:08.411Z"
   },
   {
    "duration": 1541,
    "start_time": "2021-08-23T18:45:19.901Z"
   },
   {
    "duration": 856,
    "start_time": "2021-08-23T18:45:21.444Z"
   },
   {
    "duration": 3696,
    "start_time": "2021-08-23T18:45:22.306Z"
   },
   {
    "duration": 1493,
    "start_time": "2021-08-23T18:46:28.659Z"
   },
   {
    "duration": 838,
    "start_time": "2021-08-23T18:46:30.155Z"
   },
   {
    "duration": 3688,
    "start_time": "2021-08-23T18:46:34.432Z"
   },
   {
    "duration": 1860,
    "start_time": "2021-08-23T18:47:57.464Z"
   },
   {
    "duration": 1058,
    "start_time": "2021-08-23T18:47:59.328Z"
   },
   {
    "duration": 1517,
    "start_time": "2021-08-23T19:13:17.786Z"
   },
   {
    "duration": 783,
    "start_time": "2021-08-23T19:13:19.307Z"
   },
   {
    "duration": 993,
    "start_time": "2021-08-23T19:13:25.186Z"
   },
   {
    "duration": 1211,
    "start_time": "2021-08-23T19:15:22.094Z"
   },
   {
    "duration": 953,
    "start_time": "2021-08-23T19:16:12.178Z"
   },
   {
    "duration": 987,
    "start_time": "2021-08-23T19:16:29.960Z"
   },
   {
    "duration": 1007,
    "start_time": "2021-08-23T19:16:51.936Z"
   },
   {
    "duration": 1020,
    "start_time": "2021-08-23T19:17:03.690Z"
   },
   {
    "duration": 895,
    "start_time": "2021-08-23T19:18:14.418Z"
   },
   {
    "duration": 435,
    "start_time": "2021-08-23T19:19:39.468Z"
   },
   {
    "duration": 3259,
    "start_time": "2021-08-23T19:23:23.237Z"
   },
   {
    "duration": 3671,
    "start_time": "2021-08-23T19:24:05.550Z"
   },
   {
    "duration": 3125,
    "start_time": "2021-08-23T19:35:00.204Z"
   },
   {
    "duration": 800,
    "start_time": "2021-08-23T19:35:03.332Z"
   },
   {
    "duration": 4057,
    "start_time": "2021-08-23T19:35:07.756Z"
   },
   {
    "duration": 500,
    "start_time": "2021-08-23T19:39:08.544Z"
   },
   {
    "duration": 1372,
    "start_time": "2021-08-23T19:39:26.444Z"
   },
   {
    "duration": 782,
    "start_time": "2021-08-23T19:39:27.819Z"
   },
   {
    "duration": 3417,
    "start_time": "2021-08-23T19:39:30.813Z"
   },
   {
    "duration": 1287,
    "start_time": "2021-08-23T19:40:15.730Z"
   },
   {
    "duration": 771,
    "start_time": "2021-08-23T19:40:20.006Z"
   },
   {
    "duration": 3676,
    "start_time": "2021-08-23T19:40:23.555Z"
   },
   {
    "duration": 1599,
    "start_time": "2021-08-27T14:25:48.908Z"
   },
   {
    "duration": 937,
    "start_time": "2021-08-27T14:25:50.510Z"
   },
   {
    "duration": 3384,
    "start_time": "2021-08-27T14:25:51.456Z"
   },
   {
    "duration": -497,
    "start_time": "2021-08-27T14:25:55.339Z"
   },
   {
    "duration": 129067,
    "start_time": "2021-08-27T14:26:13.176Z"
   },
   {
    "duration": 20,
    "start_time": "2021-08-27T14:28:49.796Z"
   },
   {
    "duration": 3128,
    "start_time": "2021-08-27T14:46:22.695Z"
   },
   {
    "duration": 308,
    "start_time": "2021-08-27T14:48:08.350Z"
   },
   {
    "duration": 330,
    "start_time": "2021-08-27T14:48:46.658Z"
   },
   {
    "duration": 1723,
    "start_time": "2021-08-27T14:48:51.449Z"
   },
   {
    "duration": 797,
    "start_time": "2021-08-27T14:48:53.175Z"
   },
   {
    "duration": 119178,
    "start_time": "2021-08-27T14:48:53.976Z"
   },
   {
    "duration": 17,
    "start_time": "2021-08-27T14:50:53.157Z"
   },
   {
    "duration": 30124,
    "start_time": "2021-08-27T14:50:53.176Z"
   },
   {
    "duration": 1590,
    "start_time": "2021-08-27T14:52:04.294Z"
   },
   {
    "duration": 785,
    "start_time": "2021-08-27T14:52:05.886Z"
   },
   {
    "duration": 131480,
    "start_time": "2021-08-27T14:52:06.674Z"
   },
   {
    "duration": 18,
    "start_time": "2021-08-27T14:54:18.157Z"
   },
   {
    "duration": 35304,
    "start_time": "2021-08-27T14:54:18.178Z"
   },
   {
    "duration": 358,
    "start_time": "2021-08-27T14:56:22.854Z"
   },
   {
    "duration": 1707,
    "start_time": "2021-08-27T14:56:33.436Z"
   },
   {
    "duration": 796,
    "start_time": "2021-08-27T14:56:35.146Z"
   },
   {
    "duration": 136879,
    "start_time": "2021-08-27T14:56:35.945Z"
   },
   {
    "duration": 33,
    "start_time": "2021-08-27T14:58:52.827Z"
   },
   {
    "duration": 27625,
    "start_time": "2021-08-27T14:58:52.863Z"
   },
   {
    "duration": 352,
    "start_time": "2021-08-27T15:04:48.399Z"
   },
   {
    "duration": 1560,
    "start_time": "2021-08-27T15:05:40.118Z"
   },
   {
    "duration": 782,
    "start_time": "2021-08-27T15:05:41.681Z"
   },
   {
    "duration": 125288,
    "start_time": "2021-08-27T15:05:42.466Z"
   },
   {
    "duration": 16371,
    "start_time": "2021-08-27T15:07:47.757Z"
   },
   {
    "duration": 10301,
    "start_time": "2021-08-27T15:08:04.130Z"
   },
   {
    "duration": 950144,
    "start_time": "2021-08-27T15:08:14.434Z"
   },
   {
    "duration": 128090,
    "start_time": "2021-08-27T15:24:04.581Z"
   },
   {
    "duration": 1697,
    "start_time": "2021-08-28T16:24:30.442Z"
   },
   {
    "duration": 826,
    "start_time": "2021-08-28T16:24:32.142Z"
   },
   {
    "duration": 3129,
    "start_time": "2021-08-28T16:24:32.973Z"
   },
   {
    "duration": 78,
    "start_time": "2021-08-28T16:24:36.105Z"
   },
   {
    "duration": 13699,
    "start_time": "2021-08-28T16:24:36.187Z"
   },
   {
    "duration": 557,
    "start_time": "2021-08-28T16:24:49.889Z"
   },
   {
    "duration": -102,
    "start_time": "2021-08-28T16:24:50.551Z"
   },
   {
    "duration": -101,
    "start_time": "2021-08-28T16:24:50.552Z"
   },
   {
    "duration": 8344,
    "start_time": "2021-08-28T16:25:20.759Z"
   },
   {
    "duration": 1481,
    "start_time": "2021-08-28T16:34:10.668Z"
   },
   {
    "duration": 822,
    "start_time": "2021-08-28T16:34:13.234Z"
   },
   {
    "duration": 2590,
    "start_time": "2021-08-28T16:34:19.715Z"
   },
   {
    "duration": 67,
    "start_time": "2021-08-28T16:34:25.771Z"
   },
   {
    "duration": 13776,
    "start_time": "2021-08-28T16:34:30.124Z"
   },
   {
    "duration": 1596,
    "start_time": "2021-08-28T16:35:54.608Z"
   },
   {
    "duration": 805,
    "start_time": "2021-08-28T16:35:57.071Z"
   },
   {
    "duration": 2874,
    "start_time": "2021-08-28T16:36:00.131Z"
   },
   {
    "duration": 67,
    "start_time": "2021-08-28T16:36:06.480Z"
   },
   {
    "duration": 16777,
    "start_time": "2021-08-28T16:36:08.785Z"
   },
   {
    "duration": 3933,
    "start_time": "2021-08-28T16:36:30.854Z"
   },
   {
    "duration": 5,
    "start_time": "2021-08-28T16:37:00.045Z"
   },
   {
    "duration": 764,
    "start_time": "2021-08-28T16:37:00.076Z"
   },
   {
    "duration": 2832,
    "start_time": "2021-08-28T16:37:00.843Z"
   },
   {
    "duration": 104,
    "start_time": "2021-08-28T16:37:03.680Z"
   },
   {
    "duration": 1582,
    "start_time": "2021-08-28T16:37:14.631Z"
   },
   {
    "duration": 788,
    "start_time": "2021-08-28T16:37:16.216Z"
   },
   {
    "duration": 2702,
    "start_time": "2021-08-28T16:37:17.008Z"
   },
   {
    "duration": 81,
    "start_time": "2021-08-28T16:37:19.714Z"
   },
   {
    "duration": 16950,
    "start_time": "2021-08-28T16:37:19.797Z"
   },
   {
    "duration": 8067,
    "start_time": "2021-08-28T16:37:36.750Z"
   },
   {
    "duration": 613908,
    "start_time": "2021-08-28T16:37:44.819Z"
   },
   {
    "duration": 68360,
    "start_time": "2021-08-28T16:47:58.729Z"
   },
   {
    "duration": 4188,
    "start_time": "2021-08-28T16:49:07.093Z"
   },
   {
    "duration": 103406,
    "start_time": "2021-08-28T16:49:11.285Z"
   },
   {
    "duration": 11461,
    "start_time": "2021-08-28T16:50:54.694Z"
   },
   {
    "duration": 1655,
    "start_time": "2021-08-28T16:55:21.048Z"
   },
   {
    "duration": 837,
    "start_time": "2021-08-28T16:55:25.161Z"
   },
   {
    "duration": 2583,
    "start_time": "2021-08-28T16:55:29.633Z"
   },
   {
    "duration": 66,
    "start_time": "2021-08-28T16:55:37.510Z"
   },
   {
    "duration": 13726,
    "start_time": "2021-08-28T16:55:38.616Z"
   },
   {
    "duration": 1885,
    "start_time": "2021-08-28T17:18:49.367Z"
   },
   {
    "duration": 763,
    "start_time": "2021-08-28T17:18:54.001Z"
   },
   {
    "duration": 2611,
    "start_time": "2021-08-28T17:18:59.377Z"
   },
   {
    "duration": 66,
    "start_time": "2021-08-28T17:19:04.487Z"
   },
   {
    "duration": 24664,
    "start_time": "2021-08-28T17:19:07.298Z"
   },
   {
    "duration": 1543,
    "start_time": "2021-08-28T17:20:21.588Z"
   },
   {
    "duration": 795,
    "start_time": "2021-08-28T17:20:25.120Z"
   },
   {
    "duration": 2605,
    "start_time": "2021-08-28T17:20:31.750Z"
   },
   {
    "duration": 71,
    "start_time": "2021-08-28T17:20:36.772Z"
   },
   {
    "duration": 24047,
    "start_time": "2021-08-28T17:20:38.703Z"
   },
   {
    "duration": 1530,
    "start_time": "2021-08-28T17:24:52.434Z"
   },
   {
    "duration": 761,
    "start_time": "2021-08-28T17:24:56.379Z"
   },
   {
    "duration": 2582,
    "start_time": "2021-08-28T17:25:00.923Z"
   },
   {
    "duration": 69,
    "start_time": "2021-08-28T17:25:13.604Z"
   },
   {
    "duration": 19608,
    "start_time": "2021-08-28T17:25:17.164Z"
   },
   {
    "duration": 468,
    "start_time": "2021-08-28T17:25:41.555Z"
   },
   {
    "duration": 7887,
    "start_time": "2021-08-28T17:25:51.147Z"
   },
   {
    "duration": 1522,
    "start_time": "2021-08-28T17:29:27.964Z"
   },
   {
    "duration": 822,
    "start_time": "2021-08-28T17:29:29.489Z"
   },
   {
    "duration": 2728,
    "start_time": "2021-08-28T17:29:30.314Z"
   },
   {
    "duration": 78,
    "start_time": "2021-08-28T17:29:33.045Z"
   },
   {
    "duration": 17055,
    "start_time": "2021-08-28T17:29:33.126Z"
   },
   {
    "duration": 7937,
    "start_time": "2021-08-28T17:29:50.185Z"
   },
   {
    "duration": 529153,
    "start_time": "2021-08-28T17:29:58.124Z"
   },
   {
    "duration": 69728,
    "start_time": "2021-08-28T17:38:47.279Z"
   },
   {
    "duration": 16010,
    "start_time": "2021-08-28T17:48:40.918Z"
   },
   {
    "duration": 829,
    "start_time": "2021-08-28T17:54:07.492Z"
   },
   {
    "duration": 867,
    "start_time": "2021-08-28T17:54:23.004Z"
   },
   {
    "duration": 6,
    "start_time": "2021-08-28T17:55:24.958Z"
   },
   {
    "duration": 6,
    "start_time": "2021-08-28T17:55:56.996Z"
   },
   {
    "duration": 6,
    "start_time": "2021-08-28T17:57:04.517Z"
   },
   {
    "duration": 104,
    "start_time": "2021-08-28T17:58:14.110Z"
   },
   {
    "duration": 430,
    "start_time": "2021-08-28T17:59:06.196Z"
   },
   {
    "duration": 188614,
    "start_time": "2021-08-28T17:59:15.237Z"
   },
   {
    "duration": 73989,
    "start_time": "2021-08-28T18:02:44.996Z"
   },
   {
    "duration": 1689,
    "start_time": "2021-08-28T18:04:42.120Z"
   },
   {
    "duration": 859,
    "start_time": "2021-08-28T18:04:43.812Z"
   },
   {
    "duration": 7,
    "start_time": "2021-08-28T18:04:44.674Z"
   },
   {
    "duration": 3213,
    "start_time": "2021-08-28T18:04:44.685Z"
   },
   {
    "duration": 86,
    "start_time": "2021-08-28T18:04:47.900Z"
   },
   {
    "duration": 16857,
    "start_time": "2021-08-28T18:04:47.989Z"
   },
   {
    "duration": 13683,
    "start_time": "2021-08-28T18:05:04.848Z"
   },
   {
    "duration": 525367,
    "start_time": "2021-08-28T18:05:18.535Z"
   },
   {
    "duration": 69265,
    "start_time": "2021-08-28T18:14:03.905Z"
   }
  ],
  "kernelspec": {
   "display_name": "Python 3",
   "language": "python",
   "name": "python3"
  },
  "language_info": {
   "codemirror_mode": {
    "name": "ipython",
    "version": 3
   },
   "file_extension": ".py",
   "mimetype": "text/x-python",
   "name": "python",
   "nbconvert_exporter": "python",
   "pygments_lexer": "ipython3",
   "version": "3.7.8"
  },
  "toc": {
   "base_numbering": 1,
   "nav_menu": {},
   "number_sections": true,
   "sideBar": true,
   "skip_h1_title": true,
   "title_cell": "Содержание",
   "title_sidebar": "Contents",
   "toc_cell": true,
   "toc_position": {
    "height": "calc(100% - 180px)",
    "left": "10px",
    "top": "150px",
    "width": "302.391px"
   },
   "toc_section_display": true,
   "toc_window_display": false
  }
 },
 "nbformat": 4,
 "nbformat_minor": 2
}
