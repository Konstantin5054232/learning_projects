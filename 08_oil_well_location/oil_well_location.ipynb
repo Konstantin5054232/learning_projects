{
 "cells": [
  {
   "cell_type": "markdown",
   "metadata": {},
   "source": [
    "# Выбор локации для нефтяной скважины"
   ]
  },
  {
   "cell_type": "markdown",
   "metadata": {},
   "source": [
    "Необходимо решить, где бурить новую скважину.\n",
    "\n",
    "Предоставлены пробы нефти в трёх регионах: в каждом 10 000 месторождений, где измерили качество нефти и объём её запасов. Необходимо построить модель машинного обучения, которая поможет определить регион, где добыча принесёт наибольшую прибыль. Проанализировать возможную прибыль и риски техникой *Bootstrap.*\n",
    "\n",
    "Шаги для выбора локации:\n",
    "\n",
    "- В избранном регионе ищут месторождения, для каждого определяют значения признаков;\n",
    "- Строят модель и оценивают объём запасов;\n",
    "- Выбирают месторождения с самым высокими оценками значений. Количество месторождений зависит от бюджета компании и стоимости разработки одной скважины;\n",
    "- Прибыль равна суммарной прибыли отобранных месторождений."
   ]
  },
  {
   "cell_type": "markdown",
   "metadata": {},
   "source": [
    "## Загрузка и подготовка данных"
   ]
  },
  {
   "cell_type": "code",
   "execution_count": 1,
   "metadata": {},
   "outputs": [],
   "source": [
    "import pandas as pd\n",
    "import numpy as np\n",
    "from sklearn.linear_model import LinearRegression\n",
    "from sklearn.model_selection import train_test_split\n",
    "from sklearn.metrics import mean_squared_error\n",
    "from scipy import stats as st"
   ]
  },
  {
   "cell_type": "code",
   "execution_count": 2,
   "metadata": {},
   "outputs": [
    {
     "name": "stdout",
     "output_type": "stream",
     "text": [
      "<class 'pandas.core.frame.DataFrame'>\n",
      "RangeIndex: 100000 entries, 0 to 99999\n",
      "Data columns (total 5 columns):\n",
      "id         100000 non-null object\n",
      "f0         100000 non-null float64\n",
      "f1         100000 non-null float64\n",
      "f2         100000 non-null float64\n",
      "product    100000 non-null float64\n",
      "dtypes: float64(4), object(1)\n",
      "memory usage: 3.8+ MB\n"
     ]
    },
    {
     "data": {
      "text/plain": [
       "None"
      ]
     },
     "metadata": {},
     "output_type": "display_data"
    },
    {
     "data": {
      "text/plain": [
       "(100000, 5)"
      ]
     },
     "metadata": {},
     "output_type": "display_data"
    },
    {
     "data": {
      "text/html": [
       "<div>\n",
       "<style scoped>\n",
       "    .dataframe tbody tr th:only-of-type {\n",
       "        vertical-align: middle;\n",
       "    }\n",
       "\n",
       "    .dataframe tbody tr th {\n",
       "        vertical-align: top;\n",
       "    }\n",
       "\n",
       "    .dataframe thead th {\n",
       "        text-align: right;\n",
       "    }\n",
       "</style>\n",
       "<table border=\"1\" class=\"dataframe\">\n",
       "  <thead>\n",
       "    <tr style=\"text-align: right;\">\n",
       "      <th></th>\n",
       "      <th>id</th>\n",
       "      <th>f0</th>\n",
       "      <th>f1</th>\n",
       "      <th>f2</th>\n",
       "      <th>product</th>\n",
       "    </tr>\n",
       "  </thead>\n",
       "  <tbody>\n",
       "    <tr>\n",
       "      <td>0</td>\n",
       "      <td>txEyH</td>\n",
       "      <td>0.705745</td>\n",
       "      <td>-0.497823</td>\n",
       "      <td>1.221170</td>\n",
       "      <td>105.280062</td>\n",
       "    </tr>\n",
       "    <tr>\n",
       "      <td>1</td>\n",
       "      <td>2acmU</td>\n",
       "      <td>1.334711</td>\n",
       "      <td>-0.340164</td>\n",
       "      <td>4.365080</td>\n",
       "      <td>73.037750</td>\n",
       "    </tr>\n",
       "    <tr>\n",
       "      <td>2</td>\n",
       "      <td>409Wp</td>\n",
       "      <td>1.022732</td>\n",
       "      <td>0.151990</td>\n",
       "      <td>1.419926</td>\n",
       "      <td>85.265647</td>\n",
       "    </tr>\n",
       "    <tr>\n",
       "      <td>3</td>\n",
       "      <td>iJLyR</td>\n",
       "      <td>-0.032172</td>\n",
       "      <td>0.139033</td>\n",
       "      <td>2.978566</td>\n",
       "      <td>168.620776</td>\n",
       "    </tr>\n",
       "    <tr>\n",
       "      <td>4</td>\n",
       "      <td>Xdl7t</td>\n",
       "      <td>1.988431</td>\n",
       "      <td>0.155413</td>\n",
       "      <td>4.751769</td>\n",
       "      <td>154.036647</td>\n",
       "    </tr>\n",
       "  </tbody>\n",
       "</table>\n",
       "</div>"
      ],
      "text/plain": [
       "      id        f0        f1        f2     product\n",
       "0  txEyH  0.705745 -0.497823  1.221170  105.280062\n",
       "1  2acmU  1.334711 -0.340164  4.365080   73.037750\n",
       "2  409Wp  1.022732  0.151990  1.419926   85.265647\n",
       "3  iJLyR -0.032172  0.139033  2.978566  168.620776\n",
       "4  Xdl7t  1.988431  0.155413  4.751769  154.036647"
      ]
     },
     "metadata": {},
     "output_type": "display_data"
    },
    {
     "name": "stdout",
     "output_type": "stream",
     "text": [
      "<class 'pandas.core.frame.DataFrame'>\n",
      "RangeIndex: 100000 entries, 0 to 99999\n",
      "Data columns (total 5 columns):\n",
      "id         100000 non-null object\n",
      "f0         100000 non-null float64\n",
      "f1         100000 non-null float64\n",
      "f2         100000 non-null float64\n",
      "product    100000 non-null float64\n",
      "dtypes: float64(4), object(1)\n",
      "memory usage: 3.8+ MB\n"
     ]
    },
    {
     "data": {
      "text/plain": [
       "None"
      ]
     },
     "metadata": {},
     "output_type": "display_data"
    },
    {
     "data": {
      "text/plain": [
       "(100000, 5)"
      ]
     },
     "metadata": {},
     "output_type": "display_data"
    },
    {
     "data": {
      "text/html": [
       "<div>\n",
       "<style scoped>\n",
       "    .dataframe tbody tr th:only-of-type {\n",
       "        vertical-align: middle;\n",
       "    }\n",
       "\n",
       "    .dataframe tbody tr th {\n",
       "        vertical-align: top;\n",
       "    }\n",
       "\n",
       "    .dataframe thead th {\n",
       "        text-align: right;\n",
       "    }\n",
       "</style>\n",
       "<table border=\"1\" class=\"dataframe\">\n",
       "  <thead>\n",
       "    <tr style=\"text-align: right;\">\n",
       "      <th></th>\n",
       "      <th>id</th>\n",
       "      <th>f0</th>\n",
       "      <th>f1</th>\n",
       "      <th>f2</th>\n",
       "      <th>product</th>\n",
       "    </tr>\n",
       "  </thead>\n",
       "  <tbody>\n",
       "    <tr>\n",
       "      <td>0</td>\n",
       "      <td>kBEdx</td>\n",
       "      <td>-15.001348</td>\n",
       "      <td>-8.276000</td>\n",
       "      <td>-0.005876</td>\n",
       "      <td>3.179103</td>\n",
       "    </tr>\n",
       "    <tr>\n",
       "      <td>1</td>\n",
       "      <td>62mP7</td>\n",
       "      <td>14.272088</td>\n",
       "      <td>-3.475083</td>\n",
       "      <td>0.999183</td>\n",
       "      <td>26.953261</td>\n",
       "    </tr>\n",
       "    <tr>\n",
       "      <td>2</td>\n",
       "      <td>vyE1P</td>\n",
       "      <td>6.263187</td>\n",
       "      <td>-5.948386</td>\n",
       "      <td>5.001160</td>\n",
       "      <td>134.766305</td>\n",
       "    </tr>\n",
       "    <tr>\n",
       "      <td>3</td>\n",
       "      <td>KcrkZ</td>\n",
       "      <td>-13.081196</td>\n",
       "      <td>-11.506057</td>\n",
       "      <td>4.999415</td>\n",
       "      <td>137.945408</td>\n",
       "    </tr>\n",
       "    <tr>\n",
       "      <td>4</td>\n",
       "      <td>AHL4O</td>\n",
       "      <td>12.702195</td>\n",
       "      <td>-8.147433</td>\n",
       "      <td>5.004363</td>\n",
       "      <td>134.766305</td>\n",
       "    </tr>\n",
       "  </tbody>\n",
       "</table>\n",
       "</div>"
      ],
      "text/plain": [
       "      id         f0         f1        f2     product\n",
       "0  kBEdx -15.001348  -8.276000 -0.005876    3.179103\n",
       "1  62mP7  14.272088  -3.475083  0.999183   26.953261\n",
       "2  vyE1P   6.263187  -5.948386  5.001160  134.766305\n",
       "3  KcrkZ -13.081196 -11.506057  4.999415  137.945408\n",
       "4  AHL4O  12.702195  -8.147433  5.004363  134.766305"
      ]
     },
     "metadata": {},
     "output_type": "display_data"
    },
    {
     "name": "stdout",
     "output_type": "stream",
     "text": [
      "<class 'pandas.core.frame.DataFrame'>\n",
      "RangeIndex: 100000 entries, 0 to 99999\n",
      "Data columns (total 5 columns):\n",
      "id         100000 non-null object\n",
      "f0         100000 non-null float64\n",
      "f1         100000 non-null float64\n",
      "f2         100000 non-null float64\n",
      "product    100000 non-null float64\n",
      "dtypes: float64(4), object(1)\n",
      "memory usage: 3.8+ MB\n"
     ]
    },
    {
     "data": {
      "text/plain": [
       "None"
      ]
     },
     "metadata": {},
     "output_type": "display_data"
    },
    {
     "data": {
      "text/plain": [
       "(100000, 5)"
      ]
     },
     "metadata": {},
     "output_type": "display_data"
    },
    {
     "data": {
      "text/html": [
       "<div>\n",
       "<style scoped>\n",
       "    .dataframe tbody tr th:only-of-type {\n",
       "        vertical-align: middle;\n",
       "    }\n",
       "\n",
       "    .dataframe tbody tr th {\n",
       "        vertical-align: top;\n",
       "    }\n",
       "\n",
       "    .dataframe thead th {\n",
       "        text-align: right;\n",
       "    }\n",
       "</style>\n",
       "<table border=\"1\" class=\"dataframe\">\n",
       "  <thead>\n",
       "    <tr style=\"text-align: right;\">\n",
       "      <th></th>\n",
       "      <th>id</th>\n",
       "      <th>f0</th>\n",
       "      <th>f1</th>\n",
       "      <th>f2</th>\n",
       "      <th>product</th>\n",
       "    </tr>\n",
       "  </thead>\n",
       "  <tbody>\n",
       "    <tr>\n",
       "      <td>0</td>\n",
       "      <td>fwXo0</td>\n",
       "      <td>-1.146987</td>\n",
       "      <td>0.963328</td>\n",
       "      <td>-0.828965</td>\n",
       "      <td>27.758673</td>\n",
       "    </tr>\n",
       "    <tr>\n",
       "      <td>1</td>\n",
       "      <td>WJtFt</td>\n",
       "      <td>0.262778</td>\n",
       "      <td>0.269839</td>\n",
       "      <td>-2.530187</td>\n",
       "      <td>56.069697</td>\n",
       "    </tr>\n",
       "    <tr>\n",
       "      <td>2</td>\n",
       "      <td>ovLUW</td>\n",
       "      <td>0.194587</td>\n",
       "      <td>0.289035</td>\n",
       "      <td>-5.586433</td>\n",
       "      <td>62.871910</td>\n",
       "    </tr>\n",
       "    <tr>\n",
       "      <td>3</td>\n",
       "      <td>q6cA6</td>\n",
       "      <td>2.236060</td>\n",
       "      <td>-0.553760</td>\n",
       "      <td>0.930038</td>\n",
       "      <td>114.572842</td>\n",
       "    </tr>\n",
       "    <tr>\n",
       "      <td>4</td>\n",
       "      <td>WPMUX</td>\n",
       "      <td>-0.515993</td>\n",
       "      <td>1.716266</td>\n",
       "      <td>5.899011</td>\n",
       "      <td>149.600746</td>\n",
       "    </tr>\n",
       "  </tbody>\n",
       "</table>\n",
       "</div>"
      ],
      "text/plain": [
       "      id        f0        f1        f2     product\n",
       "0  fwXo0 -1.146987  0.963328 -0.828965   27.758673\n",
       "1  WJtFt  0.262778  0.269839 -2.530187   56.069697\n",
       "2  ovLUW  0.194587  0.289035 -5.586433   62.871910\n",
       "3  q6cA6  2.236060 -0.553760  0.930038  114.572842\n",
       "4  WPMUX -0.515993  1.716266  5.899011  149.600746"
      ]
     },
     "metadata": {},
     "output_type": "display_data"
    }
   ],
   "source": [
    "# Прочитаем исходные файлы\n",
    "geo_data_0 = pd.read_csv('/datasets/geo_data_0.csv')\n",
    "geo_data_1 = pd.read_csv('/datasets/geo_data_1.csv')\n",
    "geo_data_2 = pd.read_csv('/datasets/geo_data_2.csv')\n",
    "\n",
    "# Изучим полученные таблицы\n",
    "datas = [geo_data_0, geo_data_1, geo_data_2]\n",
    "for file in datas:\n",
    "    display(file.info())\n",
    "    display(file.shape)\n",
    "    display(file.head())"
   ]
  },
  {
   "cell_type": "markdown",
   "metadata": {},
   "source": [
    "**Вывод**\n",
    "\n",
    "Мы видим, что каждая таблица содержит по 100 тыс. ненулевых записей, имеет по 5 колонок. Формат данных в графе id - object, а в остальных графах - float64. Данные в графе id, скорее всего помешают при обучении модели и не имеют для нас никакого значения."
   ]
  },
  {
   "cell_type": "markdown",
   "metadata": {},
   "source": [
    "## Обучение и проверка модели"
   ]
  },
  {
   "cell_type": "code",
   "execution_count": 3,
   "metadata": {},
   "outputs": [
    {
     "name": "stdout",
     "output_type": "stream",
     "text": [
      "Регион 0\n",
      "0.75 0.75\n",
      "RMSE предсказанного объема сырья: 37.5794217150813\n",
      "Среднее значение предсказанного объема сырья: 92.59256778438038\n",
      "\n",
      "Регион 1\n",
      "0.75 0.75\n",
      "RMSE предсказанного объема сырья: 0.893099286775616\n",
      "Среднее значение предсказанного объема сырья: 68.728546895446\n",
      "\n",
      "Регион 2\n",
      "0.75 0.75\n",
      "RMSE предсказанного объема сырья: 40.02970873393434\n",
      "Среднее значение предсказанного объема сырья: 94.96504596800489\n"
     ]
    }
   ],
   "source": [
    "# Удалим не нужный столбец\n",
    "geo_data_0 = geo_data_0.drop(['id'] , axis=1)\n",
    "    \n",
    "# Выделим целевые признаки и условия\n",
    "target = geo_data_0['product']\n",
    "features = geo_data_0.drop(['product'] , axis=1)\n",
    "    \n",
    "# Разобьём данные на выборки\n",
    "features_train, features_valid, target_train_0, target_valid_0 = train_test_split(\n",
    "    features, target, test_size=0.25, random_state=12345)\n",
    "    \n",
    "print(\"Регион 0\")\n",
    "# Проверим, как распеределились данные\n",
    "print(len(features_train) / (len(features_train) + len(features_valid)), len(target_train_0) / \n",
    "      (len(target_train_0) + len(target_valid_0)))\n",
    "\n",
    "# Обучим модель, сделаем предсказание, посчитаем rmse, среднее и суммарное значения по предсказанным данным\n",
    "model = LinearRegression()\n",
    "model.fit(features_train, target_train_0)\n",
    "predicted_valid_0 = model.predict(features_valid)\n",
    "mean_predict = predicted_valid_0.mean()\n",
    "rmse = (mean_squared_error(target_valid_0, predicted_valid_0)) ** 0.5\n",
    "        \n",
    "print('RMSE предсказанного объема сырья:', rmse)\n",
    "print('Среднее значение предсказанного объема сырья:', mean_predict)\n",
    "print()\n",
    "\n",
    "# Удалим не нужный столбец\n",
    "geo_data_1 = geo_data_1.drop(['id'] , axis=1)\n",
    "    \n",
    "# Выделим целевые признаки и условия\n",
    "target = geo_data_1['product']\n",
    "features = geo_data_1.drop(['product'] , axis=1)\n",
    "    \n",
    "# Разобьём данные на выборки\n",
    "features_train, features_valid, target_train_1, target_valid_1 = train_test_split(\n",
    "    features, target, test_size=0.25, random_state=12345)\n",
    "\n",
    "print(\"Регион 1\")\n",
    "# Проверим, как распеределились данные\n",
    "print(len(features_train) / (len(features_train) + len(features_valid)), len(target_train_1) / \n",
    "      (len(target_train_1) + len(target_valid_1)))\n",
    "\n",
    "# Обучим модель, сделаем предсказание, посчитаем rmse, среднее и суммарное значения по предсказанным данным\n",
    "model = LinearRegression()\n",
    "model.fit(features_train, target_train_1)\n",
    "predicted_valid_1 = model.predict(features_valid)\n",
    "mean_predict = predicted_valid_1.mean()\n",
    "rmse = (mean_squared_error(target_valid_1, predicted_valid_1)) ** 0.5\n",
    "        \n",
    "print('RMSE предсказанного объема сырья:', rmse)\n",
    "print('Среднее значение предсказанного объема сырья:', mean_predict)\n",
    "print()\n",
    "\n",
    "# Удалим не нужный столбец\n",
    "geo_data_2 = geo_data_2.drop(['id'] , axis=1)\n",
    "    \n",
    "# Выделим целевые признаки и условия\n",
    "target = geo_data_2['product']\n",
    "features = geo_data_2.drop(['product'] , axis=1)\n",
    "    \n",
    "# Разобьём данные на выборки\n",
    "features_train, features_valid, target_train_2, target_valid_2 = train_test_split(\n",
    "    features, target, test_size=0.25, random_state=12345)\n",
    "\n",
    "print(\"Регион 2\")    \n",
    "# Проверим, как распеределились данные\n",
    "print(len(features_train) / (len(features_train) + len(features_valid)), len(target_train_2) / \n",
    "      (len(target_train_2) + len(target_valid_2)))\n",
    "\n",
    "# Обучим модель, сделаем предсказание, посчитаем rmse, среднее и суммарное значения по предсказанным данным\n",
    "model = LinearRegression()\n",
    "model.fit(features_train, target_train_2)\n",
    "predicted_valid_2 = model.predict(features_valid)\n",
    "mean_predict = predicted_valid_2.mean()\n",
    "rmse = (mean_squared_error(target_valid_2, predicted_valid_2)) ** 0.5\n",
    "        \n",
    "print('RMSE предсказанного объема сырья:', rmse)\n",
    "print('Среднее значение предсказанного объема сырья:', mean_predict)"
   ]
  },
  {
   "cell_type": "markdown",
   "metadata": {},
   "source": [
    "**Вывод**\n",
    "\n",
    "Проанализировав полученные данные мы видим, что ситуация по регионам существенно различается. В регионе 1 разброс данных незначительный по сравнению с регионами 0 и 2. При этом среднее значение предсказанного объема сырья для региона 1 значительно ниже, чем для остальных регионов."
   ]
  },
  {
   "cell_type": "markdown",
   "metadata": {},
   "source": [
    "## Подготовка к расчёту прибыли"
   ]
  },
  {
   "cell_type": "code",
   "execution_count": 4,
   "metadata": {},
   "outputs": [
    {
     "name": "stdout",
     "output_type": "stream",
     "text": [
      "Достаточный объём сырья для безубыточной разработки новой скважины: 111.1 тыс. барр.\n",
      "Средние запасы в регионе 0: 92.5 тыс. барр.\n",
      "Средние запасы в регионе 1: 68.8 тыс. барр.\n",
      "Средние запасы в регионе 2: 95.0 тыс. барр.\n",
      "0.8325000000000001\n",
      "0.6194250000000001\n",
      "0.8550000000000003\n"
     ]
    }
   ],
   "source": [
    "# Рассчитаем достаточный объём сырья для безубыточной разработки новой скважины. \n",
    "one_point_cost = 10000000000 / 200\n",
    "value_min = one_point_cost / 450000\n",
    "print('Достаточный объём сырья для безубыточной разработки новой скважины: {:.1f} тыс. барр.'.format(value_min))\n",
    "\n",
    "# Рассчитаем средний запас сырья в каждом регионе.\n",
    "product_mean_0 = geo_data_0['product'].mean()\n",
    "product_mean_1 = geo_data_1['product'].mean()\n",
    "product_mean_2 = geo_data_2['product'].mean()\n",
    "print('Средние запасы в регионе 0: {:.1f} тыс. барр.'.format(product_mean_0))\n",
    "print('Средние запасы в регионе 1: {:.1f} тыс. барр.'.format(product_mean_1))\n",
    "print('Средние запасы в регионе 2: {:.1f} тыс. барр.'.format(product_mean_2))\n",
    "\n",
    "# Сравним полученный достаточный объём сырья для безубыточной разработки со средним запасом в каждом регионе.\n",
    "print(product_mean_0 / value_min)\n",
    "print(product_mean_1 / value_min)\n",
    "print(product_mean_2 / value_min)\n",
    "\n",
    "# Напишем функцию для расчета прибыли\n",
    "def revenue(target, probabilities, count):\n",
    "    probs_sorted = probabilities.sort_values(ascending=False)\n",
    "    selected = target[probs_sorted.index][:count]\n",
    "    return 450000 * selected.sum() - 10000000000"
   ]
  },
  {
   "cell_type": "markdown",
   "metadata": {},
   "source": [
    "**Вывод**\n",
    "\n",
    "Мы видим, что средний запас сырья во всех регионах ниже достаточного объём сырья для безубыточной разработки новой скважины. Худший результат в регионе 1: 62% от уровня достаточности."
   ]
  },
  {
   "cell_type": "markdown",
   "metadata": {},
   "source": [
    "## Расчёт прибыли и рисков "
   ]
  },
  {
   "cell_type": "code",
   "execution_count": 5,
   "metadata": {},
   "outputs": [
    {
     "name": "stdout",
     "output_type": "stream",
     "text": [
      "Регион 0\n",
      "Средняя прибыль: 408.8 млн. руб.\n",
      "Вероятность убытков: 6.6%\n",
      "95%-ый доверительный интервал: (392159649.28999686, 425520962.8677161)\n",
      "\n",
      "Регион 1\n",
      "Средняя прибыль: 513.3 млн. руб.\n",
      "Вероятность убытков: 1.6%\n",
      "95%-ый доверительный интервал: (499270889.55298537, 527247359.8685221)\n",
      "\n",
      "Регион 2\n",
      "Средняя прибыль: 439.4 млн. руб.\n",
      "Вероятность убытков: 5.3%\n",
      "95%-ый доверительный интервал: (422258996.4553227, 456502767.2918152)\n"
     ]
    }
   ],
   "source": [
    "# Сбросим индексы в целевых таблицах и приведем формат данных списка предсказаний в pd.Series\n",
    "target_valid_0 = target_valid_0.reset_index(drop=True)\n",
    "predicted_valid_0 = pd.Series(predicted_valid_0)\n",
    "\n",
    "target_valid_1 = target_valid_1.reset_index(drop=True)\n",
    "predicted_valid_1 = pd.Series(predicted_valid_1)\n",
    "\n",
    "target_valid_2 = target_valid_2.reset_index(drop=True)\n",
    "predicted_valid_2 = pd.Series(predicted_valid_2)\n",
    "\n",
    "state = np.random.RandomState(42) \n",
    "\n",
    "# Расчитаем для каждого региона техникой Bootstrap среднюю прибыль, вероятность убытков, 95%-ый доверительный интервал\n",
    "values = []\n",
    "for i in range(1000):\n",
    "    target_subsample = target_valid_0.sample(500, replace=True, random_state=state)\n",
    "    probs_subsample = predicted_valid_0[target_subsample.index]\n",
    "    values.append(revenue(target_subsample, probs_subsample, 200))\n",
    "\n",
    "values = pd.Series(values)\n",
    "mean = values.mean()\n",
    "confidence_interval = st.t.interval(0.95, len(values)-1, values.mean(), values.sem())\n",
    "\n",
    "print(\"Регион 0\")\n",
    "print(\"Средняя прибыль: {:.1f} млн. руб.\".format(mean / 1000000))\n",
    "print(\"Вероятность убытков: {:.1%}\".format(len(values.loc[values < 0]) / len(values)))\n",
    "print(\"95%-ый доверительный интервал:\", confidence_interval)\n",
    "print()\n",
    "\n",
    "values = []\n",
    "for i in range(1000):\n",
    "    target_subsample = target_valid_1.sample(500, replace=True, random_state=state)\n",
    "    probs_subsample = predicted_valid_1[target_subsample.index]\n",
    "    values.append(revenue(target_subsample, probs_subsample, 200))\n",
    " \n",
    "values = pd.Series(values)\n",
    "mean = values.mean()\n",
    "confidence_interval = st.t.interval(0.95, len(values)-1, values.mean(), values.sem())\n",
    "\n",
    "print(\"Регион 1\")\n",
    "print(\"Средняя прибыль: {:.1f} млн. руб.\".format(mean / 1000000))\n",
    "print(\"Вероятность убытков: {:.1%}\".format(len(values.loc[values < 0]) / len(values)))\n",
    "print(\"95%-ый доверительный интервал:\", confidence_interval)\n",
    "print()\n",
    "\n",
    "values = []\n",
    "for i in range(1000):\n",
    "    target_subsample = target_valid_2.sample(500, replace=True, random_state=state)\n",
    "    probs_subsample = predicted_valid_2[target_subsample.index]\n",
    "    values.append(revenue(target_subsample, probs_subsample, 200))\n",
    " \n",
    "values = pd.Series(values)\n",
    "mean = values.mean()\n",
    "confidence_interval = st.t.interval(0.95, len(values)-1, values.mean(), values.sem())\n",
    "\n",
    "print(\"Регион 2\")\n",
    "print(\"Средняя прибыль: {:.1f} млн. руб.\".format(mean / 1000000))\n",
    "print(\"Вероятность убытков: {:.1%}\".format(len(values.loc[values < 0]) / len(values)))\n",
    "print(\"95%-ый доверительный интервал:\", confidence_interval)"
   ]
  },
  {
   "cell_type": "markdown",
   "metadata": {},
   "source": [
    "**Вывод**\n",
    "\n",
    "Для разработки скважин предлагается выбрать регион 2. В данном регионе наименьший из трех регионов средний запас сырья. Однако цель любого бизнеса - максимизация прибыли. В регионе 2 мы можем получить максимальную прибыль, а риск убытков минимален."
   ]
  }
 ],
 "metadata": {
  "ExecuteTimeLog": [
   {
    "duration": 1382,
    "start_time": "2021-06-21T19:37:46.920Z"
   },
   {
    "duration": 597,
    "start_time": "2021-06-21T19:37:48.306Z"
   },
   {
    "duration": 539,
    "start_time": "2021-06-21T19:46:38.555Z"
   },
   {
    "duration": 1311,
    "start_time": "2021-06-22T11:50:30.692Z"
   },
   {
    "duration": 545,
    "start_time": "2021-06-22T11:50:32.006Z"
   },
   {
    "duration": 501,
    "start_time": "2021-06-22T11:50:32.554Z"
   },
   {
    "duration": 350,
    "start_time": "2021-06-22T11:50:53.419Z"
   },
   {
    "duration": 4,
    "start_time": "2021-06-22T11:51:26.939Z"
   },
   {
    "duration": 578,
    "start_time": "2021-06-22T11:51:26.946Z"
   },
   {
    "duration": 364,
    "start_time": "2021-06-22T11:51:27.527Z"
   },
   {
    "duration": 330,
    "start_time": "2021-06-22T11:53:46.782Z"
   },
   {
    "duration": 1383,
    "start_time": "2021-06-22T11:55:35.938Z"
   },
   {
    "duration": 317,
    "start_time": "2021-06-22T11:57:54.002Z"
   },
   {
    "duration": 344,
    "start_time": "2021-06-22T11:58:26.737Z"
   },
   {
    "duration": 390,
    "start_time": "2021-06-22T12:01:45.481Z"
   },
   {
    "duration": 355,
    "start_time": "2021-06-22T12:08:17.813Z"
   },
   {
    "duration": 393,
    "start_time": "2021-06-22T12:12:17.016Z"
   },
   {
    "duration": 716,
    "start_time": "2021-06-22T12:23:53.241Z"
   },
   {
    "duration": 4,
    "start_time": "2021-06-22T12:30:06.530Z"
   },
   {
    "duration": 573,
    "start_time": "2021-06-22T12:30:06.541Z"
   },
   {
    "duration": 402,
    "start_time": "2021-06-22T12:30:07.118Z"
   },
   {
    "duration": 367,
    "start_time": "2021-06-22T12:31:43.979Z"
   },
   {
    "duration": 400,
    "start_time": "2021-06-22T12:36:50.060Z"
   },
   {
    "duration": 141,
    "start_time": "2021-06-22T12:37:15.660Z"
   },
   {
    "duration": 316,
    "start_time": "2021-06-22T12:38:08.725Z"
   },
   {
    "duration": 387,
    "start_time": "2021-06-22T12:38:29.662Z"
   },
   {
    "duration": 4,
    "start_time": "2021-06-22T12:38:46.578Z"
   },
   {
    "duration": 534,
    "start_time": "2021-06-22T12:38:46.596Z"
   },
   {
    "duration": 269,
    "start_time": "2021-06-22T12:38:47.133Z"
   },
   {
    "duration": 656,
    "start_time": "2021-06-22T12:45:15.128Z"
   },
   {
    "duration": 346,
    "start_time": "2021-06-22T12:46:00.648Z"
   },
   {
    "duration": 451,
    "start_time": "2021-06-22T13:00:45.770Z"
   },
   {
    "duration": 310,
    "start_time": "2021-06-22T13:03:20.260Z"
   },
   {
    "duration": 387,
    "start_time": "2021-06-22T13:04:17.834Z"
   },
   {
    "duration": 506,
    "start_time": "2021-06-22T13:05:27.001Z"
   },
   {
    "duration": 92,
    "start_time": "2021-06-22T13:05:43.733Z"
   },
   {
    "duration": 546,
    "start_time": "2021-06-22T13:05:55.755Z"
   },
   {
    "duration": 1350,
    "start_time": "2021-06-23T09:10:44.259Z"
   },
   {
    "duration": 541,
    "start_time": "2021-06-23T09:10:45.612Z"
   },
   {
    "duration": 554,
    "start_time": "2021-06-23T09:10:46.156Z"
   },
   {
    "duration": 96,
    "start_time": "2021-06-23T09:10:46.713Z"
   },
   {
    "duration": 5,
    "start_time": "2021-06-23T09:16:21.081Z"
   },
   {
    "duration": 5,
    "start_time": "2021-06-23T09:16:33.784Z"
   },
   {
    "duration": 5,
    "start_time": "2021-06-23T09:18:38.781Z"
   },
   {
    "duration": 12,
    "start_time": "2021-06-23T09:27:50.538Z"
   },
   {
    "duration": 11,
    "start_time": "2021-06-23T09:28:06.298Z"
   },
   {
    "duration": 485,
    "start_time": "2021-06-23T11:17:32.824Z"
   },
   {
    "duration": 10,
    "start_time": "2021-06-23T11:20:16.759Z"
   },
   {
    "duration": 127,
    "start_time": "2021-06-23T11:24:43.265Z"
   },
   {
    "duration": 9,
    "start_time": "2021-06-23T11:25:10.217Z"
   },
   {
    "duration": 613,
    "start_time": "2021-06-23T12:34:02.316Z"
   },
   {
    "duration": 484,
    "start_time": "2021-06-23T12:34:21.397Z"
   },
   {
    "duration": 482,
    "start_time": "2021-06-23T12:35:25.512Z"
   },
   {
    "duration": 468,
    "start_time": "2021-06-23T12:35:39.521Z"
   },
   {
    "duration": 447,
    "start_time": "2021-06-23T12:36:09.001Z"
   },
   {
    "duration": 604,
    "start_time": "2021-06-23T12:38:44.064Z"
   },
   {
    "duration": 788,
    "start_time": "2021-06-23T12:39:38.387Z"
   },
   {
    "duration": 585,
    "start_time": "2021-06-23T12:41:23.924Z"
   },
   {
    "duration": 605,
    "start_time": "2021-06-23T12:42:21.505Z"
   },
   {
    "duration": 491,
    "start_time": "2021-06-23T12:42:33.125Z"
   },
   {
    "duration": 781,
    "start_time": "2021-06-23T12:43:17.039Z"
   },
   {
    "duration": 536,
    "start_time": "2021-06-23T12:43:42.983Z"
   },
   {
    "duration": 475,
    "start_time": "2021-06-23T12:49:12.542Z"
   },
   {
    "duration": 613,
    "start_time": "2021-06-23T12:49:27.596Z"
   },
   {
    "duration": 113,
    "start_time": "2021-06-23T12:59:30.433Z"
   },
   {
    "duration": 112,
    "start_time": "2021-06-23T12:59:45.303Z"
   },
   {
    "duration": 135,
    "start_time": "2021-06-23T13:02:44.760Z"
   },
   {
    "duration": 8,
    "start_time": "2021-06-23T13:02:54.988Z"
   },
   {
    "duration": 9,
    "start_time": "2021-06-23T13:11:32.673Z"
   },
   {
    "duration": 4,
    "start_time": "2021-06-23T13:12:08.740Z"
   },
   {
    "duration": 4,
    "start_time": "2021-06-23T13:12:16.443Z"
   },
   {
    "duration": 8,
    "start_time": "2021-06-23T13:13:02.323Z"
   },
   {
    "duration": 8,
    "start_time": "2021-06-23T13:16:53.837Z"
   },
   {
    "duration": 677,
    "start_time": "2021-06-23T13:17:16.508Z"
   },
   {
    "duration": 8,
    "start_time": "2021-06-23T13:18:13.361Z"
   },
   {
    "duration": 10,
    "start_time": "2021-06-23T16:09:44.864Z"
   },
   {
    "duration": 11,
    "start_time": "2021-06-23T16:16:11.460Z"
   },
   {
    "duration": 1283,
    "start_time": "2021-06-24T19:06:39.879Z"
   },
   {
    "duration": 544,
    "start_time": "2021-06-24T19:06:41.165Z"
   },
   {
    "duration": 419,
    "start_time": "2021-06-24T19:06:41.712Z"
   },
   {
    "duration": -481,
    "start_time": "2021-06-24T19:06:42.615Z"
   },
   {
    "duration": -480,
    "start_time": "2021-06-24T19:06:42.616Z"
   },
   {
    "duration": 340,
    "start_time": "2021-06-24T19:07:54.547Z"
   },
   {
    "duration": 4,
    "start_time": "2021-06-24T19:08:13.477Z"
   },
   {
    "duration": 518,
    "start_time": "2021-06-24T19:08:13.490Z"
   },
   {
    "duration": 353,
    "start_time": "2021-06-24T19:08:14.010Z"
   },
   {
    "duration": -482,
    "start_time": "2021-06-24T19:08:14.848Z"
   },
   {
    "duration": -485,
    "start_time": "2021-06-24T19:08:14.852Z"
   },
   {
    "duration": 284,
    "start_time": "2021-06-24T19:08:48.190Z"
   },
   {
    "duration": 5,
    "start_time": "2021-06-24T19:08:53.472Z"
   },
   {
    "duration": 550,
    "start_time": "2021-06-24T19:08:53.484Z"
   },
   {
    "duration": 427,
    "start_time": "2021-06-24T19:08:54.038Z"
   },
   {
    "duration": -487,
    "start_time": "2021-06-24T19:08:54.955Z"
   },
   {
    "duration": -487,
    "start_time": "2021-06-24T19:08:54.957Z"
   },
   {
    "duration": 293,
    "start_time": "2021-06-24T19:09:22.764Z"
   },
   {
    "duration": 4,
    "start_time": "2021-06-24T19:09:27.711Z"
   },
   {
    "duration": 502,
    "start_time": "2021-06-24T19:09:27.723Z"
   },
   {
    "duration": 156,
    "start_time": "2021-06-24T19:09:28.228Z"
   },
   {
    "duration": 102,
    "start_time": "2021-06-24T19:09:28.388Z"
   },
   {
    "duration": 286,
    "start_time": "2021-06-24T19:09:28.492Z"
   },
   {
    "duration": 5,
    "start_time": "2021-06-24T19:11:23.912Z"
   },
   {
    "duration": 262,
    "start_time": "2021-06-24T19:11:44.156Z"
   },
   {
    "duration": 7,
    "start_time": "2021-06-24T19:13:20.673Z"
   },
   {
    "duration": 286,
    "start_time": "2021-06-24T19:13:29.991Z"
   },
   {
    "duration": 11,
    "start_time": "2021-06-24T19:14:05.681Z"
   },
   {
    "duration": 286,
    "start_time": "2021-06-24T19:14:12.564Z"
   },
   {
    "duration": 4,
    "start_time": "2021-06-24T19:16:48.241Z"
   },
   {
    "duration": 521,
    "start_time": "2021-06-24T19:16:48.267Z"
   },
   {
    "duration": 194,
    "start_time": "2021-06-24T19:16:48.791Z"
   },
   {
    "duration": 7,
    "start_time": "2021-06-24T19:16:48.989Z"
   },
   {
    "duration": 281,
    "start_time": "2021-06-24T19:16:48.999Z"
   },
   {
    "duration": -483,
    "start_time": "2021-06-24T19:16:49.767Z"
   },
   {
    "duration": -483,
    "start_time": "2021-06-24T19:16:49.769Z"
   },
   {
    "duration": 8,
    "start_time": "2021-06-24T19:17:40.194Z"
   },
   {
    "duration": 266,
    "start_time": "2021-06-24T19:20:12.923Z"
   },
   {
    "duration": 5071,
    "start_time": "2021-06-24T19:20:48.125Z"
   },
   {
    "duration": 4,
    "start_time": "2021-06-24T19:22:55.048Z"
   },
   {
    "duration": 535,
    "start_time": "2021-06-24T19:22:55.066Z"
   },
   {
    "duration": 179,
    "start_time": "2021-06-24T19:22:55.604Z"
   },
   {
    "duration": 4,
    "start_time": "2021-06-24T19:22:55.786Z"
   },
   {
    "duration": 11,
    "start_time": "2021-06-24T19:22:55.792Z"
   },
   {
    "duration": 4949,
    "start_time": "2021-06-24T19:22:55.883Z"
   },
   {
    "duration": 4935,
    "start_time": "2021-06-24T19:24:00.120Z"
   },
   {
    "duration": 285,
    "start_time": "2021-06-24T19:26:16.984Z"
   },
   {
    "duration": 3,
    "start_time": "2021-06-24T19:26:24.714Z"
   },
   {
    "duration": 546,
    "start_time": "2021-06-24T19:26:24.750Z"
   },
   {
    "duration": 383,
    "start_time": "2021-06-24T19:26:25.299Z"
   },
   {
    "duration": 3,
    "start_time": "2021-06-24T19:26:25.685Z"
   },
   {
    "duration": 22,
    "start_time": "2021-06-24T19:26:25.690Z"
   },
   {
    "duration": 5249,
    "start_time": "2021-06-24T19:26:25.714Z"
   },
   {
    "duration": 4,
    "start_time": "2021-06-24T19:28:11.392Z"
   },
   {
    "duration": 739,
    "start_time": "2021-06-24T19:28:11.399Z"
   },
   {
    "duration": 551,
    "start_time": "2021-06-24T19:28:12.141Z"
   },
   {
    "duration": 87,
    "start_time": "2021-06-24T19:28:12.696Z"
   },
   {
    "duration": 16,
    "start_time": "2021-06-24T19:28:12.786Z"
   },
   {
    "duration": 5543,
    "start_time": "2021-06-24T19:28:12.805Z"
   },
   {
    "duration": 15662,
    "start_time": "2021-06-24T19:47:40.910Z"
   },
   {
    "duration": 1287,
    "start_time": "2021-06-26T08:53:44.453Z"
   },
   {
    "duration": 525,
    "start_time": "2021-06-26T08:53:45.742Z"
   },
   {
    "duration": 586,
    "start_time": "2021-06-26T08:53:46.270Z"
   },
   {
    "duration": 11,
    "start_time": "2021-06-26T08:53:46.858Z"
   },
   {
    "duration": 15231,
    "start_time": "2021-06-26T08:53:46.871Z"
   },
   {
    "duration": 6,
    "start_time": "2021-06-26T08:54:02.104Z"
   },
   {
    "duration": 7,
    "start_time": "2021-06-26T08:57:39.251Z"
   },
   {
    "duration": 1365,
    "start_time": "2021-06-26T15:13:11.516Z"
   },
   {
    "duration": 568,
    "start_time": "2021-06-26T15:13:12.884Z"
   },
   {
    "duration": 554,
    "start_time": "2021-06-26T15:13:13.455Z"
   },
   {
    "duration": 88,
    "start_time": "2021-06-26T15:13:14.012Z"
   },
   {
    "duration": 454,
    "start_time": "2021-06-26T15:13:14.103Z"
   },
   {
    "duration": -1342,
    "start_time": "2021-06-26T15:13:15.902Z"
   },
   {
    "duration": 542,
    "start_time": "2021-06-26T15:20:20.793Z"
   },
   {
    "duration": 530,
    "start_time": "2021-06-26T15:27:11.573Z"
   },
   {
    "duration": 558,
    "start_time": "2021-06-26T15:29:19.355Z"
   },
   {
    "duration": 8,
    "start_time": "2021-06-26T15:30:12.924Z"
   },
   {
    "duration": 4,
    "start_time": "2021-06-26T15:31:16.254Z"
   },
   {
    "duration": 638,
    "start_time": "2021-06-26T15:31:16.261Z"
   },
   {
    "duration": 514,
    "start_time": "2021-06-26T15:31:16.903Z"
   },
   {
    "duration": 100,
    "start_time": "2021-06-26T15:31:17.487Z"
   },
   {
    "duration": 552,
    "start_time": "2021-06-26T15:31:17.590Z"
   },
   {
    "duration": -1105,
    "start_time": "2021-06-26T15:31:19.255Z"
   },
   {
    "duration": 16953,
    "start_time": "2021-06-26T15:32:25.680Z"
   },
   {
    "duration": 16498,
    "start_time": "2021-06-26T15:43:51.238Z"
   },
   {
    "duration": 7,
    "start_time": "2021-06-26T15:56:50.005Z"
   },
   {
    "duration": 11,
    "start_time": "2021-06-26T15:58:06.335Z"
   },
   {
    "duration": 10,
    "start_time": "2021-06-26T15:58:47.915Z"
   },
   {
    "duration": 12,
    "start_time": "2021-06-26T15:59:11.693Z"
   },
   {
    "duration": 13,
    "start_time": "2021-06-26T15:59:28.192Z"
   },
   {
    "duration": 15271,
    "start_time": "2021-06-26T15:59:54.134Z"
   },
   {
    "duration": 16159,
    "start_time": "2021-06-26T16:01:55.921Z"
   },
   {
    "duration": 16302,
    "start_time": "2021-06-26T16:03:27.365Z"
   },
   {
    "duration": 16409,
    "start_time": "2021-06-26T16:04:09.677Z"
   },
   {
    "duration": 17119,
    "start_time": "2021-06-26T16:04:42.817Z"
   },
   {
    "duration": 5,
    "start_time": "2021-06-26T16:11:48.328Z"
   },
   {
    "duration": 386,
    "start_time": "2021-06-26T16:15:05.369Z"
   },
   {
    "duration": 5,
    "start_time": "2021-06-26T16:15:14.328Z"
   },
   {
    "duration": 594,
    "start_time": "2021-06-26T16:15:14.349Z"
   },
   {
    "duration": 552,
    "start_time": "2021-06-26T16:15:14.946Z"
   },
   {
    "duration": 93,
    "start_time": "2021-06-26T16:15:15.502Z"
   },
   {
    "duration": 114,
    "start_time": "2021-06-26T16:15:15.598Z"
   },
   {
    "duration": 8,
    "start_time": "2021-06-26T16:16:17.436Z"
   },
   {
    "duration": 658,
    "start_time": "2021-06-26T16:16:17.449Z"
   },
   {
    "duration": 676,
    "start_time": "2021-06-26T16:16:18.110Z"
   },
   {
    "duration": 11,
    "start_time": "2021-06-26T16:16:18.788Z"
   },
   {
    "duration": 132,
    "start_time": "2021-06-26T16:16:18.802Z"
   },
   {
    "duration": 6271,
    "start_time": "2021-06-26T16:17:04.775Z"
   },
   {
    "duration": 17386,
    "start_time": "2021-06-26T16:19:04.496Z"
   },
   {
    "duration": 139,
    "start_time": "2021-06-26T16:21:05.884Z"
   },
   {
    "duration": 120,
    "start_time": "2021-06-26T16:22:25.670Z"
   },
   {
    "duration": 106,
    "start_time": "2021-06-26T16:22:49.232Z"
   },
   {
    "duration": 16879,
    "start_time": "2021-06-26T16:23:52.570Z"
   },
   {
    "duration": 17260,
    "start_time": "2021-06-26T16:24:24.758Z"
   },
   {
    "duration": 16155,
    "start_time": "2021-06-26T16:25:45.918Z"
   },
   {
    "duration": 16461,
    "start_time": "2021-06-26T16:27:03.976Z"
   },
   {
    "duration": 336,
    "start_time": "2021-06-26T16:30:33.080Z"
   },
   {
    "duration": 4,
    "start_time": "2021-06-26T16:30:43.483Z"
   },
   {
    "duration": 605,
    "start_time": "2021-06-26T16:30:43.498Z"
   },
   {
    "duration": 488,
    "start_time": "2021-06-26T16:30:44.105Z"
   },
   {
    "duration": 95,
    "start_time": "2021-06-26T16:30:44.597Z"
   },
   {
    "duration": 16273,
    "start_time": "2021-06-26T16:30:44.697Z"
   },
   {
    "duration": 333,
    "start_time": "2021-06-26T16:31:52.641Z"
   },
   {
    "duration": 4,
    "start_time": "2021-06-26T16:31:57.215Z"
   },
   {
    "duration": 573,
    "start_time": "2021-06-26T16:31:57.233Z"
   },
   {
    "duration": 392,
    "start_time": "2021-06-26T16:31:57.809Z"
   },
   {
    "duration": 182,
    "start_time": "2021-06-26T16:31:58.204Z"
   },
   {
    "duration": 16226,
    "start_time": "2021-06-26T16:31:58.389Z"
   },
   {
    "duration": 326,
    "start_time": "2021-06-26T16:32:14.618Z"
   },
   {
    "duration": 4,
    "start_time": "2021-06-26T16:32:19.036Z"
   },
   {
    "duration": 560,
    "start_time": "2021-06-26T16:32:19.043Z"
   },
   {
    "duration": 405,
    "start_time": "2021-06-26T16:32:19.606Z"
   },
   {
    "duration": 104,
    "start_time": "2021-06-26T16:32:20.088Z"
   },
   {
    "duration": 16232,
    "start_time": "2021-06-26T16:32:20.194Z"
   },
   {
    "duration": 5,
    "start_time": "2021-06-26T16:34:09.076Z"
   },
   {
    "duration": 543,
    "start_time": "2021-06-26T16:34:09.084Z"
   },
   {
    "duration": 473,
    "start_time": "2021-06-26T16:34:09.631Z"
   },
   {
    "duration": 89,
    "start_time": "2021-06-26T16:34:10.109Z"
   },
   {
    "duration": 15402,
    "start_time": "2021-06-26T16:34:10.201Z"
   },
   {
    "duration": 337,
    "start_time": "2021-06-26T16:35:44.255Z"
   },
   {
    "duration": 4,
    "start_time": "2021-06-26T16:35:48.454Z"
   },
   {
    "duration": 557,
    "start_time": "2021-06-26T16:35:48.475Z"
   },
   {
    "duration": 475,
    "start_time": "2021-06-26T16:35:49.034Z"
   },
   {
    "duration": 106,
    "start_time": "2021-06-26T16:35:49.586Z"
   },
   {
    "duration": 16592,
    "start_time": "2021-06-26T16:35:49.696Z"
   },
   {
    "duration": 5,
    "start_time": "2021-06-26T16:41:32.368Z"
   },
   {
    "duration": 558,
    "start_time": "2021-06-26T16:41:32.379Z"
   },
   {
    "duration": 457,
    "start_time": "2021-06-26T16:41:32.940Z"
   },
   {
    "duration": 185,
    "start_time": "2021-06-26T16:41:33.401Z"
   },
   {
    "duration": 16283,
    "start_time": "2021-06-26T16:41:33.589Z"
   },
   {
    "duration": 1340,
    "start_time": "2021-06-27T15:21:38.435Z"
   },
   {
    "duration": 536,
    "start_time": "2021-06-27T15:21:39.778Z"
   },
   {
    "duration": 500,
    "start_time": "2021-06-27T15:21:40.356Z"
   },
   {
    "duration": 103,
    "start_time": "2021-06-27T15:21:40.859Z"
   },
   {
    "duration": 15546,
    "start_time": "2021-06-27T15:21:40.964Z"
   }
  ],
  "kernelspec": {
   "display_name": "Python 3",
   "language": "python",
   "name": "python3"
  },
  "language_info": {
   "codemirror_mode": {
    "name": "ipython",
    "version": 3
   },
   "file_extension": ".py",
   "mimetype": "text/x-python",
   "name": "python",
   "nbconvert_exporter": "python",
   "pygments_lexer": "ipython3",
   "version": "3.7.8"
  },
  "toc": {
   "base_numbering": 1,
   "nav_menu": {},
   "number_sections": true,
   "sideBar": true,
   "skip_h1_title": true,
   "title_cell": "Table of Contents",
   "title_sidebar": "Contents",
   "toc_cell": false,
   "toc_position": {},
   "toc_section_display": true,
   "toc_window_display": false
  }
 },
 "nbformat": 4,
 "nbformat_minor": 2
}
