{
 "cells": [
  {
   "cell_type": "markdown",
   "metadata": {},
   "source": [
    "# Восстановление золота из руды"
   ]
  },
  {
   "cell_type": "markdown",
   "metadata": {},
   "source": [
    "Необходимо подготовить прототип модели машинного обучения, которая должна предсказать коэффициент восстановления золота из золотосодержащей руды. Использовать данные с параметрами добычи и очистки. \n",
    "\n",
    "Модель поможет оптимизировать производство, чтобы не запускать предприятие с убыточными характеристиками.\n",
    "\n",
    "Необходимо:\n",
    "\n",
    "1. Подготовить данные;\n",
    "2. Провести исследовательский анализ данных;\n",
    "3. Построить и обучить модель."
   ]
  },
  {
   "cell_type": "markdown",
   "metadata": {},
   "source": [
    "## Подготовка данных"
   ]
  },
  {
   "cell_type": "code",
   "execution_count": 1,
   "metadata": {},
   "outputs": [],
   "source": [
    "import pandas as pd\n",
    "import numpy as np\n",
    "\n",
    "from sklearn.linear_model import LinearRegression\n",
    "from sklearn.ensemble import RandomForestRegressor\n",
    "from sklearn.tree import DecisionTreeRegressor\n",
    "\n",
    "from sklearn.model_selection import train_test_split\n",
    "from sklearn.metrics import mean_absolute_error\n",
    "\n",
    "from sklearn.metrics.scorer import make_scorer\n",
    "from sklearn.model_selection import GridSearchCV\n",
    "\n",
    "\n",
    "from scipy import stats as st"
   ]
  },
  {
   "cell_type": "code",
   "execution_count": 2,
   "metadata": {
    "scrolled": true
   },
   "outputs": [
    {
     "name": "stdout",
     "output_type": "stream",
     "text": [
      "<class 'pandas.core.frame.DataFrame'>\n",
      "RangeIndex: 14149 entries, 0 to 14148\n",
      "Data columns (total 87 columns):\n",
      "date                                                  14149 non-null object\n",
      "final.output.concentrate_ag                           14148 non-null float64\n",
      "final.output.concentrate_pb                           14148 non-null float64\n",
      "final.output.concentrate_sol                          13938 non-null float64\n",
      "final.output.concentrate_au                           14149 non-null float64\n",
      "final.output.recovery                                 14149 non-null float64\n",
      "final.output.tail_ag                                  14149 non-null float64\n",
      "final.output.tail_pb                                  14049 non-null float64\n",
      "final.output.tail_sol                                 14144 non-null float64\n",
      "final.output.tail_au                                  14149 non-null float64\n",
      "primary_cleaner.input.sulfate                         14129 non-null float64\n",
      "primary_cleaner.input.depressant                      14117 non-null float64\n",
      "primary_cleaner.input.feed_size                       14149 non-null float64\n",
      "primary_cleaner.input.xanthate                        14049 non-null float64\n",
      "primary_cleaner.output.concentrate_ag                 14149 non-null float64\n",
      "primary_cleaner.output.concentrate_pb                 14063 non-null float64\n",
      "primary_cleaner.output.concentrate_sol                13863 non-null float64\n",
      "primary_cleaner.output.concentrate_au                 14149 non-null float64\n",
      "primary_cleaner.output.tail_ag                        14148 non-null float64\n",
      "primary_cleaner.output.tail_pb                        14134 non-null float64\n",
      "primary_cleaner.output.tail_sol                       14103 non-null float64\n",
      "primary_cleaner.output.tail_au                        14149 non-null float64\n",
      "primary_cleaner.state.floatbank8_a_air                14145 non-null float64\n",
      "primary_cleaner.state.floatbank8_a_level              14148 non-null float64\n",
      "primary_cleaner.state.floatbank8_b_air                14145 non-null float64\n",
      "primary_cleaner.state.floatbank8_b_level              14148 non-null float64\n",
      "primary_cleaner.state.floatbank8_c_air                14147 non-null float64\n",
      "primary_cleaner.state.floatbank8_c_level              14148 non-null float64\n",
      "primary_cleaner.state.floatbank8_d_air                14146 non-null float64\n",
      "primary_cleaner.state.floatbank8_d_level              14148 non-null float64\n",
      "rougher.calculation.sulfate_to_au_concentrate         14148 non-null float64\n",
      "rougher.calculation.floatbank10_sulfate_to_au_feed    14148 non-null float64\n",
      "rougher.calculation.floatbank11_sulfate_to_au_feed    14148 non-null float64\n",
      "rougher.calculation.au_pb_ratio                       14149 non-null float64\n",
      "rougher.input.feed_ag                                 14149 non-null float64\n",
      "rougher.input.feed_pb                                 14049 non-null float64\n",
      "rougher.input.feed_rate                               14141 non-null float64\n",
      "rougher.input.feed_size                               14005 non-null float64\n",
      "rougher.input.feed_sol                                14071 non-null float64\n",
      "rougher.input.feed_au                                 14149 non-null float64\n",
      "rougher.input.floatbank10_sulfate                     14120 non-null float64\n",
      "rougher.input.floatbank10_xanthate                    14141 non-null float64\n",
      "rougher.input.floatbank11_sulfate                     14113 non-null float64\n",
      "rougher.input.floatbank11_xanthate                    13721 non-null float64\n",
      "rougher.output.concentrate_ag                         14149 non-null float64\n",
      "rougher.output.concentrate_pb                         14149 non-null float64\n",
      "rougher.output.concentrate_sol                        14127 non-null float64\n",
      "rougher.output.concentrate_au                         14149 non-null float64\n",
      "rougher.output.recovery                               14149 non-null float64\n",
      "rougher.output.tail_ag                                14148 non-null float64\n",
      "rougher.output.tail_pb                                14149 non-null float64\n",
      "rougher.output.tail_sol                               14149 non-null float64\n",
      "rougher.output.tail_au                                14149 non-null float64\n",
      "rougher.state.floatbank10_a_air                       14148 non-null float64\n",
      "rougher.state.floatbank10_a_level                     14148 non-null float64\n",
      "rougher.state.floatbank10_b_air                       14148 non-null float64\n",
      "rougher.state.floatbank10_b_level                     14148 non-null float64\n",
      "rougher.state.floatbank10_c_air                       14148 non-null float64\n",
      "rougher.state.floatbank10_c_level                     14148 non-null float64\n",
      "rougher.state.floatbank10_d_air                       14149 non-null float64\n",
      "rougher.state.floatbank10_d_level                     14149 non-null float64\n",
      "rougher.state.floatbank10_e_air                       13713 non-null float64\n",
      "rougher.state.floatbank10_e_level                     14149 non-null float64\n",
      "rougher.state.floatbank10_f_air                       14149 non-null float64\n",
      "rougher.state.floatbank10_f_level                     14149 non-null float64\n",
      "secondary_cleaner.output.tail_ag                      14147 non-null float64\n",
      "secondary_cleaner.output.tail_pb                      14139 non-null float64\n",
      "secondary_cleaner.output.tail_sol                     12544 non-null float64\n",
      "secondary_cleaner.output.tail_au                      14149 non-null float64\n",
      "secondary_cleaner.state.floatbank2_a_air              13932 non-null float64\n",
      "secondary_cleaner.state.floatbank2_a_level            14148 non-null float64\n",
      "secondary_cleaner.state.floatbank2_b_air              14128 non-null float64\n",
      "secondary_cleaner.state.floatbank2_b_level            14148 non-null float64\n",
      "secondary_cleaner.state.floatbank3_a_air              14145 non-null float64\n",
      "secondary_cleaner.state.floatbank3_a_level            14148 non-null float64\n",
      "secondary_cleaner.state.floatbank3_b_air              14148 non-null float64\n",
      "secondary_cleaner.state.floatbank3_b_level            14148 non-null float64\n",
      "secondary_cleaner.state.floatbank4_a_air              14143 non-null float64\n",
      "secondary_cleaner.state.floatbank4_a_level            14148 non-null float64\n",
      "secondary_cleaner.state.floatbank4_b_air              14148 non-null float64\n",
      "secondary_cleaner.state.floatbank4_b_level            14148 non-null float64\n",
      "secondary_cleaner.state.floatbank5_a_air              14148 non-null float64\n",
      "secondary_cleaner.state.floatbank5_a_level            14148 non-null float64\n",
      "secondary_cleaner.state.floatbank5_b_air              14148 non-null float64\n",
      "secondary_cleaner.state.floatbank5_b_level            14148 non-null float64\n",
      "secondary_cleaner.state.floatbank6_a_air              14147 non-null float64\n",
      "secondary_cleaner.state.floatbank6_a_level            14148 non-null float64\n",
      "dtypes: float64(86), object(1)\n",
      "memory usage: 9.4+ MB\n"
     ]
    },
    {
     "data": {
      "text/plain": [
       "None"
      ]
     },
     "metadata": {},
     "output_type": "display_data"
    },
    {
     "data": {
      "text/plain": [
       "(14149, 87)"
      ]
     },
     "metadata": {},
     "output_type": "display_data"
    },
    {
     "data": {
      "text/html": [
       "<div>\n",
       "<style scoped>\n",
       "    .dataframe tbody tr th:only-of-type {\n",
       "        vertical-align: middle;\n",
       "    }\n",
       "\n",
       "    .dataframe tbody tr th {\n",
       "        vertical-align: top;\n",
       "    }\n",
       "\n",
       "    .dataframe thead th {\n",
       "        text-align: right;\n",
       "    }\n",
       "</style>\n",
       "<table border=\"1\" class=\"dataframe\">\n",
       "  <thead>\n",
       "    <tr style=\"text-align: right;\">\n",
       "      <th></th>\n",
       "      <th>date</th>\n",
       "      <th>final.output.concentrate_ag</th>\n",
       "      <th>final.output.concentrate_pb</th>\n",
       "      <th>final.output.concentrate_sol</th>\n",
       "      <th>final.output.concentrate_au</th>\n",
       "      <th>final.output.recovery</th>\n",
       "      <th>final.output.tail_ag</th>\n",
       "      <th>final.output.tail_pb</th>\n",
       "      <th>final.output.tail_sol</th>\n",
       "      <th>final.output.tail_au</th>\n",
       "      <th>...</th>\n",
       "      <th>secondary_cleaner.state.floatbank4_a_air</th>\n",
       "      <th>secondary_cleaner.state.floatbank4_a_level</th>\n",
       "      <th>secondary_cleaner.state.floatbank4_b_air</th>\n",
       "      <th>secondary_cleaner.state.floatbank4_b_level</th>\n",
       "      <th>secondary_cleaner.state.floatbank5_a_air</th>\n",
       "      <th>secondary_cleaner.state.floatbank5_a_level</th>\n",
       "      <th>secondary_cleaner.state.floatbank5_b_air</th>\n",
       "      <th>secondary_cleaner.state.floatbank5_b_level</th>\n",
       "      <th>secondary_cleaner.state.floatbank6_a_air</th>\n",
       "      <th>secondary_cleaner.state.floatbank6_a_level</th>\n",
       "    </tr>\n",
       "  </thead>\n",
       "  <tbody>\n",
       "    <tr>\n",
       "      <td>0</td>\n",
       "      <td>2016-01-15 00:00:00</td>\n",
       "      <td>6.055403</td>\n",
       "      <td>9.889648</td>\n",
       "      <td>5.507324</td>\n",
       "      <td>42.192020</td>\n",
       "      <td>70.541216</td>\n",
       "      <td>10.411962</td>\n",
       "      <td>0.895447</td>\n",
       "      <td>16.904297</td>\n",
       "      <td>2.143149</td>\n",
       "      <td>...</td>\n",
       "      <td>14.016835</td>\n",
       "      <td>-502.488007</td>\n",
       "      <td>12.099931</td>\n",
       "      <td>-504.715942</td>\n",
       "      <td>9.925633</td>\n",
       "      <td>-498.310211</td>\n",
       "      <td>8.079666</td>\n",
       "      <td>-500.470978</td>\n",
       "      <td>14.151341</td>\n",
       "      <td>-605.841980</td>\n",
       "    </tr>\n",
       "    <tr>\n",
       "      <td>1</td>\n",
       "      <td>2016-01-15 01:00:00</td>\n",
       "      <td>6.029369</td>\n",
       "      <td>9.968944</td>\n",
       "      <td>5.257781</td>\n",
       "      <td>42.701629</td>\n",
       "      <td>69.266198</td>\n",
       "      <td>10.462676</td>\n",
       "      <td>0.927452</td>\n",
       "      <td>16.634514</td>\n",
       "      <td>2.224930</td>\n",
       "      <td>...</td>\n",
       "      <td>13.992281</td>\n",
       "      <td>-505.503262</td>\n",
       "      <td>11.950531</td>\n",
       "      <td>-501.331529</td>\n",
       "      <td>10.039245</td>\n",
       "      <td>-500.169983</td>\n",
       "      <td>7.984757</td>\n",
       "      <td>-500.582168</td>\n",
       "      <td>13.998353</td>\n",
       "      <td>-599.787184</td>\n",
       "    </tr>\n",
       "    <tr>\n",
       "      <td>2</td>\n",
       "      <td>2016-01-15 02:00:00</td>\n",
       "      <td>6.055926</td>\n",
       "      <td>10.213995</td>\n",
       "      <td>5.383759</td>\n",
       "      <td>42.657501</td>\n",
       "      <td>68.116445</td>\n",
       "      <td>10.507046</td>\n",
       "      <td>0.953716</td>\n",
       "      <td>16.208849</td>\n",
       "      <td>2.257889</td>\n",
       "      <td>...</td>\n",
       "      <td>14.015015</td>\n",
       "      <td>-502.520901</td>\n",
       "      <td>11.912783</td>\n",
       "      <td>-501.133383</td>\n",
       "      <td>10.070913</td>\n",
       "      <td>-500.129135</td>\n",
       "      <td>8.013877</td>\n",
       "      <td>-500.517572</td>\n",
       "      <td>14.028663</td>\n",
       "      <td>-601.427363</td>\n",
       "    </tr>\n",
       "    <tr>\n",
       "      <td>3</td>\n",
       "      <td>2016-01-15 03:00:00</td>\n",
       "      <td>6.047977</td>\n",
       "      <td>9.977019</td>\n",
       "      <td>4.858634</td>\n",
       "      <td>42.689819</td>\n",
       "      <td>68.347543</td>\n",
       "      <td>10.422762</td>\n",
       "      <td>0.883763</td>\n",
       "      <td>16.532835</td>\n",
       "      <td>2.146849</td>\n",
       "      <td>...</td>\n",
       "      <td>14.036510</td>\n",
       "      <td>-500.857308</td>\n",
       "      <td>11.999550</td>\n",
       "      <td>-501.193686</td>\n",
       "      <td>9.970366</td>\n",
       "      <td>-499.201640</td>\n",
       "      <td>7.977324</td>\n",
       "      <td>-500.255908</td>\n",
       "      <td>14.005551</td>\n",
       "      <td>-599.996129</td>\n",
       "    </tr>\n",
       "    <tr>\n",
       "      <td>4</td>\n",
       "      <td>2016-01-15 04:00:00</td>\n",
       "      <td>6.148599</td>\n",
       "      <td>10.142511</td>\n",
       "      <td>4.939416</td>\n",
       "      <td>42.774141</td>\n",
       "      <td>66.927016</td>\n",
       "      <td>10.360302</td>\n",
       "      <td>0.792826</td>\n",
       "      <td>16.525686</td>\n",
       "      <td>2.055292</td>\n",
       "      <td>...</td>\n",
       "      <td>14.027298</td>\n",
       "      <td>-499.838632</td>\n",
       "      <td>11.953070</td>\n",
       "      <td>-501.053894</td>\n",
       "      <td>9.925709</td>\n",
       "      <td>-501.686727</td>\n",
       "      <td>7.894242</td>\n",
       "      <td>-500.356035</td>\n",
       "      <td>13.996647</td>\n",
       "      <td>-601.496691</td>\n",
       "    </tr>\n",
       "  </tbody>\n",
       "</table>\n",
       "<p>5 rows × 87 columns</p>\n",
       "</div>"
      ],
      "text/plain": [
       "                  date  final.output.concentrate_ag  \\\n",
       "0  2016-01-15 00:00:00                     6.055403   \n",
       "1  2016-01-15 01:00:00                     6.029369   \n",
       "2  2016-01-15 02:00:00                     6.055926   \n",
       "3  2016-01-15 03:00:00                     6.047977   \n",
       "4  2016-01-15 04:00:00                     6.148599   \n",
       "\n",
       "   final.output.concentrate_pb  final.output.concentrate_sol  \\\n",
       "0                     9.889648                      5.507324   \n",
       "1                     9.968944                      5.257781   \n",
       "2                    10.213995                      5.383759   \n",
       "3                     9.977019                      4.858634   \n",
       "4                    10.142511                      4.939416   \n",
       "\n",
       "   final.output.concentrate_au  final.output.recovery  final.output.tail_ag  \\\n",
       "0                    42.192020              70.541216             10.411962   \n",
       "1                    42.701629              69.266198             10.462676   \n",
       "2                    42.657501              68.116445             10.507046   \n",
       "3                    42.689819              68.347543             10.422762   \n",
       "4                    42.774141              66.927016             10.360302   \n",
       "\n",
       "   final.output.tail_pb  final.output.tail_sol  final.output.tail_au  ...  \\\n",
       "0              0.895447              16.904297              2.143149  ...   \n",
       "1              0.927452              16.634514              2.224930  ...   \n",
       "2              0.953716              16.208849              2.257889  ...   \n",
       "3              0.883763              16.532835              2.146849  ...   \n",
       "4              0.792826              16.525686              2.055292  ...   \n",
       "\n",
       "   secondary_cleaner.state.floatbank4_a_air  \\\n",
       "0                                 14.016835   \n",
       "1                                 13.992281   \n",
       "2                                 14.015015   \n",
       "3                                 14.036510   \n",
       "4                                 14.027298   \n",
       "\n",
       "   secondary_cleaner.state.floatbank4_a_level  \\\n",
       "0                                 -502.488007   \n",
       "1                                 -505.503262   \n",
       "2                                 -502.520901   \n",
       "3                                 -500.857308   \n",
       "4                                 -499.838632   \n",
       "\n",
       "   secondary_cleaner.state.floatbank4_b_air  \\\n",
       "0                                 12.099931   \n",
       "1                                 11.950531   \n",
       "2                                 11.912783   \n",
       "3                                 11.999550   \n",
       "4                                 11.953070   \n",
       "\n",
       "   secondary_cleaner.state.floatbank4_b_level  \\\n",
       "0                                 -504.715942   \n",
       "1                                 -501.331529   \n",
       "2                                 -501.133383   \n",
       "3                                 -501.193686   \n",
       "4                                 -501.053894   \n",
       "\n",
       "   secondary_cleaner.state.floatbank5_a_air  \\\n",
       "0                                  9.925633   \n",
       "1                                 10.039245   \n",
       "2                                 10.070913   \n",
       "3                                  9.970366   \n",
       "4                                  9.925709   \n",
       "\n",
       "   secondary_cleaner.state.floatbank5_a_level  \\\n",
       "0                                 -498.310211   \n",
       "1                                 -500.169983   \n",
       "2                                 -500.129135   \n",
       "3                                 -499.201640   \n",
       "4                                 -501.686727   \n",
       "\n",
       "   secondary_cleaner.state.floatbank5_b_air  \\\n",
       "0                                  8.079666   \n",
       "1                                  7.984757   \n",
       "2                                  8.013877   \n",
       "3                                  7.977324   \n",
       "4                                  7.894242   \n",
       "\n",
       "   secondary_cleaner.state.floatbank5_b_level  \\\n",
       "0                                 -500.470978   \n",
       "1                                 -500.582168   \n",
       "2                                 -500.517572   \n",
       "3                                 -500.255908   \n",
       "4                                 -500.356035   \n",
       "\n",
       "   secondary_cleaner.state.floatbank6_a_air  \\\n",
       "0                                 14.151341   \n",
       "1                                 13.998353   \n",
       "2                                 14.028663   \n",
       "3                                 14.005551   \n",
       "4                                 13.996647   \n",
       "\n",
       "   secondary_cleaner.state.floatbank6_a_level  \n",
       "0                                 -605.841980  \n",
       "1                                 -599.787184  \n",
       "2                                 -601.427363  \n",
       "3                                 -599.996129  \n",
       "4                                 -601.496691  \n",
       "\n",
       "[5 rows x 87 columns]"
      ]
     },
     "metadata": {},
     "output_type": "display_data"
    },
    {
     "name": "stdout",
     "output_type": "stream",
     "text": [
      "<class 'pandas.core.frame.DataFrame'>\n",
      "RangeIndex: 5290 entries, 0 to 5289\n",
      "Data columns (total 53 columns):\n",
      "date                                          5290 non-null object\n",
      "primary_cleaner.input.sulfate                 5286 non-null float64\n",
      "primary_cleaner.input.depressant              5285 non-null float64\n",
      "primary_cleaner.input.feed_size               5290 non-null float64\n",
      "primary_cleaner.input.xanthate                5286 non-null float64\n",
      "primary_cleaner.state.floatbank8_a_air        5290 non-null float64\n",
      "primary_cleaner.state.floatbank8_a_level      5290 non-null float64\n",
      "primary_cleaner.state.floatbank8_b_air        5290 non-null float64\n",
      "primary_cleaner.state.floatbank8_b_level      5290 non-null float64\n",
      "primary_cleaner.state.floatbank8_c_air        5290 non-null float64\n",
      "primary_cleaner.state.floatbank8_c_level      5290 non-null float64\n",
      "primary_cleaner.state.floatbank8_d_air        5290 non-null float64\n",
      "primary_cleaner.state.floatbank8_d_level      5290 non-null float64\n",
      "rougher.input.feed_ag                         5290 non-null float64\n",
      "rougher.input.feed_pb                         5290 non-null float64\n",
      "rougher.input.feed_rate                       5287 non-null float64\n",
      "rougher.input.feed_size                       5289 non-null float64\n",
      "rougher.input.feed_sol                        5269 non-null float64\n",
      "rougher.input.feed_au                         5290 non-null float64\n",
      "rougher.input.floatbank10_sulfate             5285 non-null float64\n",
      "rougher.input.floatbank10_xanthate            5290 non-null float64\n",
      "rougher.input.floatbank11_sulfate             5282 non-null float64\n",
      "rougher.input.floatbank11_xanthate            5265 non-null float64\n",
      "rougher.state.floatbank10_a_air               5290 non-null float64\n",
      "rougher.state.floatbank10_a_level             5290 non-null float64\n",
      "rougher.state.floatbank10_b_air               5290 non-null float64\n",
      "rougher.state.floatbank10_b_level             5290 non-null float64\n",
      "rougher.state.floatbank10_c_air               5290 non-null float64\n",
      "rougher.state.floatbank10_c_level             5290 non-null float64\n",
      "rougher.state.floatbank10_d_air               5290 non-null float64\n",
      "rougher.state.floatbank10_d_level             5290 non-null float64\n",
      "rougher.state.floatbank10_e_air               5290 non-null float64\n",
      "rougher.state.floatbank10_e_level             5290 non-null float64\n",
      "rougher.state.floatbank10_f_air               5290 non-null float64\n",
      "rougher.state.floatbank10_f_level             5290 non-null float64\n",
      "secondary_cleaner.state.floatbank2_a_air      5287 non-null float64\n",
      "secondary_cleaner.state.floatbank2_a_level    5290 non-null float64\n",
      "secondary_cleaner.state.floatbank2_b_air      5288 non-null float64\n",
      "secondary_cleaner.state.floatbank2_b_level    5290 non-null float64\n",
      "secondary_cleaner.state.floatbank3_a_air      5281 non-null float64\n",
      "secondary_cleaner.state.floatbank3_a_level    5290 non-null float64\n",
      "secondary_cleaner.state.floatbank3_b_air      5290 non-null float64\n",
      "secondary_cleaner.state.floatbank3_b_level    5290 non-null float64\n",
      "secondary_cleaner.state.floatbank4_a_air      5290 non-null float64\n",
      "secondary_cleaner.state.floatbank4_a_level    5290 non-null float64\n",
      "secondary_cleaner.state.floatbank4_b_air      5290 non-null float64\n",
      "secondary_cleaner.state.floatbank4_b_level    5290 non-null float64\n",
      "secondary_cleaner.state.floatbank5_a_air      5290 non-null float64\n",
      "secondary_cleaner.state.floatbank5_a_level    5290 non-null float64\n",
      "secondary_cleaner.state.floatbank5_b_air      5290 non-null float64\n",
      "secondary_cleaner.state.floatbank5_b_level    5290 non-null float64\n",
      "secondary_cleaner.state.floatbank6_a_air      5290 non-null float64\n",
      "secondary_cleaner.state.floatbank6_a_level    5290 non-null float64\n",
      "dtypes: float64(52), object(1)\n",
      "memory usage: 2.1+ MB\n"
     ]
    },
    {
     "data": {
      "text/plain": [
       "None"
      ]
     },
     "metadata": {},
     "output_type": "display_data"
    },
    {
     "data": {
      "text/plain": [
       "(5290, 53)"
      ]
     },
     "metadata": {},
     "output_type": "display_data"
    },
    {
     "data": {
      "text/html": [
       "<div>\n",
       "<style scoped>\n",
       "    .dataframe tbody tr th:only-of-type {\n",
       "        vertical-align: middle;\n",
       "    }\n",
       "\n",
       "    .dataframe tbody tr th {\n",
       "        vertical-align: top;\n",
       "    }\n",
       "\n",
       "    .dataframe thead th {\n",
       "        text-align: right;\n",
       "    }\n",
       "</style>\n",
       "<table border=\"1\" class=\"dataframe\">\n",
       "  <thead>\n",
       "    <tr style=\"text-align: right;\">\n",
       "      <th></th>\n",
       "      <th>date</th>\n",
       "      <th>primary_cleaner.input.sulfate</th>\n",
       "      <th>primary_cleaner.input.depressant</th>\n",
       "      <th>primary_cleaner.input.feed_size</th>\n",
       "      <th>primary_cleaner.input.xanthate</th>\n",
       "      <th>primary_cleaner.state.floatbank8_a_air</th>\n",
       "      <th>primary_cleaner.state.floatbank8_a_level</th>\n",
       "      <th>primary_cleaner.state.floatbank8_b_air</th>\n",
       "      <th>primary_cleaner.state.floatbank8_b_level</th>\n",
       "      <th>primary_cleaner.state.floatbank8_c_air</th>\n",
       "      <th>...</th>\n",
       "      <th>secondary_cleaner.state.floatbank4_a_air</th>\n",
       "      <th>secondary_cleaner.state.floatbank4_a_level</th>\n",
       "      <th>secondary_cleaner.state.floatbank4_b_air</th>\n",
       "      <th>secondary_cleaner.state.floatbank4_b_level</th>\n",
       "      <th>secondary_cleaner.state.floatbank5_a_air</th>\n",
       "      <th>secondary_cleaner.state.floatbank5_a_level</th>\n",
       "      <th>secondary_cleaner.state.floatbank5_b_air</th>\n",
       "      <th>secondary_cleaner.state.floatbank5_b_level</th>\n",
       "      <th>secondary_cleaner.state.floatbank6_a_air</th>\n",
       "      <th>secondary_cleaner.state.floatbank6_a_level</th>\n",
       "    </tr>\n",
       "  </thead>\n",
       "  <tbody>\n",
       "    <tr>\n",
       "      <td>0</td>\n",
       "      <td>2016-09-01 00:59:59</td>\n",
       "      <td>210.800909</td>\n",
       "      <td>14.993118</td>\n",
       "      <td>8.080000</td>\n",
       "      <td>1.005021</td>\n",
       "      <td>1398.981301</td>\n",
       "      <td>-500.225577</td>\n",
       "      <td>1399.144926</td>\n",
       "      <td>-499.919735</td>\n",
       "      <td>1400.102998</td>\n",
       "      <td>...</td>\n",
       "      <td>12.023554</td>\n",
       "      <td>-497.795834</td>\n",
       "      <td>8.016656</td>\n",
       "      <td>-501.289139</td>\n",
       "      <td>7.946562</td>\n",
       "      <td>-432.317850</td>\n",
       "      <td>4.872511</td>\n",
       "      <td>-500.037437</td>\n",
       "      <td>26.705889</td>\n",
       "      <td>-499.709414</td>\n",
       "    </tr>\n",
       "    <tr>\n",
       "      <td>1</td>\n",
       "      <td>2016-09-01 01:59:59</td>\n",
       "      <td>215.392455</td>\n",
       "      <td>14.987471</td>\n",
       "      <td>8.080000</td>\n",
       "      <td>0.990469</td>\n",
       "      <td>1398.777912</td>\n",
       "      <td>-500.057435</td>\n",
       "      <td>1398.055362</td>\n",
       "      <td>-499.778182</td>\n",
       "      <td>1396.151033</td>\n",
       "      <td>...</td>\n",
       "      <td>12.058140</td>\n",
       "      <td>-498.695773</td>\n",
       "      <td>8.130979</td>\n",
       "      <td>-499.634209</td>\n",
       "      <td>7.958270</td>\n",
       "      <td>-525.839648</td>\n",
       "      <td>4.878850</td>\n",
       "      <td>-500.162375</td>\n",
       "      <td>25.019940</td>\n",
       "      <td>-499.819438</td>\n",
       "    </tr>\n",
       "    <tr>\n",
       "      <td>2</td>\n",
       "      <td>2016-09-01 02:59:59</td>\n",
       "      <td>215.259946</td>\n",
       "      <td>12.884934</td>\n",
       "      <td>7.786667</td>\n",
       "      <td>0.996043</td>\n",
       "      <td>1398.493666</td>\n",
       "      <td>-500.868360</td>\n",
       "      <td>1398.860436</td>\n",
       "      <td>-499.764529</td>\n",
       "      <td>1398.075709</td>\n",
       "      <td>...</td>\n",
       "      <td>11.962366</td>\n",
       "      <td>-498.767484</td>\n",
       "      <td>8.096893</td>\n",
       "      <td>-500.827423</td>\n",
       "      <td>8.071056</td>\n",
       "      <td>-500.801673</td>\n",
       "      <td>4.905125</td>\n",
       "      <td>-499.828510</td>\n",
       "      <td>24.994862</td>\n",
       "      <td>-500.622559</td>\n",
       "    </tr>\n",
       "    <tr>\n",
       "      <td>3</td>\n",
       "      <td>2016-09-01 03:59:59</td>\n",
       "      <td>215.336236</td>\n",
       "      <td>12.006805</td>\n",
       "      <td>7.640000</td>\n",
       "      <td>0.863514</td>\n",
       "      <td>1399.618111</td>\n",
       "      <td>-498.863574</td>\n",
       "      <td>1397.440120</td>\n",
       "      <td>-499.211024</td>\n",
       "      <td>1400.129303</td>\n",
       "      <td>...</td>\n",
       "      <td>12.033091</td>\n",
       "      <td>-498.350935</td>\n",
       "      <td>8.074946</td>\n",
       "      <td>-499.474407</td>\n",
       "      <td>7.897085</td>\n",
       "      <td>-500.868509</td>\n",
       "      <td>4.931400</td>\n",
       "      <td>-499.963623</td>\n",
       "      <td>24.948919</td>\n",
       "      <td>-498.709987</td>\n",
       "    </tr>\n",
       "    <tr>\n",
       "      <td>4</td>\n",
       "      <td>2016-09-01 04:59:59</td>\n",
       "      <td>199.099327</td>\n",
       "      <td>10.682530</td>\n",
       "      <td>7.530000</td>\n",
       "      <td>0.805575</td>\n",
       "      <td>1401.268123</td>\n",
       "      <td>-500.808305</td>\n",
       "      <td>1398.128818</td>\n",
       "      <td>-499.504543</td>\n",
       "      <td>1402.172226</td>\n",
       "      <td>...</td>\n",
       "      <td>12.025367</td>\n",
       "      <td>-500.786497</td>\n",
       "      <td>8.054678</td>\n",
       "      <td>-500.397500</td>\n",
       "      <td>8.107890</td>\n",
       "      <td>-509.526725</td>\n",
       "      <td>4.957674</td>\n",
       "      <td>-500.360026</td>\n",
       "      <td>25.003331</td>\n",
       "      <td>-500.856333</td>\n",
       "    </tr>\n",
       "  </tbody>\n",
       "</table>\n",
       "<p>5 rows × 53 columns</p>\n",
       "</div>"
      ],
      "text/plain": [
       "                  date  primary_cleaner.input.sulfate  \\\n",
       "0  2016-09-01 00:59:59                     210.800909   \n",
       "1  2016-09-01 01:59:59                     215.392455   \n",
       "2  2016-09-01 02:59:59                     215.259946   \n",
       "3  2016-09-01 03:59:59                     215.336236   \n",
       "4  2016-09-01 04:59:59                     199.099327   \n",
       "\n",
       "   primary_cleaner.input.depressant  primary_cleaner.input.feed_size  \\\n",
       "0                         14.993118                         8.080000   \n",
       "1                         14.987471                         8.080000   \n",
       "2                         12.884934                         7.786667   \n",
       "3                         12.006805                         7.640000   \n",
       "4                         10.682530                         7.530000   \n",
       "\n",
       "   primary_cleaner.input.xanthate  primary_cleaner.state.floatbank8_a_air  \\\n",
       "0                        1.005021                             1398.981301   \n",
       "1                        0.990469                             1398.777912   \n",
       "2                        0.996043                             1398.493666   \n",
       "3                        0.863514                             1399.618111   \n",
       "4                        0.805575                             1401.268123   \n",
       "\n",
       "   primary_cleaner.state.floatbank8_a_level  \\\n",
       "0                               -500.225577   \n",
       "1                               -500.057435   \n",
       "2                               -500.868360   \n",
       "3                               -498.863574   \n",
       "4                               -500.808305   \n",
       "\n",
       "   primary_cleaner.state.floatbank8_b_air  \\\n",
       "0                             1399.144926   \n",
       "1                             1398.055362   \n",
       "2                             1398.860436   \n",
       "3                             1397.440120   \n",
       "4                             1398.128818   \n",
       "\n",
       "   primary_cleaner.state.floatbank8_b_level  \\\n",
       "0                               -499.919735   \n",
       "1                               -499.778182   \n",
       "2                               -499.764529   \n",
       "3                               -499.211024   \n",
       "4                               -499.504543   \n",
       "\n",
       "   primary_cleaner.state.floatbank8_c_air  ...  \\\n",
       "0                             1400.102998  ...   \n",
       "1                             1396.151033  ...   \n",
       "2                             1398.075709  ...   \n",
       "3                             1400.129303  ...   \n",
       "4                             1402.172226  ...   \n",
       "\n",
       "   secondary_cleaner.state.floatbank4_a_air  \\\n",
       "0                                 12.023554   \n",
       "1                                 12.058140   \n",
       "2                                 11.962366   \n",
       "3                                 12.033091   \n",
       "4                                 12.025367   \n",
       "\n",
       "   secondary_cleaner.state.floatbank4_a_level  \\\n",
       "0                                 -497.795834   \n",
       "1                                 -498.695773   \n",
       "2                                 -498.767484   \n",
       "3                                 -498.350935   \n",
       "4                                 -500.786497   \n",
       "\n",
       "   secondary_cleaner.state.floatbank4_b_air  \\\n",
       "0                                  8.016656   \n",
       "1                                  8.130979   \n",
       "2                                  8.096893   \n",
       "3                                  8.074946   \n",
       "4                                  8.054678   \n",
       "\n",
       "   secondary_cleaner.state.floatbank4_b_level  \\\n",
       "0                                 -501.289139   \n",
       "1                                 -499.634209   \n",
       "2                                 -500.827423   \n",
       "3                                 -499.474407   \n",
       "4                                 -500.397500   \n",
       "\n",
       "   secondary_cleaner.state.floatbank5_a_air  \\\n",
       "0                                  7.946562   \n",
       "1                                  7.958270   \n",
       "2                                  8.071056   \n",
       "3                                  7.897085   \n",
       "4                                  8.107890   \n",
       "\n",
       "   secondary_cleaner.state.floatbank5_a_level  \\\n",
       "0                                 -432.317850   \n",
       "1                                 -525.839648   \n",
       "2                                 -500.801673   \n",
       "3                                 -500.868509   \n",
       "4                                 -509.526725   \n",
       "\n",
       "   secondary_cleaner.state.floatbank5_b_air  \\\n",
       "0                                  4.872511   \n",
       "1                                  4.878850   \n",
       "2                                  4.905125   \n",
       "3                                  4.931400   \n",
       "4                                  4.957674   \n",
       "\n",
       "   secondary_cleaner.state.floatbank5_b_level  \\\n",
       "0                                 -500.037437   \n",
       "1                                 -500.162375   \n",
       "2                                 -499.828510   \n",
       "3                                 -499.963623   \n",
       "4                                 -500.360026   \n",
       "\n",
       "   secondary_cleaner.state.floatbank6_a_air  \\\n",
       "0                                 26.705889   \n",
       "1                                 25.019940   \n",
       "2                                 24.994862   \n",
       "3                                 24.948919   \n",
       "4                                 25.003331   \n",
       "\n",
       "   secondary_cleaner.state.floatbank6_a_level  \n",
       "0                                 -499.709414  \n",
       "1                                 -499.819438  \n",
       "2                                 -500.622559  \n",
       "3                                 -498.709987  \n",
       "4                                 -500.856333  \n",
       "\n",
       "[5 rows x 53 columns]"
      ]
     },
     "metadata": {},
     "output_type": "display_data"
    },
    {
     "name": "stdout",
     "output_type": "stream",
     "text": [
      "<class 'pandas.core.frame.DataFrame'>\n",
      "RangeIndex: 19439 entries, 0 to 19438\n",
      "Data columns (total 87 columns):\n",
      "date                                                  19439 non-null object\n",
      "final.output.concentrate_ag                           19438 non-null float64\n",
      "final.output.concentrate_pb                           19438 non-null float64\n",
      "final.output.concentrate_sol                          19228 non-null float64\n",
      "final.output.concentrate_au                           19439 non-null float64\n",
      "final.output.recovery                                 19439 non-null float64\n",
      "final.output.tail_ag                                  19438 non-null float64\n",
      "final.output.tail_pb                                  19338 non-null float64\n",
      "final.output.tail_sol                                 19433 non-null float64\n",
      "final.output.tail_au                                  19439 non-null float64\n",
      "primary_cleaner.input.sulfate                         19415 non-null float64\n",
      "primary_cleaner.input.depressant                      19402 non-null float64\n",
      "primary_cleaner.input.feed_size                       19439 non-null float64\n",
      "primary_cleaner.input.xanthate                        19335 non-null float64\n",
      "primary_cleaner.output.concentrate_ag                 19439 non-null float64\n",
      "primary_cleaner.output.concentrate_pb                 19323 non-null float64\n",
      "primary_cleaner.output.concentrate_sol                19069 non-null float64\n",
      "primary_cleaner.output.concentrate_au                 19439 non-null float64\n",
      "primary_cleaner.output.tail_ag                        19435 non-null float64\n",
      "primary_cleaner.output.tail_pb                        19418 non-null float64\n",
      "primary_cleaner.output.tail_sol                       19377 non-null float64\n",
      "primary_cleaner.output.tail_au                        19439 non-null float64\n",
      "primary_cleaner.state.floatbank8_a_air                19435 non-null float64\n",
      "primary_cleaner.state.floatbank8_a_level              19438 non-null float64\n",
      "primary_cleaner.state.floatbank8_b_air                19435 non-null float64\n",
      "primary_cleaner.state.floatbank8_b_level              19438 non-null float64\n",
      "primary_cleaner.state.floatbank8_c_air                19437 non-null float64\n",
      "primary_cleaner.state.floatbank8_c_level              19438 non-null float64\n",
      "primary_cleaner.state.floatbank8_d_air                19436 non-null float64\n",
      "primary_cleaner.state.floatbank8_d_level              19438 non-null float64\n",
      "rougher.calculation.sulfate_to_au_concentrate         19437 non-null float64\n",
      "rougher.calculation.floatbank10_sulfate_to_au_feed    19437 non-null float64\n",
      "rougher.calculation.floatbank11_sulfate_to_au_feed    19437 non-null float64\n",
      "rougher.calculation.au_pb_ratio                       19439 non-null float64\n",
      "rougher.input.feed_ag                                 19439 non-null float64\n",
      "rougher.input.feed_pb                                 19339 non-null float64\n",
      "rougher.input.feed_rate                               19428 non-null float64\n",
      "rougher.input.feed_size                               19294 non-null float64\n",
      "rougher.input.feed_sol                                19340 non-null float64\n",
      "rougher.input.feed_au                                 19439 non-null float64\n",
      "rougher.input.floatbank10_sulfate                     19405 non-null float64\n",
      "rougher.input.floatbank10_xanthate                    19431 non-null float64\n",
      "rougher.input.floatbank11_sulfate                     19395 non-null float64\n",
      "rougher.input.floatbank11_xanthate                    18986 non-null float64\n",
      "rougher.output.concentrate_ag                         19439 non-null float64\n",
      "rougher.output.concentrate_pb                         19439 non-null float64\n",
      "rougher.output.concentrate_sol                        19416 non-null float64\n",
      "rougher.output.concentrate_au                         19439 non-null float64\n",
      "rougher.output.recovery                               19439 non-null float64\n",
      "rougher.output.tail_ag                                19438 non-null float64\n",
      "rougher.output.tail_pb                                19439 non-null float64\n",
      "rougher.output.tail_sol                               19439 non-null float64\n",
      "rougher.output.tail_au                                19439 non-null float64\n",
      "rougher.state.floatbank10_a_air                       19438 non-null float64\n",
      "rougher.state.floatbank10_a_level                     19438 non-null float64\n",
      "rougher.state.floatbank10_b_air                       19438 non-null float64\n",
      "rougher.state.floatbank10_b_level                     19438 non-null float64\n",
      "rougher.state.floatbank10_c_air                       19438 non-null float64\n",
      "rougher.state.floatbank10_c_level                     19438 non-null float64\n",
      "rougher.state.floatbank10_d_air                       19439 non-null float64\n",
      "rougher.state.floatbank10_d_level                     19439 non-null float64\n",
      "rougher.state.floatbank10_e_air                       19003 non-null float64\n",
      "rougher.state.floatbank10_e_level                     19439 non-null float64\n",
      "rougher.state.floatbank10_f_air                       19439 non-null float64\n",
      "rougher.state.floatbank10_f_level                     19439 non-null float64\n",
      "secondary_cleaner.output.tail_ag                      19437 non-null float64\n",
      "secondary_cleaner.output.tail_pb                      19427 non-null float64\n",
      "secondary_cleaner.output.tail_sol                     17691 non-null float64\n",
      "secondary_cleaner.output.tail_au                      19439 non-null float64\n",
      "secondary_cleaner.state.floatbank2_a_air              19219 non-null float64\n",
      "secondary_cleaner.state.floatbank2_a_level            19438 non-null float64\n",
      "secondary_cleaner.state.floatbank2_b_air              19416 non-null float64\n",
      "secondary_cleaner.state.floatbank2_b_level            19438 non-null float64\n",
      "secondary_cleaner.state.floatbank3_a_air              19426 non-null float64\n",
      "secondary_cleaner.state.floatbank3_a_level            19438 non-null float64\n",
      "secondary_cleaner.state.floatbank3_b_air              19438 non-null float64\n",
      "secondary_cleaner.state.floatbank3_b_level            19438 non-null float64\n",
      "secondary_cleaner.state.floatbank4_a_air              19433 non-null float64\n",
      "secondary_cleaner.state.floatbank4_a_level            19438 non-null float64\n",
      "secondary_cleaner.state.floatbank4_b_air              19438 non-null float64\n",
      "secondary_cleaner.state.floatbank4_b_level            19438 non-null float64\n",
      "secondary_cleaner.state.floatbank5_a_air              19438 non-null float64\n",
      "secondary_cleaner.state.floatbank5_a_level            19438 non-null float64\n",
      "secondary_cleaner.state.floatbank5_b_air              19438 non-null float64\n",
      "secondary_cleaner.state.floatbank5_b_level            19438 non-null float64\n",
      "secondary_cleaner.state.floatbank6_a_air              19437 non-null float64\n",
      "secondary_cleaner.state.floatbank6_a_level            19438 non-null float64\n",
      "dtypes: float64(86), object(1)\n",
      "memory usage: 12.9+ MB\n"
     ]
    },
    {
     "data": {
      "text/plain": [
       "None"
      ]
     },
     "metadata": {},
     "output_type": "display_data"
    },
    {
     "data": {
      "text/plain": [
       "(19439, 87)"
      ]
     },
     "metadata": {},
     "output_type": "display_data"
    },
    {
     "data": {
      "text/html": [
       "<div>\n",
       "<style scoped>\n",
       "    .dataframe tbody tr th:only-of-type {\n",
       "        vertical-align: middle;\n",
       "    }\n",
       "\n",
       "    .dataframe tbody tr th {\n",
       "        vertical-align: top;\n",
       "    }\n",
       "\n",
       "    .dataframe thead th {\n",
       "        text-align: right;\n",
       "    }\n",
       "</style>\n",
       "<table border=\"1\" class=\"dataframe\">\n",
       "  <thead>\n",
       "    <tr style=\"text-align: right;\">\n",
       "      <th></th>\n",
       "      <th>date</th>\n",
       "      <th>final.output.concentrate_ag</th>\n",
       "      <th>final.output.concentrate_pb</th>\n",
       "      <th>final.output.concentrate_sol</th>\n",
       "      <th>final.output.concentrate_au</th>\n",
       "      <th>final.output.recovery</th>\n",
       "      <th>final.output.tail_ag</th>\n",
       "      <th>final.output.tail_pb</th>\n",
       "      <th>final.output.tail_sol</th>\n",
       "      <th>final.output.tail_au</th>\n",
       "      <th>...</th>\n",
       "      <th>secondary_cleaner.state.floatbank4_a_air</th>\n",
       "      <th>secondary_cleaner.state.floatbank4_a_level</th>\n",
       "      <th>secondary_cleaner.state.floatbank4_b_air</th>\n",
       "      <th>secondary_cleaner.state.floatbank4_b_level</th>\n",
       "      <th>secondary_cleaner.state.floatbank5_a_air</th>\n",
       "      <th>secondary_cleaner.state.floatbank5_a_level</th>\n",
       "      <th>secondary_cleaner.state.floatbank5_b_air</th>\n",
       "      <th>secondary_cleaner.state.floatbank5_b_level</th>\n",
       "      <th>secondary_cleaner.state.floatbank6_a_air</th>\n",
       "      <th>secondary_cleaner.state.floatbank6_a_level</th>\n",
       "    </tr>\n",
       "  </thead>\n",
       "  <tbody>\n",
       "    <tr>\n",
       "      <td>0</td>\n",
       "      <td>2016-01-15 00:00:00</td>\n",
       "      <td>6.055403</td>\n",
       "      <td>9.889648</td>\n",
       "      <td>5.507324</td>\n",
       "      <td>42.192020</td>\n",
       "      <td>70.541216</td>\n",
       "      <td>10.411962</td>\n",
       "      <td>0.895447</td>\n",
       "      <td>16.904297</td>\n",
       "      <td>2.143149</td>\n",
       "      <td>...</td>\n",
       "      <td>14.016835</td>\n",
       "      <td>-502.488007</td>\n",
       "      <td>12.099931</td>\n",
       "      <td>-504.715942</td>\n",
       "      <td>9.925633</td>\n",
       "      <td>-498.310211</td>\n",
       "      <td>8.079666</td>\n",
       "      <td>-500.470978</td>\n",
       "      <td>14.151341</td>\n",
       "      <td>-605.841980</td>\n",
       "    </tr>\n",
       "    <tr>\n",
       "      <td>1</td>\n",
       "      <td>2016-01-15 01:00:00</td>\n",
       "      <td>6.029369</td>\n",
       "      <td>9.968944</td>\n",
       "      <td>5.257781</td>\n",
       "      <td>42.701629</td>\n",
       "      <td>69.266198</td>\n",
       "      <td>10.462676</td>\n",
       "      <td>0.927452</td>\n",
       "      <td>16.634514</td>\n",
       "      <td>2.224930</td>\n",
       "      <td>...</td>\n",
       "      <td>13.992281</td>\n",
       "      <td>-505.503262</td>\n",
       "      <td>11.950531</td>\n",
       "      <td>-501.331529</td>\n",
       "      <td>10.039245</td>\n",
       "      <td>-500.169983</td>\n",
       "      <td>7.984757</td>\n",
       "      <td>-500.582168</td>\n",
       "      <td>13.998353</td>\n",
       "      <td>-599.787184</td>\n",
       "    </tr>\n",
       "    <tr>\n",
       "      <td>2</td>\n",
       "      <td>2016-01-15 02:00:00</td>\n",
       "      <td>6.055926</td>\n",
       "      <td>10.213995</td>\n",
       "      <td>5.383759</td>\n",
       "      <td>42.657501</td>\n",
       "      <td>68.116445</td>\n",
       "      <td>10.507046</td>\n",
       "      <td>0.953716</td>\n",
       "      <td>16.208849</td>\n",
       "      <td>2.257889</td>\n",
       "      <td>...</td>\n",
       "      <td>14.015015</td>\n",
       "      <td>-502.520901</td>\n",
       "      <td>11.912783</td>\n",
       "      <td>-501.133383</td>\n",
       "      <td>10.070913</td>\n",
       "      <td>-500.129135</td>\n",
       "      <td>8.013877</td>\n",
       "      <td>-500.517572</td>\n",
       "      <td>14.028663</td>\n",
       "      <td>-601.427363</td>\n",
       "    </tr>\n",
       "    <tr>\n",
       "      <td>3</td>\n",
       "      <td>2016-01-15 03:00:00</td>\n",
       "      <td>6.047977</td>\n",
       "      <td>9.977019</td>\n",
       "      <td>4.858634</td>\n",
       "      <td>42.689819</td>\n",
       "      <td>68.347543</td>\n",
       "      <td>10.422762</td>\n",
       "      <td>0.883763</td>\n",
       "      <td>16.532835</td>\n",
       "      <td>2.146849</td>\n",
       "      <td>...</td>\n",
       "      <td>14.036510</td>\n",
       "      <td>-500.857308</td>\n",
       "      <td>11.999550</td>\n",
       "      <td>-501.193686</td>\n",
       "      <td>9.970366</td>\n",
       "      <td>-499.201640</td>\n",
       "      <td>7.977324</td>\n",
       "      <td>-500.255908</td>\n",
       "      <td>14.005551</td>\n",
       "      <td>-599.996129</td>\n",
       "    </tr>\n",
       "    <tr>\n",
       "      <td>4</td>\n",
       "      <td>2016-01-15 04:00:00</td>\n",
       "      <td>6.148599</td>\n",
       "      <td>10.142511</td>\n",
       "      <td>4.939416</td>\n",
       "      <td>42.774141</td>\n",
       "      <td>66.927016</td>\n",
       "      <td>10.360302</td>\n",
       "      <td>0.792826</td>\n",
       "      <td>16.525686</td>\n",
       "      <td>2.055292</td>\n",
       "      <td>...</td>\n",
       "      <td>14.027298</td>\n",
       "      <td>-499.838632</td>\n",
       "      <td>11.953070</td>\n",
       "      <td>-501.053894</td>\n",
       "      <td>9.925709</td>\n",
       "      <td>-501.686727</td>\n",
       "      <td>7.894242</td>\n",
       "      <td>-500.356035</td>\n",
       "      <td>13.996647</td>\n",
       "      <td>-601.496691</td>\n",
       "    </tr>\n",
       "  </tbody>\n",
       "</table>\n",
       "<p>5 rows × 87 columns</p>\n",
       "</div>"
      ],
      "text/plain": [
       "                  date  final.output.concentrate_ag  \\\n",
       "0  2016-01-15 00:00:00                     6.055403   \n",
       "1  2016-01-15 01:00:00                     6.029369   \n",
       "2  2016-01-15 02:00:00                     6.055926   \n",
       "3  2016-01-15 03:00:00                     6.047977   \n",
       "4  2016-01-15 04:00:00                     6.148599   \n",
       "\n",
       "   final.output.concentrate_pb  final.output.concentrate_sol  \\\n",
       "0                     9.889648                      5.507324   \n",
       "1                     9.968944                      5.257781   \n",
       "2                    10.213995                      5.383759   \n",
       "3                     9.977019                      4.858634   \n",
       "4                    10.142511                      4.939416   \n",
       "\n",
       "   final.output.concentrate_au  final.output.recovery  final.output.tail_ag  \\\n",
       "0                    42.192020              70.541216             10.411962   \n",
       "1                    42.701629              69.266198             10.462676   \n",
       "2                    42.657501              68.116445             10.507046   \n",
       "3                    42.689819              68.347543             10.422762   \n",
       "4                    42.774141              66.927016             10.360302   \n",
       "\n",
       "   final.output.tail_pb  final.output.tail_sol  final.output.tail_au  ...  \\\n",
       "0              0.895447              16.904297              2.143149  ...   \n",
       "1              0.927452              16.634514              2.224930  ...   \n",
       "2              0.953716              16.208849              2.257889  ...   \n",
       "3              0.883763              16.532835              2.146849  ...   \n",
       "4              0.792826              16.525686              2.055292  ...   \n",
       "\n",
       "   secondary_cleaner.state.floatbank4_a_air  \\\n",
       "0                                 14.016835   \n",
       "1                                 13.992281   \n",
       "2                                 14.015015   \n",
       "3                                 14.036510   \n",
       "4                                 14.027298   \n",
       "\n",
       "   secondary_cleaner.state.floatbank4_a_level  \\\n",
       "0                                 -502.488007   \n",
       "1                                 -505.503262   \n",
       "2                                 -502.520901   \n",
       "3                                 -500.857308   \n",
       "4                                 -499.838632   \n",
       "\n",
       "   secondary_cleaner.state.floatbank4_b_air  \\\n",
       "0                                 12.099931   \n",
       "1                                 11.950531   \n",
       "2                                 11.912783   \n",
       "3                                 11.999550   \n",
       "4                                 11.953070   \n",
       "\n",
       "   secondary_cleaner.state.floatbank4_b_level  \\\n",
       "0                                 -504.715942   \n",
       "1                                 -501.331529   \n",
       "2                                 -501.133383   \n",
       "3                                 -501.193686   \n",
       "4                                 -501.053894   \n",
       "\n",
       "   secondary_cleaner.state.floatbank5_a_air  \\\n",
       "0                                  9.925633   \n",
       "1                                 10.039245   \n",
       "2                                 10.070913   \n",
       "3                                  9.970366   \n",
       "4                                  9.925709   \n",
       "\n",
       "   secondary_cleaner.state.floatbank5_a_level  \\\n",
       "0                                 -498.310211   \n",
       "1                                 -500.169983   \n",
       "2                                 -500.129135   \n",
       "3                                 -499.201640   \n",
       "4                                 -501.686727   \n",
       "\n",
       "   secondary_cleaner.state.floatbank5_b_air  \\\n",
       "0                                  8.079666   \n",
       "1                                  7.984757   \n",
       "2                                  8.013877   \n",
       "3                                  7.977324   \n",
       "4                                  7.894242   \n",
       "\n",
       "   secondary_cleaner.state.floatbank5_b_level  \\\n",
       "0                                 -500.470978   \n",
       "1                                 -500.582168   \n",
       "2                                 -500.517572   \n",
       "3                                 -500.255908   \n",
       "4                                 -500.356035   \n",
       "\n",
       "   secondary_cleaner.state.floatbank6_a_air  \\\n",
       "0                                 14.151341   \n",
       "1                                 13.998353   \n",
       "2                                 14.028663   \n",
       "3                                 14.005551   \n",
       "4                                 13.996647   \n",
       "\n",
       "   secondary_cleaner.state.floatbank6_a_level  \n",
       "0                                 -605.841980  \n",
       "1                                 -599.787184  \n",
       "2                                 -601.427363  \n",
       "3                                 -599.996129  \n",
       "4                                 -601.496691  \n",
       "\n",
       "[5 rows x 87 columns]"
      ]
     },
     "metadata": {},
     "output_type": "display_data"
    }
   ],
   "source": [
    "# Прочитаем исходные файлы\n",
    "df_train = pd.read_csv('/datasets/gold_recovery_train_new.csv')\n",
    "df_test = pd.read_csv('/datasets/gold_recovery_test_new.csv')\n",
    "df_full = pd.read_csv('/datasets/gold_recovery_full_new.csv')\n",
    "\n",
    "# Изучим полученные таблицы\n",
    "datas = [df_train, df_test, df_full]\n",
    "for file in datas:\n",
    "    display(file.info())\n",
    "    display(file.shape)\n",
    "    display(file.head())"
   ]
  },
  {
   "cell_type": "code",
   "execution_count": 3,
   "metadata": {},
   "outputs": [
    {
     "name": "stdout",
     "output_type": "stream",
     "text": [
      "<class 'pandas.core.frame.DataFrame'>\n",
      "RangeIndex: 14149 entries, 0 to 14148\n",
      "Data columns (total 87 columns):\n",
      "date                                                  14149 non-null object\n",
      "final.output.concentrate_ag                           14149 non-null float64\n",
      "final.output.concentrate_pb                           14149 non-null float64\n",
      "final.output.concentrate_sol                          14149 non-null float64\n",
      "final.output.concentrate_au                           14149 non-null float64\n",
      "final.output.recovery                                 14149 non-null float64\n",
      "final.output.tail_ag                                  14149 non-null float64\n",
      "final.output.tail_pb                                  14149 non-null float64\n",
      "final.output.tail_sol                                 14149 non-null float64\n",
      "final.output.tail_au                                  14149 non-null float64\n",
      "primary_cleaner.input.sulfate                         14149 non-null float64\n",
      "primary_cleaner.input.depressant                      14149 non-null float64\n",
      "primary_cleaner.input.feed_size                       14149 non-null float64\n",
      "primary_cleaner.input.xanthate                        14149 non-null float64\n",
      "primary_cleaner.output.concentrate_ag                 14149 non-null float64\n",
      "primary_cleaner.output.concentrate_pb                 14149 non-null float64\n",
      "primary_cleaner.output.concentrate_sol                14149 non-null float64\n",
      "primary_cleaner.output.concentrate_au                 14149 non-null float64\n",
      "primary_cleaner.output.tail_ag                        14149 non-null float64\n",
      "primary_cleaner.output.tail_pb                        14149 non-null float64\n",
      "primary_cleaner.output.tail_sol                       14149 non-null float64\n",
      "primary_cleaner.output.tail_au                        14149 non-null float64\n",
      "primary_cleaner.state.floatbank8_a_air                14149 non-null float64\n",
      "primary_cleaner.state.floatbank8_a_level              14149 non-null float64\n",
      "primary_cleaner.state.floatbank8_b_air                14149 non-null float64\n",
      "primary_cleaner.state.floatbank8_b_level              14149 non-null float64\n",
      "primary_cleaner.state.floatbank8_c_air                14149 non-null float64\n",
      "primary_cleaner.state.floatbank8_c_level              14149 non-null float64\n",
      "primary_cleaner.state.floatbank8_d_air                14149 non-null float64\n",
      "primary_cleaner.state.floatbank8_d_level              14149 non-null float64\n",
      "rougher.calculation.sulfate_to_au_concentrate         14149 non-null float64\n",
      "rougher.calculation.floatbank10_sulfate_to_au_feed    14149 non-null float64\n",
      "rougher.calculation.floatbank11_sulfate_to_au_feed    14149 non-null float64\n",
      "rougher.calculation.au_pb_ratio                       14149 non-null float64\n",
      "rougher.input.feed_ag                                 14149 non-null float64\n",
      "rougher.input.feed_pb                                 14149 non-null float64\n",
      "rougher.input.feed_rate                               14149 non-null float64\n",
      "rougher.input.feed_size                               14149 non-null float64\n",
      "rougher.input.feed_sol                                14149 non-null float64\n",
      "rougher.input.feed_au                                 14149 non-null float64\n",
      "rougher.input.floatbank10_sulfate                     14149 non-null float64\n",
      "rougher.input.floatbank10_xanthate                    14149 non-null float64\n",
      "rougher.input.floatbank11_sulfate                     14149 non-null float64\n",
      "rougher.input.floatbank11_xanthate                    14149 non-null float64\n",
      "rougher.output.concentrate_ag                         14149 non-null float64\n",
      "rougher.output.concentrate_pb                         14149 non-null float64\n",
      "rougher.output.concentrate_sol                        14149 non-null float64\n",
      "rougher.output.concentrate_au                         14149 non-null float64\n",
      "rougher.output.recovery                               14149 non-null float64\n",
      "rougher.output.tail_ag                                14149 non-null float64\n",
      "rougher.output.tail_pb                                14149 non-null float64\n",
      "rougher.output.tail_sol                               14149 non-null float64\n",
      "rougher.output.tail_au                                14149 non-null float64\n",
      "rougher.state.floatbank10_a_air                       14149 non-null float64\n",
      "rougher.state.floatbank10_a_level                     14149 non-null float64\n",
      "rougher.state.floatbank10_b_air                       14149 non-null float64\n",
      "rougher.state.floatbank10_b_level                     14149 non-null float64\n",
      "rougher.state.floatbank10_c_air                       14149 non-null float64\n",
      "rougher.state.floatbank10_c_level                     14149 non-null float64\n",
      "rougher.state.floatbank10_d_air                       14149 non-null float64\n",
      "rougher.state.floatbank10_d_level                     14149 non-null float64\n",
      "rougher.state.floatbank10_e_air                       14149 non-null float64\n",
      "rougher.state.floatbank10_e_level                     14149 non-null float64\n",
      "rougher.state.floatbank10_f_air                       14149 non-null float64\n",
      "rougher.state.floatbank10_f_level                     14149 non-null float64\n",
      "secondary_cleaner.output.tail_ag                      14149 non-null float64\n",
      "secondary_cleaner.output.tail_pb                      14149 non-null float64\n",
      "secondary_cleaner.output.tail_sol                     14149 non-null float64\n",
      "secondary_cleaner.output.tail_au                      14149 non-null float64\n",
      "secondary_cleaner.state.floatbank2_a_air              14149 non-null float64\n",
      "secondary_cleaner.state.floatbank2_a_level            14149 non-null float64\n",
      "secondary_cleaner.state.floatbank2_b_air              14149 non-null float64\n",
      "secondary_cleaner.state.floatbank2_b_level            14149 non-null float64\n",
      "secondary_cleaner.state.floatbank3_a_air              14149 non-null float64\n",
      "secondary_cleaner.state.floatbank3_a_level            14149 non-null float64\n",
      "secondary_cleaner.state.floatbank3_b_air              14149 non-null float64\n",
      "secondary_cleaner.state.floatbank3_b_level            14149 non-null float64\n",
      "secondary_cleaner.state.floatbank4_a_air              14149 non-null float64\n",
      "secondary_cleaner.state.floatbank4_a_level            14149 non-null float64\n",
      "secondary_cleaner.state.floatbank4_b_air              14149 non-null float64\n",
      "secondary_cleaner.state.floatbank4_b_level            14149 non-null float64\n",
      "secondary_cleaner.state.floatbank5_a_air              14149 non-null float64\n",
      "secondary_cleaner.state.floatbank5_a_level            14149 non-null float64\n",
      "secondary_cleaner.state.floatbank5_b_air              14149 non-null float64\n",
      "secondary_cleaner.state.floatbank5_b_level            14149 non-null float64\n",
      "secondary_cleaner.state.floatbank6_a_air              14149 non-null float64\n",
      "secondary_cleaner.state.floatbank6_a_level            14149 non-null float64\n",
      "dtypes: float64(86), object(1)\n",
      "memory usage: 9.4+ MB\n"
     ]
    },
    {
     "data": {
      "text/plain": [
       "None"
      ]
     },
     "metadata": {},
     "output_type": "display_data"
    },
    {
     "name": "stdout",
     "output_type": "stream",
     "text": [
      "<class 'pandas.core.frame.DataFrame'>\n",
      "RangeIndex: 5290 entries, 0 to 5289\n",
      "Data columns (total 53 columns):\n",
      "date                                          5290 non-null object\n",
      "primary_cleaner.input.sulfate                 5290 non-null float64\n",
      "primary_cleaner.input.depressant              5290 non-null float64\n",
      "primary_cleaner.input.feed_size               5290 non-null float64\n",
      "primary_cleaner.input.xanthate                5290 non-null float64\n",
      "primary_cleaner.state.floatbank8_a_air        5290 non-null float64\n",
      "primary_cleaner.state.floatbank8_a_level      5290 non-null float64\n",
      "primary_cleaner.state.floatbank8_b_air        5290 non-null float64\n",
      "primary_cleaner.state.floatbank8_b_level      5290 non-null float64\n",
      "primary_cleaner.state.floatbank8_c_air        5290 non-null float64\n",
      "primary_cleaner.state.floatbank8_c_level      5290 non-null float64\n",
      "primary_cleaner.state.floatbank8_d_air        5290 non-null float64\n",
      "primary_cleaner.state.floatbank8_d_level      5290 non-null float64\n",
      "rougher.input.feed_ag                         5290 non-null float64\n",
      "rougher.input.feed_pb                         5290 non-null float64\n",
      "rougher.input.feed_rate                       5290 non-null float64\n",
      "rougher.input.feed_size                       5290 non-null float64\n",
      "rougher.input.feed_sol                        5290 non-null float64\n",
      "rougher.input.feed_au                         5290 non-null float64\n",
      "rougher.input.floatbank10_sulfate             5290 non-null float64\n",
      "rougher.input.floatbank10_xanthate            5290 non-null float64\n",
      "rougher.input.floatbank11_sulfate             5290 non-null float64\n",
      "rougher.input.floatbank11_xanthate            5290 non-null float64\n",
      "rougher.state.floatbank10_a_air               5290 non-null float64\n",
      "rougher.state.floatbank10_a_level             5290 non-null float64\n",
      "rougher.state.floatbank10_b_air               5290 non-null float64\n",
      "rougher.state.floatbank10_b_level             5290 non-null float64\n",
      "rougher.state.floatbank10_c_air               5290 non-null float64\n",
      "rougher.state.floatbank10_c_level             5290 non-null float64\n",
      "rougher.state.floatbank10_d_air               5290 non-null float64\n",
      "rougher.state.floatbank10_d_level             5290 non-null float64\n",
      "rougher.state.floatbank10_e_air               5290 non-null float64\n",
      "rougher.state.floatbank10_e_level             5290 non-null float64\n",
      "rougher.state.floatbank10_f_air               5290 non-null float64\n",
      "rougher.state.floatbank10_f_level             5290 non-null float64\n",
      "secondary_cleaner.state.floatbank2_a_air      5290 non-null float64\n",
      "secondary_cleaner.state.floatbank2_a_level    5290 non-null float64\n",
      "secondary_cleaner.state.floatbank2_b_air      5290 non-null float64\n",
      "secondary_cleaner.state.floatbank2_b_level    5290 non-null float64\n",
      "secondary_cleaner.state.floatbank3_a_air      5290 non-null float64\n",
      "secondary_cleaner.state.floatbank3_a_level    5290 non-null float64\n",
      "secondary_cleaner.state.floatbank3_b_air      5290 non-null float64\n",
      "secondary_cleaner.state.floatbank3_b_level    5290 non-null float64\n",
      "secondary_cleaner.state.floatbank4_a_air      5290 non-null float64\n",
      "secondary_cleaner.state.floatbank4_a_level    5290 non-null float64\n",
      "secondary_cleaner.state.floatbank4_b_air      5290 non-null float64\n",
      "secondary_cleaner.state.floatbank4_b_level    5290 non-null float64\n",
      "secondary_cleaner.state.floatbank5_a_air      5290 non-null float64\n",
      "secondary_cleaner.state.floatbank5_a_level    5290 non-null float64\n",
      "secondary_cleaner.state.floatbank5_b_air      5290 non-null float64\n",
      "secondary_cleaner.state.floatbank5_b_level    5290 non-null float64\n",
      "secondary_cleaner.state.floatbank6_a_air      5290 non-null float64\n",
      "secondary_cleaner.state.floatbank6_a_level    5290 non-null float64\n",
      "dtypes: float64(52), object(1)\n",
      "memory usage: 2.1+ MB\n"
     ]
    },
    {
     "data": {
      "text/plain": [
       "None"
      ]
     },
     "metadata": {},
     "output_type": "display_data"
    },
    {
     "name": "stdout",
     "output_type": "stream",
     "text": [
      "<class 'pandas.core.frame.DataFrame'>\n",
      "RangeIndex: 19439 entries, 0 to 19438\n",
      "Data columns (total 87 columns):\n",
      "date                                                  19439 non-null object\n",
      "final.output.concentrate_ag                           19439 non-null float64\n",
      "final.output.concentrate_pb                           19439 non-null float64\n",
      "final.output.concentrate_sol                          19439 non-null float64\n",
      "final.output.concentrate_au                           19439 non-null float64\n",
      "final.output.recovery                                 19439 non-null float64\n",
      "final.output.tail_ag                                  19439 non-null float64\n",
      "final.output.tail_pb                                  19439 non-null float64\n",
      "final.output.tail_sol                                 19439 non-null float64\n",
      "final.output.tail_au                                  19439 non-null float64\n",
      "primary_cleaner.input.sulfate                         19439 non-null float64\n",
      "primary_cleaner.input.depressant                      19439 non-null float64\n",
      "primary_cleaner.input.feed_size                       19439 non-null float64\n",
      "primary_cleaner.input.xanthate                        19439 non-null float64\n",
      "primary_cleaner.output.concentrate_ag                 19439 non-null float64\n",
      "primary_cleaner.output.concentrate_pb                 19439 non-null float64\n",
      "primary_cleaner.output.concentrate_sol                19439 non-null float64\n",
      "primary_cleaner.output.concentrate_au                 19439 non-null float64\n",
      "primary_cleaner.output.tail_ag                        19439 non-null float64\n",
      "primary_cleaner.output.tail_pb                        19439 non-null float64\n",
      "primary_cleaner.output.tail_sol                       19439 non-null float64\n",
      "primary_cleaner.output.tail_au                        19439 non-null float64\n",
      "primary_cleaner.state.floatbank8_a_air                19439 non-null float64\n",
      "primary_cleaner.state.floatbank8_a_level              19439 non-null float64\n",
      "primary_cleaner.state.floatbank8_b_air                19439 non-null float64\n",
      "primary_cleaner.state.floatbank8_b_level              19439 non-null float64\n",
      "primary_cleaner.state.floatbank8_c_air                19439 non-null float64\n",
      "primary_cleaner.state.floatbank8_c_level              19439 non-null float64\n",
      "primary_cleaner.state.floatbank8_d_air                19439 non-null float64\n",
      "primary_cleaner.state.floatbank8_d_level              19439 non-null float64\n",
      "rougher.calculation.sulfate_to_au_concentrate         19439 non-null float64\n",
      "rougher.calculation.floatbank10_sulfate_to_au_feed    19439 non-null float64\n",
      "rougher.calculation.floatbank11_sulfate_to_au_feed    19439 non-null float64\n",
      "rougher.calculation.au_pb_ratio                       19439 non-null float64\n",
      "rougher.input.feed_ag                                 19439 non-null float64\n",
      "rougher.input.feed_pb                                 19439 non-null float64\n",
      "rougher.input.feed_rate                               19439 non-null float64\n",
      "rougher.input.feed_size                               19439 non-null float64\n",
      "rougher.input.feed_sol                                19439 non-null float64\n",
      "rougher.input.feed_au                                 19439 non-null float64\n",
      "rougher.input.floatbank10_sulfate                     19439 non-null float64\n",
      "rougher.input.floatbank10_xanthate                    19439 non-null float64\n",
      "rougher.input.floatbank11_sulfate                     19439 non-null float64\n",
      "rougher.input.floatbank11_xanthate                    19439 non-null float64\n",
      "rougher.output.concentrate_ag                         19439 non-null float64\n",
      "rougher.output.concentrate_pb                         19439 non-null float64\n",
      "rougher.output.concentrate_sol                        19439 non-null float64\n",
      "rougher.output.concentrate_au                         19439 non-null float64\n",
      "rougher.output.recovery                               19439 non-null float64\n",
      "rougher.output.tail_ag                                19439 non-null float64\n",
      "rougher.output.tail_pb                                19439 non-null float64\n",
      "rougher.output.tail_sol                               19439 non-null float64\n",
      "rougher.output.tail_au                                19439 non-null float64\n",
      "rougher.state.floatbank10_a_air                       19439 non-null float64\n",
      "rougher.state.floatbank10_a_level                     19439 non-null float64\n",
      "rougher.state.floatbank10_b_air                       19439 non-null float64\n",
      "rougher.state.floatbank10_b_level                     19439 non-null float64\n",
      "rougher.state.floatbank10_c_air                       19439 non-null float64\n",
      "rougher.state.floatbank10_c_level                     19439 non-null float64\n",
      "rougher.state.floatbank10_d_air                       19439 non-null float64\n",
      "rougher.state.floatbank10_d_level                     19439 non-null float64\n",
      "rougher.state.floatbank10_e_air                       19439 non-null float64\n",
      "rougher.state.floatbank10_e_level                     19439 non-null float64\n",
      "rougher.state.floatbank10_f_air                       19439 non-null float64\n",
      "rougher.state.floatbank10_f_level                     19439 non-null float64\n",
      "secondary_cleaner.output.tail_ag                      19439 non-null float64\n",
      "secondary_cleaner.output.tail_pb                      19439 non-null float64\n",
      "secondary_cleaner.output.tail_sol                     19439 non-null float64\n",
      "secondary_cleaner.output.tail_au                      19439 non-null float64\n",
      "secondary_cleaner.state.floatbank2_a_air              19439 non-null float64\n",
      "secondary_cleaner.state.floatbank2_a_level            19439 non-null float64\n",
      "secondary_cleaner.state.floatbank2_b_air              19439 non-null float64\n",
      "secondary_cleaner.state.floatbank2_b_level            19439 non-null float64\n",
      "secondary_cleaner.state.floatbank3_a_air              19439 non-null float64\n",
      "secondary_cleaner.state.floatbank3_a_level            19439 non-null float64\n",
      "secondary_cleaner.state.floatbank3_b_air              19439 non-null float64\n",
      "secondary_cleaner.state.floatbank3_b_level            19439 non-null float64\n",
      "secondary_cleaner.state.floatbank4_a_air              19439 non-null float64\n",
      "secondary_cleaner.state.floatbank4_a_level            19439 non-null float64\n",
      "secondary_cleaner.state.floatbank4_b_air              19439 non-null float64\n",
      "secondary_cleaner.state.floatbank4_b_level            19439 non-null float64\n",
      "secondary_cleaner.state.floatbank5_a_air              19439 non-null float64\n",
      "secondary_cleaner.state.floatbank5_a_level            19439 non-null float64\n",
      "secondary_cleaner.state.floatbank5_b_air              19439 non-null float64\n",
      "secondary_cleaner.state.floatbank5_b_level            19439 non-null float64\n",
      "secondary_cleaner.state.floatbank6_a_air              19439 non-null float64\n",
      "secondary_cleaner.state.floatbank6_a_level            19439 non-null float64\n",
      "dtypes: float64(86), object(1)\n",
      "memory usage: 12.9+ MB\n"
     ]
    },
    {
     "data": {
      "text/plain": [
       "None"
      ]
     },
     "metadata": {},
     "output_type": "display_data"
    }
   ],
   "source": [
    "# В связи с тем, что данные в соседних строках близки по значениям, заполним нулевые данные значениями из соседних строк\n",
    "for file in datas:\n",
    "    file.ffill(axis = 0, inplace = True)\n",
    "    display(file.info())"
   ]
  },
  {
   "cell_type": "code",
   "execution_count": 4,
   "metadata": {},
   "outputs": [
    {
     "data": {
      "text/plain": [
       "0    87.107763\n",
       "1    86.843261\n",
       "2    86.842308\n",
       "3    87.226430\n",
       "4    86.688794\n",
       "Name: rougher.output.recovery, dtype: float64"
      ]
     },
     "metadata": {},
     "output_type": "display_data"
    },
    {
     "data": {
      "text/plain": [
       "0    87.107763\n",
       "1    86.843261\n",
       "2    86.842308\n",
       "3    87.226430\n",
       "4    86.688794\n",
       "dtype: float64"
      ]
     },
     "metadata": {},
     "output_type": "display_data"
    },
    {
     "name": "stdout",
     "output_type": "stream",
     "text": [
      "Средняя эффективность обогащения золота заданная 82.70450164550293\n",
      "Средняя эффективность обогащения золота рассчитанная 82.70450164550293\n",
      "Среднее абсолютное отклонение 1.1417477403204992e-14\n"
     ]
    }
   ],
   "source": [
    "# Вычислим эффективность обогащения золота на обучающей выборке. Найдем MAE между нашими расчётами и значением признака\n",
    "# в обучающей выборке\n",
    "\n",
    "C = df_train['rougher.output.concentrate_au']\n",
    "F = df_train['rougher.input.feed_au']\n",
    "T = df_train['rougher.output.tail_au']\n",
    "\n",
    "rougher_output_recovery = pd.Series(C*(F-T)*100/F/(C-T))\n",
    "\n",
    "display(df_train['rougher.output.recovery'].head())\n",
    "display(rougher_output_recovery.head())\n",
    "\n",
    "# Рассчитам среднюю эффективность обогащения золота\n",
    "print('Средняя эффективность обогащения золота заданная', df_train['rougher.output.recovery'].mean())\n",
    "print('Средняя эффективность обогащения золота рассчитанная', rougher_output_recovery.mean())\n",
    "\n",
    "print('Среднее абсолютное отклонение', mean_absolute_error(df_train['rougher.output.recovery'], rougher_output_recovery))"
   ]
  },
  {
   "cell_type": "markdown",
   "metadata": {},
   "source": [
    "**Вывод**\n",
    "\n",
    "Мы провели предобработку данных: заполнили нулевые значения данными соседних строк. Далее посчитали эффективность обогащения золота. Средние значения оказались равны. Среднее абсолютное отклонение близко к нулю и возникло, скорее всего, в результате заполнения нулевых значений неточными данными. Можно сделать вывод, что среднее абсолютное отклонение в заданной таблице рассчитано верно.\n",
    "\n",
    "Мы видим, что в тестовой выборке отсутствуют значения параметров, получаемых в результате обогащения руды на различных этапах, а также расчетные параметры. Т.е. из четырех возможных этапов отсутствует final, а из четырех типов параметра отсутствуют output и calculation."
   ]
  },
  {
   "cell_type": "markdown",
   "metadata": {},
   "source": [
    "Отсутствующие признаки являются результатом работы по обогащению руды. Для обучения модели в тренировочной выборке столбцы с указанными признаками необходимо будет удалить."
   ]
  },
  {
   "cell_type": "markdown",
   "metadata": {},
   "source": [
    "## Анализ данных"
   ]
  },
  {
   "cell_type": "code",
   "execution_count": 5,
   "metadata": {},
   "outputs": [
    {
     "name": "stdout",
     "output_type": "stream",
     "text": [
      "Золото\n",
      "7.866576841919407\n",
      "19.43995785143646\n",
      "32.386835978391346\n",
      "44.00379162105571\n",
      "\n",
      "Серебро\n",
      "8.579195196596277\n",
      "11.775812314356036\n",
      "8.200915815165981\n",
      "5.141920924857091\n",
      "\n",
      "Свинец\n",
      "3.5054646776095564\n",
      "7.664554751481546\n",
      "9.568544006770484\n",
      "10.132847758146394\n",
      "\n"
     ]
    }
   ],
   "source": [
    "# Посмотрим, как меняется концентрация металлов (Au, Ag, Pb) на различных этапах очистки.\n",
    "print('Золото')\n",
    "print(df_train['rougher.input.feed_au'].mean())\n",
    "print(df_train['rougher.output.concentrate_au'].mean())\n",
    "print(df_train['primary_cleaner.output.concentrate_au'].mean())\n",
    "print(df_train['final.output.concentrate_au'].mean())\n",
    "print()\n",
    "\n",
    "print('Серебро')\n",
    "print(df_train['rougher.input.feed_ag'].mean())\n",
    "print(df_train['rougher.output.concentrate_ag'].mean())\n",
    "print(df_train['primary_cleaner.output.concentrate_ag'].mean())\n",
    "print(df_train['final.output.concentrate_ag'].mean())\n",
    "print()\n",
    "\n",
    "print('Свинец')\n",
    "print(df_train['rougher.input.feed_pb'].mean())\n",
    "print(df_train['rougher.output.concentrate_pb'].mean())\n",
    "print(df_train['primary_cleaner.output.concentrate_pb'].mean())\n",
    "print(df_train['final.output.concentrate_pb'].mean())\n",
    "print()"
   ]
  },
  {
   "cell_type": "markdown",
   "metadata": {},
   "source": [
    "**Вывод**\n",
    "\n",
    "Рассчитав среднюю концентрация металлов на различных этапах очистки, мы видим, что концентрация золота существенно растет от этапа к этапу, концентрация серебра сначала несущественно растет, потом снижается, концентрация свинца растет, но не значительно."
   ]
  },
  {
   "cell_type": "code",
   "execution_count": 6,
   "metadata": {},
   "outputs": [
    {
     "name": "stdout",
     "output_type": "stream",
     "text": [
      "56.24216956828632\n",
      "67.17314539700826\n",
      "60.17254606958831\n",
      "68.387871746922\n"
     ]
    }
   ],
   "source": [
    "# Исследуем суммарную концентрацию всех веществ на разных стадиях.\n",
    "print((df_train['rougher.input.feed_au']+df_train['rougher.input.feed_ag']+\n",
    "       df_train['rougher.input.feed_pb']+df_train['rougher.input.feed_sol']).mean())\n",
    "\n",
    "print((df_train['rougher.output.concentrate_au']+df_train['rougher.output.concentrate_ag']+\n",
    "       df_train['rougher.output.concentrate_pb']+df_train['rougher.output.concentrate_sol']).mean())\n",
    "\n",
    "print((df_train['primary_cleaner.output.concentrate_au']+df_train['primary_cleaner.output.concentrate_ag']+\n",
    "       df_train['primary_cleaner.output.concentrate_pb']+df_train['primary_cleaner.output.concentrate_sol']).mean())\n",
    "\n",
    "print((df_train['final.output.concentrate_au']+df_train['final.output.concentrate_ag']+\n",
    "       df_train['final.output.concentrate_pb']+df_train['final.output.concentrate_sol']).mean())"
   ]
  },
  {
   "cell_type": "markdown",
   "metadata": {},
   "source": [
    "**Вывод**\n",
    "\n",
    "Проанализировав суммарную концентрацию всех веществ на разных стадиях мы видим, что после проведения первой стадии очистки суммарная концентрация снижается, однако затем вновь возрастает после финальной стадии очистки."
   ]
  },
  {
   "cell_type": "code",
   "execution_count": 7,
   "metadata": {},
   "outputs": [
    {
     "data": {
      "text/plain": [
       "<matplotlib.axes._subplots.AxesSubplot at 0x7fe5d3c34b90>"
      ]
     },
     "execution_count": 7,
     "metadata": {},
     "output_type": "execute_result"
    },
    {
     "data": {
      "image/png": "[encoded data removed]",
      "text/plain": [
       "<Figure size 432x288 with 1 Axes>"
      ]
     },
     "metadata": {
      "needs_background": "light"
     },
     "output_type": "display_data"
    }
   ],
   "source": [
    "# Проанализируем диаграммы распределения размеров гранул сырья на обучающей и тестовой выборках.\n",
    "df_train['rougher.input.feed_size'].hist(bins = 200, range=(20, 100))\n",
    "df_test['rougher.input.feed_size'].hist(bins = 200, range=(20, 100))\n",
    "\n"
   ]
  },
  {
   "cell_type": "code",
   "execution_count": 8,
   "metadata": {},
   "outputs": [
    {
     "data": {
      "text/plain": [
       "<matplotlib.axes._subplots.AxesSubplot at 0x7fe5d2ccdb10>"
      ]
     },
     "execution_count": 8,
     "metadata": {},
     "output_type": "execute_result"
    },
    {
     "data": {
      "image/png": "[encoded data removed]",
      "text/plain": [
       "<Figure size 432x288 with 1 Axes>"
      ]
     },
     "metadata": {
      "needs_background": "light"
     },
     "output_type": "display_data"
    }
   ],
   "source": [
    "df_train['primary_cleaner.input.feed_size'].hist(bins = 100, range=(5, 9))\n",
    "df_test['primary_cleaner.input.feed_size'].hist(bins = 100, range=(5, 9))"
   ]
  },
  {
   "cell_type": "markdown",
   "metadata": {},
   "source": [
    "**Вывод**\n",
    "\n",
    "Проанализированы диаграммы распределения размеров гранул сырья на обучающей и тестовой выборках. Мы видим, что набор данных в обоих случаях скошен вправо. Диаграммы похожи, следовательно, распределения не сильно отличаются друг от друга, оценка модели будет правильной."
   ]
  },
  {
   "cell_type": "markdown",
   "metadata": {},
   "source": [
    "## Модель"
   ]
  },
  {
   "cell_type": "code",
   "execution_count": 9,
   "metadata": {},
   "outputs": [],
   "source": [
    "# Функция расчета smape\n",
    "def smape(target, predict): \n",
    "    return (100/len(target)) * np.sum(2 * np.abs(target - predict) / (np.abs(target) + np.abs(predict)))\n",
    "\n",
    "# Создадим свою метрику\n",
    "smape_scorer = make_scorer(smape, greater_is_better=True)"
   ]
  },
  {
   "cell_type": "code",
   "execution_count": 10,
   "metadata": {},
   "outputs": [
    {
     "name": "stdout",
     "output_type": "stream",
     "text": [
      "<class 'pandas.core.frame.DataFrame'>\n",
      "Int64Index: 5290 entries, 0 to 5289\n",
      "Data columns (total 55 columns):\n",
      "date                                          5290 non-null object\n",
      "primary_cleaner.input.sulfate                 5290 non-null float64\n",
      "primary_cleaner.input.depressant              5290 non-null float64\n",
      "primary_cleaner.input.feed_size               5290 non-null float64\n",
      "primary_cleaner.input.xanthate                5290 non-null float64\n",
      "primary_cleaner.state.floatbank8_a_air        5290 non-null float64\n",
      "primary_cleaner.state.floatbank8_a_level      5290 non-null float64\n",
      "primary_cleaner.state.floatbank8_b_air        5290 non-null float64\n",
      "primary_cleaner.state.floatbank8_b_level      5290 non-null float64\n",
      "primary_cleaner.state.floatbank8_c_air        5290 non-null float64\n",
      "primary_cleaner.state.floatbank8_c_level      5290 non-null float64\n",
      "primary_cleaner.state.floatbank8_d_air        5290 non-null float64\n",
      "primary_cleaner.state.floatbank8_d_level      5290 non-null float64\n",
      "rougher.input.feed_ag                         5290 non-null float64\n",
      "rougher.input.feed_pb                         5290 non-null float64\n",
      "rougher.input.feed_rate                       5290 non-null float64\n",
      "rougher.input.feed_size                       5290 non-null float64\n",
      "rougher.input.feed_sol                        5290 non-null float64\n",
      "rougher.input.feed_au                         5290 non-null float64\n",
      "rougher.input.floatbank10_sulfate             5290 non-null float64\n",
      "rougher.input.floatbank10_xanthate            5290 non-null float64\n",
      "rougher.input.floatbank11_sulfate             5290 non-null float64\n",
      "rougher.input.floatbank11_xanthate            5290 non-null float64\n",
      "rougher.state.floatbank10_a_air               5290 non-null float64\n",
      "rougher.state.floatbank10_a_level             5290 non-null float64\n",
      "rougher.state.floatbank10_b_air               5290 non-null float64\n",
      "rougher.state.floatbank10_b_level             5290 non-null float64\n",
      "rougher.state.floatbank10_c_air               5290 non-null float64\n",
      "rougher.state.floatbank10_c_level             5290 non-null float64\n",
      "rougher.state.floatbank10_d_air               5290 non-null float64\n",
      "rougher.state.floatbank10_d_level             5290 non-null float64\n",
      "rougher.state.floatbank10_e_air               5290 non-null float64\n",
      "rougher.state.floatbank10_e_level             5290 non-null float64\n",
      "rougher.state.floatbank10_f_air               5290 non-null float64\n",
      "rougher.state.floatbank10_f_level             5290 non-null float64\n",
      "secondary_cleaner.state.floatbank2_a_air      5290 non-null float64\n",
      "secondary_cleaner.state.floatbank2_a_level    5290 non-null float64\n",
      "secondary_cleaner.state.floatbank2_b_air      5290 non-null float64\n",
      "secondary_cleaner.state.floatbank2_b_level    5290 non-null float64\n",
      "secondary_cleaner.state.floatbank3_a_air      5290 non-null float64\n",
      "secondary_cleaner.state.floatbank3_a_level    5290 non-null float64\n",
      "secondary_cleaner.state.floatbank3_b_air      5290 non-null float64\n",
      "secondary_cleaner.state.floatbank3_b_level    5290 non-null float64\n",
      "secondary_cleaner.state.floatbank4_a_air      5290 non-null float64\n",
      "secondary_cleaner.state.floatbank4_a_level    5290 non-null float64\n",
      "secondary_cleaner.state.floatbank4_b_air      5290 non-null float64\n",
      "secondary_cleaner.state.floatbank4_b_level    5290 non-null float64\n",
      "secondary_cleaner.state.floatbank5_a_air      5290 non-null float64\n",
      "secondary_cleaner.state.floatbank5_a_level    5290 non-null float64\n",
      "secondary_cleaner.state.floatbank5_b_air      5290 non-null float64\n",
      "secondary_cleaner.state.floatbank5_b_level    5290 non-null float64\n",
      "secondary_cleaner.state.floatbank6_a_air      5290 non-null float64\n",
      "secondary_cleaner.state.floatbank6_a_level    5290 non-null float64\n",
      "rougher.output.recovery                       5290 non-null float64\n",
      "final.output.recovery                         5290 non-null float64\n",
      "dtypes: float64(54), object(1)\n",
      "memory usage: 2.3+ MB\n",
      "<class 'pandas.core.frame.DataFrame'>\n",
      "RangeIndex: 14149 entries, 0 to 14148\n",
      "Data columns (total 55 columns):\n",
      "date                                          14149 non-null object\n",
      "primary_cleaner.input.sulfate                 14149 non-null float64\n",
      "primary_cleaner.input.depressant              14149 non-null float64\n",
      "primary_cleaner.input.feed_size               14149 non-null float64\n",
      "primary_cleaner.input.xanthate                14149 non-null float64\n",
      "primary_cleaner.state.floatbank8_a_air        14149 non-null float64\n",
      "primary_cleaner.state.floatbank8_a_level      14149 non-null float64\n",
      "primary_cleaner.state.floatbank8_b_air        14149 non-null float64\n",
      "primary_cleaner.state.floatbank8_b_level      14149 non-null float64\n",
      "primary_cleaner.state.floatbank8_c_air        14149 non-null float64\n",
      "primary_cleaner.state.floatbank8_c_level      14149 non-null float64\n",
      "primary_cleaner.state.floatbank8_d_air        14149 non-null float64\n",
      "primary_cleaner.state.floatbank8_d_level      14149 non-null float64\n",
      "rougher.input.feed_ag                         14149 non-null float64\n",
      "rougher.input.feed_pb                         14149 non-null float64\n",
      "rougher.input.feed_rate                       14149 non-null float64\n",
      "rougher.input.feed_size                       14149 non-null float64\n",
      "rougher.input.feed_sol                        14149 non-null float64\n",
      "rougher.input.feed_au                         14149 non-null float64\n",
      "rougher.input.floatbank10_sulfate             14149 non-null float64\n",
      "rougher.input.floatbank10_xanthate            14149 non-null float64\n",
      "rougher.input.floatbank11_sulfate             14149 non-null float64\n",
      "rougher.input.floatbank11_xanthate            14149 non-null float64\n",
      "rougher.state.floatbank10_a_air               14149 non-null float64\n",
      "rougher.state.floatbank10_a_level             14149 non-null float64\n",
      "rougher.state.floatbank10_b_air               14149 non-null float64\n",
      "rougher.state.floatbank10_b_level             14149 non-null float64\n",
      "rougher.state.floatbank10_c_air               14149 non-null float64\n",
      "rougher.state.floatbank10_c_level             14149 non-null float64\n",
      "rougher.state.floatbank10_d_air               14149 non-null float64\n",
      "rougher.state.floatbank10_d_level             14149 non-null float64\n",
      "rougher.state.floatbank10_e_air               14149 non-null float64\n",
      "rougher.state.floatbank10_e_level             14149 non-null float64\n",
      "rougher.state.floatbank10_f_air               14149 non-null float64\n",
      "rougher.state.floatbank10_f_level             14149 non-null float64\n",
      "secondary_cleaner.state.floatbank2_a_air      14149 non-null float64\n",
      "secondary_cleaner.state.floatbank2_a_level    14149 non-null float64\n",
      "secondary_cleaner.state.floatbank2_b_air      14149 non-null float64\n",
      "secondary_cleaner.state.floatbank2_b_level    14149 non-null float64\n",
      "secondary_cleaner.state.floatbank3_a_air      14149 non-null float64\n",
      "secondary_cleaner.state.floatbank3_a_level    14149 non-null float64\n",
      "secondary_cleaner.state.floatbank3_b_air      14149 non-null float64\n",
      "secondary_cleaner.state.floatbank3_b_level    14149 non-null float64\n",
      "secondary_cleaner.state.floatbank4_a_air      14149 non-null float64\n",
      "secondary_cleaner.state.floatbank4_a_level    14149 non-null float64\n",
      "secondary_cleaner.state.floatbank4_b_air      14149 non-null float64\n",
      "secondary_cleaner.state.floatbank4_b_level    14149 non-null float64\n",
      "secondary_cleaner.state.floatbank5_a_air      14149 non-null float64\n",
      "secondary_cleaner.state.floatbank5_a_level    14149 non-null float64\n",
      "secondary_cleaner.state.floatbank5_b_air      14149 non-null float64\n",
      "secondary_cleaner.state.floatbank5_b_level    14149 non-null float64\n",
      "secondary_cleaner.state.floatbank6_a_air      14149 non-null float64\n",
      "secondary_cleaner.state.floatbank6_a_level    14149 non-null float64\n",
      "rougher.output.recovery                       14149 non-null float64\n",
      "final.output.recovery                         14149 non-null float64\n",
      "dtypes: float64(54), object(1)\n",
      "memory usage: 5.9+ MB\n"
     ]
    }
   ],
   "source": [
    "# Дополним тестовую таблицу недостающими целевыми параметрами rougher.output.recovery и final.output.recovery.\n",
    "df_test = df_test.merge(df_full[['date', 'rougher.output.recovery','final.output.recovery']], on='date')\n",
    "df_test.info()\n",
    "\n",
    "# Оставим в обучающей выборке те столбцы, которые есть в тестовой\n",
    "df_train = df_train[df_test.columns]\n",
    "df_train.info()"
   ]
  },
  {
   "cell_type": "code",
   "execution_count": 11,
   "metadata": {},
   "outputs": [],
   "source": [
    "# Сформируем выборки для целевого параметра rougher.output.recovery\n",
    "features_1 = df_train.loc[:, 'rougher.input.feed_ag': 'rougher.state.floatbank10_f_level']\n",
    "target_1 = df_train['rougher.output.recovery']"
   ]
  },
  {
   "cell_type": "code",
   "execution_count": 12,
   "metadata": {},
   "outputs": [
    {
     "data": {
      "text/plain": [
       "{'max_depth': 130}"
      ]
     },
     "execution_count": 12,
     "metadata": {},
     "output_type": "execute_result"
    }
   ],
   "source": [
    "# Найдем лучшие гиперпараметры для модели\n",
    "model = DecisionTreeRegressor()\n",
    "parameters = {'max_depth':[125,128,129,130,131,132,133,135,140,150]}\n",
    " \n",
    "grid = GridSearchCV(model, parameters, cv = 5, scoring = smape_scorer)\n",
    "grid.fit(features_1, target_1)\n",
    "\n",
    "grid.best_params_"
   ]
  },
  {
   "cell_type": "code",
   "execution_count": 13,
   "metadata": {},
   "outputs": [
    {
     "data": {
      "text/plain": [
       "{'max_depth': 11, 'n_estimators': 50}"
      ]
     },
     "execution_count": 13,
     "metadata": {},
     "output_type": "execute_result"
    }
   ],
   "source": [
    "# Найдем лучшие гиперпараметры для модели\n",
    "model = RandomForestRegressor()\n",
    "\n",
    "parametrs = { 'n_estimators': range (30, 51, 10),\n",
    "              'max_depth': range (9,13, 2) }\n",
    "\n",
    "grid = GridSearchCV(model, parametrs, cv=5, scoring = smape_scorer)\n",
    "grid.fit(features_1, target_1)\n",
    "\n",
    "grid.best_params_"
   ]
  },
  {
   "cell_type": "code",
   "execution_count": 14,
   "metadata": {},
   "outputs": [
    {
     "data": {
      "text/plain": [
       "{'copy_X': True, 'fit_intercept': False, 'n_jobs': None}"
      ]
     },
     "execution_count": 14,
     "metadata": {},
     "output_type": "execute_result"
    }
   ],
   "source": [
    "# Найдем лучшие гиперпараметры для модели\n",
    "model = LinearRegression()\n",
    "parametrs = {'fit_intercept' : [True, False], 'copy_X': [True, False], 'n_jobs' :[None, -1]}\n",
    "\n",
    "grid = GridSearchCV(estimator = model, param_grid = parametrs, cv = 5, scoring = smape_scorer)\n",
    "grid.fit(features_1, target_1)\n",
    "\n",
    "grid.best_params_"
   ]
  },
  {
   "cell_type": "code",
   "execution_count": 15,
   "metadata": {},
   "outputs": [],
   "source": [
    "# Сформируем выборки для целевого параметра final.output.recovery\n",
    "features_2 = df_train.drop(['date', 'rougher.output.recovery', 'final.output.recovery'], axis=1)\n",
    "target_2 = df_train['final.output.recovery']"
   ]
  },
  {
   "cell_type": "code",
   "execution_count": 16,
   "metadata": {},
   "outputs": [
    {
     "data": {
      "text/plain": [
       "{'max_depth': 163}"
      ]
     },
     "execution_count": 16,
     "metadata": {},
     "output_type": "execute_result"
    }
   ],
   "source": [
    "# Найдем лучшие гиперпараметры для модели\n",
    "model = DecisionTreeRegressor()\n",
    "parameters = {'max_depth':[160,161,162,163,164]}\n",
    " \n",
    "grid = GridSearchCV(model, parameters, cv = 5, scoring = smape_scorer)\n",
    "grid.fit(features_2, target_2)\n",
    "\n",
    "grid.best_params_"
   ]
  },
  {
   "cell_type": "code",
   "execution_count": 17,
   "metadata": {},
   "outputs": [
    {
     "data": {
      "text/plain": [
       "{'max_depth': 7, 'n_estimators': 20}"
      ]
     },
     "execution_count": 17,
     "metadata": {},
     "output_type": "execute_result"
    }
   ],
   "source": [
    "# Найдем лучшие гиперпараметры для модели\n",
    "model = RandomForestRegressor()\n",
    "\n",
    "parametrs = { 'n_estimators': range (10, 31, 10),\n",
    "              'max_depth': range (5,11, 2) }\n",
    "\n",
    "grid = GridSearchCV(model, parametrs, cv=5, scoring = smape_scorer)\n",
    "grid.fit(features_2, target_2)\n",
    "\n",
    "grid.best_params_"
   ]
  },
  {
   "cell_type": "code",
   "execution_count": 18,
   "metadata": {},
   "outputs": [
    {
     "data": {
      "text/plain": [
       "{'copy_X': True, 'fit_intercept': True, 'n_jobs': None}"
      ]
     },
     "execution_count": 18,
     "metadata": {},
     "output_type": "execute_result"
    }
   ],
   "source": [
    "# Найдем лучшие гиперпараметры для модели\n",
    "model = LinearRegression()\n",
    "parametrs = {'fit_intercept' : [True, False], 'copy_X': [True, False], 'n_jobs' :[None, -1]}\n",
    "\n",
    "grid = GridSearchCV(estimator = model, param_grid = parametrs, cv = 5, scoring = smape_scorer)\n",
    "grid.fit(features_2, target_2)\n",
    "\n",
    "grid.best_params_"
   ]
  },
  {
   "cell_type": "code",
   "execution_count": 19,
   "metadata": {},
   "outputs": [
    {
     "name": "stdout",
     "output_type": "stream",
     "text": [
      "DecisionTreeRegressor 9.00405074639054\n",
      "RandomForestRegressor 9.451898554652793\n",
      "LinearRegression 11.634562902094572\n"
     ]
    }
   ],
   "source": [
    "# Посчитаем smape моделей с лучшими гиперпараметрами для целевого признака rougher.output.recovery\n",
    "features_train, features_valid, target_train, target_valid = train_test_split(\n",
    "    features_1, target_1, test_size=0.25, random_state=12345)\n",
    "\n",
    "model_1_1 = DecisionTreeRegressor(random_state=12345, max_depth=130) \n",
    "model_1_1.fit(features_train, target_train)\n",
    "predictions_valid = model_1_1.predict(features_valid)\n",
    "\n",
    "result_1_1 = smape(target_valid, predictions_valid)\n",
    "print('DecisionTreeRegressor', result_1_1)\n",
    "\n",
    "\n",
    "model_1_2 = RandomForestRegressor(random_state=12345, n_estimators=40, max_depth=11)\n",
    "model_1_2.fit(features_train, target_train)\n",
    "predictions_valid = model_1_2.predict(features_valid)\n",
    "\n",
    "result_1_2 = smape(target_valid, predictions_valid)\n",
    "print('RandomForestRegressor', result_1_2)\n",
    "\n",
    "\n",
    "model_1_3 = LinearRegression(copy_X=True, fit_intercept=False, n_jobs=None)\n",
    "model_1_3.fit(features_train, target_train)\n",
    "predictions_valid = model_1_3.predict(features_valid)\n",
    "\n",
    "result_1_3 = smape(target_valid, predictions_valid)\n",
    "print('LinearRegression',result_1_3)"
   ]
  },
  {
   "cell_type": "code",
   "execution_count": 20,
   "metadata": {},
   "outputs": [
    {
     "name": "stdout",
     "output_type": "stream",
     "text": [
      "DecisionTreeRegressor 9.612786396204722\n",
      "RandomForestRegressor 7.692003067287705\n",
      "LinearRegression 8.596337649103136\n"
     ]
    }
   ],
   "source": [
    "# Посчитаем smape моделей с лучшими гиперпараметрами для целевого признака final.output.recovery\n",
    "features_train, features_valid, target_train, target_valid = train_test_split(\n",
    "    features_2, target_2, test_size=0.25, random_state=12345)\n",
    "\n",
    "model_2_1 = DecisionTreeRegressor(random_state=12345, max_depth=161) \n",
    "model_2_1.fit(features_train, target_train)\n",
    "predictions_valid = model_2_1.predict(features_valid)\n",
    "\n",
    "result_2_1 = smape(target_valid, predictions_valid)\n",
    "print('DecisionTreeRegressor', result_2_1)\n",
    "\n",
    "\n",
    "model_2_2 = RandomForestRegressor(random_state=12345, n_estimators=10, max_depth=7)\n",
    "model_2_2.fit(features_train, target_train)\n",
    "predictions_valid = model_2_2.predict(features_valid)\n",
    "\n",
    "result_2_2 = smape(target_valid, predictions_valid)\n",
    "print('RandomForestRegressor', result_2_2)\n",
    "\n",
    "\n",
    "model_2_3 = LinearRegression(copy_X=True, fit_intercept=True, n_jobs=None)\n",
    "model_2_3.fit(features_train, target_train)\n",
    "predictions_valid = model_2_3.predict(features_valid)\n",
    "\n",
    "result_2_3 = smape(target_valid, predictions_valid)\n",
    "print('LinearRegression', result_2_3)"
   ]
  },
  {
   "cell_type": "code",
   "execution_count": 21,
   "metadata": {},
   "outputs": [
    {
     "name": "stdout",
     "output_type": "stream",
     "text": [
      "Итоговый smape для тренировочной выборки: 8.020014987063414\n"
     ]
    }
   ],
   "source": [
    "# Посчитаем итоговый smape для тренировочной выборки\n",
    "final_smape = 0.25 * result_1_1 + 0.75 * result_2_2\n",
    "print('Итоговый smape для тренировочной выборки:', final_smape)"
   ]
  },
  {
   "cell_type": "code",
   "execution_count": 22,
   "metadata": {},
   "outputs": [
    {
     "name": "stdout",
     "output_type": "stream",
     "text": [
      "DecisionTreeRegressor 5.384651307739736\n",
      "RandomForestRegressor 8.250635981405631\n"
     ]
    }
   ],
   "source": [
    "# Протестируем лучшие модели на тестовой выборке\n",
    "\n",
    "# Сформируем выборки для целевого параметра rougher.output.recovery\n",
    "features_1 = df_test.loc[:, 'rougher.input.feed_ag': 'rougher.state.floatbank10_f_level']\n",
    "target_1 = df_test['rougher.output.recovery']\n",
    "\n",
    "features_train, features_valid, target_train, target_valid = train_test_split(\n",
    "    features_1, target_1, test_size=0.25, random_state=12345)\n",
    "\n",
    "model = DecisionTreeRegressor(random_state=12345, max_depth=130) \n",
    "model.fit(features_train, target_train)\n",
    "predictions_valid = model.predict(features_valid)\n",
    "\n",
    "result_1 = smape(target_valid, predictions_valid)\n",
    "print('DecisionTreeRegressor', result_1)\n",
    "\n",
    "# Сформируем выборки для целевого параметра final.output.recovery\n",
    "features_2 = df_test.drop(['date', 'rougher.output.recovery', 'final.output.recovery'], axis=1)\n",
    "target_2 = df_test['final.output.recovery']\n",
    "\n",
    "features_train, features_valid, target_train, target_valid = train_test_split(\n",
    "    features_2, target_2, test_size=0.25, random_state=12345)\n",
    "\n",
    "model = RandomForestRegressor(random_state=12345, n_estimators=10, max_depth=7)\n",
    "model.fit(features_train, target_train)\n",
    "predictions_valid = model.predict(features_valid)\n",
    "\n",
    "result_2 = smape(target_valid, predictions_valid)\n",
    "print('RandomForestRegressor', result_2)"
   ]
  },
  {
   "cell_type": "code",
   "execution_count": 23,
   "metadata": {},
   "outputs": [
    {
     "name": "stdout",
     "output_type": "stream",
     "text": [
      "Итоговый smape для тренировочной выборки: 7.534139812989158\n"
     ]
    }
   ],
   "source": [
    "# Посчитаем итоговый smape для тестовой выборки\n",
    "final_smape = 0.25 * result_1 + 0.75 * result_2\n",
    "print('Итоговый smape для тренировочной выборки:', final_smape)"
   ]
  },
  {
   "cell_type": "code",
   "execution_count": 24,
   "metadata": {},
   "outputs": [
    {
     "name": "stdout",
     "output_type": "stream",
     "text": [
      "DecisionTreeRegressor 22.991439806745547\n",
      "DecisionTreeRegressor 10.093596905998982\n",
      "Итоговый smape для тренировочной выборки: 13.318057631185624\n"
     ]
    }
   ],
   "source": [
    "# Сформируем выборки для целевого параметра rougher.output.recovery\n",
    "predictions_1 = model_1_1.predict(features_1)\n",
    "result_1 = smape(target_1, predictions_1)\n",
    "print('DecisionTreeRegressor', result_1)\n",
    "\n",
    "predictions_2 = model_2_2.predict(features_2)\n",
    "result_2 = smape(target_2, predictions_2)\n",
    "print('DecisionTreeRegressor', result_2)\n",
    "\n",
    "# Посчитаем итоговый smape для тестовой выборки\n",
    "final_smape = 0.25 * result_1 + 0.75 * result_2\n",
    "print('Итоговый smape для тренировочной выборки:', final_smape)"
   ]
  },
  {
   "cell_type": "markdown",
   "metadata": {},
   "source": [
    "**Вывод**\n",
    "\n",
    "С помощью пакета GridSearchCV нами подобраны оптимальные гиперпараметры для трех видов моделей, выбраны модели с наименьшим значением метрики smape. \n",
    "\n",
    "Выбранные модели протестированы на тестовой выборке, рассчитано итоговое значение smape для промежуточного и финального параметров обогащения золотосодержащей руды."
   ]
  }
 ],
 "metadata": {
  "ExecuteTimeLog": [
   {
    "duration": 1417,
    "start_time": "2021-07-01T19:58:08.036Z"
   },
   {
    "duration": 4134,
    "start_time": "2021-07-01T19:58:09.458Z"
   },
   {
    "duration": 3646,
    "start_time": "2021-07-01T19:58:41.143Z"
   },
   {
    "duration": 962,
    "start_time": "2021-07-03T08:27:21.580Z"
   },
   {
    "duration": 764,
    "start_time": "2021-07-03T08:27:22.544Z"
   },
   {
    "duration": 23,
    "start_time": "2021-07-03T08:27:51.229Z"
   },
   {
    "duration": 45,
    "start_time": "2021-07-03T08:32:41.465Z"
   },
   {
    "duration": 42,
    "start_time": "2021-07-03T08:33:47.100Z"
   },
   {
    "duration": 8,
    "start_time": "2021-07-03T09:08:35.376Z"
   },
   {
    "duration": 90,
    "start_time": "2021-07-03T09:09:07.658Z"
   },
   {
    "duration": 7,
    "start_time": "2021-07-03T09:09:18.335Z"
   },
   {
    "duration": 18,
    "start_time": "2021-07-03T09:18:16.479Z"
   },
   {
    "duration": 352,
    "start_time": "2021-07-03T09:19:12.434Z"
   },
   {
    "duration": 82,
    "start_time": "2021-07-03T09:26:33.773Z"
   },
   {
    "duration": 6215,
    "start_time": "2021-07-03T09:26:42.676Z"
   },
   {
    "duration": 81,
    "start_time": "2021-07-03T09:27:03.343Z"
   },
   {
    "duration": 6331,
    "start_time": "2021-07-03T09:28:52.012Z"
   },
   {
    "duration": 694,
    "start_time": "2021-07-03T09:30:10.619Z"
   },
   {
    "duration": 245,
    "start_time": "2021-07-03T09:30:27.147Z"
   },
   {
    "duration": 571,
    "start_time": "2021-07-03T09:30:37.833Z"
   },
   {
    "duration": 7,
    "start_time": "2021-07-03T09:33:25.018Z"
   },
   {
    "duration": 6,
    "start_time": "2021-07-03T09:34:14.415Z"
   },
   {
    "duration": 242,
    "start_time": "2021-07-03T09:38:22.813Z"
   },
   {
    "duration": 244,
    "start_time": "2021-07-03T10:13:08.659Z"
   },
   {
    "duration": 6916,
    "start_time": "2021-07-03T10:13:18.594Z"
   },
   {
    "duration": 6124,
    "start_time": "2021-07-03T10:14:35.309Z"
   },
   {
    "duration": 12,
    "start_time": "2021-07-03T10:16:44.934Z"
   },
   {
    "duration": 13,
    "start_time": "2021-07-03T10:17:01.909Z"
   },
   {
    "duration": 1349,
    "start_time": "2021-07-03T13:41:43.445Z"
   },
   {
    "duration": 1075,
    "start_time": "2021-07-03T13:41:44.797Z"
   },
   {
    "duration": 97,
    "start_time": "2021-07-03T13:41:45.875Z"
   },
   {
    "duration": 490,
    "start_time": "2021-07-03T13:41:45.974Z"
   },
   {
    "duration": -173,
    "start_time": "2021-07-03T13:41:46.640Z"
   },
   {
    "duration": 13,
    "start_time": "2021-07-03T13:42:52.571Z"
   },
   {
    "duration": 11,
    "start_time": "2021-07-03T13:43:04.796Z"
   },
   {
    "duration": 5,
    "start_time": "2021-07-03T13:46:07.856Z"
   },
   {
    "duration": 15,
    "start_time": "2021-07-03T13:47:09.995Z"
   },
   {
    "duration": 19,
    "start_time": "2021-07-03T13:50:59.896Z"
   },
   {
    "duration": 17,
    "start_time": "2021-07-03T13:54:26.929Z"
   },
   {
    "duration": 10075,
    "start_time": "2021-07-03T13:57:12.156Z"
   },
   {
    "duration": 10707,
    "start_time": "2021-07-03T13:58:29.686Z"
   },
   {
    "duration": 9646,
    "start_time": "2021-07-03T13:59:14.115Z"
   },
   {
    "duration": 371,
    "start_time": "2021-07-03T13:59:26.150Z"
   },
   {
    "duration": 7,
    "start_time": "2021-07-03T15:04:29.736Z"
   },
   {
    "duration": 13,
    "start_time": "2021-07-03T15:06:59.372Z"
   },
   {
    "duration": 7,
    "start_time": "2021-07-03T15:16:55.133Z"
   },
   {
    "duration": 7,
    "start_time": "2021-07-03T15:19:14.835Z"
   },
   {
    "duration": 8,
    "start_time": "2021-07-03T15:20:03.442Z"
   },
   {
    "duration": 9,
    "start_time": "2021-07-03T15:20:35.534Z"
   },
   {
    "duration": 6,
    "start_time": "2021-07-03T15:20:56.316Z"
   },
   {
    "duration": 8,
    "start_time": "2021-07-03T15:23:36.087Z"
   },
   {
    "duration": 8,
    "start_time": "2021-07-03T15:24:46.247Z"
   },
   {
    "duration": 8,
    "start_time": "2021-07-03T15:25:49.717Z"
   },
   {
    "duration": 10,
    "start_time": "2021-07-03T15:26:28.459Z"
   },
   {
    "duration": 10,
    "start_time": "2021-07-03T15:29:45.081Z"
   },
   {
    "duration": 8,
    "start_time": "2021-07-03T15:29:53.249Z"
   },
   {
    "duration": 8,
    "start_time": "2021-07-03T15:31:48.763Z"
   },
   {
    "duration": 13,
    "start_time": "2021-07-03T15:34:22.322Z"
   },
   {
    "duration": 17,
    "start_time": "2021-07-03T15:35:20.109Z"
   },
   {
    "duration": 20,
    "start_time": "2021-07-03T15:36:18.035Z"
   },
   {
    "duration": 18,
    "start_time": "2021-07-03T15:39:42.177Z"
   },
   {
    "duration": 17,
    "start_time": "2021-07-03T15:40:40.078Z"
   },
   {
    "duration": 5,
    "start_time": "2021-07-03T16:01:29.134Z"
   },
   {
    "duration": 1188,
    "start_time": "2021-07-03T16:01:29.149Z"
   },
   {
    "duration": 108,
    "start_time": "2021-07-03T16:01:30.340Z"
   },
   {
    "duration": 18,
    "start_time": "2021-07-03T16:01:30.451Z"
   },
   {
    "duration": 50,
    "start_time": "2021-07-03T16:01:30.471Z"
   },
   {
    "duration": 7,
    "start_time": "2021-07-03T16:07:30.679Z"
   },
   {
    "duration": 6,
    "start_time": "2021-07-03T16:08:12.193Z"
   },
   {
    "duration": 107,
    "start_time": "2021-07-03T16:09:48.518Z"
   },
   {
    "duration": 10,
    "start_time": "2021-07-03T16:10:00.254Z"
   },
   {
    "duration": 9,
    "start_time": "2021-07-03T16:10:54.287Z"
   },
   {
    "duration": 17,
    "start_time": "2021-07-03T16:16:16.682Z"
   },
   {
    "duration": 5,
    "start_time": "2021-07-03T17:41:40.582Z"
   },
   {
    "duration": 1096,
    "start_time": "2021-07-03T17:41:40.590Z"
   },
   {
    "duration": 88,
    "start_time": "2021-07-03T17:41:41.689Z"
   },
   {
    "duration": 46,
    "start_time": "2021-07-03T17:41:41.780Z"
   },
   {
    "duration": 17,
    "start_time": "2021-07-03T17:41:41.828Z"
   },
   {
    "duration": 13,
    "start_time": "2021-07-03T17:41:41.847Z"
   },
   {
    "duration": 52,
    "start_time": "2021-07-03T17:41:41.862Z"
   },
   {
    "duration": 410,
    "start_time": "2021-07-03T17:41:58.069Z"
   },
   {
    "duration": 533,
    "start_time": "2021-07-03T17:42:23.116Z"
   },
   {
    "duration": 542,
    "start_time": "2021-07-03T17:42:48.214Z"
   },
   {
    "duration": 699,
    "start_time": "2021-07-03T17:43:03.537Z"
   },
   {
    "duration": 859,
    "start_time": "2021-07-03T17:43:12.373Z"
   },
   {
    "duration": 1438,
    "start_time": "2021-07-03T17:44:30.467Z"
   },
   {
    "duration": 5,
    "start_time": "2021-07-03T17:48:05.618Z"
   },
   {
    "duration": 365,
    "start_time": "2021-07-03T17:48:41.256Z"
   },
   {
    "duration": 8,
    "start_time": "2021-07-03T17:49:29.235Z"
   },
   {
    "duration": 391,
    "start_time": "2021-07-03T17:49:45.150Z"
   },
   {
    "duration": 4,
    "start_time": "2021-07-03T17:50:03.375Z"
   },
   {
    "duration": 10,
    "start_time": "2021-07-03T17:50:13.346Z"
   },
   {
    "duration": 9,
    "start_time": "2021-07-03T17:50:26.025Z"
   },
   {
    "duration": 2691,
    "start_time": "2021-07-03T17:59:52.992Z"
   },
   {
    "duration": 1408,
    "start_time": "2021-07-03T18:00:35.558Z"
   },
   {
    "duration": 483,
    "start_time": "2021-07-03T18:01:04.213Z"
   },
   {
    "duration": 1370,
    "start_time": "2021-07-03T18:01:50.334Z"
   },
   {
    "duration": 837,
    "start_time": "2021-07-03T18:02:03.156Z"
   },
   {
    "duration": 1028,
    "start_time": "2021-07-03T18:02:28.831Z"
   },
   {
    "duration": 1047,
    "start_time": "2021-07-06T07:32:04.654Z"
   },
   {
    "duration": 855,
    "start_time": "2021-07-06T07:32:05.703Z"
   },
   {
    "duration": 69,
    "start_time": "2021-07-06T07:32:06.560Z"
   },
   {
    "duration": 14,
    "start_time": "2021-07-06T07:32:06.631Z"
   },
   {
    "duration": 48,
    "start_time": "2021-07-06T07:32:06.647Z"
   },
   {
    "duration": 8,
    "start_time": "2021-07-06T07:32:06.697Z"
   },
   {
    "duration": 974,
    "start_time": "2021-07-06T07:32:06.707Z"
   },
   {
    "duration": 644,
    "start_time": "2021-07-06T07:32:07.685Z"
   },
   {
    "duration": 288,
    "start_time": "2021-07-06T07:32:08.332Z"
   },
   {
    "duration": 29,
    "start_time": "2021-07-06T07:32:18.223Z"
   },
   {
    "duration": 3,
    "start_time": "2021-07-06T12:45:12.555Z"
   },
   {
    "duration": 838,
    "start_time": "2021-07-06T12:45:12.569Z"
   },
   {
    "duration": 46,
    "start_time": "2021-07-06T12:45:13.409Z"
   },
   {
    "duration": 35,
    "start_time": "2021-07-06T12:45:13.457Z"
   },
   {
    "duration": 11,
    "start_time": "2021-07-06T12:45:13.494Z"
   },
   {
    "duration": 10,
    "start_time": "2021-07-06T12:45:13.507Z"
   },
   {
    "duration": 942,
    "start_time": "2021-07-06T12:45:13.519Z"
   },
   {
    "duration": 540,
    "start_time": "2021-07-06T12:45:14.463Z"
   },
   {
    "duration": 657,
    "start_time": "2021-07-06T12:45:15.006Z"
   },
   {
    "duration": 39,
    "start_time": "2021-07-06T12:46:13.136Z"
   },
   {
    "duration": 58,
    "start_time": "2021-07-06T12:46:25.057Z"
   },
   {
    "duration": 63,
    "start_time": "2021-07-06T12:48:11.198Z"
   },
   {
    "duration": 69,
    "start_time": "2021-07-06T12:48:40.806Z"
   },
   {
    "duration": 40,
    "start_time": "2021-07-06T12:50:35.778Z"
   },
   {
    "duration": 187,
    "start_time": "2021-07-06T13:15:45.566Z"
   },
   {
    "duration": 26,
    "start_time": "2021-07-06T13:16:25.157Z"
   },
   {
    "duration": 22,
    "start_time": "2021-07-06T13:16:47.505Z"
   },
   {
    "duration": 37,
    "start_time": "2021-07-06T13:17:53.615Z"
   },
   {
    "duration": 42,
    "start_time": "2021-07-06T13:26:28.129Z"
   },
   {
    "duration": 42,
    "start_time": "2021-07-06T13:26:41.814Z"
   },
   {
    "duration": 36,
    "start_time": "2021-07-06T13:28:21.760Z"
   },
   {
    "duration": 187,
    "start_time": "2021-07-06T13:29:22.009Z"
   },
   {
    "duration": 3,
    "start_time": "2021-07-06T13:29:41.244Z"
   },
   {
    "duration": 803,
    "start_time": "2021-07-06T13:29:41.251Z"
   },
   {
    "duration": 67,
    "start_time": "2021-07-06T13:29:42.055Z"
   },
   {
    "duration": 12,
    "start_time": "2021-07-06T13:29:42.124Z"
   },
   {
    "duration": 11,
    "start_time": "2021-07-06T13:29:42.137Z"
   },
   {
    "duration": 40,
    "start_time": "2021-07-06T13:29:42.150Z"
   },
   {
    "duration": 960,
    "start_time": "2021-07-06T13:29:42.192Z"
   },
   {
    "duration": 530,
    "start_time": "2021-07-06T13:29:43.154Z"
   },
   {
    "duration": 183,
    "start_time": "2021-07-06T13:29:43.687Z"
   },
   {
    "duration": 232,
    "start_time": "2021-07-06T13:31:01.305Z"
   },
   {
    "duration": 3,
    "start_time": "2021-07-06T13:31:46.088Z"
   },
   {
    "duration": 758,
    "start_time": "2021-07-06T13:31:46.103Z"
   },
   {
    "duration": 47,
    "start_time": "2021-07-06T13:31:46.886Z"
   },
   {
    "duration": 11,
    "start_time": "2021-07-06T13:31:46.935Z"
   },
   {
    "duration": 40,
    "start_time": "2021-07-06T13:31:46.948Z"
   },
   {
    "duration": 7,
    "start_time": "2021-07-06T13:31:46.990Z"
   },
   {
    "duration": 1051,
    "start_time": "2021-07-06T13:31:46.999Z"
   },
   {
    "duration": 522,
    "start_time": "2021-07-06T13:31:48.051Z"
   },
   {
    "duration": 37,
    "start_time": "2021-07-06T13:31:48.575Z"
   },
   {
    "duration": 207,
    "start_time": "2021-07-06T13:33:38.123Z"
   },
   {
    "duration": 4,
    "start_time": "2021-07-06T13:33:51.142Z"
   },
   {
    "duration": 767,
    "start_time": "2021-07-06T13:33:51.171Z"
   },
   {
    "duration": 70,
    "start_time": "2021-07-06T13:33:51.940Z"
   },
   {
    "duration": 13,
    "start_time": "2021-07-06T13:33:52.012Z"
   },
   {
    "duration": 13,
    "start_time": "2021-07-06T13:33:52.027Z"
   },
   {
    "duration": 44,
    "start_time": "2021-07-06T13:33:52.041Z"
   },
   {
    "duration": 855,
    "start_time": "2021-07-06T13:33:52.087Z"
   },
   {
    "duration": 712,
    "start_time": "2021-07-06T13:33:52.943Z"
   },
   {
    "duration": 38,
    "start_time": "2021-07-06T13:33:53.657Z"
   },
   {
    "duration": 246,
    "start_time": "2021-07-06T13:35:05.458Z"
   },
   {
    "duration": 3,
    "start_time": "2021-07-06T13:35:12.281Z"
   },
   {
    "duration": 766,
    "start_time": "2021-07-06T13:35:12.288Z"
   },
   {
    "duration": 73,
    "start_time": "2021-07-06T13:35:13.056Z"
   },
   {
    "duration": 13,
    "start_time": "2021-07-06T13:35:13.131Z"
   },
   {
    "duration": 42,
    "start_time": "2021-07-06T13:35:13.146Z"
   },
   {
    "duration": 8,
    "start_time": "2021-07-06T13:35:13.190Z"
   },
   {
    "duration": 875,
    "start_time": "2021-07-06T13:35:13.199Z"
   },
   {
    "duration": 564,
    "start_time": "2021-07-06T13:35:14.076Z"
   },
   {
    "duration": 32,
    "start_time": "2021-07-06T13:35:14.642Z"
   },
   {
    "duration": 11,
    "start_time": "2021-07-06T13:50:23.378Z"
   },
   {
    "duration": 185,
    "start_time": "2021-07-06T13:52:47.963Z"
   },
   {
    "duration": 200,
    "start_time": "2021-07-06T13:53:17.245Z"
   },
   {
    "duration": 71,
    "start_time": "2021-07-06T13:53:39.324Z"
   },
   {
    "duration": 11,
    "start_time": "2021-07-06T13:54:14.224Z"
   },
   {
    "duration": 206,
    "start_time": "2021-07-06T14:05:27.203Z"
   },
   {
    "duration": 12,
    "start_time": "2021-07-06T14:05:57.558Z"
   },
   {
    "duration": 1097,
    "start_time": "2021-07-06T14:23:34.489Z"
   },
   {
    "duration": 160142,
    "start_time": "2021-07-06T14:32:13.252Z"
   },
   {
    "duration": 3,
    "start_time": "2021-07-06T14:43:36.243Z"
   },
   {
    "duration": 256,
    "start_time": "2021-07-06T14:43:49.938Z"
   },
   {
    "duration": 3,
    "start_time": "2021-07-06T14:50:00.181Z"
   },
   {
    "duration": 817,
    "start_time": "2021-07-06T14:50:00.187Z"
   },
   {
    "duration": 77,
    "start_time": "2021-07-06T14:50:01.007Z"
   },
   {
    "duration": 15,
    "start_time": "2021-07-06T14:50:01.087Z"
   },
   {
    "duration": 13,
    "start_time": "2021-07-06T14:50:01.104Z"
   },
   {
    "duration": 8,
    "start_time": "2021-07-06T14:50:01.119Z"
   },
   {
    "duration": 1182,
    "start_time": "2021-07-06T14:50:01.128Z"
   },
   {
    "duration": 592,
    "start_time": "2021-07-06T14:50:02.313Z"
   },
   {
    "duration": 3,
    "start_time": "2021-07-06T14:50:02.907Z"
   },
   {
    "duration": 43,
    "start_time": "2021-07-06T14:50:02.912Z"
   },
   {
    "duration": 537,
    "start_time": "2021-07-06T14:50:02.958Z"
   },
   {
    "duration": 3,
    "start_time": "2021-07-06T15:23:31.807Z"
   },
   {
    "duration": 4,
    "start_time": "2021-07-06T15:23:36.558Z"
   },
   {
    "duration": 756,
    "start_time": "2021-07-06T15:23:36.566Z"
   },
   {
    "duration": 71,
    "start_time": "2021-07-06T15:23:37.323Z"
   },
   {
    "duration": 12,
    "start_time": "2021-07-06T15:23:37.396Z"
   },
   {
    "duration": 11,
    "start_time": "2021-07-06T15:23:37.410Z"
   },
   {
    "duration": 8,
    "start_time": "2021-07-06T15:23:37.422Z"
   },
   {
    "duration": 919,
    "start_time": "2021-07-06T15:23:37.432Z"
   },
   {
    "duration": 734,
    "start_time": "2021-07-06T15:23:38.353Z"
   },
   {
    "duration": 3,
    "start_time": "2021-07-06T15:23:39.089Z"
   },
   {
    "duration": 34,
    "start_time": "2021-07-06T15:23:39.094Z"
   },
   {
    "duration": 764,
    "start_time": "2021-07-06T15:23:39.129Z"
   },
   {
    "duration": 244,
    "start_time": "2021-07-06T15:39:32.814Z"
   },
   {
    "duration": 285,
    "start_time": "2021-07-06T15:41:12.368Z"
   },
   {
    "duration": 4,
    "start_time": "2021-07-06T15:41:21.495Z"
   },
   {
    "duration": 742,
    "start_time": "2021-07-06T15:41:21.501Z"
   },
   {
    "duration": 71,
    "start_time": "2021-07-06T15:41:22.245Z"
   },
   {
    "duration": 13,
    "start_time": "2021-07-06T15:41:22.318Z"
   },
   {
    "duration": 11,
    "start_time": "2021-07-06T15:41:22.333Z"
   },
   {
    "duration": 41,
    "start_time": "2021-07-06T15:41:22.346Z"
   },
   {
    "duration": 928,
    "start_time": "2021-07-06T15:41:22.389Z"
   },
   {
    "duration": 543,
    "start_time": "2021-07-06T15:41:23.319Z"
   },
   {
    "duration": 3,
    "start_time": "2021-07-06T15:41:23.863Z"
   },
   {
    "duration": 48,
    "start_time": "2021-07-06T15:41:23.868Z"
   },
   {
    "duration": 237,
    "start_time": "2021-07-06T15:41:23.918Z"
   },
   {
    "duration": 5,
    "start_time": "2021-07-06T15:43:46.142Z"
   },
   {
    "duration": 384352,
    "start_time": "2021-07-06T15:46:01.219Z"
   },
   {
    "duration": 366448,
    "start_time": "2021-07-06T15:52:51.815Z"
   },
   {
    "duration": 276,
    "start_time": "2021-07-06T15:59:14.537Z"
   },
   {
    "duration": 7356,
    "start_time": "2021-07-06T16:00:26.935Z"
   },
   {
    "duration": 4,
    "start_time": "2021-07-06T16:40:14.414Z"
   },
   {
    "duration": 175,
    "start_time": "2021-07-06T16:41:17.494Z"
   },
   {
    "duration": 282,
    "start_time": "2021-07-06T16:41:36.924Z"
   },
   {
    "duration": 197,
    "start_time": "2021-07-06T16:42:09.819Z"
   },
   {
    "duration": 289,
    "start_time": "2021-07-06T16:42:33.485Z"
   },
   {
    "duration": 310,
    "start_time": "2021-07-06T16:43:20.139Z"
   },
   {
    "duration": 4012,
    "start_time": "2021-07-06T16:51:25.980Z"
   },
   {
    "duration": 282,
    "start_time": "2021-07-06T16:51:55.136Z"
   },
   {
    "duration": 314,
    "start_time": "2021-07-06T16:52:29.523Z"
   },
   {
    "duration": 255,
    "start_time": "2021-07-06T16:59:38.003Z"
   },
   {
    "duration": 236,
    "start_time": "2021-07-06T17:00:54.819Z"
   },
   {
    "duration": 474,
    "start_time": "2021-07-06T17:01:49.043Z"
   },
   {
    "duration": 261,
    "start_time": "2021-07-06T17:12:17.643Z"
   },
   {
    "duration": 310,
    "start_time": "2021-07-06T17:13:18.686Z"
   },
   {
    "duration": 4,
    "start_time": "2021-07-06T17:15:46.021Z"
   },
   {
    "duration": 774,
    "start_time": "2021-07-06T17:15:46.051Z"
   },
   {
    "duration": 73,
    "start_time": "2021-07-06T17:15:46.827Z"
   },
   {
    "duration": 12,
    "start_time": "2021-07-06T17:15:46.903Z"
   },
   {
    "duration": 11,
    "start_time": "2021-07-06T17:15:46.917Z"
   },
   {
    "duration": 8,
    "start_time": "2021-07-06T17:15:46.930Z"
   },
   {
    "duration": 926,
    "start_time": "2021-07-06T17:15:46.940Z"
   },
   {
    "duration": 777,
    "start_time": "2021-07-06T17:15:47.868Z"
   },
   {
    "duration": 4,
    "start_time": "2021-07-06T17:15:48.648Z"
   },
   {
    "duration": 52,
    "start_time": "2021-07-06T17:15:48.654Z"
   },
   {
    "duration": 4,
    "start_time": "2021-07-06T17:15:48.709Z"
   },
   {
    "duration": 304,
    "start_time": "2021-07-06T17:15:48.715Z"
   },
   {
    "duration": -1131,
    "start_time": "2021-07-06T17:15:50.152Z"
   },
   {
    "duration": -1131,
    "start_time": "2021-07-06T17:15:50.153Z"
   },
   {
    "duration": 295,
    "start_time": "2021-07-06T17:16:11.933Z"
   },
   {
    "duration": 282,
    "start_time": "2021-07-06T17:16:38.695Z"
   },
   {
    "duration": 1596,
    "start_time": "2021-07-06T20:10:27.988Z"
   },
   {
    "duration": 1143,
    "start_time": "2021-07-06T20:10:29.586Z"
   },
   {
    "duration": 99,
    "start_time": "2021-07-06T20:10:30.732Z"
   },
   {
    "duration": 435,
    "start_time": "2021-07-06T20:10:30.834Z"
   },
   {
    "duration": -766,
    "start_time": "2021-07-06T20:10:32.037Z"
   },
   {
    "duration": -765,
    "start_time": "2021-07-06T20:10:32.038Z"
   },
   {
    "duration": -765,
    "start_time": "2021-07-06T20:10:32.040Z"
   },
   {
    "duration": -764,
    "start_time": "2021-07-06T20:10:32.041Z"
   },
   {
    "duration": -765,
    "start_time": "2021-07-06T20:10:32.043Z"
   },
   {
    "duration": -777,
    "start_time": "2021-07-06T20:10:32.057Z"
   },
   {
    "duration": -785,
    "start_time": "2021-07-06T20:10:32.066Z"
   },
   {
    "duration": -786,
    "start_time": "2021-07-06T20:10:32.068Z"
   },
   {
    "duration": -785,
    "start_time": "2021-07-06T20:10:32.069Z"
   },
   {
    "duration": -785,
    "start_time": "2021-07-06T20:10:32.070Z"
   },
   {
    "duration": 4,
    "start_time": "2021-07-06T20:10:47.596Z"
   },
   {
    "duration": 1068,
    "start_time": "2021-07-06T20:10:47.612Z"
   },
   {
    "duration": 91,
    "start_time": "2021-07-06T20:10:48.682Z"
   },
   {
    "duration": 263,
    "start_time": "2021-07-06T20:10:48.776Z"
   },
   {
    "duration": -776,
    "start_time": "2021-07-06T20:10:49.818Z"
   },
   {
    "duration": -775,
    "start_time": "2021-07-06T20:10:49.819Z"
   },
   {
    "duration": -775,
    "start_time": "2021-07-06T20:10:49.820Z"
   },
   {
    "duration": -774,
    "start_time": "2021-07-06T20:10:49.820Z"
   },
   {
    "duration": -773,
    "start_time": "2021-07-06T20:10:49.821Z"
   },
   {
    "duration": -779,
    "start_time": "2021-07-06T20:10:49.828Z"
   },
   {
    "duration": -784,
    "start_time": "2021-07-06T20:10:49.835Z"
   },
   {
    "duration": -784,
    "start_time": "2021-07-06T20:10:49.836Z"
   },
   {
    "duration": -784,
    "start_time": "2021-07-06T20:10:49.837Z"
   },
   {
    "duration": -783,
    "start_time": "2021-07-06T20:10:49.838Z"
   },
   {
    "duration": 4,
    "start_time": "2021-07-06T20:11:02.385Z"
   },
   {
    "duration": 5,
    "start_time": "2021-07-06T20:12:53.190Z"
   },
   {
    "duration": 1085,
    "start_time": "2021-07-06T20:12:53.200Z"
   },
   {
    "duration": 97,
    "start_time": "2021-07-06T20:12:54.288Z"
   },
   {
    "duration": 293,
    "start_time": "2021-07-06T20:12:54.388Z"
   },
   {
    "duration": -756,
    "start_time": "2021-07-06T20:12:55.440Z"
   },
   {
    "duration": -772,
    "start_time": "2021-07-06T20:12:55.457Z"
   },
   {
    "duration": -776,
    "start_time": "2021-07-06T20:12:55.463Z"
   },
   {
    "duration": -777,
    "start_time": "2021-07-06T20:12:55.465Z"
   },
   {
    "duration": -776,
    "start_time": "2021-07-06T20:12:55.466Z"
   },
   {
    "duration": -777,
    "start_time": "2021-07-06T20:12:55.468Z"
   },
   {
    "duration": -779,
    "start_time": "2021-07-06T20:12:55.471Z"
   },
   {
    "duration": -779,
    "start_time": "2021-07-06T20:12:55.473Z"
   },
   {
    "duration": -778,
    "start_time": "2021-07-06T20:12:55.474Z"
   },
   {
    "duration": -778,
    "start_time": "2021-07-06T20:12:55.475Z"
   },
   {
    "duration": 5,
    "start_time": "2021-07-06T20:13:30.347Z"
   },
   {
    "duration": 1229,
    "start_time": "2021-07-06T20:13:30.355Z"
   },
   {
    "duration": 95,
    "start_time": "2021-07-06T20:13:31.587Z"
   },
   {
    "duration": 17,
    "start_time": "2021-07-06T20:13:31.685Z"
   },
   {
    "duration": 57,
    "start_time": "2021-07-06T20:13:31.705Z"
   },
   {
    "duration": 13,
    "start_time": "2021-07-06T20:13:31.765Z"
   },
   {
    "duration": 1503,
    "start_time": "2021-07-06T20:13:31.780Z"
   },
   {
    "duration": 955,
    "start_time": "2021-07-06T20:13:33.286Z"
   },
   {
    "duration": 13,
    "start_time": "2021-07-06T20:13:34.244Z"
   },
   {
    "duration": 58,
    "start_time": "2021-07-06T20:13:34.261Z"
   },
   {
    "duration": 7,
    "start_time": "2021-07-06T20:13:34.322Z"
   },
   {
    "duration": 455,
    "start_time": "2021-07-06T20:13:34.331Z"
   },
   {
    "duration": -822,
    "start_time": "2021-07-06T20:13:35.611Z"
   },
   {
    "duration": -821,
    "start_time": "2021-07-06T20:13:35.612Z"
   },
   {
    "duration": 36138,
    "start_time": "2021-07-06T20:14:05.076Z"
   },
   {
    "duration": 7,
    "start_time": "2021-07-06T20:16:05.143Z"
   },
   {
    "duration": 34606,
    "start_time": "2021-07-06T20:16:17.297Z"
   },
   {
    "duration": 8569,
    "start_time": "2021-07-06T20:17:57.798Z"
   },
   {
    "duration": 9084,
    "start_time": "2021-07-06T20:18:09.983Z"
   },
   {
    "duration": 520234,
    "start_time": "2021-07-06T20:20:05.983Z"
   },
   {
    "duration": 321,
    "start_time": "2021-07-06T20:35:36.460Z"
   },
   {
    "duration": 20638,
    "start_time": "2021-07-06T20:41:05.838Z"
   },
   {
    "duration": 13094,
    "start_time": "2021-07-06T20:42:07.350Z"
   },
   {
    "duration": 27677,
    "start_time": "2021-07-06T20:42:54.019Z"
   },
   {
    "duration": 6,
    "start_time": "2021-07-06T20:54:06.673Z"
   },
   {
    "duration": 24,
    "start_time": "2021-07-06T20:54:23.379Z"
   },
   {
    "duration": 21,
    "start_time": "2021-07-06T20:55:05.903Z"
   },
   {
    "duration": 9,
    "start_time": "2021-07-06T20:55:24.678Z"
   },
   {
    "duration": 69338,
    "start_time": "2021-07-06T20:57:05.663Z"
   },
   {
    "duration": 21724,
    "start_time": "2021-07-06T20:58:37.296Z"
   },
   {
    "duration": 20485,
    "start_time": "2021-07-06T21:05:22.222Z"
   },
   {
    "duration": 21422,
    "start_time": "2021-07-06T21:05:55.351Z"
   },
   {
    "duration": 22470,
    "start_time": "2021-07-06T21:06:34.988Z"
   },
   {
    "duration": 20820,
    "start_time": "2021-07-06T21:07:15.387Z"
   },
   {
    "duration": 35129,
    "start_time": "2021-07-06T21:07:47.179Z"
   },
   {
    "duration": 35715,
    "start_time": "2021-07-06T21:08:37.948Z"
   },
   {
    "duration": 1145222,
    "start_time": "2021-07-06T21:11:38.875Z"
   },
   {
    "duration": 16657,
    "start_time": "2021-07-06T21:30:44.100Z"
   },
   {
    "duration": 4,
    "start_time": "2021-07-06T21:38:52.470Z"
   },
   {
    "duration": 677,
    "start_time": "2021-07-06T21:43:02.708Z"
   },
   {
    "duration": 7113,
    "start_time": "2021-07-06T21:45:34.116Z"
   },
   {
    "duration": 7899,
    "start_time": "2021-07-06T21:49:07.457Z"
   },
   {
    "duration": 4982,
    "start_time": "2021-07-06T21:50:42.374Z"
   },
   {
    "duration": 7673,
    "start_time": "2021-07-06T21:51:46.987Z"
   },
   {
    "duration": 1687,
    "start_time": "2021-07-06T21:52:45.379Z"
   },
   {
    "duration": 1403,
    "start_time": "2021-07-07T08:00:03.300Z"
   },
   {
    "duration": 1074,
    "start_time": "2021-07-07T08:00:04.706Z"
   },
   {
    "duration": 97,
    "start_time": "2021-07-07T08:00:05.783Z"
   },
   {
    "duration": 23,
    "start_time": "2021-07-07T08:00:05.884Z"
   },
   {
    "duration": 48,
    "start_time": "2021-07-07T08:00:05.910Z"
   },
   {
    "duration": 15,
    "start_time": "2021-07-07T08:00:05.961Z"
   },
   {
    "duration": 1509,
    "start_time": "2021-07-07T08:00:05.979Z"
   },
   {
    "duration": 937,
    "start_time": "2021-07-07T08:00:07.492Z"
   },
   {
    "duration": 5,
    "start_time": "2021-07-07T08:00:08.432Z"
   },
   {
    "duration": 57,
    "start_time": "2021-07-07T08:00:08.455Z"
   },
   {
    "duration": 8,
    "start_time": "2021-07-07T08:00:08.514Z"
   },
   {
    "duration": 26285,
    "start_time": "2021-07-07T08:00:08.525Z"
   },
   {
    "duration": 81,
    "start_time": "2021-07-07T08:00:34.812Z"
   },
   {
    "duration": -719,
    "start_time": "2021-07-07T08:00:35.614Z"
   },
   {
    "duration": -718,
    "start_time": "2021-07-07T08:00:35.615Z"
   },
   {
    "duration": -719,
    "start_time": "2021-07-07T08:00:35.617Z"
   },
   {
    "duration": -718,
    "start_time": "2021-07-07T08:00:35.618Z"
   },
   {
    "duration": -718,
    "start_time": "2021-07-07T08:00:35.619Z"
   },
   {
    "duration": -718,
    "start_time": "2021-07-07T08:00:35.620Z"
   },
   {
    "duration": -747,
    "start_time": "2021-07-07T08:00:35.651Z"
   },
   {
    "duration": -747,
    "start_time": "2021-07-07T08:00:35.652Z"
   },
   {
    "duration": -747,
    "start_time": "2021-07-07T08:00:35.653Z"
   },
   {
    "duration": -746,
    "start_time": "2021-07-07T08:00:35.654Z"
   },
   {
    "duration": 5,
    "start_time": "2021-07-07T08:01:06.113Z"
   },
   {
    "duration": 1433,
    "start_time": "2021-07-07T08:01:06.126Z"
   },
   {
    "duration": 101,
    "start_time": "2021-07-07T08:01:07.562Z"
   },
   {
    "duration": 18,
    "start_time": "2021-07-07T08:01:07.666Z"
   },
   {
    "duration": 15,
    "start_time": "2021-07-07T08:01:07.687Z"
   },
   {
    "duration": 56,
    "start_time": "2021-07-07T08:01:07.705Z"
   },
   {
    "duration": 1442,
    "start_time": "2021-07-07T08:01:07.764Z"
   },
   {
    "duration": 1047,
    "start_time": "2021-07-07T08:01:09.209Z"
   },
   {
    "duration": 6,
    "start_time": "2021-07-07T08:01:10.260Z"
   },
   {
    "duration": 100,
    "start_time": "2021-07-07T08:01:10.271Z"
   },
   {
    "duration": 8,
    "start_time": "2021-07-07T08:01:10.375Z"
   },
   {
    "duration": 28336,
    "start_time": "2021-07-07T08:01:10.385Z"
   },
   {
    "duration": 3,
    "start_time": "2021-07-07T08:01:38.724Z"
   },
   {
    "duration": 8538,
    "start_time": "2021-07-07T08:01:38.729Z"
   },
   {
    "duration": 91,
    "start_time": "2021-07-07T08:01:47.271Z"
   },
   {
    "duration": 35019,
    "start_time": "2021-07-07T08:01:47.366Z"
   },
   {
    "duration": 4,
    "start_time": "2021-07-07T08:02:22.387Z"
   },
   {
    "duration": 17063,
    "start_time": "2021-07-07T08:02:22.393Z"
   },
   {
    "duration": 8696,
    "start_time": "2021-07-07T08:02:39.467Z"
   },
   {
    "duration": 5132,
    "start_time": "2021-07-07T08:02:48.167Z"
   },
   {
    "duration": 6,
    "start_time": "2021-07-07T08:02:53.357Z"
   },
   {
    "duration": 477,
    "start_time": "2021-07-07T08:02:53.366Z"
   },
   {
    "duration": -715,
    "start_time": "2021-07-07T08:02:54.562Z"
   },
   {
    "duration": 1359,
    "start_time": "2021-07-07T08:04:47.457Z"
   },
   {
    "duration": 5,
    "start_time": "2021-07-07T08:05:07.081Z"
   },
   {
    "duration": 1352,
    "start_time": "2021-07-08T06:01:10.441Z"
   },
   {
    "duration": 1065,
    "start_time": "2021-07-08T06:01:11.795Z"
   },
   {
    "duration": 95,
    "start_time": "2021-07-08T06:01:12.863Z"
   },
   {
    "duration": 23,
    "start_time": "2021-07-08T06:01:12.961Z"
   },
   {
    "duration": 18,
    "start_time": "2021-07-08T06:01:12.987Z"
   },
   {
    "duration": 56,
    "start_time": "2021-07-08T06:01:13.008Z"
   },
   {
    "duration": 1555,
    "start_time": "2021-07-08T06:01:13.067Z"
   },
   {
    "duration": 946,
    "start_time": "2021-07-08T06:01:14.626Z"
   },
   {
    "duration": 5,
    "start_time": "2021-07-08T06:01:15.576Z"
   },
   {
    "duration": 77,
    "start_time": "2021-07-08T06:01:15.583Z"
   },
   {
    "duration": 8,
    "start_time": "2021-07-08T06:01:15.663Z"
   },
   {
    "duration": 10,
    "start_time": "2021-07-08T06:01:15.673Z"
   },
   {
    "duration": 93,
    "start_time": "2021-07-08T06:01:15.685Z"
   },
   {
    "duration": -964,
    "start_time": "2021-07-08T06:01:16.745Z"
   },
   {
    "duration": -965,
    "start_time": "2021-07-08T06:01:16.747Z"
   },
   {
    "duration": -964,
    "start_time": "2021-07-08T06:01:16.748Z"
   },
   {
    "duration": -965,
    "start_time": "2021-07-08T06:01:16.750Z"
   },
   {
    "duration": -965,
    "start_time": "2021-07-08T06:01:16.751Z"
   },
   {
    "duration": -972,
    "start_time": "2021-07-08T06:01:16.759Z"
   },
   {
    "duration": -971,
    "start_time": "2021-07-08T06:01:16.760Z"
   },
   {
    "duration": -972,
    "start_time": "2021-07-08T06:01:16.762Z"
   },
   {
    "duration": -971,
    "start_time": "2021-07-08T06:01:16.763Z"
   },
   {
    "duration": -971,
    "start_time": "2021-07-08T06:01:16.764Z"
   },
   {
    "duration": -972,
    "start_time": "2021-07-08T06:01:16.766Z"
   },
   {
    "duration": 5,
    "start_time": "2021-07-08T06:01:42.103Z"
   },
   {
    "duration": 1089,
    "start_time": "2021-07-08T06:01:42.125Z"
   },
   {
    "duration": 96,
    "start_time": "2021-07-08T06:01:43.217Z"
   },
   {
    "duration": 44,
    "start_time": "2021-07-08T06:01:43.316Z"
   },
   {
    "duration": 17,
    "start_time": "2021-07-08T06:01:43.363Z"
   },
   {
    "duration": 15,
    "start_time": "2021-07-08T06:01:43.382Z"
   },
   {
    "duration": 1501,
    "start_time": "2021-07-08T06:01:43.399Z"
   },
   {
    "duration": 886,
    "start_time": "2021-07-08T06:01:44.902Z"
   },
   {
    "duration": 5,
    "start_time": "2021-07-08T06:01:45.794Z"
   },
   {
    "duration": 83,
    "start_time": "2021-07-08T06:01:45.804Z"
   },
   {
    "duration": 8,
    "start_time": "2021-07-08T06:01:45.890Z"
   },
   {
    "duration": 14,
    "start_time": "2021-07-08T06:01:45.901Z"
   },
   {
    "duration": 6,
    "start_time": "2021-07-08T06:01:45.918Z"
   },
   {
    "duration": 28,
    "start_time": "2021-07-08T06:01:45.926Z"
   },
   {
    "duration": 16,
    "start_time": "2021-07-08T06:01:45.956Z"
   },
   {
    "duration": 15,
    "start_time": "2021-07-08T06:01:45.975Z"
   },
   {
    "duration": 8,
    "start_time": "2021-07-08T06:01:45.992Z"
   },
   {
    "duration": 15,
    "start_time": "2021-07-08T06:01:46.002Z"
   },
   {
    "duration": 7535,
    "start_time": "2021-07-08T06:01:46.019Z"
   },
   {
    "duration": 4201,
    "start_time": "2021-07-08T06:01:53.556Z"
   },
   {
    "duration": 7,
    "start_time": "2021-07-08T06:01:57.760Z"
   },
   {
    "duration": 1192,
    "start_time": "2021-07-08T06:01:57.854Z"
   },
   {
    "duration": 8257,
    "start_time": "2021-07-08T06:01:59.049Z"
   },
   {
    "duration": 6,
    "start_time": "2021-07-08T06:02:07.310Z"
   },
   {
    "duration": 234,
    "start_time": "2021-07-08T06:03:20.720Z"
   },
   {
    "duration": 980,
    "start_time": "2021-07-08T06:55:41.651Z"
   },
   {
    "duration": 1531,
    "start_time": "2021-07-08T06:56:12.029Z"
   },
   {
    "duration": 2680,
    "start_time": "2021-07-08T06:58:39.774Z"
   },
   {
    "duration": 1651,
    "start_time": "2021-07-08T07:01:57.502Z"
   },
   {
    "duration": 6,
    "start_time": "2021-07-08T07:02:02.412Z"
   },
   {
    "duration": 11,
    "start_time": "2021-07-08T07:03:38.846Z"
   },
   {
    "duration": 1133,
    "start_time": "2021-07-08T07:06:17.013Z"
   },
   {
    "duration": 9,
    "start_time": "2021-07-08T07:06:22.418Z"
   },
   {
    "duration": 19,
    "start_time": "2021-07-08T07:10:29.029Z"
   },
   {
    "duration": 5,
    "start_time": "2021-07-08T07:11:20.563Z"
   },
   {
    "duration": 20,
    "start_time": "2021-07-08T07:11:35.652Z"
   },
   {
    "duration": 13122,
    "start_time": "2021-07-08T07:51:56.832Z"
   },
   {
    "duration": 1396,
    "start_time": "2021-07-08T21:03:52.577Z"
   },
   {
    "duration": 1228,
    "start_time": "2021-07-08T21:03:53.976Z"
   },
   {
    "duration": 72,
    "start_time": "2021-07-08T21:03:55.207Z"
   },
   {
    "duration": 30,
    "start_time": "2021-07-08T21:03:55.281Z"
   },
   {
    "duration": 11,
    "start_time": "2021-07-08T21:03:55.313Z"
   },
   {
    "duration": 8,
    "start_time": "2021-07-08T21:03:55.341Z"
   },
   {
    "duration": 956,
    "start_time": "2021-07-08T21:03:55.351Z"
   },
   {
    "duration": 643,
    "start_time": "2021-07-08T21:03:56.309Z"
   },
   {
    "duration": 3,
    "start_time": "2021-07-08T21:03:56.954Z"
   },
   {
    "duration": 44,
    "start_time": "2021-07-08T21:03:56.959Z"
   },
   {
    "duration": 6,
    "start_time": "2021-07-08T21:03:57.005Z"
   },
   {
    "duration": 21102,
    "start_time": "2021-07-08T21:03:57.040Z"
   },
   {
    "duration": 168318,
    "start_time": "2021-07-08T21:04:18.143Z"
   },
   {
    "duration": 8387,
    "start_time": "2021-07-08T21:07:06.462Z"
   },
   {
    "duration": 93,
    "start_time": "2021-07-08T21:07:14.851Z"
   },
   {
    "duration": 35886,
    "start_time": "2021-07-08T21:07:14.947Z"
   },
   {
    "duration": 205938,
    "start_time": "2021-07-08T21:07:50.835Z"
   },
   {
    "duration": 14180,
    "start_time": "2021-07-08T21:11:16.775Z"
   },
   {
    "duration": 7911,
    "start_time": "2021-07-08T21:11:31.041Z"
   },
   {
    "duration": 4592,
    "start_time": "2021-07-08T21:11:38.954Z"
   },
   {
    "duration": 4,
    "start_time": "2021-07-08T21:11:43.548Z"
   },
   {
    "duration": 999,
    "start_time": "2021-07-08T21:11:43.554Z"
   },
   {
    "duration": 3,
    "start_time": "2021-07-08T21:11:44.556Z"
   },
   {
    "duration": 15,
    "start_time": "2021-07-08T21:11:44.562Z"
   }
  ],
  "kernelspec": {
   "display_name": "Python 3",
   "language": "python",
   "name": "python3"
  },
  "language_info": {
   "codemirror_mode": {
    "name": "ipython",
    "version": 3
   },
   "file_extension": ".py",
   "mimetype": "text/x-python",
   "name": "python",
   "nbconvert_exporter": "python",
   "pygments_lexer": "ipython3",
   "version": "3.7.8"
  },
  "toc": {
   "base_numbering": 1,
   "nav_menu": {},
   "number_sections": true,
   "sideBar": true,
   "skip_h1_title": true,
   "title_cell": "Содержание",
   "title_sidebar": "Contents",
   "toc_cell": true,
   "toc_position": {},
   "toc_section_display": true,
   "toc_window_display": false
  }
 },
 "nbformat": 4,
 "nbformat_minor": 2
}
