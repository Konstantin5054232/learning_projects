{
 "cells": [
  {
   "cell_type": "markdown",
   "metadata": {},
   "source": [
    "# Защита персональных данных клиентов"
   ]
  },
  {
   "cell_type": "markdown",
   "metadata": {},
   "source": [
    "Стоит задача защитить данные клиентов страховой компании. Необходимо разработать такой метод преобразования данных, чтобы по ним было сложно восстановить персональную информацию, и обосновать корректность его работы.\n",
    "\n",
    "Данные нужно защитить так, чтобы при преобразовании качество моделей машинного обучения не ухудшилось."
   ]
  },
  {
   "cell_type": "markdown",
   "metadata": {},
   "source": [
    "## Загрузка данных"
   ]
  },
  {
   "cell_type": "code",
   "execution_count": 1,
   "metadata": {},
   "outputs": [],
   "source": [
    "import pandas as pd\n",
    "import numpy as np\n",
    "from sklearn.linear_model import LinearRegression"
   ]
  },
  {
   "cell_type": "code",
   "execution_count": 2,
   "metadata": {
    "scrolled": true
   },
   "outputs": [
    {
     "name": "stdout",
     "output_type": "stream",
     "text": [
      "<class 'pandas.core.frame.DataFrame'>\n",
      "RangeIndex: 5000 entries, 0 to 4999\n",
      "Data columns (total 5 columns):\n",
      "Пол                  5000 non-null int64\n",
      "Возраст              5000 non-null float64\n",
      "Зарплата             5000 non-null float64\n",
      "Члены семьи          5000 non-null int64\n",
      "Страховые выплаты    5000 non-null int64\n",
      "dtypes: float64(2), int64(3)\n",
      "memory usage: 195.4 KB\n"
     ]
    },
    {
     "data": {
      "text/plain": [
       "None"
      ]
     },
     "metadata": {},
     "output_type": "display_data"
    },
    {
     "data": {
      "text/plain": [
       "(5000, 5)"
      ]
     },
     "metadata": {},
     "output_type": "display_data"
    },
    {
     "data": {
      "text/html": [
       "<div>\n",
       "<style scoped>\n",
       "    .dataframe tbody tr th:only-of-type {\n",
       "        vertical-align: middle;\n",
       "    }\n",
       "\n",
       "    .dataframe tbody tr th {\n",
       "        vertical-align: top;\n",
       "    }\n",
       "\n",
       "    .dataframe thead th {\n",
       "        text-align: right;\n",
       "    }\n",
       "</style>\n",
       "<table border=\"1\" class=\"dataframe\">\n",
       "  <thead>\n",
       "    <tr style=\"text-align: right;\">\n",
       "      <th></th>\n",
       "      <th>Пол</th>\n",
       "      <th>Возраст</th>\n",
       "      <th>Зарплата</th>\n",
       "      <th>Члены семьи</th>\n",
       "      <th>Страховые выплаты</th>\n",
       "    </tr>\n",
       "  </thead>\n",
       "  <tbody>\n",
       "    <tr>\n",
       "      <td>0</td>\n",
       "      <td>1</td>\n",
       "      <td>41.0</td>\n",
       "      <td>49600.0</td>\n",
       "      <td>1</td>\n",
       "      <td>0</td>\n",
       "    </tr>\n",
       "    <tr>\n",
       "      <td>1</td>\n",
       "      <td>0</td>\n",
       "      <td>46.0</td>\n",
       "      <td>38000.0</td>\n",
       "      <td>1</td>\n",
       "      <td>1</td>\n",
       "    </tr>\n",
       "    <tr>\n",
       "      <td>2</td>\n",
       "      <td>0</td>\n",
       "      <td>29.0</td>\n",
       "      <td>21000.0</td>\n",
       "      <td>0</td>\n",
       "      <td>0</td>\n",
       "    </tr>\n",
       "    <tr>\n",
       "      <td>3</td>\n",
       "      <td>0</td>\n",
       "      <td>21.0</td>\n",
       "      <td>41700.0</td>\n",
       "      <td>2</td>\n",
       "      <td>0</td>\n",
       "    </tr>\n",
       "    <tr>\n",
       "      <td>4</td>\n",
       "      <td>1</td>\n",
       "      <td>28.0</td>\n",
       "      <td>26100.0</td>\n",
       "      <td>0</td>\n",
       "      <td>0</td>\n",
       "    </tr>\n",
       "  </tbody>\n",
       "</table>\n",
       "</div>"
      ],
      "text/plain": [
       "   Пол  Возраст  Зарплата  Члены семьи  Страховые выплаты\n",
       "0    1     41.0   49600.0            1                  0\n",
       "1    0     46.0   38000.0            1                  1\n",
       "2    0     29.0   21000.0            0                  0\n",
       "3    0     21.0   41700.0            2                  0\n",
       "4    1     28.0   26100.0            0                  0"
      ]
     },
     "metadata": {},
     "output_type": "display_data"
    },
    {
     "data": {
      "text/html": [
       "<div>\n",
       "<style scoped>\n",
       "    .dataframe tbody tr th:only-of-type {\n",
       "        vertical-align: middle;\n",
       "    }\n",
       "\n",
       "    .dataframe tbody tr th {\n",
       "        vertical-align: top;\n",
       "    }\n",
       "\n",
       "    .dataframe thead th {\n",
       "        text-align: right;\n",
       "    }\n",
       "</style>\n",
       "<table border=\"1\" class=\"dataframe\">\n",
       "  <thead>\n",
       "    <tr style=\"text-align: right;\">\n",
       "      <th></th>\n",
       "      <th>Пол</th>\n",
       "      <th>Возраст</th>\n",
       "      <th>Зарплата</th>\n",
       "      <th>Члены семьи</th>\n",
       "      <th>Страховые выплаты</th>\n",
       "    </tr>\n",
       "  </thead>\n",
       "  <tbody>\n",
       "    <tr>\n",
       "      <td>4995</td>\n",
       "      <td>0</td>\n",
       "      <td>28.0</td>\n",
       "      <td>35700.0</td>\n",
       "      <td>2</td>\n",
       "      <td>0</td>\n",
       "    </tr>\n",
       "    <tr>\n",
       "      <td>4996</td>\n",
       "      <td>0</td>\n",
       "      <td>34.0</td>\n",
       "      <td>52400.0</td>\n",
       "      <td>1</td>\n",
       "      <td>0</td>\n",
       "    </tr>\n",
       "    <tr>\n",
       "      <td>4997</td>\n",
       "      <td>0</td>\n",
       "      <td>20.0</td>\n",
       "      <td>33900.0</td>\n",
       "      <td>2</td>\n",
       "      <td>0</td>\n",
       "    </tr>\n",
       "    <tr>\n",
       "      <td>4998</td>\n",
       "      <td>1</td>\n",
       "      <td>22.0</td>\n",
       "      <td>32700.0</td>\n",
       "      <td>3</td>\n",
       "      <td>0</td>\n",
       "    </tr>\n",
       "    <tr>\n",
       "      <td>4999</td>\n",
       "      <td>1</td>\n",
       "      <td>28.0</td>\n",
       "      <td>40600.0</td>\n",
       "      <td>1</td>\n",
       "      <td>0</td>\n",
       "    </tr>\n",
       "  </tbody>\n",
       "</table>\n",
       "</div>"
      ],
      "text/plain": [
       "      Пол  Возраст  Зарплата  Члены семьи  Страховые выплаты\n",
       "4995    0     28.0   35700.0            2                  0\n",
       "4996    0     34.0   52400.0            1                  0\n",
       "4997    0     20.0   33900.0            2                  0\n",
       "4998    1     22.0   32700.0            3                  0\n",
       "4999    1     28.0   40600.0            1                  0"
      ]
     },
     "metadata": {},
     "output_type": "display_data"
    }
   ],
   "source": [
    "df = pd.read_csv('/datasets/insurance.csv')\n",
    "display(df.info())\n",
    "display(df.shape)\n",
    "display(df.head())\n",
    "display(df.tail())"
   ]
  },
  {
   "cell_type": "markdown",
   "metadata": {},
   "source": [
    "## Умножение матриц"
   ]
  },
  {
   "cell_type": "markdown",
   "metadata": {},
   "source": [
    "Подберем оптимальные веса для признаков X и XP путем преобразования формулы обучения\n",
    "\n",
    "$w = (X^T X)^{-1} X^T$\n",
    "\n",
    "$w'= ((XP)^{T}XP)^{-1}(XP)^{T} = (P^TX^TXP)^{-1} P^T X^T= P^{-1}(X^TX)^{-1}(P^T)^{-1}P^{T}X^T = P^{-1}(X^TX)^{-1}X^T = P^{-1} w$\n",
    "\n",
    "Сделаем предсказания. Для этого нужно матрицу признаков умножить на веса.\n",
    "\n",
    "$a = Xw$\n",
    "\n",
    "$a' = XPw' = XPP^{-1}w = Xw = a$\n",
    "\n",
    "Мы видим, что предсказания получились одинаковые для матрицы признаков Х и для матрицы признаков ХP"
   ]
  },
  {
   "cell_type": "markdown",
   "metadata": {},
   "source": [
    "**Алгоритм**\n",
    "\n",
    "1. Выделим из исходной таблицы целевой признак\n",
    "2. Обучим модель и посчитаем метрику R2\n",
    "3. Преобразуем таблицу признаков в матрицу\n",
    "4. Сформируем случайную обратимую матрицу размером 4х4 (по количеству признаков)\n",
    "5. Получим новую таблицу признакв путем умножения матрицы признаков на случайную матрицу\n",
    "6. Обучим модель и посчитаем метрику R2"
   ]
  },
  {
   "cell_type": "markdown",
   "metadata": {},
   "source": [
    "**Обоснование**\n",
    "\n",
    "Ранее теоретически путем преобразования формулы обучения было доказано, что после умножения матрицы признаков на обратимую матрицу предсазания не изменяются. Таким образом, качество модели не изменится."
   ]
  },
  {
   "cell_type": "markdown",
   "metadata": {},
   "source": [
    "## Проверка алгоритма"
   ]
  },
  {
   "cell_type": "code",
   "execution_count": 3,
   "metadata": {},
   "outputs": [
    {
     "name": "stdout",
     "output_type": "stream",
     "text": [
      "0.42494550286668\n"
     ]
    }
   ],
   "source": [
    "# Выделим из исходной таблицы целевой признак\n",
    "target = df['Страховые выплаты']\n",
    "features = df.drop(['Страховые выплаты'] , axis=1)\n",
    "\n",
    "# Обучим модель и посчитаем метрику R2\n",
    "model = LinearRegression()\n",
    "model.fit(features, target)\n",
    "print(model.score(features, target))"
   ]
  },
  {
   "cell_type": "code",
   "execution_count": 12,
   "metadata": {},
   "outputs": [
    {
     "name": "stdout",
     "output_type": "stream",
     "text": [
      "0.42494550286666477\n"
     ]
    }
   ],
   "source": [
    "# Преобразуем таблицу признаков в матрицу\n",
    "features_matrix = features.values\n",
    "\n",
    "# Сформируем случайную обратимую матрицу размером 4х4 (по количеству признаков)\n",
    "try:\n",
    "    data_random = np.random.normal(size = (4,4)) \n",
    "except numpy.linalg.LinAlgError: \n",
    "    data_random = np.random.normal(size = (4,4)) \n",
    "    \n",
    "# Получим новую таблицу признакв путем умножения матрицы признаков на случайную матрицу\n",
    "features_new = pd.DataFrame(features_matrix @ data_random)\n",
    "\n",
    "# Обучим модель и посчитаем метрику R2\n",
    "model.fit(features_new, target)\n",
    "print(model.score(features_new, target))"
   ]
  },
  {
   "cell_type": "markdown",
   "metadata": {},
   "source": [
    "**Вывод**\n",
    "\n",
    "Мы убедились, что после умножения матрицы признаков на случайную матрицу качество модели не изменилось, т.к. метрика R2 в обоих случаях равна. Персональные данные клиентов защищены без ущерба для работы модели."
   ]
  }
 ],
 "metadata": {
  "ExecuteTimeLog": [
   {
    "duration": 688,
    "start_time": "2021-07-19T09:56:57.036Z"
   },
   {
    "duration": 135,
    "start_time": "2021-07-19T09:56:57.727Z"
   },
   {
    "duration": 587,
    "start_time": "2021-07-21T09:56:44.515Z"
   },
   {
    "duration": 35,
    "start_time": "2021-07-21T09:56:45.104Z"
   },
   {
    "duration": 513,
    "start_time": "2021-07-21T09:56:45.141Z"
   },
   {
    "duration": 372,
    "start_time": "2021-07-21T09:57:11.066Z"
   },
   {
    "duration": 4,
    "start_time": "2021-07-21T16:30:00.214Z"
   },
   {
    "duration": 5,
    "start_time": "2021-07-21T16:32:03.367Z"
   },
   {
    "duration": 4,
    "start_time": "2021-07-21T16:32:56.575Z"
   },
   {
    "duration": 2,
    "start_time": "2021-07-21T16:33:20.493Z"
   },
   {
    "duration": 34,
    "start_time": "2021-07-21T16:33:20.497Z"
   },
   {
    "duration": 4,
    "start_time": "2021-07-21T16:33:20.533Z"
   },
   {
    "duration": 4,
    "start_time": "2021-07-21T16:34:20.701Z"
   },
   {
    "duration": 3,
    "start_time": "2021-07-21T16:34:46.787Z"
   },
   {
    "duration": 384,
    "start_time": "2021-07-21T16:35:46.877Z"
   },
   {
    "duration": 392,
    "start_time": "2021-07-21T16:42:46.598Z"
   },
   {
    "duration": 4,
    "start_time": "2021-07-21T16:45:10.569Z"
   },
   {
    "duration": 4,
    "start_time": "2021-07-21T16:45:15.519Z"
   },
   {
    "duration": 4,
    "start_time": "2021-07-21T16:48:07.261Z"
   },
   {
    "duration": 737,
    "start_time": "2021-07-22T09:52:28.105Z"
   },
   {
    "duration": 46,
    "start_time": "2021-07-22T09:52:28.845Z"
   },
   {
    "duration": 5,
    "start_time": "2021-07-22T09:52:28.894Z"
   },
   {
    "duration": 8,
    "start_time": "2021-07-22T09:52:28.901Z"
   },
   {
    "duration": 6,
    "start_time": "2021-07-22T09:54:57.625Z"
   },
   {
    "duration": 310,
    "start_time": "2021-07-23T09:38:45.580Z"
   },
   {
    "duration": 570,
    "start_time": "2021-07-23T09:38:48.401Z"
   },
   {
    "duration": 34,
    "start_time": "2021-07-23T09:38:48.972Z"
   },
   {
    "duration": 3,
    "start_time": "2021-07-23T09:38:49.008Z"
   },
   {
    "duration": 10,
    "start_time": "2021-07-23T09:38:49.013Z"
   },
   {
    "duration": 19,
    "start_time": "2021-07-23T09:38:49.025Z"
   },
   {
    "duration": 8,
    "start_time": "2021-07-23T09:38:49.046Z"
   },
   {
    "duration": 6,
    "start_time": "2021-07-23T09:41:47.705Z"
   },
   {
    "duration": 309,
    "start_time": "2021-07-23T09:44:50.060Z"
   },
   {
    "duration": 15,
    "start_time": "2021-07-23T09:48:07.341Z"
   },
   {
    "duration": 7,
    "start_time": "2021-07-23T09:58:50.308Z"
   },
   {
    "duration": 6,
    "start_time": "2021-07-23T09:59:37.020Z"
   },
   {
    "duration": 502,
    "start_time": "2021-07-23T10:01:01.108Z"
   },
   {
    "duration": 5,
    "start_time": "2021-07-23T10:02:42.044Z"
   },
   {
    "duration": 3,
    "start_time": "2021-07-23T10:03:41.368Z"
   },
   {
    "duration": 479,
    "start_time": "2021-07-23T10:06:34.570Z"
   },
   {
    "duration": 457,
    "start_time": "2021-07-23T10:07:31.598Z"
   },
   {
    "duration": 7,
    "start_time": "2021-07-23T10:08:02.941Z"
   },
   {
    "duration": 7,
    "start_time": "2021-07-23T10:38:59.500Z"
   },
   {
    "duration": 780,
    "start_time": "2021-07-23T10:42:54.388Z"
   },
   {
    "duration": 283,
    "start_time": "2021-07-23T10:43:07.181Z"
   },
   {
    "duration": 32,
    "start_time": "2021-07-23T13:15:56.591Z"
   },
   {
    "duration": 16,
    "start_time": "2021-07-23T13:19:35.536Z"
   },
   {
    "duration": 14,
    "start_time": "2021-07-23T13:22:12.968Z"
   },
   {
    "duration": 4,
    "start_time": "2021-07-23T13:40:34.231Z"
   },
   {
    "duration": 5,
    "start_time": "2021-07-23T13:49:09.348Z"
   },
   {
    "duration": 6,
    "start_time": "2021-07-23T13:50:43.048Z"
   },
   {
    "duration": 268,
    "start_time": "2021-07-23T13:52:17.858Z"
   },
   {
    "duration": 5,
    "start_time": "2021-07-23T13:53:03.587Z"
   },
   {
    "duration": 5,
    "start_time": "2021-07-23T13:53:38.628Z"
   },
   {
    "duration": 5,
    "start_time": "2021-07-23T13:54:14.212Z"
   },
   {
    "duration": 8,
    "start_time": "2021-07-23T13:55:02.501Z"
   },
   {
    "duration": 13,
    "start_time": "2021-07-23T13:55:50.388Z"
   },
   {
    "duration": 11,
    "start_time": "2021-07-23T14:03:19.051Z"
   },
   {
    "duration": 3,
    "start_time": "2021-07-23T14:19:46.268Z"
   },
   {
    "duration": 34,
    "start_time": "2021-07-23T14:19:46.273Z"
   },
   {
    "duration": 11,
    "start_time": "2021-07-23T14:19:46.309Z"
   },
   {
    "duration": 104,
    "start_time": "2021-07-23T14:19:46.342Z"
   },
   {
    "duration": 1325,
    "start_time": "2021-07-23T20:33:24.699Z"
   },
   {
    "duration": 52,
    "start_time": "2021-07-23T20:33:26.027Z"
   },
   {
    "duration": 74,
    "start_time": "2021-07-23T20:33:26.082Z"
   },
   {
    "duration": 104,
    "start_time": "2021-07-23T20:33:26.160Z"
   },
   {
    "duration": 470,
    "start_time": "2021-07-23T20:33:52.910Z"
   },
   {
    "duration": 333,
    "start_time": "2021-07-23T20:34:17.915Z"
   },
   {
    "duration": 327,
    "start_time": "2021-07-23T20:34:22.466Z"
   },
   {
    "duration": 15,
    "start_time": "2021-07-23T20:37:19.630Z"
   },
   {
    "duration": 90,
    "start_time": "2021-07-24T06:02:37.573Z"
   },
   {
    "duration": 1503,
    "start_time": "2021-07-24T07:28:12.662Z"
   },
   {
    "duration": 55,
    "start_time": "2021-07-24T07:28:14.167Z"
   },
   {
    "duration": 35,
    "start_time": "2021-07-24T07:28:14.226Z"
   },
   {
    "duration": 191,
    "start_time": "2021-07-24T07:28:14.265Z"
   },
   {
    "duration": 90,
    "start_time": "2021-07-24T07:28:46.511Z"
   },
   {
    "duration": 85,
    "start_time": "2021-07-24T07:29:07.350Z"
   },
   {
    "duration": 107,
    "start_time": "2021-07-24T07:29:17.435Z"
   },
   {
    "duration": 87,
    "start_time": "2021-07-24T07:30:29.209Z"
   },
   {
    "duration": 14,
    "start_time": "2021-07-24T07:41:12.081Z"
   },
   {
    "duration": 13,
    "start_time": "2021-07-24T07:41:44.337Z"
   },
   {
    "duration": 15,
    "start_time": "2021-07-24T07:42:38.297Z"
   },
   {
    "duration": 14,
    "start_time": "2021-07-24T07:42:46.306Z"
   }
  ],
  "kernelspec": {
   "display_name": "Python 3",
   "language": "python",
   "name": "python3"
  },
  "language_info": {
   "codemirror_mode": {
    "name": "ipython",
    "version": 3
   },
   "file_extension": ".py",
   "mimetype": "text/x-python",
   "name": "python",
   "nbconvert_exporter": "python",
   "pygments_lexer": "ipython3",
   "version": "3.7.8"
  },
  "toc": {
   "base_numbering": 1,
   "nav_menu": {},
   "number_sections": true,
   "sideBar": true,
   "skip_h1_title": true,
   "title_cell": "Содержание",
   "title_sidebar": "Contents",
   "toc_cell": true,
   "toc_position": {},
   "toc_section_display": true,
   "toc_window_display": true
  }
 },
 "nbformat": 4,
 "nbformat_minor": 2
}
