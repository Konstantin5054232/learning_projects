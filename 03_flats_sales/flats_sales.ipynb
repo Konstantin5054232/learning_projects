{
 "cells": [
  {
   "cell_type": "markdown",
   "metadata": {},
   "source": [
    "# Исследование объявлений о продаже квартир\n",
    "\n",
    "Проанализируем архив объявлений о продаже квартир в Санкт-Петербурге и соседних населённых пунктах за несколько лет. Цель - научиться определять рыночную стоимость объектов недвижимости. Необходимо установить параметры, что позволит построить автоматизированную систему отслеживания аномалий и мошенническую деятельность. \n",
    "\n",
    "По каждой квартире на продажу доступны два вида данных. Первые вписаны пользователем, вторые получены автоматически на основе картографических данных. Например, расстояние до центра, аэропорта, ближайшего парка и водоёма. "
   ]
  },
  {
   "cell_type": "markdown",
   "metadata": {},
   "source": [
    "## Изучение данных из файла"
   ]
  },
  {
   "cell_type": "code",
   "execution_count": 1,
   "metadata": {},
   "outputs": [
    {
     "name": "stdout",
     "output_type": "stream",
     "text": [
      "<class 'pandas.core.frame.DataFrame'>\n",
      "RangeIndex: 23699 entries, 0 to 23698\n",
      "Data columns (total 22 columns):\n",
      "total_images            23699 non-null int64\n",
      "last_price              23699 non-null float64\n",
      "total_area              23699 non-null float64\n",
      "first_day_exposition    23699 non-null object\n",
      "rooms                   23699 non-null int64\n",
      "ceiling_height          14504 non-null float64\n",
      "floors_total            23613 non-null float64\n",
      "living_area             21796 non-null float64\n",
      "floor                   23699 non-null int64\n",
      "is_apartment            2775 non-null object\n",
      "studio                  23699 non-null bool\n",
      "open_plan               23699 non-null bool\n",
      "kitchen_area            21421 non-null float64\n",
      "balcony                 12180 non-null float64\n",
      "locality_name           23650 non-null object\n",
      "airports_nearest        18157 non-null float64\n",
      "cityCenters_nearest     18180 non-null float64\n",
      "parks_around3000        18181 non-null float64\n",
      "parks_nearest           8079 non-null float64\n",
      "ponds_around3000        18181 non-null float64\n",
      "ponds_nearest           9110 non-null float64\n",
      "days_exposition         20518 non-null float64\n",
      "dtypes: bool(2), float64(14), int64(3), object(3)\n",
      "memory usage: 3.7+ MB\n"
     ]
    },
    {
     "data": {
      "text/plain": [
       "None"
      ]
     },
     "metadata": {},
     "output_type": "display_data"
    },
    {
     "data": {
      "text/plain": [
       "(23699, 22)"
      ]
     },
     "metadata": {},
     "output_type": "display_data"
    },
    {
     "data": {
      "text/html": [
       "<div>\n",
       "<style scoped>\n",
       "    .dataframe tbody tr th:only-of-type {\n",
       "        vertical-align: middle;\n",
       "    }\n",
       "\n",
       "    .dataframe tbody tr th {\n",
       "        vertical-align: top;\n",
       "    }\n",
       "\n",
       "    .dataframe thead th {\n",
       "        text-align: right;\n",
       "    }\n",
       "</style>\n",
       "<table border=\"1\" class=\"dataframe\">\n",
       "  <thead>\n",
       "    <tr style=\"text-align: right;\">\n",
       "      <th></th>\n",
       "      <th>total_images</th>\n",
       "      <th>last_price</th>\n",
       "      <th>total_area</th>\n",
       "      <th>first_day_exposition</th>\n",
       "      <th>rooms</th>\n",
       "      <th>ceiling_height</th>\n",
       "      <th>floors_total</th>\n",
       "      <th>living_area</th>\n",
       "      <th>floor</th>\n",
       "      <th>is_apartment</th>\n",
       "      <th>...</th>\n",
       "      <th>kitchen_area</th>\n",
       "      <th>balcony</th>\n",
       "      <th>locality_name</th>\n",
       "      <th>airports_nearest</th>\n",
       "      <th>cityCenters_nearest</th>\n",
       "      <th>parks_around3000</th>\n",
       "      <th>parks_nearest</th>\n",
       "      <th>ponds_around3000</th>\n",
       "      <th>ponds_nearest</th>\n",
       "      <th>days_exposition</th>\n",
       "    </tr>\n",
       "  </thead>\n",
       "  <tbody>\n",
       "    <tr>\n",
       "      <td>0</td>\n",
       "      <td>20</td>\n",
       "      <td>13000000.0</td>\n",
       "      <td>108.0</td>\n",
       "      <td>2019-03-07T00:00:00</td>\n",
       "      <td>3</td>\n",
       "      <td>2.70</td>\n",
       "      <td>16.0</td>\n",
       "      <td>51.0</td>\n",
       "      <td>8</td>\n",
       "      <td>NaN</td>\n",
       "      <td>...</td>\n",
       "      <td>25.0</td>\n",
       "      <td>NaN</td>\n",
       "      <td>Санкт-Петербург</td>\n",
       "      <td>18863.0</td>\n",
       "      <td>16028.0</td>\n",
       "      <td>1.0</td>\n",
       "      <td>482.0</td>\n",
       "      <td>2.0</td>\n",
       "      <td>755.0</td>\n",
       "      <td>NaN</td>\n",
       "    </tr>\n",
       "    <tr>\n",
       "      <td>1</td>\n",
       "      <td>7</td>\n",
       "      <td>3350000.0</td>\n",
       "      <td>40.4</td>\n",
       "      <td>2018-12-04T00:00:00</td>\n",
       "      <td>1</td>\n",
       "      <td>NaN</td>\n",
       "      <td>11.0</td>\n",
       "      <td>18.6</td>\n",
       "      <td>1</td>\n",
       "      <td>NaN</td>\n",
       "      <td>...</td>\n",
       "      <td>11.0</td>\n",
       "      <td>2.0</td>\n",
       "      <td>посёлок Шушары</td>\n",
       "      <td>12817.0</td>\n",
       "      <td>18603.0</td>\n",
       "      <td>0.0</td>\n",
       "      <td>NaN</td>\n",
       "      <td>0.0</td>\n",
       "      <td>NaN</td>\n",
       "      <td>81.0</td>\n",
       "    </tr>\n",
       "    <tr>\n",
       "      <td>2</td>\n",
       "      <td>10</td>\n",
       "      <td>5196000.0</td>\n",
       "      <td>56.0</td>\n",
       "      <td>2015-08-20T00:00:00</td>\n",
       "      <td>2</td>\n",
       "      <td>NaN</td>\n",
       "      <td>5.0</td>\n",
       "      <td>34.3</td>\n",
       "      <td>4</td>\n",
       "      <td>NaN</td>\n",
       "      <td>...</td>\n",
       "      <td>8.3</td>\n",
       "      <td>0.0</td>\n",
       "      <td>Санкт-Петербург</td>\n",
       "      <td>21741.0</td>\n",
       "      <td>13933.0</td>\n",
       "      <td>1.0</td>\n",
       "      <td>90.0</td>\n",
       "      <td>2.0</td>\n",
       "      <td>574.0</td>\n",
       "      <td>558.0</td>\n",
       "    </tr>\n",
       "    <tr>\n",
       "      <td>3</td>\n",
       "      <td>0</td>\n",
       "      <td>64900000.0</td>\n",
       "      <td>159.0</td>\n",
       "      <td>2015-07-24T00:00:00</td>\n",
       "      <td>3</td>\n",
       "      <td>NaN</td>\n",
       "      <td>14.0</td>\n",
       "      <td>NaN</td>\n",
       "      <td>9</td>\n",
       "      <td>NaN</td>\n",
       "      <td>...</td>\n",
       "      <td>NaN</td>\n",
       "      <td>0.0</td>\n",
       "      <td>Санкт-Петербург</td>\n",
       "      <td>28098.0</td>\n",
       "      <td>6800.0</td>\n",
       "      <td>2.0</td>\n",
       "      <td>84.0</td>\n",
       "      <td>3.0</td>\n",
       "      <td>234.0</td>\n",
       "      <td>424.0</td>\n",
       "    </tr>\n",
       "    <tr>\n",
       "      <td>4</td>\n",
       "      <td>2</td>\n",
       "      <td>10000000.0</td>\n",
       "      <td>100.0</td>\n",
       "      <td>2018-06-19T00:00:00</td>\n",
       "      <td>2</td>\n",
       "      <td>3.03</td>\n",
       "      <td>14.0</td>\n",
       "      <td>32.0</td>\n",
       "      <td>13</td>\n",
       "      <td>NaN</td>\n",
       "      <td>...</td>\n",
       "      <td>41.0</td>\n",
       "      <td>NaN</td>\n",
       "      <td>Санкт-Петербург</td>\n",
       "      <td>31856.0</td>\n",
       "      <td>8098.0</td>\n",
       "      <td>2.0</td>\n",
       "      <td>112.0</td>\n",
       "      <td>1.0</td>\n",
       "      <td>48.0</td>\n",
       "      <td>121.0</td>\n",
       "    </tr>\n",
       "  </tbody>\n",
       "</table>\n",
       "<p>5 rows × 22 columns</p>\n",
       "</div>"
      ],
      "text/plain": [
       "   total_images  last_price  total_area first_day_exposition  rooms  \\\n",
       "0            20  13000000.0       108.0  2019-03-07T00:00:00      3   \n",
       "1             7   3350000.0        40.4  2018-12-04T00:00:00      1   \n",
       "2            10   5196000.0        56.0  2015-08-20T00:00:00      2   \n",
       "3             0  64900000.0       159.0  2015-07-24T00:00:00      3   \n",
       "4             2  10000000.0       100.0  2018-06-19T00:00:00      2   \n",
       "\n",
       "   ceiling_height  floors_total  living_area  floor is_apartment  ...  \\\n",
       "0            2.70          16.0         51.0      8          NaN  ...   \n",
       "1             NaN          11.0         18.6      1          NaN  ...   \n",
       "2             NaN           5.0         34.3      4          NaN  ...   \n",
       "3             NaN          14.0          NaN      9          NaN  ...   \n",
       "4            3.03          14.0         32.0     13          NaN  ...   \n",
       "\n",
       "   kitchen_area  balcony    locality_name  airports_nearest  \\\n",
       "0          25.0      NaN  Санкт-Петербург           18863.0   \n",
       "1          11.0      2.0   посёлок Шушары           12817.0   \n",
       "2           8.3      0.0  Санкт-Петербург           21741.0   \n",
       "3           NaN      0.0  Санкт-Петербург           28098.0   \n",
       "4          41.0      NaN  Санкт-Петербург           31856.0   \n",
       "\n",
       "  cityCenters_nearest  parks_around3000  parks_nearest  ponds_around3000  \\\n",
       "0             16028.0               1.0          482.0               2.0   \n",
       "1             18603.0               0.0            NaN               0.0   \n",
       "2             13933.0               1.0           90.0               2.0   \n",
       "3              6800.0               2.0           84.0               3.0   \n",
       "4              8098.0               2.0          112.0               1.0   \n",
       "\n",
       "   ponds_nearest  days_exposition  \n",
       "0          755.0              NaN  \n",
       "1            NaN             81.0  \n",
       "2          574.0            558.0  \n",
       "3          234.0            424.0  \n",
       "4           48.0            121.0  \n",
       "\n",
       "[5 rows x 22 columns]"
      ]
     },
     "metadata": {},
     "output_type": "display_data"
    },
    {
     "data": {
      "text/html": [
       "<div>\n",
       "<style scoped>\n",
       "    .dataframe tbody tr th:only-of-type {\n",
       "        vertical-align: middle;\n",
       "    }\n",
       "\n",
       "    .dataframe tbody tr th {\n",
       "        vertical-align: top;\n",
       "    }\n",
       "\n",
       "    .dataframe thead th {\n",
       "        text-align: right;\n",
       "    }\n",
       "</style>\n",
       "<table border=\"1\" class=\"dataframe\">\n",
       "  <thead>\n",
       "    <tr style=\"text-align: right;\">\n",
       "      <th></th>\n",
       "      <th>total_images</th>\n",
       "      <th>last_price</th>\n",
       "      <th>total_area</th>\n",
       "      <th>first_day_exposition</th>\n",
       "      <th>rooms</th>\n",
       "      <th>ceiling_height</th>\n",
       "      <th>floors_total</th>\n",
       "      <th>living_area</th>\n",
       "      <th>floor</th>\n",
       "      <th>is_apartment</th>\n",
       "      <th>...</th>\n",
       "      <th>kitchen_area</th>\n",
       "      <th>balcony</th>\n",
       "      <th>locality_name</th>\n",
       "      <th>airports_nearest</th>\n",
       "      <th>cityCenters_nearest</th>\n",
       "      <th>parks_around3000</th>\n",
       "      <th>parks_nearest</th>\n",
       "      <th>ponds_around3000</th>\n",
       "      <th>ponds_nearest</th>\n",
       "      <th>days_exposition</th>\n",
       "    </tr>\n",
       "  </thead>\n",
       "  <tbody>\n",
       "    <tr>\n",
       "      <td>23694</td>\n",
       "      <td>9</td>\n",
       "      <td>9700000.0</td>\n",
       "      <td>133.81</td>\n",
       "      <td>2017-03-21T00:00:00</td>\n",
       "      <td>3</td>\n",
       "      <td>3.7</td>\n",
       "      <td>5.0</td>\n",
       "      <td>73.3</td>\n",
       "      <td>3</td>\n",
       "      <td>NaN</td>\n",
       "      <td>...</td>\n",
       "      <td>13.83</td>\n",
       "      <td>NaN</td>\n",
       "      <td>Санкт-Петербург</td>\n",
       "      <td>24665.0</td>\n",
       "      <td>4232.0</td>\n",
       "      <td>1.0</td>\n",
       "      <td>796.0</td>\n",
       "      <td>3.0</td>\n",
       "      <td>381.0</td>\n",
       "      <td>NaN</td>\n",
       "    </tr>\n",
       "    <tr>\n",
       "      <td>23695</td>\n",
       "      <td>14</td>\n",
       "      <td>3100000.0</td>\n",
       "      <td>59.00</td>\n",
       "      <td>2018-01-15T00:00:00</td>\n",
       "      <td>3</td>\n",
       "      <td>NaN</td>\n",
       "      <td>5.0</td>\n",
       "      <td>38.0</td>\n",
       "      <td>4</td>\n",
       "      <td>NaN</td>\n",
       "      <td>...</td>\n",
       "      <td>8.50</td>\n",
       "      <td>NaN</td>\n",
       "      <td>Тосно</td>\n",
       "      <td>NaN</td>\n",
       "      <td>NaN</td>\n",
       "      <td>NaN</td>\n",
       "      <td>NaN</td>\n",
       "      <td>NaN</td>\n",
       "      <td>NaN</td>\n",
       "      <td>45.0</td>\n",
       "    </tr>\n",
       "    <tr>\n",
       "      <td>23696</td>\n",
       "      <td>18</td>\n",
       "      <td>2500000.0</td>\n",
       "      <td>56.70</td>\n",
       "      <td>2018-02-11T00:00:00</td>\n",
       "      <td>2</td>\n",
       "      <td>NaN</td>\n",
       "      <td>3.0</td>\n",
       "      <td>29.7</td>\n",
       "      <td>1</td>\n",
       "      <td>NaN</td>\n",
       "      <td>...</td>\n",
       "      <td>NaN</td>\n",
       "      <td>NaN</td>\n",
       "      <td>село Рождествено</td>\n",
       "      <td>NaN</td>\n",
       "      <td>NaN</td>\n",
       "      <td>NaN</td>\n",
       "      <td>NaN</td>\n",
       "      <td>NaN</td>\n",
       "      <td>NaN</td>\n",
       "      <td>NaN</td>\n",
       "    </tr>\n",
       "    <tr>\n",
       "      <td>23697</td>\n",
       "      <td>13</td>\n",
       "      <td>11475000.0</td>\n",
       "      <td>76.75</td>\n",
       "      <td>2017-03-28T00:00:00</td>\n",
       "      <td>2</td>\n",
       "      <td>3.0</td>\n",
       "      <td>17.0</td>\n",
       "      <td>NaN</td>\n",
       "      <td>12</td>\n",
       "      <td>NaN</td>\n",
       "      <td>...</td>\n",
       "      <td>23.30</td>\n",
       "      <td>2.0</td>\n",
       "      <td>Санкт-Петербург</td>\n",
       "      <td>39140.0</td>\n",
       "      <td>10364.0</td>\n",
       "      <td>2.0</td>\n",
       "      <td>173.0</td>\n",
       "      <td>3.0</td>\n",
       "      <td>196.0</td>\n",
       "      <td>602.0</td>\n",
       "    </tr>\n",
       "    <tr>\n",
       "      <td>23698</td>\n",
       "      <td>4</td>\n",
       "      <td>1350000.0</td>\n",
       "      <td>32.30</td>\n",
       "      <td>2017-07-21T00:00:00</td>\n",
       "      <td>1</td>\n",
       "      <td>2.5</td>\n",
       "      <td>5.0</td>\n",
       "      <td>12.3</td>\n",
       "      <td>1</td>\n",
       "      <td>NaN</td>\n",
       "      <td>...</td>\n",
       "      <td>9.00</td>\n",
       "      <td>NaN</td>\n",
       "      <td>поселок Новый Учхоз</td>\n",
       "      <td>NaN</td>\n",
       "      <td>NaN</td>\n",
       "      <td>NaN</td>\n",
       "      <td>NaN</td>\n",
       "      <td>NaN</td>\n",
       "      <td>NaN</td>\n",
       "      <td>NaN</td>\n",
       "    </tr>\n",
       "  </tbody>\n",
       "</table>\n",
       "<p>5 rows × 22 columns</p>\n",
       "</div>"
      ],
      "text/plain": [
       "       total_images  last_price  total_area first_day_exposition  rooms  \\\n",
       "23694             9   9700000.0      133.81  2017-03-21T00:00:00      3   \n",
       "23695            14   3100000.0       59.00  2018-01-15T00:00:00      3   \n",
       "23696            18   2500000.0       56.70  2018-02-11T00:00:00      2   \n",
       "23697            13  11475000.0       76.75  2017-03-28T00:00:00      2   \n",
       "23698             4   1350000.0       32.30  2017-07-21T00:00:00      1   \n",
       "\n",
       "       ceiling_height  floors_total  living_area  floor is_apartment  ...  \\\n",
       "23694             3.7           5.0         73.3      3          NaN  ...   \n",
       "23695             NaN           5.0         38.0      4          NaN  ...   \n",
       "23696             NaN           3.0         29.7      1          NaN  ...   \n",
       "23697             3.0          17.0          NaN     12          NaN  ...   \n",
       "23698             2.5           5.0         12.3      1          NaN  ...   \n",
       "\n",
       "       kitchen_area  balcony        locality_name  airports_nearest  \\\n",
       "23694         13.83      NaN      Санкт-Петербург           24665.0   \n",
       "23695          8.50      NaN                Тосно               NaN   \n",
       "23696           NaN      NaN     село Рождествено               NaN   \n",
       "23697         23.30      2.0      Санкт-Петербург           39140.0   \n",
       "23698          9.00      NaN  поселок Новый Учхоз               NaN   \n",
       "\n",
       "      cityCenters_nearest  parks_around3000  parks_nearest  ponds_around3000  \\\n",
       "23694              4232.0               1.0          796.0               3.0   \n",
       "23695                 NaN               NaN            NaN               NaN   \n",
       "23696                 NaN               NaN            NaN               NaN   \n",
       "23697             10364.0               2.0          173.0               3.0   \n",
       "23698                 NaN               NaN            NaN               NaN   \n",
       "\n",
       "       ponds_nearest  days_exposition  \n",
       "23694          381.0              NaN  \n",
       "23695            NaN             45.0  \n",
       "23696            NaN              NaN  \n",
       "23697          196.0            602.0  \n",
       "23698            NaN              NaN  \n",
       "\n",
       "[5 rows x 22 columns]"
      ]
     },
     "metadata": {},
     "output_type": "display_data"
    }
   ],
   "source": [
    "import pandas as pd\n",
    "data = pd.read_csv('/datasets/real_estate_data.csv', sep='\\t')\n",
    "display(data.info())\n",
    "display(data.shape)\n",
    "display(data.head())\n",
    "display(data.tail())"
   ]
  },
  {
   "cell_type": "markdown",
   "metadata": {},
   "source": [
    "**Выводы.** Изучив данные мы видим, что датафрейм состоит из 23699 строк, 22 столбцов. Талица очень громоздкая, некоторые столбцы не нужны для ответов на поставленные вопросы. Отдельные столбцы содержат нулевые значения, где-то их больше половины. Столбец first_day_exposition содержит сведения о времени и дате, но имеет формат данных object, время везде нулевое, для исследований не понадобится."
   ]
  },
  {
   "cell_type": "markdown",
   "metadata": {},
   "source": [
    "## Предобработка данных"
   ]
  },
  {
   "cell_type": "code",
   "execution_count": 2,
   "metadata": {},
   "outputs": [
    {
     "data": {
      "text/plain": [
       "0"
      ]
     },
     "metadata": {},
     "output_type": "display_data"
    },
    {
     "name": "stdout",
     "output_type": "stream",
     "text": [
      "<class 'pandas.core.frame.DataFrame'>\n",
      "Int64Index: 23613 entries, 0 to 23698\n",
      "Data columns (total 13 columns):\n",
      "last_price              23613 non-null int64\n",
      "total_area              23613 non-null float64\n",
      "first_day_exposition    23613 non-null datetime64[ns]\n",
      "rooms                   23613 non-null int64\n",
      "ceiling_height          14495 non-null float64\n",
      "floors_total            23613 non-null int64\n",
      "living_area             21743 non-null float64\n",
      "floor                   23613 non-null int64\n",
      "kitchen_area            21382 non-null float64\n",
      "balcony                 23613 non-null int64\n",
      "locality_name           23565 non-null object\n",
      "cityCenters_nearest     23613 non-null float64\n",
      "days_exposition         20441 non-null float64\n",
      "dtypes: datetime64[ns](1), float64(6), int64(5), object(1)\n",
      "memory usage: 2.5+ MB\n"
     ]
    },
    {
     "data": {
      "text/html": [
       "<div>\n",
       "<style scoped>\n",
       "    .dataframe tbody tr th:only-of-type {\n",
       "        vertical-align: middle;\n",
       "    }\n",
       "\n",
       "    .dataframe tbody tr th {\n",
       "        vertical-align: top;\n",
       "    }\n",
       "\n",
       "    .dataframe thead th {\n",
       "        text-align: right;\n",
       "    }\n",
       "</style>\n",
       "<table border=\"1\" class=\"dataframe\">\n",
       "  <thead>\n",
       "    <tr style=\"text-align: right;\">\n",
       "      <th></th>\n",
       "      <th>last_price</th>\n",
       "      <th>total_area</th>\n",
       "      <th>first_day_exposition</th>\n",
       "      <th>rooms</th>\n",
       "      <th>ceiling_height</th>\n",
       "      <th>floors_total</th>\n",
       "      <th>living_area</th>\n",
       "      <th>floor</th>\n",
       "      <th>kitchen_area</th>\n",
       "      <th>balcony</th>\n",
       "      <th>locality_name</th>\n",
       "      <th>cityCenters_nearest</th>\n",
       "      <th>days_exposition</th>\n",
       "    </tr>\n",
       "  </thead>\n",
       "  <tbody>\n",
       "    <tr>\n",
       "      <td>0</td>\n",
       "      <td>13000000</td>\n",
       "      <td>108.0</td>\n",
       "      <td>2019-03-07</td>\n",
       "      <td>3</td>\n",
       "      <td>2.70</td>\n",
       "      <td>16</td>\n",
       "      <td>51.0</td>\n",
       "      <td>8</td>\n",
       "      <td>25.0</td>\n",
       "      <td>0</td>\n",
       "      <td>Санкт-Петербург</td>\n",
       "      <td>16028.0</td>\n",
       "      <td>NaN</td>\n",
       "    </tr>\n",
       "    <tr>\n",
       "      <td>1</td>\n",
       "      <td>3350000</td>\n",
       "      <td>40.4</td>\n",
       "      <td>2018-12-04</td>\n",
       "      <td>1</td>\n",
       "      <td>NaN</td>\n",
       "      <td>11</td>\n",
       "      <td>18.6</td>\n",
       "      <td>1</td>\n",
       "      <td>11.0</td>\n",
       "      <td>2</td>\n",
       "      <td>посёлок Шушары</td>\n",
       "      <td>18603.0</td>\n",
       "      <td>81.0</td>\n",
       "    </tr>\n",
       "    <tr>\n",
       "      <td>2</td>\n",
       "      <td>5196000</td>\n",
       "      <td>56.0</td>\n",
       "      <td>2015-08-20</td>\n",
       "      <td>2</td>\n",
       "      <td>NaN</td>\n",
       "      <td>5</td>\n",
       "      <td>34.3</td>\n",
       "      <td>4</td>\n",
       "      <td>8.3</td>\n",
       "      <td>0</td>\n",
       "      <td>Санкт-Петербург</td>\n",
       "      <td>13933.0</td>\n",
       "      <td>558.0</td>\n",
       "    </tr>\n",
       "    <tr>\n",
       "      <td>3</td>\n",
       "      <td>64900000</td>\n",
       "      <td>159.0</td>\n",
       "      <td>2015-07-24</td>\n",
       "      <td>3</td>\n",
       "      <td>NaN</td>\n",
       "      <td>14</td>\n",
       "      <td>NaN</td>\n",
       "      <td>9</td>\n",
       "      <td>NaN</td>\n",
       "      <td>0</td>\n",
       "      <td>Санкт-Петербург</td>\n",
       "      <td>6800.0</td>\n",
       "      <td>424.0</td>\n",
       "    </tr>\n",
       "    <tr>\n",
       "      <td>4</td>\n",
       "      <td>10000000</td>\n",
       "      <td>100.0</td>\n",
       "      <td>2018-06-19</td>\n",
       "      <td>2</td>\n",
       "      <td>3.03</td>\n",
       "      <td>14</td>\n",
       "      <td>32.0</td>\n",
       "      <td>13</td>\n",
       "      <td>41.0</td>\n",
       "      <td>0</td>\n",
       "      <td>Санкт-Петербург</td>\n",
       "      <td>8098.0</td>\n",
       "      <td>121.0</td>\n",
       "    </tr>\n",
       "  </tbody>\n",
       "</table>\n",
       "</div>"
      ],
      "text/plain": [
       "   last_price  total_area first_day_exposition  rooms  ceiling_height  \\\n",
       "0    13000000       108.0           2019-03-07      3            2.70   \n",
       "1     3350000        40.4           2018-12-04      1             NaN   \n",
       "2     5196000        56.0           2015-08-20      2             NaN   \n",
       "3    64900000       159.0           2015-07-24      3             NaN   \n",
       "4    10000000       100.0           2018-06-19      2            3.03   \n",
       "\n",
       "   floors_total  living_area  floor  kitchen_area  balcony    locality_name  \\\n",
       "0            16         51.0      8          25.0        0  Санкт-Петербург   \n",
       "1            11         18.6      1          11.0        2   посёлок Шушары   \n",
       "2             5         34.3      4           8.3        0  Санкт-Петербург   \n",
       "3            14          NaN      9           NaN        0  Санкт-Петербург   \n",
       "4            14         32.0     13          41.0        0  Санкт-Петербург   \n",
       "\n",
       "   cityCenters_nearest  days_exposition  \n",
       "0              16028.0              NaN  \n",
       "1              18603.0             81.0  \n",
       "2              13933.0            558.0  \n",
       "3               6800.0            424.0  \n",
       "4               8098.0            121.0  "
      ]
     },
     "execution_count": 2,
     "metadata": {},
     "output_type": "execute_result"
    }
   ],
   "source": [
    "# Удалим столбцы, которые не понадобятся для анализа данных\n",
    "data.drop(['total_images', 'is_apartment', 'studio', 'open_plan', 'airports_nearest', 'parks_around3000', 'parks_nearest', 'ponds_around3000', 'ponds_nearest'], axis = 1, inplace = True)\n",
    "\n",
    "# Посчитаем количество дубликатов набором методов data.duplicated().sum().\n",
    "display(data.duplicated().sum())\n",
    "\n",
    "# Удалим строки, где отсутствует информация о количестве этажей в доме.\n",
    "# Таких строк не много, удаление существено не повлияет на результат.\n",
    "data.dropna(subset = ['floors_total'], inplace = True)\n",
    "\n",
    "# Заполним нулевые значения в столбцах balcony, parks_around3000, ponds_around3000 значениями 0, \n",
    "# т.к., скорее всего, там нет балконов, парков и водоемов.\n",
    "data['balcony'] = data['balcony'].fillna(0)\n",
    "\n",
    "# Заполним нулевые значения в столбце cityCenters_nearest медианным значением по данному столбцу.\n",
    "# Удалять строки с пустыми значениями в данном столбце нельзя, т.к. их слишком много.\n",
    "data['cityCenters_nearest'] = data['cityCenters_nearest'].fillna(data['cityCenters_nearest'].median())\n",
    "\n",
    "# Изменим формат данных для столбца first_day_exposition\n",
    "data['first_day_exposition'] = pd.to_datetime(data['first_day_exposition'], format='%Y-%m-%dT%H:%M:%S')\n",
    "\n",
    "# Переведем значения столбцов last_price, floors_total, balcony в целые числа\n",
    "data['last_price'] = data['last_price'].astype('int')\n",
    "data['balcony'] = data['balcony'].astype('int')\n",
    "data['floors_total'] = data['floors_total'].astype('int')\n",
    "\n",
    "# Проверим, что получилось, распечатав информацию о талице и первые 5 строк таблицы.\n",
    "data.info()\n",
    "data.head()"
   ]
  },
  {
   "cell_type": "code",
   "execution_count": 3,
   "metadata": {},
   "outputs": [
    {
     "name": "stdout",
     "output_type": "stream",
     "text": [
      "<class 'pandas.core.frame.DataFrame'>\n",
      "Int64Index: 23613 entries, 0 to 23698\n",
      "Data columns (total 13 columns):\n",
      "last_price              23613 non-null int64\n",
      "total_area              23613 non-null float64\n",
      "first_day_exposition    23613 non-null datetime64[ns]\n",
      "rooms                   23613 non-null int64\n",
      "ceiling_height          14495 non-null float64\n",
      "floors_total            23613 non-null int64\n",
      "living_area             23613 non-null float64\n",
      "floor                   23613 non-null int64\n",
      "kitchen_area            23419 non-null float64\n",
      "balcony                 23613 non-null int64\n",
      "locality_name           23565 non-null object\n",
      "cityCenters_nearest     23613 non-null float64\n",
      "days_exposition         20441 non-null float64\n",
      "dtypes: datetime64[ns](1), float64(6), int64(5), object(1)\n",
      "memory usage: 2.5+ MB\n"
     ]
    },
    {
     "name": "stderr",
     "output_type": "stream",
     "text": [
      "/opt/conda/lib/python3.7/site-packages/numpy/lib/nanfunctions.py:1111: RuntimeWarning: Mean of empty slice\n",
      "  return np.nanmean(a, axis, out=out, keepdims=keepdims)\n"
     ]
    },
    {
     "data": {
      "text/html": [
       "<div>\n",
       "<style scoped>\n",
       "    .dataframe tbody tr th:only-of-type {\n",
       "        vertical-align: middle;\n",
       "    }\n",
       "\n",
       "    .dataframe tbody tr th {\n",
       "        vertical-align: top;\n",
       "    }\n",
       "\n",
       "    .dataframe thead th {\n",
       "        text-align: right;\n",
       "    }\n",
       "</style>\n",
       "<table border=\"1\" class=\"dataframe\">\n",
       "  <thead>\n",
       "    <tr style=\"text-align: right;\">\n",
       "      <th></th>\n",
       "      <th>last_price</th>\n",
       "      <th>total_area</th>\n",
       "      <th>first_day_exposition</th>\n",
       "      <th>rooms</th>\n",
       "      <th>ceiling_height</th>\n",
       "      <th>floors_total</th>\n",
       "      <th>living_area</th>\n",
       "      <th>floor</th>\n",
       "      <th>kitchen_area</th>\n",
       "      <th>balcony</th>\n",
       "      <th>locality_name</th>\n",
       "      <th>cityCenters_nearest</th>\n",
       "      <th>days_exposition</th>\n",
       "    </tr>\n",
       "  </thead>\n",
       "  <tbody>\n",
       "    <tr>\n",
       "      <td>0</td>\n",
       "      <td>13000000</td>\n",
       "      <td>108.0</td>\n",
       "      <td>2019-03-07</td>\n",
       "      <td>3</td>\n",
       "      <td>2.70</td>\n",
       "      <td>16</td>\n",
       "      <td>51.0</td>\n",
       "      <td>8</td>\n",
       "      <td>25.0</td>\n",
       "      <td>0</td>\n",
       "      <td>Санкт-Петербург</td>\n",
       "      <td>16028.0</td>\n",
       "      <td>NaN</td>\n",
       "    </tr>\n",
       "    <tr>\n",
       "      <td>1</td>\n",
       "      <td>3350000</td>\n",
       "      <td>40.4</td>\n",
       "      <td>2018-12-04</td>\n",
       "      <td>1</td>\n",
       "      <td>NaN</td>\n",
       "      <td>11</td>\n",
       "      <td>18.6</td>\n",
       "      <td>1</td>\n",
       "      <td>11.0</td>\n",
       "      <td>2</td>\n",
       "      <td>посёлок Шушары</td>\n",
       "      <td>18603.0</td>\n",
       "      <td>81.0</td>\n",
       "    </tr>\n",
       "    <tr>\n",
       "      <td>2</td>\n",
       "      <td>5196000</td>\n",
       "      <td>56.0</td>\n",
       "      <td>2015-08-20</td>\n",
       "      <td>2</td>\n",
       "      <td>NaN</td>\n",
       "      <td>5</td>\n",
       "      <td>34.3</td>\n",
       "      <td>4</td>\n",
       "      <td>8.3</td>\n",
       "      <td>0</td>\n",
       "      <td>Санкт-Петербург</td>\n",
       "      <td>13933.0</td>\n",
       "      <td>558.0</td>\n",
       "    </tr>\n",
       "    <tr>\n",
       "      <td>3</td>\n",
       "      <td>64900000</td>\n",
       "      <td>159.0</td>\n",
       "      <td>2015-07-24</td>\n",
       "      <td>3</td>\n",
       "      <td>NaN</td>\n",
       "      <td>14</td>\n",
       "      <td>45.0</td>\n",
       "      <td>9</td>\n",
       "      <td>9.5</td>\n",
       "      <td>0</td>\n",
       "      <td>Санкт-Петербург</td>\n",
       "      <td>6800.0</td>\n",
       "      <td>424.0</td>\n",
       "    </tr>\n",
       "    <tr>\n",
       "      <td>4</td>\n",
       "      <td>10000000</td>\n",
       "      <td>100.0</td>\n",
       "      <td>2018-06-19</td>\n",
       "      <td>2</td>\n",
       "      <td>3.03</td>\n",
       "      <td>14</td>\n",
       "      <td>32.0</td>\n",
       "      <td>13</td>\n",
       "      <td>41.0</td>\n",
       "      <td>0</td>\n",
       "      <td>Санкт-Петербург</td>\n",
       "      <td>8098.0</td>\n",
       "      <td>121.0</td>\n",
       "    </tr>\n",
       "  </tbody>\n",
       "</table>\n",
       "</div>"
      ],
      "text/plain": [
       "   last_price  total_area first_day_exposition  rooms  ceiling_height  \\\n",
       "0    13000000       108.0           2019-03-07      3            2.70   \n",
       "1     3350000        40.4           2018-12-04      1             NaN   \n",
       "2     5196000        56.0           2015-08-20      2             NaN   \n",
       "3    64900000       159.0           2015-07-24      3             NaN   \n",
       "4    10000000       100.0           2018-06-19      2            3.03   \n",
       "\n",
       "   floors_total  living_area  floor  kitchen_area  balcony    locality_name  \\\n",
       "0            16         51.0      8          25.0        0  Санкт-Петербург   \n",
       "1            11         18.6      1          11.0        2   посёлок Шушары   \n",
       "2             5         34.3      4           8.3        0  Санкт-Петербург   \n",
       "3            14         45.0      9           9.5        0  Санкт-Петербург   \n",
       "4            14         32.0     13          41.0        0  Санкт-Петербург   \n",
       "\n",
       "   cityCenters_nearest  days_exposition  \n",
       "0              16028.0              NaN  \n",
       "1              18603.0             81.0  \n",
       "2              13933.0            558.0  \n",
       "3               6800.0            424.0  \n",
       "4               8098.0            121.0  "
      ]
     },
     "execution_count": 3,
     "metadata": {},
     "output_type": "execute_result"
    }
   ],
   "source": [
    "# Заполним нулевые значения в столбцах living_area и kitchen_area в зависимости от количества комнат в квартире\n",
    "for rooms in data['rooms'].unique():\n",
    "    median = data.loc[data['rooms'] == rooms, 'living_area'].median()\n",
    "    data.loc[(data['rooms'] == rooms) & (data['living_area'].isna()), 'living_area'] = median\n",
    "\n",
    "    median = data.loc[data['rooms'] == rooms, 'kitchen_area'].median()\n",
    "    data.loc[(data['rooms'] == rooms) & (data['kitchen_area'].isna()), 'kitchen_area'] = median\n",
    "    \n",
    "data.info()\n",
    "data.head()    "
   ]
  },
  {
   "cell_type": "markdown",
   "metadata": {},
   "source": [
    "**Выводы.** Дубликатов нет. Столбцы с данными, не нужными для анализа, удалили, чтобы не загромождать таблицу. Мы заполнили нулевые значения различными способами, в зависимости от количества нулевых значений и смысла содержащихся в столбце данных. Отдельно заполнили нулевые значения в столбцах, содержащих информацию о жилой площади и площади кухни: поставили медианные значения в зависимости от количества комнат в квартире, чтобы расчеты были более точными.\n",
    "Для дальнейшего анализа поменяли формат данных в столбце first_day_exposition на datetime64[ns]. Для удобства восприятия значения в отдельных стобцах перевели в целые числа. Теперь данные готовы для анализа."
   ]
  },
  {
   "cell_type": "markdown",
   "metadata": {},
   "source": [
    "## Рассчёты и добавление результатов в таблицу"
   ]
  },
  {
   "cell_type": "code",
   "execution_count": 4,
   "metadata": {},
   "outputs": [
    {
     "data": {
      "text/html": [
       "<div>\n",
       "<style scoped>\n",
       "    .dataframe tbody tr th:only-of-type {\n",
       "        vertical-align: middle;\n",
       "    }\n",
       "\n",
       "    .dataframe tbody tr th {\n",
       "        vertical-align: top;\n",
       "    }\n",
       "\n",
       "    .dataframe thead th {\n",
       "        text-align: right;\n",
       "    }\n",
       "</style>\n",
       "<table border=\"1\" class=\"dataframe\">\n",
       "  <thead>\n",
       "    <tr style=\"text-align: right;\">\n",
       "      <th></th>\n",
       "      <th>last_price</th>\n",
       "      <th>total_area</th>\n",
       "      <th>first_day_exposition</th>\n",
       "      <th>rooms</th>\n",
       "      <th>ceiling_height</th>\n",
       "      <th>floors_total</th>\n",
       "      <th>living_area</th>\n",
       "      <th>floor</th>\n",
       "      <th>kitchen_area</th>\n",
       "      <th>balcony</th>\n",
       "      <th>locality_name</th>\n",
       "      <th>cityCenters_nearest</th>\n",
       "      <th>days_exposition</th>\n",
       "      <th>price_per_meter</th>\n",
       "      <th>part_living_total</th>\n",
       "      <th>part_kitchen_total</th>\n",
       "      <th>weekday</th>\n",
       "      <th>month</th>\n",
       "      <th>year</th>\n",
       "      <th>floor_type</th>\n",
       "    </tr>\n",
       "  </thead>\n",
       "  <tbody>\n",
       "    <tr>\n",
       "      <td>0</td>\n",
       "      <td>13000000</td>\n",
       "      <td>108.0</td>\n",
       "      <td>2019-03-07</td>\n",
       "      <td>3</td>\n",
       "      <td>2.70</td>\n",
       "      <td>16</td>\n",
       "      <td>51.0</td>\n",
       "      <td>8</td>\n",
       "      <td>25.0</td>\n",
       "      <td>0</td>\n",
       "      <td>Санкт-Петербург</td>\n",
       "      <td>16028.0</td>\n",
       "      <td>NaN</td>\n",
       "      <td>120370.370370</td>\n",
       "      <td>0.472222</td>\n",
       "      <td>0.231481</td>\n",
       "      <td>3</td>\n",
       "      <td>3</td>\n",
       "      <td>2019</td>\n",
       "      <td>2</td>\n",
       "    </tr>\n",
       "    <tr>\n",
       "      <td>1</td>\n",
       "      <td>3350000</td>\n",
       "      <td>40.4</td>\n",
       "      <td>2018-12-04</td>\n",
       "      <td>1</td>\n",
       "      <td>NaN</td>\n",
       "      <td>11</td>\n",
       "      <td>18.6</td>\n",
       "      <td>1</td>\n",
       "      <td>11.0</td>\n",
       "      <td>2</td>\n",
       "      <td>посёлок Шушары</td>\n",
       "      <td>18603.0</td>\n",
       "      <td>81.0</td>\n",
       "      <td>82920.792079</td>\n",
       "      <td>0.460396</td>\n",
       "      <td>0.272277</td>\n",
       "      <td>1</td>\n",
       "      <td>12</td>\n",
       "      <td>2018</td>\n",
       "      <td>1</td>\n",
       "    </tr>\n",
       "    <tr>\n",
       "      <td>2</td>\n",
       "      <td>5196000</td>\n",
       "      <td>56.0</td>\n",
       "      <td>2015-08-20</td>\n",
       "      <td>2</td>\n",
       "      <td>NaN</td>\n",
       "      <td>5</td>\n",
       "      <td>34.3</td>\n",
       "      <td>4</td>\n",
       "      <td>8.3</td>\n",
       "      <td>0</td>\n",
       "      <td>Санкт-Петербург</td>\n",
       "      <td>13933.0</td>\n",
       "      <td>558.0</td>\n",
       "      <td>92785.714286</td>\n",
       "      <td>0.612500</td>\n",
       "      <td>0.148214</td>\n",
       "      <td>3</td>\n",
       "      <td>8</td>\n",
       "      <td>2015</td>\n",
       "      <td>2</td>\n",
       "    </tr>\n",
       "    <tr>\n",
       "      <td>3</td>\n",
       "      <td>64900000</td>\n",
       "      <td>159.0</td>\n",
       "      <td>2015-07-24</td>\n",
       "      <td>3</td>\n",
       "      <td>NaN</td>\n",
       "      <td>14</td>\n",
       "      <td>45.0</td>\n",
       "      <td>9</td>\n",
       "      <td>9.5</td>\n",
       "      <td>0</td>\n",
       "      <td>Санкт-Петербург</td>\n",
       "      <td>6800.0</td>\n",
       "      <td>424.0</td>\n",
       "      <td>408176.100629</td>\n",
       "      <td>0.283019</td>\n",
       "      <td>0.059748</td>\n",
       "      <td>4</td>\n",
       "      <td>7</td>\n",
       "      <td>2015</td>\n",
       "      <td>2</td>\n",
       "    </tr>\n",
       "    <tr>\n",
       "      <td>4</td>\n",
       "      <td>10000000</td>\n",
       "      <td>100.0</td>\n",
       "      <td>2018-06-19</td>\n",
       "      <td>2</td>\n",
       "      <td>3.03</td>\n",
       "      <td>14</td>\n",
       "      <td>32.0</td>\n",
       "      <td>13</td>\n",
       "      <td>41.0</td>\n",
       "      <td>0</td>\n",
       "      <td>Санкт-Петербург</td>\n",
       "      <td>8098.0</td>\n",
       "      <td>121.0</td>\n",
       "      <td>100000.000000</td>\n",
       "      <td>0.320000</td>\n",
       "      <td>0.410000</td>\n",
       "      <td>1</td>\n",
       "      <td>6</td>\n",
       "      <td>2018</td>\n",
       "      <td>2</td>\n",
       "    </tr>\n",
       "  </tbody>\n",
       "</table>\n",
       "</div>"
      ],
      "text/plain": [
       "   last_price  total_area first_day_exposition  rooms  ceiling_height  \\\n",
       "0    13000000       108.0           2019-03-07      3            2.70   \n",
       "1     3350000        40.4           2018-12-04      1             NaN   \n",
       "2     5196000        56.0           2015-08-20      2             NaN   \n",
       "3    64900000       159.0           2015-07-24      3             NaN   \n",
       "4    10000000       100.0           2018-06-19      2            3.03   \n",
       "\n",
       "   floors_total  living_area  floor  kitchen_area  balcony    locality_name  \\\n",
       "0            16         51.0      8          25.0        0  Санкт-Петербург   \n",
       "1            11         18.6      1          11.0        2   посёлок Шушары   \n",
       "2             5         34.3      4           8.3        0  Санкт-Петербург   \n",
       "3            14         45.0      9           9.5        0  Санкт-Петербург   \n",
       "4            14         32.0     13          41.0        0  Санкт-Петербург   \n",
       "\n",
       "   cityCenters_nearest  days_exposition  price_per_meter  part_living_total  \\\n",
       "0              16028.0              NaN    120370.370370           0.472222   \n",
       "1              18603.0             81.0     82920.792079           0.460396   \n",
       "2              13933.0            558.0     92785.714286           0.612500   \n",
       "3               6800.0            424.0    408176.100629           0.283019   \n",
       "4               8098.0            121.0    100000.000000           0.320000   \n",
       "\n",
       "   part_kitchen_total  weekday  month  year  floor_type  \n",
       "0            0.231481        3      3  2019           2  \n",
       "1            0.272277        1     12  2018           1  \n",
       "2            0.148214        3      8  2015           2  \n",
       "3            0.059748        4      7  2015           2  \n",
       "4            0.410000        1      6  2018           2  "
      ]
     },
     "execution_count": 4,
     "metadata": {},
     "output_type": "execute_result"
    }
   ],
   "source": [
    "# Посчитаем и добавим в таблицу необходимые соотношения\n",
    "data['price_per_meter'] = data['last_price'] / data['total_area']\n",
    "data['part_living_total'] = data['living_area'] / data['total_area']\n",
    "data['part_kitchen_total'] = data['kitchen_area'] / data['total_area']\n",
    "\n",
    "# Извлечем день недели, месяц и год и добавим колонки в таблицу\n",
    "data['weekday'] = data['first_day_exposition'].dt.weekday\n",
    "data['month'] = data['first_day_exposition'].dt.month\n",
    "data['year'] = data['first_day_exposition'].dt.year\n",
    "\n",
    "# Сформируем дополнительный столбец с данными о типе этажа (1 - первый, 3 - последний, 2 - другой)\n",
    "def floor_type(row):\n",
    "    floor = row['floor']\n",
    "    floors_total = row['floors_total']\n",
    "    if floor == 1:\n",
    "        return 1\n",
    "    if floor == floors_total:\n",
    "        return 3\n",
    "    return 2\n",
    "data['floor_type'] = data.apply(floor_type, axis=1)\n",
    "\n",
    "data.head()"
   ]
  },
  {
   "cell_type": "markdown",
   "metadata": {},
   "source": [
    "**Выводы.** Мы добавили в таблицу столбцы, которые понадобятся для дальнейшего анализа данных."
   ]
  },
  {
   "cell_type": "markdown",
   "metadata": {},
   "source": [
    "## Исследовательский анализ данных"
   ]
  },
  {
   "cell_type": "code",
   "execution_count": 5,
   "metadata": {},
   "outputs": [
    {
     "name": "stdout",
     "output_type": "stream",
     "text": [
      "0.9590479820437895\n",
      "0.9753949095837039\n",
      "0.9961885402109008\n",
      "0.6090289247448439\n"
     ]
    },
    {
     "data": {
      "image/png": "[encoded data removed]",
      "text/plain": [
       "<Figure size 1080x360 with 1 Axes>"
      ]
     },
     "metadata": {
      "needs_background": "light"
     },
     "output_type": "display_data"
    },
    {
     "data": {
      "image/png": "[encoded data removed]",
      "text/plain": [
       "<Figure size 1080x360 with 1 Axes>"
      ]
     },
     "metadata": {
      "needs_background": "light"
     },
     "output_type": "display_data"
    },
    {
     "data": {
      "image/png": "[encoded data removed]",
      "text/plain": [
       "<Figure size 1080x360 with 1 Axes>"
      ]
     },
     "metadata": {
      "needs_background": "light"
     },
     "output_type": "display_data"
    },
    {
     "data": {
      "image/png": "[encoded data removed]",
      "text/plain": [
       "<Figure size 1080x360 with 1 Axes>"
      ]
     },
     "metadata": {
      "needs_background": "light"
     },
     "output_type": "display_data"
    }
   ],
   "source": [
    "# Построим гистрограммы для параметров: площадь, цена, число комнат, высота потолков\n",
    "data.plot(kind='hist', y='total_area', bins=100, alpha=1, grid=True, legend=True, figsize=(15,5))\n",
    "data.plot(kind='hist', y='last_price', bins=100, alpha=1, grid=True, legend=True, figsize=(15,5))\n",
    "data.plot(kind='hist', y='rooms', bins=10, alpha=1, grid=True, legend=True, figsize=(15,5))\n",
    "data.plot(kind='hist', y='ceiling_height', bins=100, alpha=1, grid=True, legend=True, figsize=(15,5))\n",
    "\n",
    "print(len(data.query('last_price < 17000000')) / len(data))\n",
    "print(len(data.query('total_area < 150')) / len(data))\n",
    "print(len(data.query('rooms < 7')) / len(data))\n",
    "print(len(data.query('ceiling_height < 4')) / len(data))"
   ]
  },
  {
   "cell_type": "markdown",
   "metadata": {},
   "source": [
    "**Промежуточные выводы.** Построим графики без использования параметра range. Мы видим, что общая площадь квартир доходит до 1000 кв. м, однако квартир площадью свыше 150 кв.м незначительное количество. По цене квартир есть отдельные выбросы, однако квартиры больше 17 млн. руб. для анализа не интересны, количество комнат доходит до 18, однако для анализа ограничимся квартирами до 7 комнат, высоту потолков оставим максимально 4 метра."
   ]
  },
  {
   "cell_type": "code",
   "execution_count": 6,
   "metadata": {},
   "outputs": [
    {
     "name": "stdout",
     "output_type": "stream",
     "text": [
      "0.9590479820437895\n",
      "0.9753949095837039\n",
      "0.9961885402109008\n",
      "0.6090289247448439\n"
     ]
    },
    {
     "data": {
      "image/png": "[encoded data removed]",
      "text/plain": [
       "<Figure size 1080x360 with 1 Axes>"
      ]
     },
     "metadata": {
      "needs_background": "light"
     },
     "output_type": "display_data"
    },
    {
     "data": {
      "image/png": "[encoded data removed]",
      "text/plain": [
       "<Figure size 1080x360 with 1 Axes>"
      ]
     },
     "metadata": {
      "needs_background": "light"
     },
     "output_type": "display_data"
    },
    {
     "data": {
      "image/png": "[encoded data removed]",
      "text/plain": [
       "<Figure size 1080x360 with 1 Axes>"
      ]
     },
     "metadata": {
      "needs_background": "light"
     },
     "output_type": "display_data"
    },
    {
     "data": {
      "image/png": "[encoded data removed]",
      "text/plain": [
       "<Figure size 1080x360 with 1 Axes>"
      ]
     },
     "metadata": {
      "needs_background": "light"
     },
     "output_type": "display_data"
    }
   ],
   "source": [
    "# Для удобства анализа передем цену квартир в млн. руб.\n",
    "data['last_price_mln'] = data['last_price'] / 1000000\n",
    "\n",
    "# Построим гистрограммы для параметров: площадь, цена, число комнат, высота потолков с использованием параметра range\n",
    "data.plot(kind='hist', y='total_area', range=(20, 150), bins=100, alpha=1, grid=True, legend=True, figsize=(15,5))\n",
    "data.plot(kind='hist', y='last_price_mln', range=(0, 17), bins=100, alpha=1, grid=True, legend=True, figsize=(15,5))\n",
    "data.plot(kind='hist', y='rooms', range=(0, 7), bins=10, alpha=1, grid=True, legend=True, figsize=(15,5))\n",
    "data.plot(kind='hist', y='ceiling_height', range=(2, 4), bins=100, alpha=1, grid=True, legend=True, figsize=(15,5))\n",
    "\n",
    "# Посчитаем какую часть строк мы взяли для анализа указанных параметров\n",
    "print(len(data.query('last_price < 17000000')) / len(data))\n",
    "print(len(data.query('total_area < 150')) / len(data))\n",
    "print(len(data.query('rooms < 7')) / len(data))\n",
    "print(len(data.query('ceiling_height < 4')) / len(data))"
   ]
  },
  {
   "cell_type": "markdown",
   "metadata": {},
   "source": [
    "**Выводы.** Больше всего квартир продатся с площадью 30-70 кв.м. Квартиры площадью в несколько сотен кв.м являются большой редкостью или ошибкой выгрузки данных. Наиболее резкое падение плошади квартир наблюдается после 100 кв.м. \n",
    "Чаще всего продаются квартиры в ценовом диапазоне от 3 до 5 млн. руб. Квартиры стоимостью свыше 10 млн. руб. продаются редко.\n",
    "Самыми популярными по числу комнат являются \"однушки\" и \"двушки\", их продавалось около 8000 каждого вида. На втрором месте идут \"трёшки\". Квартиры с количеством комнат больше семи являются большой редкостью.\n",
    "На гистограмме высоты потолков мы видим, что этот параметр достаточно стандартизирован. Самые популярные квартиры с высотой потолков около 2,5 м. Мы отбросили около 40% квартир для анализа высоты потолков, но, как мы помним, по этому параметру задано много нулевых значений. По остальным параметрам принятые нами ограничения существенно не повлияли на конечный результат."
   ]
  },
  {
   "cell_type": "code",
   "execution_count": 7,
   "metadata": {},
   "outputs": [
    {
     "data": {
      "text/plain": [
       "180.88483929357665"
      ]
     },
     "metadata": {},
     "output_type": "display_data"
    },
    {
     "data": {
      "text/plain": [
       "95.0"
      ]
     },
     "metadata": {},
     "output_type": "display_data"
    },
    {
     "data": {
      "image/png": "[encoded data removed]",
      "text/plain": [
       "<Figure size 1080x360 with 1 Axes>"
      ]
     },
     "metadata": {
      "needs_background": "light"
     },
     "output_type": "display_data"
    }
   ],
   "source": [
    "# Изучим время продажи квартиры, построим гистограмму, посчитаем среднее и медиану. \n",
    "\n",
    "data.plot(kind='hist', y='days_exposition', bins=100, alpha=1, grid=True, legend=True, figsize=(15,5))\n",
    "display(data['days_exposition'].mean())\n",
    "display(data['days_exposition'].median())"
   ]
  },
  {
   "cell_type": "code",
   "execution_count": 8,
   "metadata": {},
   "outputs": [
    {
     "name": "stdout",
     "output_type": "stream",
     "text": [
      "0.7364163808071825\n"
     ]
    },
    {
     "data": {
      "text/plain": [
       "<matplotlib.axes._subplots.AxesSubplot at 0x7f6cee3935d0>"
      ]
     },
     "execution_count": 8,
     "metadata": {},
     "output_type": "execute_result"
    },
    {
     "data": {
      "image/png": "[encoded data removed]",
      "text/plain": [
       "<Figure size 1080x360 with 1 Axes>"
      ]
     },
     "metadata": {
      "needs_background": "light"
     },
     "output_type": "display_data"
    }
   ],
   "source": [
    "print(len(data.query('days_exposition < 365')) / len(data))\n",
    "\n",
    "data.plot(kind='hist', y='days_exposition', range=(0, 365), bins=100, alpha=1, grid=True, legend=True, figsize=(15,5))"
   ]
  },
  {
   "cell_type": "code",
   "execution_count": 9,
   "metadata": {},
   "outputs": [
    {
     "data": {
      "text/plain": [
       "<matplotlib.axes._subplots.AxesSubplot at 0x7f6cee54a310>"
      ]
     },
     "execution_count": 9,
     "metadata": {},
     "output_type": "execute_result"
    },
    {
     "data": {
      "image/png": "[encoded data removed]",
      "text/plain": [
       "<Figure size 1080x360 with 1 Axes>"
      ]
     },
     "metadata": {
      "needs_background": "light"
     },
     "output_type": "display_data"
    }
   ],
   "source": [
    "data.plot(kind='hist', y='days_exposition', range=(0, 50), bins=100, alpha=1, grid=True, legend=True, figsize=(15,5))"
   ]
  },
  {
   "cell_type": "markdown",
   "metadata": {},
   "source": [
    "**Выводы.** Мы построили диаграммы с разным количеством \"корзин\", чтобы более наглядно получить ответ на поставленный вопрос. Всё что продается больше года не представлет существенного интереса для анализа, таких квартир очень мало.\n",
    "По гистограмме мы видим, что больще всего квартир продается в течение двух месяцев. Есть и аномальные сроки продажи - около 5 лет. Возможно, это ошибки в данных, которые существенно повлияли на среднюю арифметическую срока продажи квартир - полгода.\n",
    "Более показательным в данном случае является значение медианы - 3 месяца. Интересно, что больше всего квартир удалось продать именно через полтора месяца после публикации объявления.\n",
    "\n",
    "\n",
    "Можно сделать вывод, что если квартира продалась в первый месяц, это хороший результат, если прошло более двух месяцев, то продавцам, скорее всего, стоит пересмотреть цену объекта."
   ]
  },
  {
   "cell_type": "code",
   "execution_count": 10,
   "metadata": {},
   "outputs": [
    {
     "data": {
      "text/plain": [
       "0.6535810085611219"
      ]
     },
     "metadata": {},
     "output_type": "display_data"
    },
    {
     "data": {
      "text/plain": [
       "0.36312416659845514"
      ]
     },
     "metadata": {},
     "output_type": "display_data"
    },
    {
     "data": {
      "text/plain": [
       "0.05887556532281145"
      ]
     },
     "metadata": {},
     "output_type": "display_data"
    },
    {
     "data": {
      "text/plain": [
       "-0.19051092587721635"
      ]
     },
     "metadata": {},
     "output_type": "display_data"
    },
    {
     "data": {
      "text/plain": [
       "0.0012947242289498373"
      ]
     },
     "metadata": {},
     "output_type": "display_data"
    },
    {
     "data": {
      "text/plain": [
       "0.002765232657488408"
      ]
     },
     "metadata": {},
     "output_type": "display_data"
    },
    {
     "data": {
      "text/plain": [
       "-0.04302312009925655"
      ]
     },
     "metadata": {},
     "output_type": "display_data"
    }
   ],
   "source": [
    "# Попробуем понять, какие факторы больше всего влияют на стоимость квартиры\n",
    "display(data['last_price'].corr(data['total_area']))\n",
    "display(data['last_price'].corr(data['rooms']))\n",
    "display(data['last_price'].corr(data['floor_type']))\n",
    "display(data['last_price'].corr(data['cityCenters_nearest']))\n",
    "display(data['last_price'].corr(data['weekday']))\n",
    "display(data['last_price'].corr(data['month']))\n",
    "display(data['last_price'].corr(data['year']))"
   ]
  },
  {
   "cell_type": "markdown",
   "metadata": {},
   "source": [
    "**Выводы.** Конечно же, больше всего на цену влияет площадь продаваемой квартиры, а также количество комнат. Существенного влияния типа этажа на цену мы не видим, однако данный вопрос требует более глубокого изучения: сильно снижает стоимость квартиры именно первый этаж, а не последний.\n",
    "\n",
    "Очевидна обратно пропорциональная зависимость цены квартиры от удаленности от центра: чем больше расстояние от центра, тем меньше стоимость квартиры.\n",
    "\n",
    "День недели, месяц и год размещения объявления о продаже квартиры влияния на цену не оказывают."
   ]
  },
  {
   "cell_type": "code",
   "execution_count": 11,
   "metadata": {
    "scrolled": true
   },
   "outputs": [
    {
     "data": {
      "text/html": [
       "<div>\n",
       "<style scoped>\n",
       "    .dataframe tbody tr th:only-of-type {\n",
       "        vertical-align: middle;\n",
       "    }\n",
       "\n",
       "    .dataframe tbody tr th {\n",
       "        vertical-align: top;\n",
       "    }\n",
       "\n",
       "    .dataframe thead th {\n",
       "        text-align: right;\n",
       "    }\n",
       "</style>\n",
       "<table border=\"1\" class=\"dataframe\">\n",
       "  <thead>\n",
       "    <tr style=\"text-align: right;\">\n",
       "      <th></th>\n",
       "      <th>index</th>\n",
       "      <th>last_price</th>\n",
       "    </tr>\n",
       "  </thead>\n",
       "  <tbody>\n",
       "    <tr>\n",
       "      <td>0</td>\n",
       "      <td>last_price</td>\n",
       "      <td>1.000000</td>\n",
       "    </tr>\n",
       "    <tr>\n",
       "      <td>1</td>\n",
       "      <td>total_area</td>\n",
       "      <td>0.653581</td>\n",
       "    </tr>\n",
       "    <tr>\n",
       "      <td>2</td>\n",
       "      <td>rooms</td>\n",
       "      <td>0.363124</td>\n",
       "    </tr>\n",
       "    <tr>\n",
       "      <td>3</td>\n",
       "      <td>ceiling_height</td>\n",
       "      <td>0.085435</td>\n",
       "    </tr>\n",
       "    <tr>\n",
       "      <td>4</td>\n",
       "      <td>floors_total</td>\n",
       "      <td>-0.006984</td>\n",
       "    </tr>\n",
       "    <tr>\n",
       "      <td>5</td>\n",
       "      <td>living_area</td>\n",
       "      <td>0.556011</td>\n",
       "    </tr>\n",
       "    <tr>\n",
       "      <td>6</td>\n",
       "      <td>floor</td>\n",
       "      <td>0.026644</td>\n",
       "    </tr>\n",
       "    <tr>\n",
       "      <td>7</td>\n",
       "      <td>kitchen_area</td>\n",
       "      <td>0.453906</td>\n",
       "    </tr>\n",
       "    <tr>\n",
       "      <td>8</td>\n",
       "      <td>balcony</td>\n",
       "      <td>0.008598</td>\n",
       "    </tr>\n",
       "    <tr>\n",
       "      <td>9</td>\n",
       "      <td>cityCenters_nearest</td>\n",
       "      <td>-0.190511</td>\n",
       "    </tr>\n",
       "    <tr>\n",
       "      <td>10</td>\n",
       "      <td>days_exposition</td>\n",
       "      <td>0.081063</td>\n",
       "    </tr>\n",
       "    <tr>\n",
       "      <td>11</td>\n",
       "      <td>price_per_meter</td>\n",
       "      <td>0.736746</td>\n",
       "    </tr>\n",
       "    <tr>\n",
       "      <td>12</td>\n",
       "      <td>part_living_total</td>\n",
       "      <td>-0.036343</td>\n",
       "    </tr>\n",
       "    <tr>\n",
       "      <td>13</td>\n",
       "      <td>part_kitchen_total</td>\n",
       "      <td>-0.112761</td>\n",
       "    </tr>\n",
       "    <tr>\n",
       "      <td>14</td>\n",
       "      <td>weekday</td>\n",
       "      <td>0.001295</td>\n",
       "    </tr>\n",
       "    <tr>\n",
       "      <td>15</td>\n",
       "      <td>month</td>\n",
       "      <td>0.002765</td>\n",
       "    </tr>\n",
       "    <tr>\n",
       "      <td>16</td>\n",
       "      <td>year</td>\n",
       "      <td>-0.043023</td>\n",
       "    </tr>\n",
       "    <tr>\n",
       "      <td>17</td>\n",
       "      <td>floor_type</td>\n",
       "      <td>0.058876</td>\n",
       "    </tr>\n",
       "    <tr>\n",
       "      <td>18</td>\n",
       "      <td>last_price_mln</td>\n",
       "      <td>1.000000</td>\n",
       "    </tr>\n",
       "  </tbody>\n",
       "</table>\n",
       "</div>"
      ],
      "text/plain": [
       "                  index  last_price\n",
       "0            last_price    1.000000\n",
       "1            total_area    0.653581\n",
       "2                 rooms    0.363124\n",
       "3        ceiling_height    0.085435\n",
       "4          floors_total   -0.006984\n",
       "5           living_area    0.556011\n",
       "6                 floor    0.026644\n",
       "7          kitchen_area    0.453906\n",
       "8               balcony    0.008598\n",
       "9   cityCenters_nearest   -0.190511\n",
       "10      days_exposition    0.081063\n",
       "11      price_per_meter    0.736746\n",
       "12    part_living_total   -0.036343\n",
       "13   part_kitchen_total   -0.112761\n",
       "14              weekday    0.001295\n",
       "15                month    0.002765\n",
       "16                 year   -0.043023\n",
       "17           floor_type    0.058876\n",
       "18       last_price_mln    1.000000"
      ]
     },
     "execution_count": 11,
     "metadata": {},
     "output_type": "execute_result"
    }
   ],
   "source": [
    "data.corr()['last_price'].reset_index()"
   ]
  },
  {
   "cell_type": "code",
   "execution_count": 12,
   "metadata": {},
   "outputs": [
    {
     "data": {
      "text/html": [
       "<div>\n",
       "<style scoped>\n",
       "    .dataframe tbody tr th:only-of-type {\n",
       "        vertical-align: middle;\n",
       "    }\n",
       "\n",
       "    .dataframe tbody tr th {\n",
       "        vertical-align: top;\n",
       "    }\n",
       "\n",
       "    .dataframe thead th {\n",
       "        text-align: right;\n",
       "    }\n",
       "</style>\n",
       "<table border=\"1\" class=\"dataframe\">\n",
       "  <thead>\n",
       "    <tr style=\"text-align: right;\">\n",
       "      <th></th>\n",
       "      <th>mean</th>\n",
       "      <th>count</th>\n",
       "    </tr>\n",
       "    <tr>\n",
       "      <th>locality_name</th>\n",
       "      <th></th>\n",
       "      <th></th>\n",
       "    </tr>\n",
       "  </thead>\n",
       "  <tbody>\n",
       "    <tr>\n",
       "      <td>Санкт-Петербург</td>\n",
       "      <td>114868.877341</td>\n",
       "      <td>15651</td>\n",
       "    </tr>\n",
       "    <tr>\n",
       "      <td>посёлок Мурино</td>\n",
       "      <td>85673.259928</td>\n",
       "      <td>520</td>\n",
       "    </tr>\n",
       "    <tr>\n",
       "      <td>посёлок Шушары</td>\n",
       "      <td>78551.344545</td>\n",
       "      <td>439</td>\n",
       "    </tr>\n",
       "    <tr>\n",
       "      <td>Всеволожск</td>\n",
       "      <td>68654.473986</td>\n",
       "      <td>398</td>\n",
       "    </tr>\n",
       "    <tr>\n",
       "      <td>Пушкин</td>\n",
       "      <td>103125.819291</td>\n",
       "      <td>369</td>\n",
       "    </tr>\n",
       "    <tr>\n",
       "      <td>Колпино</td>\n",
       "      <td>75424.579098</td>\n",
       "      <td>338</td>\n",
       "    </tr>\n",
       "    <tr>\n",
       "      <td>посёлок Парголово</td>\n",
       "      <td>90175.913458</td>\n",
       "      <td>327</td>\n",
       "    </tr>\n",
       "    <tr>\n",
       "      <td>Гатчина</td>\n",
       "      <td>68746.146763</td>\n",
       "      <td>307</td>\n",
       "    </tr>\n",
       "    <tr>\n",
       "      <td>деревня Кудрово</td>\n",
       "      <td>92473.547576</td>\n",
       "      <td>299</td>\n",
       "    </tr>\n",
       "    <tr>\n",
       "      <td>Выборг</td>\n",
       "      <td>58141.909153</td>\n",
       "      <td>237</td>\n",
       "    </tr>\n",
       "  </tbody>\n",
       "</table>\n",
       "</div>"
      ],
      "text/plain": [
       "                            mean  count\n",
       "locality_name                          \n",
       "Санкт-Петербург    114868.877341  15651\n",
       "посёлок Мурино      85673.259928    520\n",
       "посёлок Шушары      78551.344545    439\n",
       "Всеволожск          68654.473986    398\n",
       "Пушкин             103125.819291    369\n",
       "Колпино             75424.579098    338\n",
       "посёлок Парголово   90175.913458    327\n",
       "Гатчина             68746.146763    307\n",
       "деревня Кудрово     92473.547576    299\n",
       "Выборг              58141.909153    237"
      ]
     },
     "execution_count": 12,
     "metadata": {},
     "output_type": "execute_result"
    }
   ],
   "source": [
    "# Выберем 10 населённых пунктов с наибольшим числом объявлений. \n",
    "# Посчитаем среднюю цену квадратного метра в этих населённых пунктах. \n",
    "# Выделим населённые пункты с самой высокой и низкой стоимостью жилья. \n",
    "\n",
    "data_new = data.pivot_table(index='locality_name', values='price_per_meter', aggfunc=['mean', 'count'])\n",
    "data_new.columns = ['mean', 'count'] \n",
    "data_new.sort_values('count', ascending=False).head(10)"
   ]
  },
  {
   "cell_type": "markdown",
   "metadata": {},
   "source": [
    "**Выводы.** Итак, из 10 населенных пунктов с наибольшим количеством объявлений, самая высокая средняя стоимость квадратного метра жилья, конечно же, в Санкт-Петербурге, самая низкая - в Выборге."
   ]
  },
  {
   "cell_type": "code",
   "execution_count": 13,
   "metadata": {},
   "outputs": [
    {
     "name": "stderr",
     "output_type": "stream",
     "text": [
      "/opt/conda/lib/python3.7/site-packages/ipykernel_launcher.py:4: SettingWithCopyWarning: \n",
      "A value is trying to be set on a copy of a slice from a DataFrame.\n",
      "Try using .loc[row_indexer,col_indexer] = value instead\n",
      "\n",
      "See the caveats in the documentation: http://pandas.pydata.org/pandas-docs/stable/user_guide/indexing.html#returning-a-view-versus-a-copy\n",
      "  after removing the cwd from sys.path.\n"
     ]
    },
    {
     "data": {
      "text/plain": [
       "<matplotlib.axes._subplots.AxesSubplot at 0x7f6cf6ccaa10>"
      ]
     },
     "execution_count": 13,
     "metadata": {},
     "output_type": "execute_result"
    },
    {
     "data": {
      "image/png": "[encoded data removed]",
      "text/plain": [
       "<Figure size 1080x360 with 1 Axes>"
      ]
     },
     "metadata": {
      "needs_background": "light"
     },
     "output_type": "display_data"
    }
   ],
   "source": [
    "# Выделим квартиры в Санкт-Петербурге\n",
    "# Создадим столбец с расстоянием до центра в километрах, округлим до целых значений\n",
    "flats_SPB = data[data['locality_name'] == 'Санкт-Петербург']\n",
    "flats_SPB['to_centr_km'] = (flats_SPB['cityCenters_nearest'] / 1000).astype('int')\n",
    "flats_SPB.head()\n",
    "\n",
    "# Посчитаем среднюю цену для каждого километра\n",
    "price_per_meter_mean = flats_SPB.groupby('to_centr_km')['price_per_meter'].mean()\n",
    "\n",
    "# Построим график зависимости цены квартиры от удаленности от центра города\n",
    "price_per_meter_mean.plot(x='to_centr_km', y='price_per_meter', style='o-', xlim=(0, 30), ylim=(50000, 200000), figsize=(15, 5), grid=True)"
   ]
  },
  {
   "cell_type": "markdown",
   "metadata": {},
   "source": [
    "**Выводы.** Из графика можно сделать вывод о том, что центральная зона находится в радиусе восьми километров от центра."
   ]
  },
  {
   "cell_type": "code",
   "execution_count": 14,
   "metadata": {},
   "outputs": [
    {
     "name": "stdout",
     "output_type": "stream",
     "text": [
      "0.9892497712717292\n",
      "0.932067703568161\n",
      "0.9945105215004575\n",
      "0.6525617566331199\n"
     ]
    },
    {
     "data": {
      "text/plain": [
       "<matplotlib.axes._subplots.AxesSubplot at 0x7f6cf6f7d890>"
      ]
     },
     "execution_count": 14,
     "metadata": {},
     "output_type": "execute_result"
    },
    {
     "data": {
      "image/png": "[encoded data removed]",
      "text/plain": [
       "<Figure size 1080x360 with 1 Axes>"
      ]
     },
     "metadata": {
      "needs_background": "light"
     },
     "output_type": "display_data"
    },
    {
     "data": {
      "image/png": "[encoded data removed]",
      "text/plain": [
       "<Figure size 1080x360 with 1 Axes>"
      ]
     },
     "metadata": {
      "needs_background": "light"
     },
     "output_type": "display_data"
    },
    {
     "data": {
      "image/png": "[encoded data removed]",
      "text/plain": [
       "<Figure size 1080x360 with 1 Axes>"
      ]
     },
     "metadata": {
      "needs_background": "light"
     },
     "output_type": "display_data"
    },
    {
     "data": {
      "image/png": "[encoded data removed]",
      "text/plain": [
       "<Figure size 1080x360 with 1 Axes>"
      ]
     },
     "metadata": {
      "needs_background": "light"
     },
     "output_type": "display_data"
    }
   ],
   "source": [
    "# Выделим сегмент квартир в центре. Проанализируем эту территорию и изучим следующие параметры: \n",
    "# площадь, цена, число комнат, высота потолков. Также выделим факторы, которые влияют на стоимость квартиры \n",
    "# (число комнат, этаж, удалённость от центра, дата размещения объявления). \n",
    "\n",
    "flats_SPB_centr = flats_SPB[flats_SPB['to_centr_km']<=8]\n",
    "#flats_SPB_centr.head()\n",
    "\n",
    "print(len(flats_SPB_centr.query('total_area < 300')) / len(flats_SPB_centr))\n",
    "print(len(flats_SPB_centr.query('last_price_mln < 30')) / len(flats_SPB_centr))\n",
    "print(len(flats_SPB_centr.query('rooms < 8')) / len(flats_SPB_centr))\n",
    "print(len(flats_SPB_centr.query('ceiling_height < 5')) / len(flats_SPB_centr))\n",
    "\n",
    "flats_SPB_centr.plot(kind='hist', y='total_area', range=(0, 300), bins=100, alpha=1, grid=True, legend=True, figsize=(15,5))\n",
    "flats_SPB_centr.plot(kind='hist', y='last_price_mln', range=(0, 30), bins=100, alpha=1, grid=True, legend=True, figsize=(15,5))\n",
    "flats_SPB_centr.plot(kind='hist', y='rooms', range=(0, 8), bins=8, alpha=1, grid=True, legend=True, figsize=(15,5))\n",
    "flats_SPB_centr.plot(kind='hist', y='ceiling_height', range=(2, 5), bins=100, alpha=1, grid=True, legend=True, figsize=(15,5))"
   ]
  },
  {
   "cell_type": "markdown",
   "metadata": {},
   "source": [
    "**Выводы.** Мы видим, что в центре города вправо смещается диапазон площади продаваемых квартир:больше всего квартир продатся с площадью 40-100 кв.м. Наиболее резкое падение плошади квартир наблюдается после 200 кв.м. \n",
    "Квартиры в центре стоят дороже, чаще всего продаются квартиры в ценовом диапазоне от 3 до 14 млн. руб. Немало квартир стоиостью от 20 до 30 млн. руб.\n",
    "\n",
    "Самыми популярными по числу комнат являются уже \"двушки\" и \"трешки\", \"однушки\" переместились на второе место. Немало продается и четырехкомнатных квартир - более 500.\n",
    "На гистограмме высоты потолков мы видим, что в центре абсолютное лидеоство занимают квартиры с высотой потолков в 3 метра. Очевидно, что в центральной части города больше всего домов дореволюционной постройки."
   ]
  },
  {
   "cell_type": "code",
   "execution_count": 15,
   "metadata": {},
   "outputs": [
    {
     "data": {
      "text/plain": [
       "0.6411725061469974"
      ]
     },
     "metadata": {},
     "output_type": "display_data"
    },
    {
     "data": {
      "text/plain": [
       "0.3450224274581447"
      ]
     },
     "metadata": {},
     "output_type": "display_data"
    },
    {
     "data": {
      "text/plain": [
       "0.09878285750153576"
      ]
     },
     "metadata": {},
     "output_type": "display_data"
    },
    {
     "data": {
      "text/plain": [
       "-0.10026105084964257"
      ]
     },
     "metadata": {},
     "output_type": "display_data"
    },
    {
     "data": {
      "text/plain": [
       "0.019812850755545355"
      ]
     },
     "metadata": {},
     "output_type": "display_data"
    },
    {
     "data": {
      "text/plain": [
       "-0.0035339430539036683"
      ]
     },
     "metadata": {},
     "output_type": "display_data"
    },
    {
     "data": {
      "text/plain": [
       "-0.048747963325269254"
      ]
     },
     "metadata": {},
     "output_type": "display_data"
    }
   ],
   "source": [
    "display(flats_SPB_centr['last_price'].corr(flats_SPB_centr['total_area']))\n",
    "display(flats_SPB_centr['last_price'].corr(flats_SPB_centr['rooms']))\n",
    "display(flats_SPB_centr['last_price'].corr(flats_SPB_centr['floor_type']))\n",
    "display(flats_SPB_centr['last_price'].corr(flats_SPB_centr['cityCenters_nearest']))\n",
    "display(flats_SPB_centr['last_price'].corr(flats_SPB_centr['weekday']))\n",
    "display(flats_SPB_centr['last_price'].corr(flats_SPB_centr['month']))\n",
    "display(flats_SPB_centr['last_price'].corr(flats_SPB_centr['year']))"
   ]
  },
  {
   "cell_type": "markdown",
   "metadata": {},
   "source": [
    "**Выводы.** Как и ранее мы видим, что больше всего на цену влияет площадь продаваемой квартиры, а также количество комнат. Заметно выросло влияние типа этажа на цену. Можно предположить, что в центре много туристов, автомобильный трафик значительно выше, что делает жизнь на первом этаже менее комфортной.\n",
    "\n",
    "Зависимость цены квартиры от удаленности от центра снизилась. Оно и понятно, это и есть центр.\n",
    "\n",
    "День недели, месяц и год размещения объявления о продаже квартиры по прежнему влияния на цену не оказывают."
   ]
  },
  {
   "cell_type": "markdown",
   "metadata": {},
   "source": [
    "## Общий вывод"
   ]
  },
  {
   "cell_type": "markdown",
   "metadata": {},
   "source": [
    "Мы провели исследование объявлений о продаже квартир в Санкт-Петербурге и соседних населённых пунктах за несколько лет. \n",
    "\n",
    "Предоставленный для анализа данные содержали ряд существенных недостатков, которые удалось устранить.\n",
    "\n",
    "Мы посчитали отдельные важные показатели, необходимые нам для анализа: цена квадратного метра, доли жилой площади и площади кухни в общей площади квартиры. Для проведения дальнейшего анализа определили, какие квартиры находятся на первом этаже, какие на последнем, а какие на других этажах. Выделили день недели, месяц и год из даты размещения объявления о продаже квартиры.\n",
    "\n",
    "В среднем квартиры продаются 1,5-3 месяца. Если за это время покупатель не нашелся, то продавцам стоит пересмотреть цену квартиры в сторону понижения.\n",
    "\n",
    "Из 10 населенных пунктов с наибольшим количеством объявлений, самая высокая средняя стоимость квадратного метра жилья в Санкт-Петербурге, самая низкая - в Выборге.\n",
    "\n",
    "Далее мы проанализировали такие параметры , как цена квартиры, общая площадь, количество комнат и высота потолков для всех квартир и для квартир в центре Санкт-Петербурга. В результате пришли к выводу, что квартиры в центре города имеют в среднем большую площадь, стоят дороже, имеют больше комнат, потолки в центре города выше. \n",
    "\n",
    "Инетерсно было сравнить, как отдельные факторы влияют на стоимость всех изучаемых квартир и квартир в центре Санкт-Петербурга. В обоих случаях, на цену квартиры влияют ее площадь и количество комнат. Тип этажа, на котором расположена квартира более существенное влияние на цену оказывает в центре города. Чем квартира дальше от центра, тем она дешевле, а вот день недели, месяц и год размещения объявления о продаже квартиры влияния на цену не оказывают."
   ]
  }
 ],
 "metadata": {
  "ExecuteTimeLog": [
   {
    "duration": 476,
    "start_time": "2021-08-30T13:50:16.395Z"
   },
   {
    "duration": 971,
    "start_time": "2021-08-30T13:50:22.348Z"
   },
   {
    "duration": 96,
    "start_time": "2021-08-30T13:50:23.322Z"
   },
   {
    "duration": 198,
    "start_time": "2021-08-30T13:50:23.420Z"
   },
   {
    "duration": 819,
    "start_time": "2021-08-30T13:50:23.621Z"
   },
   {
    "duration": 3360,
    "start_time": "2021-08-30T13:50:24.443Z"
   },
   {
    "duration": 449,
    "start_time": "2021-08-30T13:50:27.806Z"
   },
   {
    "duration": -268,
    "start_time": "2021-08-30T13:50:28.526Z"
   },
   {
    "duration": -270,
    "start_time": "2021-08-30T13:50:28.530Z"
   },
   {
    "duration": -273,
    "start_time": "2021-08-30T13:50:28.534Z"
   },
   {
    "duration": -290,
    "start_time": "2021-08-30T13:50:28.552Z"
   },
   {
    "duration": -291,
    "start_time": "2021-08-30T13:50:28.555Z"
   },
   {
    "duration": -292,
    "start_time": "2021-08-30T13:50:28.557Z"
   },
   {
    "duration": -293,
    "start_time": "2021-08-30T13:50:28.559Z"
   },
   {
    "duration": -294,
    "start_time": "2021-08-30T13:50:28.562Z"
   },
   {
    "duration": -293,
    "start_time": "2021-08-30T13:50:28.563Z"
   },
   {
    "duration": -295,
    "start_time": "2021-08-30T13:50:28.566Z"
   },
   {
    "duration": -296,
    "start_time": "2021-08-30T13:50:28.568Z"
   },
   {
    "duration": -296,
    "start_time": "2021-08-30T13:50:28.569Z"
   },
   {
    "duration": -296,
    "start_time": "2021-08-30T13:50:28.571Z"
   },
   {
    "duration": -296,
    "start_time": "2021-08-30T13:50:28.572Z"
   },
   {
    "duration": -300,
    "start_time": "2021-08-30T13:50:28.578Z"
   },
   {
    "duration": 138,
    "start_time": "2021-08-30T13:54:09.028Z"
   },
   {
    "duration": 454,
    "start_time": "2021-08-30T13:54:59.278Z"
   },
   {
    "duration": 408,
    "start_time": "2021-08-30T13:55:11.175Z"
   },
   {
    "duration": 176,
    "start_time": "2021-08-30T13:55:18.874Z"
   },
   {
    "duration": 108,
    "start_time": "2021-08-30T13:55:19.054Z"
   },
   {
    "duration": 185,
    "start_time": "2021-08-30T13:55:19.165Z"
   },
   {
    "duration": 929,
    "start_time": "2021-08-30T13:55:19.353Z"
   },
   {
    "duration": 2707,
    "start_time": "2021-08-30T13:55:20.285Z"
   },
   {
    "duration": 393,
    "start_time": "2021-08-30T13:55:22.996Z"
   },
   {
    "duration": -263,
    "start_time": "2021-08-30T13:55:23.655Z"
   },
   {
    "duration": -265,
    "start_time": "2021-08-30T13:55:23.659Z"
   },
   {
    "duration": -286,
    "start_time": "2021-08-30T13:55:23.681Z"
   },
   {
    "duration": -289,
    "start_time": "2021-08-30T13:55:23.686Z"
   },
   {
    "duration": -291,
    "start_time": "2021-08-30T13:55:23.689Z"
   },
   {
    "duration": -290,
    "start_time": "2021-08-30T13:55:23.690Z"
   },
   {
    "duration": -290,
    "start_time": "2021-08-30T13:55:23.692Z"
   },
   {
    "duration": -295,
    "start_time": "2021-08-30T13:55:23.698Z"
   },
   {
    "duration": -297,
    "start_time": "2021-08-30T13:55:23.701Z"
   },
   {
    "duration": -297,
    "start_time": "2021-08-30T13:55:23.703Z"
   },
   {
    "duration": -297,
    "start_time": "2021-08-30T13:55:23.704Z"
   },
   {
    "duration": -297,
    "start_time": "2021-08-30T13:55:23.706Z"
   },
   {
    "duration": -297,
    "start_time": "2021-08-30T13:55:23.707Z"
   },
   {
    "duration": -296,
    "start_time": "2021-08-30T13:55:23.708Z"
   },
   {
    "duration": -296,
    "start_time": "2021-08-30T13:55:23.710Z"
   },
   {
    "duration": 3722,
    "start_time": "2021-08-30T13:58:21.599Z"
   },
   {
    "duration": 2826,
    "start_time": "2021-08-30T13:58:31.566Z"
   },
   {
    "duration": 1030,
    "start_time": "2021-08-30T14:05:26.191Z"
   },
   {
    "duration": 2746,
    "start_time": "2021-08-30T14:07:56.517Z"
   },
   {
    "duration": 2744,
    "start_time": "2021-08-30T14:13:54.988Z"
   },
   {
    "duration": 2709,
    "start_time": "2021-08-30T14:14:13.895Z"
   },
   {
    "duration": 2683,
    "start_time": "2021-08-30T14:14:36.366Z"
   },
   {
    "duration": 2649,
    "start_time": "2021-08-30T14:17:10.045Z"
   },
   {
    "duration": 2763,
    "start_time": "2021-08-30T14:17:19.578Z"
   },
   {
    "duration": 2555,
    "start_time": "2021-08-30T14:17:36.714Z"
   },
   {
    "duration": 2723,
    "start_time": "2021-08-30T14:17:51.181Z"
   },
   {
    "duration": 3854,
    "start_time": "2021-08-30T14:25:28.854Z"
   },
   {
    "duration": 2720,
    "start_time": "2021-08-30T14:26:25.168Z"
   },
   {
    "duration": 2862,
    "start_time": "2021-08-30T14:26:44.999Z"
   },
   {
    "duration": 2732,
    "start_time": "2021-08-30T14:28:24.454Z"
   },
   {
    "duration": 2623,
    "start_time": "2021-08-30T14:28:46.269Z"
   },
   {
    "duration": 1144,
    "start_time": "2021-08-30T14:30:48.848Z"
   },
   {
    "duration": 4058,
    "start_time": "2021-08-30T14:31:10.087Z"
   },
   {
    "duration": 2779,
    "start_time": "2021-08-30T14:32:24.789Z"
   },
   {
    "duration": 2722,
    "start_time": "2021-08-30T14:33:04.045Z"
   },
   {
    "duration": 724,
    "start_time": "2021-08-30T14:33:40.072Z"
   },
   {
    "duration": 845,
    "start_time": "2021-08-30T14:33:46.313Z"
   },
   {
    "duration": 702,
    "start_time": "2021-08-30T14:33:52.037Z"
   },
   {
    "duration": 29,
    "start_time": "2021-08-30T14:34:07.592Z"
   },
   {
    "duration": 41,
    "start_time": "2021-08-30T14:34:24.349Z"
   },
   {
    "duration": 34,
    "start_time": "2021-08-30T14:35:08.398Z"
   },
   {
    "duration": 478,
    "start_time": "2021-08-30T14:35:43.326Z"
   },
   {
    "duration": 3889,
    "start_time": "2021-08-30T14:36:45.587Z"
   },
   {
    "duration": 29,
    "start_time": "2021-08-30T14:37:06.197Z"
   },
   {
    "duration": 1007,
    "start_time": "2021-08-30T14:37:33.033Z"
   },
   {
    "duration": 94,
    "start_time": "2021-08-30T14:37:34.043Z"
   },
   {
    "duration": 197,
    "start_time": "2021-08-30T14:37:34.141Z"
   },
   {
    "duration": 871,
    "start_time": "2021-08-30T14:37:34.341Z"
   },
   {
    "duration": 2895,
    "start_time": "2021-08-30T14:37:35.215Z"
   },
   {
    "duration": 2704,
    "start_time": "2021-08-30T14:37:38.112Z"
   },
   {
    "duration": 837,
    "start_time": "2021-08-30T14:37:40.819Z"
   },
   {
    "duration": 1133,
    "start_time": "2021-08-30T14:37:41.660Z"
   },
   {
    "duration": 1073,
    "start_time": "2021-08-30T14:37:42.797Z"
   },
   {
    "duration": 55,
    "start_time": "2021-08-30T14:37:43.873Z"
   },
   {
    "duration": 39,
    "start_time": "2021-08-30T14:37:43.930Z"
   },
   {
    "duration": 63,
    "start_time": "2021-08-30T14:37:43.972Z"
   },
   {
    "duration": 397,
    "start_time": "2021-08-30T14:37:44.037Z"
   },
   {
    "duration": 4144,
    "start_time": "2021-08-30T14:37:44.436Z"
   },
   {
    "duration": 47,
    "start_time": "2021-08-30T14:37:48.583Z"
   }
  ],
  "kernelspec": {
   "display_name": "Python 3",
   "language": "python",
   "name": "python3"
  },
  "language_info": {
   "codemirror_mode": {
    "name": "ipython",
    "version": 3
   },
   "file_extension": ".py",
   "mimetype": "text/x-python",
   "name": "python",
   "nbconvert_exporter": "python",
   "pygments_lexer": "ipython3",
   "version": "3.7.8"
  },
  "toc": {
   "base_numbering": 1,
   "nav_menu": {},
   "number_sections": true,
   "sideBar": true,
   "skip_h1_title": true,
   "title_cell": "Содержание",
   "title_sidebar": "Contents",
   "toc_cell": true,
   "toc_position": {
    "height": "calc(100% - 180px)",
    "left": "10px",
    "top": "150px",
    "width": "335.188px"
   },
   "toc_section_display": true,
   "toc_window_display": true
  }
 },
 "nbformat": 4,
 "nbformat_minor": 2
}
