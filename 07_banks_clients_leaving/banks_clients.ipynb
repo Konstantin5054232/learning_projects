{
 "cells": [
  {
   "cell_type": "markdown",
   "metadata": {},
   "source": [
    "# Исследование оттока клиентов из банка"
   ]
  },
  {
   "cell_type": "markdown",
   "metadata": {},
   "source": [
    "## Подготовка данных"
   ]
  },
  {
   "cell_type": "code",
   "execution_count": 1,
   "metadata": {},
   "outputs": [
    {
     "name": "stdout",
     "output_type": "stream",
     "text": [
      "<class 'pandas.core.frame.DataFrame'>\n",
      "RangeIndex: 10000 entries, 0 to 9999\n",
      "Data columns (total 14 columns):\n",
      "RowNumber          10000 non-null int64\n",
      "CustomerId         10000 non-null int64\n",
      "Surname            10000 non-null object\n",
      "CreditScore        10000 non-null int64\n",
      "Geography          10000 non-null object\n",
      "Gender             10000 non-null object\n",
      "Age                10000 non-null int64\n",
      "Tenure             9091 non-null float64\n",
      "Balance            10000 non-null float64\n",
      "NumOfProducts      10000 non-null int64\n",
      "HasCrCard          10000 non-null int64\n",
      "IsActiveMember     10000 non-null int64\n",
      "EstimatedSalary    10000 non-null float64\n",
      "Exited             10000 non-null int64\n",
      "dtypes: float64(3), int64(8), object(3)\n",
      "memory usage: 1.1+ MB\n"
     ]
    },
    {
     "data": {
      "text/plain": [
       "(10000, 14)"
      ]
     },
     "metadata": {},
     "output_type": "display_data"
    },
    {
     "data": {
      "text/html": [
       "<div>\n",
       "<style scoped>\n",
       "    .dataframe tbody tr th:only-of-type {\n",
       "        vertical-align: middle;\n",
       "    }\n",
       "\n",
       "    .dataframe tbody tr th {\n",
       "        vertical-align: top;\n",
       "    }\n",
       "\n",
       "    .dataframe thead th {\n",
       "        text-align: right;\n",
       "    }\n",
       "</style>\n",
       "<table border=\"1\" class=\"dataframe\">\n",
       "  <thead>\n",
       "    <tr style=\"text-align: right;\">\n",
       "      <th></th>\n",
       "      <th>RowNumber</th>\n",
       "      <th>CustomerId</th>\n",
       "      <th>Surname</th>\n",
       "      <th>CreditScore</th>\n",
       "      <th>Geography</th>\n",
       "      <th>Gender</th>\n",
       "      <th>Age</th>\n",
       "      <th>Tenure</th>\n",
       "      <th>Balance</th>\n",
       "      <th>NumOfProducts</th>\n",
       "      <th>HasCrCard</th>\n",
       "      <th>IsActiveMember</th>\n",
       "      <th>EstimatedSalary</th>\n",
       "      <th>Exited</th>\n",
       "    </tr>\n",
       "  </thead>\n",
       "  <tbody>\n",
       "    <tr>\n",
       "      <td>0</td>\n",
       "      <td>1</td>\n",
       "      <td>15634602</td>\n",
       "      <td>Hargrave</td>\n",
       "      <td>619</td>\n",
       "      <td>France</td>\n",
       "      <td>Female</td>\n",
       "      <td>42</td>\n",
       "      <td>2.0</td>\n",
       "      <td>0.00</td>\n",
       "      <td>1</td>\n",
       "      <td>1</td>\n",
       "      <td>1</td>\n",
       "      <td>101348.88</td>\n",
       "      <td>1</td>\n",
       "    </tr>\n",
       "    <tr>\n",
       "      <td>1</td>\n",
       "      <td>2</td>\n",
       "      <td>15647311</td>\n",
       "      <td>Hill</td>\n",
       "      <td>608</td>\n",
       "      <td>Spain</td>\n",
       "      <td>Female</td>\n",
       "      <td>41</td>\n",
       "      <td>1.0</td>\n",
       "      <td>83807.86</td>\n",
       "      <td>1</td>\n",
       "      <td>0</td>\n",
       "      <td>1</td>\n",
       "      <td>112542.58</td>\n",
       "      <td>0</td>\n",
       "    </tr>\n",
       "    <tr>\n",
       "      <td>2</td>\n",
       "      <td>3</td>\n",
       "      <td>15619304</td>\n",
       "      <td>Onio</td>\n",
       "      <td>502</td>\n",
       "      <td>France</td>\n",
       "      <td>Female</td>\n",
       "      <td>42</td>\n",
       "      <td>8.0</td>\n",
       "      <td>159660.80</td>\n",
       "      <td>3</td>\n",
       "      <td>1</td>\n",
       "      <td>0</td>\n",
       "      <td>113931.57</td>\n",
       "      <td>1</td>\n",
       "    </tr>\n",
       "    <tr>\n",
       "      <td>3</td>\n",
       "      <td>4</td>\n",
       "      <td>15701354</td>\n",
       "      <td>Boni</td>\n",
       "      <td>699</td>\n",
       "      <td>France</td>\n",
       "      <td>Female</td>\n",
       "      <td>39</td>\n",
       "      <td>1.0</td>\n",
       "      <td>0.00</td>\n",
       "      <td>2</td>\n",
       "      <td>0</td>\n",
       "      <td>0</td>\n",
       "      <td>93826.63</td>\n",
       "      <td>0</td>\n",
       "    </tr>\n",
       "    <tr>\n",
       "      <td>4</td>\n",
       "      <td>5</td>\n",
       "      <td>15737888</td>\n",
       "      <td>Mitchell</td>\n",
       "      <td>850</td>\n",
       "      <td>Spain</td>\n",
       "      <td>Female</td>\n",
       "      <td>43</td>\n",
       "      <td>2.0</td>\n",
       "      <td>125510.82</td>\n",
       "      <td>1</td>\n",
       "      <td>1</td>\n",
       "      <td>1</td>\n",
       "      <td>79084.10</td>\n",
       "      <td>0</td>\n",
       "    </tr>\n",
       "  </tbody>\n",
       "</table>\n",
       "</div>"
      ],
      "text/plain": [
       "   RowNumber  CustomerId   Surname  CreditScore Geography  Gender  Age  \\\n",
       "0          1    15634602  Hargrave          619    France  Female   42   \n",
       "1          2    15647311      Hill          608     Spain  Female   41   \n",
       "2          3    15619304      Onio          502    France  Female   42   \n",
       "3          4    15701354      Boni          699    France  Female   39   \n",
       "4          5    15737888  Mitchell          850     Spain  Female   43   \n",
       "\n",
       "   Tenure    Balance  NumOfProducts  HasCrCard  IsActiveMember  \\\n",
       "0     2.0       0.00              1          1               1   \n",
       "1     1.0   83807.86              1          0               1   \n",
       "2     8.0  159660.80              3          1               0   \n",
       "3     1.0       0.00              2          0               0   \n",
       "4     2.0  125510.82              1          1               1   \n",
       "\n",
       "   EstimatedSalary  Exited  \n",
       "0        101348.88       1  \n",
       "1        112542.58       0  \n",
       "2        113931.57       1  \n",
       "3         93826.63       0  \n",
       "4         79084.10       0  "
      ]
     },
     "execution_count": 1,
     "metadata": {},
     "output_type": "execute_result"
    }
   ],
   "source": [
    "import pandas as pd\n",
    "import numpy as np\n",
    "from sklearn.metrics import f1_score\n",
    "from sklearn.model_selection import train_test_split\n",
    "from sklearn.linear_model import LogisticRegression\n",
    "from sklearn.tree import DecisionTreeClassifier\n",
    "from sklearn.ensemble import RandomForestClassifier\n",
    "from sklearn.preprocessing import OrdinalEncoder\n",
    "from sklearn.metrics import f1_score \n",
    "from sklearn.utils import shuffle\n",
    "from sklearn.metrics import roc_auc_score\n",
    "\n",
    "data = pd.read_csv('/datasets/Churn.csv')\n",
    "\n",
    "data.info()\n",
    "display(data.shape)\n",
    "data.head()"
   ]
  },
  {
   "cell_type": "code",
   "execution_count": 2,
   "metadata": {},
   "outputs": [
    {
     "data": {
      "text/plain": [
       "4.997690023099769"
      ]
     },
     "metadata": {},
     "output_type": "display_data"
    },
    {
     "data": {
      "text/plain": [
       "5.0"
      ]
     },
     "metadata": {},
     "output_type": "display_data"
    },
    {
     "name": "stdout",
     "output_type": "stream",
     "text": [
      "<class 'pandas.core.frame.DataFrame'>\n",
      "RangeIndex: 10000 entries, 0 to 9999\n",
      "Data columns (total 14 columns):\n",
      "RowNumber          10000 non-null int64\n",
      "CustomerId         10000 non-null int64\n",
      "Surname            10000 non-null object\n",
      "CreditScore        10000 non-null int64\n",
      "Geography          10000 non-null object\n",
      "Gender             10000 non-null object\n",
      "Age                10000 non-null int64\n",
      "Tenure             10000 non-null float64\n",
      "Balance            10000 non-null float64\n",
      "NumOfProducts      10000 non-null int64\n",
      "HasCrCard          10000 non-null int64\n",
      "IsActiveMember     10000 non-null int64\n",
      "EstimatedSalary    10000 non-null float64\n",
      "Exited             10000 non-null int64\n",
      "dtypes: float64(3), int64(8), object(3)\n",
      "memory usage: 1.1+ MB\n"
     ]
    }
   ],
   "source": [
    "# Посчитаем среднее арифметическое и медианы по столбцу Tenure.\n",
    "display(data['Tenure'].mean())\n",
    "display(data['Tenure'].median())\n",
    "\n",
    "# Среднее арифметическое и медиана для столбца 'Tenure' практически одинаковые.\n",
    "median_days_employed = data['Tenure'].median()\n",
    "\n",
    "# Заполним нулевые значения медианой.\n",
    "data['Tenure'] = data['Tenure'].fillna(median_days_employed)\n",
    "\n",
    "# Проверим, остались ли в таблице нулевые значения.\n",
    "data.info()"
   ]
  },
  {
   "cell_type": "code",
   "execution_count": 3,
   "metadata": {},
   "outputs": [
    {
     "data": {
      "text/plain": [
       "(10000, 11)"
      ]
     },
     "metadata": {},
     "output_type": "display_data"
    },
    {
     "data": {
      "text/html": [
       "<div>\n",
       "<style scoped>\n",
       "    .dataframe tbody tr th:only-of-type {\n",
       "        vertical-align: middle;\n",
       "    }\n",
       "\n",
       "    .dataframe tbody tr th {\n",
       "        vertical-align: top;\n",
       "    }\n",
       "\n",
       "    .dataframe thead th {\n",
       "        text-align: right;\n",
       "    }\n",
       "</style>\n",
       "<table border=\"1\" class=\"dataframe\">\n",
       "  <thead>\n",
       "    <tr style=\"text-align: right;\">\n",
       "      <th></th>\n",
       "      <th>CreditScore</th>\n",
       "      <th>Geography</th>\n",
       "      <th>Gender</th>\n",
       "      <th>Age</th>\n",
       "      <th>Tenure</th>\n",
       "      <th>Balance</th>\n",
       "      <th>NumOfProducts</th>\n",
       "      <th>HasCrCard</th>\n",
       "      <th>IsActiveMember</th>\n",
       "      <th>EstimatedSalary</th>\n",
       "      <th>Exited</th>\n",
       "    </tr>\n",
       "  </thead>\n",
       "  <tbody>\n",
       "    <tr>\n",
       "      <td>0</td>\n",
       "      <td>619</td>\n",
       "      <td>France</td>\n",
       "      <td>Female</td>\n",
       "      <td>42</td>\n",
       "      <td>2.0</td>\n",
       "      <td>0.00</td>\n",
       "      <td>1</td>\n",
       "      <td>1</td>\n",
       "      <td>1</td>\n",
       "      <td>101348.88</td>\n",
       "      <td>1</td>\n",
       "    </tr>\n",
       "    <tr>\n",
       "      <td>1</td>\n",
       "      <td>608</td>\n",
       "      <td>Spain</td>\n",
       "      <td>Female</td>\n",
       "      <td>41</td>\n",
       "      <td>1.0</td>\n",
       "      <td>83807.86</td>\n",
       "      <td>1</td>\n",
       "      <td>0</td>\n",
       "      <td>1</td>\n",
       "      <td>112542.58</td>\n",
       "      <td>0</td>\n",
       "    </tr>\n",
       "    <tr>\n",
       "      <td>2</td>\n",
       "      <td>502</td>\n",
       "      <td>France</td>\n",
       "      <td>Female</td>\n",
       "      <td>42</td>\n",
       "      <td>8.0</td>\n",
       "      <td>159660.80</td>\n",
       "      <td>3</td>\n",
       "      <td>1</td>\n",
       "      <td>0</td>\n",
       "      <td>113931.57</td>\n",
       "      <td>1</td>\n",
       "    </tr>\n",
       "    <tr>\n",
       "      <td>3</td>\n",
       "      <td>699</td>\n",
       "      <td>France</td>\n",
       "      <td>Female</td>\n",
       "      <td>39</td>\n",
       "      <td>1.0</td>\n",
       "      <td>0.00</td>\n",
       "      <td>2</td>\n",
       "      <td>0</td>\n",
       "      <td>0</td>\n",
       "      <td>93826.63</td>\n",
       "      <td>0</td>\n",
       "    </tr>\n",
       "    <tr>\n",
       "      <td>4</td>\n",
       "      <td>850</td>\n",
       "      <td>Spain</td>\n",
       "      <td>Female</td>\n",
       "      <td>43</td>\n",
       "      <td>2.0</td>\n",
       "      <td>125510.82</td>\n",
       "      <td>1</td>\n",
       "      <td>1</td>\n",
       "      <td>1</td>\n",
       "      <td>79084.10</td>\n",
       "      <td>0</td>\n",
       "    </tr>\n",
       "  </tbody>\n",
       "</table>\n",
       "</div>"
      ],
      "text/plain": [
       "   CreditScore Geography  Gender  Age  Tenure    Balance  NumOfProducts  \\\n",
       "0          619    France  Female   42     2.0       0.00              1   \n",
       "1          608     Spain  Female   41     1.0   83807.86              1   \n",
       "2          502    France  Female   42     8.0  159660.80              3   \n",
       "3          699    France  Female   39     1.0       0.00              2   \n",
       "4          850     Spain  Female   43     2.0  125510.82              1   \n",
       "\n",
       "   HasCrCard  IsActiveMember  EstimatedSalary  Exited  \n",
       "0          1               1        101348.88       1  \n",
       "1          0               1        112542.58       0  \n",
       "2          1               0        113931.57       1  \n",
       "3          0               0         93826.63       0  \n",
       "4          1               1         79084.10       0  "
      ]
     },
     "execution_count": 3,
     "metadata": {},
     "output_type": "execute_result"
    }
   ],
   "source": [
    "# Удалим ненужные для анализа столбцы\n",
    "data.drop(['RowNumber', 'CustomerId', 'Surname'], axis=1, inplace = True)\n",
    "\n",
    "display(data.shape)\n",
    "data.head()"
   ]
  },
  {
   "cell_type": "code",
   "execution_count": 4,
   "metadata": {},
   "outputs": [
    {
     "data": {
      "text/plain": [
       "(10000, 12)"
      ]
     },
     "metadata": {},
     "output_type": "display_data"
    },
    {
     "data": {
      "text/html": [
       "<div>\n",
       "<style scoped>\n",
       "    .dataframe tbody tr th:only-of-type {\n",
       "        vertical-align: middle;\n",
       "    }\n",
       "\n",
       "    .dataframe tbody tr th {\n",
       "        vertical-align: top;\n",
       "    }\n",
       "\n",
       "    .dataframe thead th {\n",
       "        text-align: right;\n",
       "    }\n",
       "</style>\n",
       "<table border=\"1\" class=\"dataframe\">\n",
       "  <thead>\n",
       "    <tr style=\"text-align: right;\">\n",
       "      <th></th>\n",
       "      <th>CreditScore</th>\n",
       "      <th>Age</th>\n",
       "      <th>Tenure</th>\n",
       "      <th>Balance</th>\n",
       "      <th>NumOfProducts</th>\n",
       "      <th>HasCrCard</th>\n",
       "      <th>IsActiveMember</th>\n",
       "      <th>EstimatedSalary</th>\n",
       "      <th>Exited</th>\n",
       "      <th>Geography_Germany</th>\n",
       "      <th>Geography_Spain</th>\n",
       "      <th>Gender_Male</th>\n",
       "    </tr>\n",
       "  </thead>\n",
       "  <tbody>\n",
       "    <tr>\n",
       "      <td>0</td>\n",
       "      <td>619</td>\n",
       "      <td>42</td>\n",
       "      <td>2.0</td>\n",
       "      <td>0.00</td>\n",
       "      <td>1</td>\n",
       "      <td>1</td>\n",
       "      <td>1</td>\n",
       "      <td>101348.88</td>\n",
       "      <td>1</td>\n",
       "      <td>0</td>\n",
       "      <td>0</td>\n",
       "      <td>0</td>\n",
       "    </tr>\n",
       "    <tr>\n",
       "      <td>1</td>\n",
       "      <td>608</td>\n",
       "      <td>41</td>\n",
       "      <td>1.0</td>\n",
       "      <td>83807.86</td>\n",
       "      <td>1</td>\n",
       "      <td>0</td>\n",
       "      <td>1</td>\n",
       "      <td>112542.58</td>\n",
       "      <td>0</td>\n",
       "      <td>0</td>\n",
       "      <td>1</td>\n",
       "      <td>0</td>\n",
       "    </tr>\n",
       "    <tr>\n",
       "      <td>2</td>\n",
       "      <td>502</td>\n",
       "      <td>42</td>\n",
       "      <td>8.0</td>\n",
       "      <td>159660.80</td>\n",
       "      <td>3</td>\n",
       "      <td>1</td>\n",
       "      <td>0</td>\n",
       "      <td>113931.57</td>\n",
       "      <td>1</td>\n",
       "      <td>0</td>\n",
       "      <td>0</td>\n",
       "      <td>0</td>\n",
       "    </tr>\n",
       "    <tr>\n",
       "      <td>3</td>\n",
       "      <td>699</td>\n",
       "      <td>39</td>\n",
       "      <td>1.0</td>\n",
       "      <td>0.00</td>\n",
       "      <td>2</td>\n",
       "      <td>0</td>\n",
       "      <td>0</td>\n",
       "      <td>93826.63</td>\n",
       "      <td>0</td>\n",
       "      <td>0</td>\n",
       "      <td>0</td>\n",
       "      <td>0</td>\n",
       "    </tr>\n",
       "    <tr>\n",
       "      <td>4</td>\n",
       "      <td>850</td>\n",
       "      <td>43</td>\n",
       "      <td>2.0</td>\n",
       "      <td>125510.82</td>\n",
       "      <td>1</td>\n",
       "      <td>1</td>\n",
       "      <td>1</td>\n",
       "      <td>79084.10</td>\n",
       "      <td>0</td>\n",
       "      <td>0</td>\n",
       "      <td>1</td>\n",
       "      <td>0</td>\n",
       "    </tr>\n",
       "  </tbody>\n",
       "</table>\n",
       "</div>"
      ],
      "text/plain": [
       "   CreditScore  Age  Tenure    Balance  NumOfProducts  HasCrCard  \\\n",
       "0          619   42     2.0       0.00              1          1   \n",
       "1          608   41     1.0   83807.86              1          0   \n",
       "2          502   42     8.0  159660.80              3          1   \n",
       "3          699   39     1.0       0.00              2          0   \n",
       "4          850   43     2.0  125510.82              1          1   \n",
       "\n",
       "   IsActiveMember  EstimatedSalary  Exited  Geography_Germany  \\\n",
       "0               1        101348.88       1                  0   \n",
       "1               1        112542.58       0                  0   \n",
       "2               0        113931.57       1                  0   \n",
       "3               0         93826.63       0                  0   \n",
       "4               1         79084.10       0                  0   \n",
       "\n",
       "   Geography_Spain  Gender_Male  \n",
       "0                0            0  \n",
       "1                1            0  \n",
       "2                0            0  \n",
       "3                0            0  \n",
       "4                1            0  "
      ]
     },
     "metadata": {},
     "output_type": "display_data"
    }
   ],
   "source": [
    "#Применим прямое кодирование к таблице\n",
    "data_ohe = pd.get_dummies(data, drop_first=True)\n",
    "display(data_ohe.shape)\n",
    "display(data_ohe.head())"
   ]
  },
  {
   "cell_type": "code",
   "execution_count": 5,
   "metadata": {},
   "outputs": [
    {
     "data": {
      "text/plain": [
       "(6000, 11)"
      ]
     },
     "metadata": {},
     "output_type": "display_data"
    },
    {
     "data": {
      "text/plain": [
       "(2000, 11)"
      ]
     },
     "metadata": {},
     "output_type": "display_data"
    },
    {
     "data": {
      "text/plain": [
       "(2000, 11)"
      ]
     },
     "metadata": {},
     "output_type": "display_data"
    },
    {
     "data": {
      "text/plain": [
       "0.6"
      ]
     },
     "metadata": {},
     "output_type": "display_data"
    },
    {
     "data": {
      "text/plain": [
       "0.2"
      ]
     },
     "metadata": {},
     "output_type": "display_data"
    },
    {
     "data": {
      "text/plain": [
       "0.2"
      ]
     },
     "metadata": {},
     "output_type": "display_data"
    }
   ],
   "source": [
    "# Выделим целевые признаки и условия\n",
    "target = data_ohe['Exited']\n",
    "features = data_ohe.drop('Exited', axis=1)\n",
    "\n",
    "# Разобьём данные на выборки\n",
    "features_train_1, features_valid, target_train_1, target_valid = train_test_split(features, target, test_size=0.20, random_state=12345)\n",
    "features_train, features_test, target_train, target_test = train_test_split(features_train_1, target_train_1, test_size=0.25, random_state=12345)\n",
    "\n",
    "# Проверим, правильно ли распределились данные\n",
    "display(features_train.shape)\n",
    "display(features_valid.shape)\n",
    "display(features_test.shape)\n",
    "\n",
    "display (len(features_train) / (len(features_train) + len(features_valid) + len(features_test)))\n",
    "display (len(features_valid) / (len(features_train) + len(features_valid) + len(features_test)))\n",
    "display (len(features_test) / (len(features_train) + len(features_valid) + len(features_test)))\n"
   ]
  },
  {
   "cell_type": "markdown",
   "metadata": {},
   "source": [
    "## Исследование задачи"
   ]
  },
  {
   "cell_type": "code",
   "execution_count": 6,
   "metadata": {},
   "outputs": [
    {
     "data": {
      "text/plain": [
       "0.09896907216494845"
      ]
     },
     "execution_count": 6,
     "metadata": {},
     "output_type": "execute_result"
    }
   ],
   "source": [
    "# Обучим модель, измерим показатель F1\n",
    "model = LogisticRegression(solver='liblinear', random_state = 12345) \n",
    "model.fit(features_train, target_train)\n",
    "predicted_valid = model.predict(features_valid)\n",
    "f1_score(target_valid, predicted_valid)"
   ]
  },
  {
   "cell_type": "code",
   "execution_count": 7,
   "metadata": {},
   "outputs": [
    {
     "data": {
      "text/plain": [
       "0.5165876777251184"
      ]
     },
     "execution_count": 7,
     "metadata": {},
     "output_type": "execute_result"
    }
   ],
   "source": [
    "# Обучим модель, измерим показатель F1\n",
    "model = DecisionTreeClassifier(random_state=12345)\n",
    "model.fit(features_train, target_train)\n",
    "predicted_valid = model.predict(features_valid)\n",
    "f1_score(target_valid, predicted_valid)"
   ]
  },
  {
   "cell_type": "code",
   "execution_count": 8,
   "metadata": {},
   "outputs": [
    {
     "name": "stderr",
     "output_type": "stream",
     "text": [
      "/opt/conda/lib/python3.7/site-packages/sklearn/ensemble/forest.py:245: FutureWarning: The default value of n_estimators will change from 10 in version 0.20 to 100 in 0.22.\n",
      "  \"10 in version 0.20 to 100 in 0.22.\", FutureWarning)\n"
     ]
    },
    {
     "data": {
      "text/plain": [
       "0.5295857988165681"
      ]
     },
     "execution_count": 8,
     "metadata": {},
     "output_type": "execute_result"
    }
   ],
   "source": [
    "# Обучим модель, измерим показатель F1\n",
    "model = RandomForestClassifier(random_state=12345)\n",
    "model.fit(features_train, target_train)\n",
    "predicted_valid = model.predict(features_valid)\n",
    "f1_score(target_valid, predicted_valid)"
   ]
  },
  {
   "cell_type": "markdown",
   "metadata": {},
   "source": [
    "## Борьба с дисбалансом"
   ]
  },
  {
   "cell_type": "code",
   "execution_count": 9,
   "metadata": {},
   "outputs": [
    {
     "data": {
      "text/plain": [
       "0.4451313755795981"
      ]
     },
     "execution_count": 9,
     "metadata": {},
     "output_type": "execute_result"
    }
   ],
   "source": [
    "# Сделаем веса классов сбалансированными, посмотрим как изментися показатель F1\n",
    "model = LogisticRegression(random_state=12345, solver='liblinear', class_weight='balanced')\n",
    "model.fit(features_train, target_train)\n",
    "predicted_valid = model.predict(features_valid)\n",
    "f1_score(target_valid, predicted_valid)"
   ]
  },
  {
   "cell_type": "code",
   "execution_count": 10,
   "metadata": {},
   "outputs": [
    {
     "data": {
      "text/plain": [
       "0.514354066985646"
      ]
     },
     "execution_count": 10,
     "metadata": {},
     "output_type": "execute_result"
    }
   ],
   "source": [
    "# Сделаем веса классов сбалансированными, посмотрим как изментися показатель F1\n",
    "model = DecisionTreeClassifier(random_state=12345, class_weight='balanced')\n",
    "model.fit(features_train, target_train)\n",
    "predicted_valid = model.predict(features_valid)\n",
    "f1_score(target_valid, predicted_valid)"
   ]
  },
  {
   "cell_type": "code",
   "execution_count": 11,
   "metadata": {},
   "outputs": [
    {
     "name": "stderr",
     "output_type": "stream",
     "text": [
      "/opt/conda/lib/python3.7/site-packages/sklearn/ensemble/forest.py:245: FutureWarning: The default value of n_estimators will change from 10 in version 0.20 to 100 in 0.22.\n",
      "  \"10 in version 0.20 to 100 in 0.22.\", FutureWarning)\n"
     ]
    },
    {
     "data": {
      "text/plain": [
       "0.482225656877898"
      ]
     },
     "execution_count": 11,
     "metadata": {},
     "output_type": "execute_result"
    }
   ],
   "source": [
    "# Сделаем веса классов сбалансированными, посмотрим как изментися показатель F1\n",
    "model = RandomForestClassifier(random_state=12345, class_weight='balanced')\n",
    "model.fit(features_train, target_train)\n",
    "predicted_valid = model.predict(features_valid)\n",
    "f1_score(target_valid, predicted_valid)"
   ]
  },
  {
   "cell_type": "markdown",
   "metadata": {},
   "source": [
    "**Вывод**\n",
    "\n",
    "Наилучший показатель F1 без балансировки классов показала модель RandomForestClassifier. После балансировки классов модель LogisticRegression существенно увеличила показатель F1, а у остальных двух моделей данный показатель снизился."
   ]
  },
  {
   "cell_type": "code",
   "execution_count": 12,
   "metadata": {},
   "outputs": [
    {
     "data": {
      "text/plain": [
       "0.3518747424804285"
      ]
     },
     "metadata": {},
     "output_type": "display_data"
    },
    {
     "data": {
      "text/plain": [
       "0.484394506866417"
      ]
     },
     "metadata": {},
     "output_type": "display_data"
    },
    {
     "name": "stderr",
     "output_type": "stream",
     "text": [
      "/opt/conda/lib/python3.7/site-packages/sklearn/ensemble/forest.py:245: FutureWarning: The default value of n_estimators will change from 10 in version 0.20 to 100 in 0.22.\n",
      "  \"10 in version 0.20 to 100 in 0.22.\", FutureWarning)\n"
     ]
    },
    {
     "data": {
      "text/plain": [
       "0.5706666666666667"
      ]
     },
     "metadata": {},
     "output_type": "display_data"
    }
   ],
   "source": [
    "# Произведем увеличение выборки, измерим показатель F1 для раздичных моделей\n",
    "def upsample(features, target, repeat):\n",
    "    features_zeros = features[target == 0]\n",
    "    features_ones = features[target == 1]\n",
    "    target_zeros = target[target == 0]\n",
    "    target_ones = target[target == 1]\n",
    "\n",
    "    features_upsampled = pd.concat([features_zeros] + [features_ones] * repeat)\n",
    "    target_upsampled = pd.concat([target_zeros] + [target_ones] * repeat)\n",
    "    \n",
    "    features_upsampled, target_upsampled = shuffle(features_upsampled, target_upsampled, random_state=12345)\n",
    "    \n",
    "    return features_upsampled, target_upsampled\n",
    "\n",
    "features_upsampled, target_upsampled = upsample(features_train, target_train, 20)\n",
    "\n",
    "model = LogisticRegression(random_state=12345, solver = 'liblinear')\n",
    "model.fit(features_upsampled, target_upsampled)\n",
    "predicted_valid = model.predict(features_valid)\n",
    "display(f1_score(target_valid, predicted_valid))\n",
    "\n",
    "model = DecisionTreeClassifier(random_state=12345)\n",
    "model.fit(features_upsampled, target_upsampled)\n",
    "predicted_valid = model.predict(features_valid)\n",
    "display(f1_score(target_valid, predicted_valid))\n",
    "\n",
    "model = RandomForestClassifier(random_state=12345)\n",
    "model.fit(features_upsampled, target_upsampled)\n",
    "predicted_valid = model.predict(features_valid)\n",
    "display(f1_score(target_valid, predicted_valid))"
   ]
  },
  {
   "cell_type": "code",
   "execution_count": 13,
   "metadata": {},
   "outputs": [
    {
     "data": {
      "text/plain": [
       "0.44271844660194176"
      ]
     },
     "metadata": {},
     "output_type": "display_data"
    },
    {
     "data": {
      "text/plain": [
       "0.4972200158856236"
      ]
     },
     "metadata": {},
     "output_type": "display_data"
    },
    {
     "name": "stderr",
     "output_type": "stream",
     "text": [
      "/opt/conda/lib/python3.7/site-packages/sklearn/ensemble/forest.py:245: FutureWarning: The default value of n_estimators will change from 10 in version 0.20 to 100 in 0.22.\n",
      "  \"10 in version 0.20 to 100 in 0.22.\", FutureWarning)\n"
     ]
    },
    {
     "data": {
      "text/plain": [
       "0.5681211041852181"
      ]
     },
     "metadata": {},
     "output_type": "display_data"
    }
   ],
   "source": [
    "# Произведем уменьшение выборки, измерим показатель F1 для раздичных моделей\n",
    "def downsample(features, target, fraction):\n",
    "    features_zeros = features[target == 0]\n",
    "    features_ones = features[target == 1]\n",
    "    target_zeros = target[target == 0]\n",
    "    target_ones = target[target == 1]\n",
    "\n",
    "    features_downsampled = pd.concat(\n",
    "        [features_zeros.sample(frac=fraction, random_state=12345)] + [features_ones])\n",
    "    target_downsampled = pd.concat(\n",
    "        [target_zeros.sample(frac=fraction, random_state=12345)] + [target_ones])\n",
    "    \n",
    "    features_downsampled, target_downsampled = shuffle(\n",
    "        features_downsampled, target_downsampled, random_state=12345)\n",
    "    \n",
    "    return features_downsampled, target_downsampled\n",
    "\n",
    "features_downsampled, target_downsampled = downsample(features_train, target_train, 0.2)\n",
    "\n",
    "model = LogisticRegression(random_state=12345, solver = 'liblinear')\n",
    "model.fit(features_downsampled, target_downsampled)\n",
    "predicted_valid = model.predict(features_valid)\n",
    "display(f1_score(target_valid, predicted_valid))\n",
    "\n",
    "model = DecisionTreeClassifier(random_state=12345)\n",
    "model.fit(features_downsampled, target_downsampled)\n",
    "predicted_valid = model.predict(features_valid)\n",
    "display(f1_score(target_valid, predicted_valid))\n",
    "\n",
    "model = RandomForestClassifier(random_state=12345)\n",
    "model.fit(features_downsampled, target_downsampled)\n",
    "predicted_valid = model.predict(features_valid)\n",
    "display(f1_score(target_valid, predicted_valid))"
   ]
  },
  {
   "cell_type": "code",
   "execution_count": 14,
   "metadata": {},
   "outputs": [
    {
     "data": {
      "text/plain": [
       "0.6711395906626906"
      ]
     },
     "metadata": {},
     "output_type": "display_data"
    },
    {
     "name": "stdout",
     "output_type": "stream",
     "text": [
      "0.0 0.3518747424804285\n",
      "0.05 0.3546511627906977\n",
      "0.1 0.3812129502963976\n",
      "0.15000000000000002 0.39999999999999997\n",
      "0.2 0.40498899486427\n",
      "0.25 0.4075829383886256\n",
      "0.30000000000000004 0.36494597839135656\n",
      "0.35000000000000003 0.3130434782608696\n",
      "0.4 0.23670668953687823\n",
      "0.45 0.1511627906976744\n"
     ]
    }
   ],
   "source": [
    "# Изменим порог для повышения показателя F1\n",
    "model = LogisticRegression(random_state=12345, solver='liblinear')\n",
    "model.fit(features_train, target_train)\n",
    "probabilities_valid = model.predict_proba(features_valid)\n",
    "probabilities_one_valid = probabilities_valid[:, 1]\n",
    "\n",
    "display(roc_auc_score(target_valid, probabilities_one_valid))\n",
    "\n",
    "for threshold in np.arange(0, 0.5, 0.05):\n",
    "    predicted_valid = probabilities_one_valid > threshold\n",
    "    print(threshold, f1_score(target_valid, predicted_valid))"
   ]
  },
  {
   "cell_type": "code",
   "execution_count": 15,
   "metadata": {},
   "outputs": [
    {
     "name": "stderr",
     "output_type": "stream",
     "text": [
      "/opt/conda/lib/python3.7/site-packages/sklearn/ensemble/forest.py:245: FutureWarning: The default value of n_estimators will change from 10 in version 0.20 to 100 in 0.22.\n",
      "  \"10 in version 0.20 to 100 in 0.22.\", FutureWarning)\n"
     ]
    },
    {
     "data": {
      "text/plain": [
       "0.8146332058403594"
      ]
     },
     "metadata": {},
     "output_type": "display_data"
    },
    {
     "name": "stdout",
     "output_type": "stream",
     "text": [
      "0.0 0.44703143189755523\n",
      "0.05 0.44703143189755523\n",
      "0.1 0.5340557275541795\n",
      "0.15000000000000002 0.5340557275541795\n",
      "0.2 0.573055028462998\n",
      "0.25 0.573055028462998\n",
      "0.30000000000000004 0.5957446808510638\n",
      "0.35000000000000003 0.5957446808510638\n",
      "0.4 0.5657894736842104\n",
      "0.45 0.5657894736842104\n"
     ]
    }
   ],
   "source": [
    "# Изменим порог для повышения показателя F1\n",
    "model = RandomForestClassifier(random_state=12345)\n",
    "model.fit(features_train, target_train)\n",
    "probabilities_valid = model.predict_proba(features_valid)\n",
    "probabilities_one_valid = probabilities_valid[:, 1]\n",
    "\n",
    "display(roc_auc_score(target_valid, probabilities_one_valid))\n",
    "\n",
    "for threshold in np.arange(0, 0.5, 0.05):\n",
    "    predicted_valid = probabilities_one_valid > threshold\n",
    "    print(threshold, f1_score(target_valid, predicted_valid))"
   ]
  },
  {
   "cell_type": "code",
   "execution_count": 16,
   "metadata": {},
   "outputs": [
    {
     "name": "stdout",
     "output_type": "stream",
     "text": [
      "10 0.5957446808510638\n",
      "15 0.615546218487395\n",
      "20 0.6237513873473918\n",
      "25 0.6183368869936033\n",
      "30 0.6262403528114664\n",
      "35 0.6266094420600857\n",
      "40 0.6162402669632926\n",
      "45 0.6206896551724138\n",
      "50 0.627062706270627\n",
      "55 0.6282608695652173\n",
      "60 0.6334440753045404\n",
      "65 0.6295081967213114\n"
     ]
    }
   ],
   "source": [
    "# Определим оптимальное значение гиперпараметра n_estimators\n",
    "for est in range (10, 70, 5):\n",
    "    model = RandomForestClassifier(random_state=12345, n_estimators = est)\n",
    "    model.fit(features_train, target_train)\n",
    "    probabilities_valid = model.predict_proba(features_valid)\n",
    "    probabilities_one_valid = probabilities_valid[:, 1]\n",
    "    predicted_valid = probabilities_one_valid > 0.3\n",
    "    print(est, f1_score(target_valid, predicted_valid))"
   ]
  },
  {
   "cell_type": "markdown",
   "metadata": {},
   "source": [
    "**Выводы**\n",
    "\n",
    "Увеличение выборки позволило вырастить показатель F1 для модели RandomForestClassifier, однако он остается на достаточно низком уровне, уменьшение выборки привело к снижению показателя F1 для указанной модели.\n",
    "\n",
    "Переборкой в цикле значений порога удалось установить, что для модели RandomForestClassifier показатель F1 получает наибольшее значение при пороге, равном 0,3. Далее провден поиск оптимального значения гиперпараметра n_estimators, которое равно 60.\n",
    "\n",
    "Для моделей LogisticRegression и RandomForestClassifier измерен показатель AUC-ROC. В первом случае данный показатель равен 0,67, метрика F1 также находится на достаточно низком уровне. При использовании модели RandomForestClassifier значение показателя AUC-ROC существенно выше - 0,81, при этом метрика F1 "
   ]
  },
  {
   "cell_type": "markdown",
   "metadata": {},
   "source": [
    "## Тестирование модели"
   ]
  },
  {
   "cell_type": "code",
   "execution_count": 17,
   "metadata": {},
   "outputs": [
    {
     "name": "stdout",
     "output_type": "stream",
     "text": [
      "0.5945303210463734 0.7575426906515302\n"
     ]
    }
   ],
   "source": [
    "# Проведем тестирование на тестовой выборке\n",
    "model = RandomForestClassifier(random_state=12345, n_estimators=60)\n",
    "model.fit(features_train, target_train)\n",
    "probabilities_test = model.predict_proba(features_test)\n",
    "probabilities_one_test = probabilities_test[:, 1]\n",
    "predicted_test = probabilities_one_test > 0.3\n",
    "print(f1_score(target_test, predicted_test), roc_auc_score(target_test, predicted_test))"
   ]
  },
  {
   "cell_type": "markdown",
   "metadata": {},
   "source": [
    "**Финальный вывод**\n",
    "\n",
    "Нашей задачей в данном проекте было сформировать модель, которая поможет спрогнозировать, уйдёт клиент из банка в ближайшее время или нет. Для решения задачи нам была предоставлена статистическая таблица с различными параметрам и целевым признаком. \n",
    "\n",
    "В процессе задачи был загружен файл с данными, данные изучены, проведена их предобработка. \n",
    "\n",
    "Обучены три модели, однако метрики качества оказались на низком уровне, модели не пригодны для использования. Чтобы устранить данный недостаток предпринята попытка повысить значение метрик путем балансировки классов. Метрики улучшились, однако цель задачи не достигнута. Далее проведены увеличение и уменьшение выборки, что тоже не дало желаемый результат. \n",
    "\n",
    "Добиться требуемого значения метрики F1 удалось путем перебоки значений порогов для модели RandomForestClassifier.\n",
    "\n",
    "Тестирование модели подтвердило, что желаемый результат достигнут. Модель можно использовать для прогнозирования ухода клиентов из банка."
   ]
  }
 ],
 "metadata": {
  "ExecuteTimeLog": [
   {
    "duration": 5830,
    "start_time": "2021-06-08T18:12:24.321Z"
   },
   {
    "duration": 616,
    "start_time": "2021-06-08T18:21:47.396Z"
   },
   {
    "duration": 1995,
    "start_time": "2021-06-08T18:24:50.958Z"
   },
   {
    "duration": 1830,
    "start_time": "2021-06-08T18:27:31.718Z"
   },
   {
    "duration": 1630,
    "start_time": "2021-06-08T18:27:40.869Z"
   },
   {
    "duration": 2059,
    "start_time": "2021-06-08T18:28:03.593Z"
   },
   {
    "duration": 3137,
    "start_time": "2021-06-08T18:28:23.788Z"
   },
   {
    "duration": 615,
    "start_time": "2021-06-08T18:32:53.437Z"
   },
   {
    "duration": 1924,
    "start_time": "2021-06-08T18:40:44.231Z"
   },
   {
    "duration": 1852,
    "start_time": "2021-06-08T18:41:59.267Z"
   },
   {
    "duration": 619,
    "start_time": "2021-06-08T18:42:13.696Z"
   },
   {
    "duration": 649,
    "start_time": "2021-06-08T18:42:24.434Z"
   },
   {
    "duration": 1655,
    "start_time": "2021-06-08T18:42:46.291Z"
   },
   {
    "duration": 1647,
    "start_time": "2021-06-08T18:42:56.197Z"
   },
   {
    "duration": 1977,
    "start_time": "2021-06-08T18:43:09.512Z"
   },
   {
    "duration": 2221,
    "start_time": "2021-06-08T18:43:46.078Z"
   },
   {
    "duration": 1841,
    "start_time": "2021-06-08T18:43:53.641Z"
   },
   {
    "duration": 1780,
    "start_time": "2021-06-08T18:46:36.874Z"
   },
   {
    "duration": 2905,
    "start_time": "2021-06-08T18:46:59.393Z"
   },
   {
    "duration": 1698,
    "start_time": "2021-06-08T18:47:21.277Z"
   },
   {
    "duration": 1959,
    "start_time": "2021-06-08T18:47:30.410Z"
   },
   {
    "duration": 1816,
    "start_time": "2021-06-08T18:47:40.086Z"
   },
   {
    "duration": 2206,
    "start_time": "2021-06-08T18:49:09.210Z"
   },
   {
    "duration": 1792,
    "start_time": "2021-06-08T18:59:11.907Z"
   },
   {
    "duration": 2057,
    "start_time": "2021-06-08T19:00:53.307Z"
   },
   {
    "duration": 1771,
    "start_time": "2021-06-08T19:59:50.055Z"
   },
   {
    "duration": 1692,
    "start_time": "2021-06-08T20:00:53.598Z"
   },
   {
    "duration": 1810,
    "start_time": "2021-06-08T20:01:57.615Z"
   },
   {
    "duration": 62,
    "start_time": "2021-06-08T20:08:12.234Z"
   },
   {
    "duration": 476,
    "start_time": "2021-06-09T20:17:14.250Z"
   },
   {
    "duration": 1448,
    "start_time": "2021-06-09T20:17:25.483Z"
   },
   {
    "duration": 1425,
    "start_time": "2021-06-09T20:17:26.933Z"
   },
   {
    "duration": 217,
    "start_time": "2021-06-10T18:32:10.637Z"
   },
   {
    "duration": 1065,
    "start_time": "2021-06-10T18:32:15.485Z"
   },
   {
    "duration": 440,
    "start_time": "2021-06-10T18:32:16.552Z"
   },
   {
    "duration": 43,
    "start_time": "2021-06-10T18:35:15.193Z"
   },
   {
    "duration": 49,
    "start_time": "2021-06-10T18:35:33.072Z"
   },
   {
    "duration": 415,
    "start_time": "2021-06-10T18:36:03.572Z"
   },
   {
    "duration": 399,
    "start_time": "2021-06-10T18:36:26.757Z"
   },
   {
    "duration": 243,
    "start_time": "2021-06-10T18:42:17.939Z"
   },
   {
    "duration": 176,
    "start_time": "2021-06-10T18:42:44.717Z"
   },
   {
    "duration": 21,
    "start_time": "2021-06-10T18:44:10.647Z"
   },
   {
    "duration": 20,
    "start_time": "2021-06-10T18:45:28.970Z"
   },
   {
    "duration": 18,
    "start_time": "2021-06-10T18:46:03.432Z"
   },
   {
    "duration": 30,
    "start_time": "2021-06-10T18:46:27.672Z"
   },
   {
    "duration": 185,
    "start_time": "2021-06-10T18:55:27.719Z"
   },
   {
    "duration": 18,
    "start_time": "2021-06-10T18:58:30.590Z"
   },
   {
    "duration": 175,
    "start_time": "2021-06-10T19:12:31.940Z"
   },
   {
    "duration": 177,
    "start_time": "2021-06-10T19:20:27.205Z"
   },
   {
    "duration": 45,
    "start_time": "2021-06-10T19:21:06.290Z"
   },
   {
    "duration": 15,
    "start_time": "2021-06-10T19:21:06.337Z"
   },
   {
    "duration": 40,
    "start_time": "2021-06-10T19:21:06.354Z"
   },
   {
    "duration": 19,
    "start_time": "2021-06-10T19:21:06.396Z"
   },
   {
    "duration": 29,
    "start_time": "2021-06-10T19:21:06.417Z"
   },
   {
    "duration": 55,
    "start_time": "2021-06-10T20:07:43.785Z"
   },
   {
    "duration": 13,
    "start_time": "2021-06-10T20:07:43.842Z"
   },
   {
    "duration": 37,
    "start_time": "2021-06-10T20:07:43.857Z"
   },
   {
    "duration": 18,
    "start_time": "2021-06-10T20:07:43.896Z"
   },
   {
    "duration": 26,
    "start_time": "2021-06-10T20:07:43.916Z"
   },
   {
    "duration": 79,
    "start_time": "2021-06-10T20:07:43.944Z"
   },
   {
    "duration": 59,
    "start_time": "2021-06-10T20:08:42.193Z"
   },
   {
    "duration": 41,
    "start_time": "2021-06-10T20:10:12.914Z"
   },
   {
    "duration": 13,
    "start_time": "2021-06-10T20:10:12.957Z"
   },
   {
    "duration": 21,
    "start_time": "2021-06-10T20:10:12.972Z"
   },
   {
    "duration": 19,
    "start_time": "2021-06-10T20:10:12.995Z"
   },
   {
    "duration": 27,
    "start_time": "2021-06-10T20:10:13.017Z"
   },
   {
    "duration": 70,
    "start_time": "2021-06-10T20:10:13.047Z"
   },
   {
    "duration": 29,
    "start_time": "2021-06-10T20:10:13.119Z"
   },
   {
    "duration": 41,
    "start_time": "2021-06-10T20:16:03.439Z"
   },
   {
    "duration": 20,
    "start_time": "2021-06-10T20:16:03.482Z"
   },
   {
    "duration": 22,
    "start_time": "2021-06-10T20:16:03.504Z"
   },
   {
    "duration": 17,
    "start_time": "2021-06-10T20:16:03.528Z"
   },
   {
    "duration": 58,
    "start_time": "2021-06-10T20:16:03.547Z"
   },
   {
    "duration": 30,
    "start_time": "2021-06-10T20:16:03.607Z"
   },
   {
    "duration": 2,
    "start_time": "2021-06-10T20:16:03.638Z"
   },
   {
    "duration": 42,
    "start_time": "2021-06-10T20:20:18.186Z"
   },
   {
    "duration": 11,
    "start_time": "2021-06-10T20:20:18.230Z"
   },
   {
    "duration": 18,
    "start_time": "2021-06-10T20:20:18.243Z"
   },
   {
    "duration": 38,
    "start_time": "2021-06-10T20:20:18.263Z"
   },
   {
    "duration": 85,
    "start_time": "2021-06-10T20:20:18.304Z"
   },
   {
    "duration": 118,
    "start_time": "2021-06-10T20:20:18.390Z"
   },
   {
    "duration": 3,
    "start_time": "2021-06-10T20:20:18.509Z"
   },
   {
    "duration": 32,
    "start_time": "2021-06-10T20:20:47.241Z"
   },
   {
    "duration": 31,
    "start_time": "2021-06-10T20:20:52.393Z"
   },
   {
    "duration": 44,
    "start_time": "2021-06-10T20:20:56.663Z"
   },
   {
    "duration": 34,
    "start_time": "2021-06-10T20:21:05.761Z"
   },
   {
    "duration": 42,
    "start_time": "2021-06-10T20:29:42.794Z"
   },
   {
    "duration": 12,
    "start_time": "2021-06-10T20:29:42.838Z"
   },
   {
    "duration": 19,
    "start_time": "2021-06-10T20:29:42.855Z"
   },
   {
    "duration": 20,
    "start_time": "2021-06-10T20:29:42.977Z"
   },
   {
    "duration": 91,
    "start_time": "2021-06-10T20:29:42.999Z"
   },
   {
    "duration": 115,
    "start_time": "2021-06-10T20:29:43.093Z"
   },
   {
    "duration": 2,
    "start_time": "2021-06-10T20:29:43.209Z"
   },
   {
    "duration": 80,
    "start_time": "2021-06-10T20:29:43.213Z"
   },
   {
    "duration": 30,
    "start_time": "2021-06-10T20:30:27.742Z"
   },
   {
    "duration": 43,
    "start_time": "2021-06-10T20:59:06.530Z"
   },
   {
    "duration": 15,
    "start_time": "2021-06-10T20:59:06.575Z"
   },
   {
    "duration": 23,
    "start_time": "2021-06-10T20:59:06.592Z"
   },
   {
    "duration": 18,
    "start_time": "2021-06-10T20:59:06.616Z"
   },
   {
    "duration": 2,
    "start_time": "2021-06-10T20:59:06.635Z"
   },
   {
    "duration": 68,
    "start_time": "2021-06-10T20:59:06.639Z"
   },
   {
    "duration": 181,
    "start_time": "2021-06-10T20:59:06.712Z"
   },
   {
    "duration": 101,
    "start_time": "2021-06-10T20:59:06.895Z"
   },
   {
    "duration": 110,
    "start_time": "2021-06-10T20:59:06.998Z"
   },
   {
    "duration": 178,
    "start_time": "2021-06-10T20:59:07.110Z"
   },
   {
    "duration": 235,
    "start_time": "2021-06-10T21:00:59.092Z"
   },
   {
    "duration": 273,
    "start_time": "2021-06-10T21:01:25.446Z"
   },
   {
    "duration": 254,
    "start_time": "2021-06-10T21:01:55.969Z"
   },
   {
    "duration": 165,
    "start_time": "2021-06-10T21:04:13.530Z"
   },
   {
    "duration": 215,
    "start_time": "2021-06-10T21:04:39.481Z"
   },
   {
    "duration": 153,
    "start_time": "2021-06-10T21:04:50.833Z"
   },
   {
    "duration": 59,
    "start_time": "2021-06-10T21:05:06.547Z"
   },
   {
    "duration": 1516,
    "start_time": "2021-06-11T15:36:07.788Z"
   },
   {
    "duration": 505,
    "start_time": "2021-06-11T15:36:09.307Z"
   },
   {
    "duration": -453,
    "start_time": "2021-06-11T15:36:10.269Z"
   },
   {
    "duration": -452,
    "start_time": "2021-06-11T15:36:10.270Z"
   },
   {
    "duration": -614,
    "start_time": "2021-06-11T15:36:10.433Z"
   },
   {
    "duration": -619,
    "start_time": "2021-06-11T15:36:10.440Z"
   },
   {
    "duration": -622,
    "start_time": "2021-06-11T15:36:10.444Z"
   },
   {
    "duration": -741,
    "start_time": "2021-06-11T15:36:10.565Z"
   },
   {
    "duration": -746,
    "start_time": "2021-06-11T15:36:10.571Z"
   },
   {
    "duration": -757,
    "start_time": "2021-06-11T15:36:10.583Z"
   },
   {
    "duration": -762,
    "start_time": "2021-06-11T15:36:10.590Z"
   },
   {
    "duration": -763,
    "start_time": "2021-06-11T15:36:10.592Z"
   },
   {
    "duration": 8363,
    "start_time": "2021-06-11T16:25:52.471Z"
   },
   {
    "duration": 8,
    "start_time": "2021-06-11T16:26:21.422Z"
   },
   {
    "duration": 8,
    "start_time": "2021-06-11T16:26:44.061Z"
   },
   {
    "duration": 16,
    "start_time": "2021-06-11T16:29:12.418Z"
   },
   {
    "duration": 13,
    "start_time": "2021-06-11T16:29:50.981Z"
   },
   {
    "duration": 19,
    "start_time": "2021-06-11T16:30:15.837Z"
   },
   {
    "duration": 79,
    "start_time": "2021-06-11T16:30:34.149Z"
   },
   {
    "duration": 56,
    "start_time": "2021-06-11T16:30:34.232Z"
   },
   {
    "duration": 31,
    "start_time": "2021-06-11T16:30:34.292Z"
   },
   {
    "duration": 89,
    "start_time": "2021-06-11T16:30:34.326Z"
   },
   {
    "duration": 29,
    "start_time": "2021-06-11T16:30:34.418Z"
   },
   {
    "duration": 4,
    "start_time": "2021-06-11T16:30:34.450Z"
   },
   {
    "duration": 138,
    "start_time": "2021-06-11T16:30:34.456Z"
   },
   {
    "duration": 143,
    "start_time": "2021-06-11T16:30:34.599Z"
   },
   {
    "duration": 148,
    "start_time": "2021-06-11T16:30:34.745Z"
   },
   {
    "duration": 136,
    "start_time": "2021-06-11T16:30:34.896Z"
   },
   {
    "duration": 431,
    "start_time": "2021-06-11T16:30:35.034Z"
   },
   {
    "duration": 233,
    "start_time": "2021-06-11T16:30:35.467Z"
   },
   {
    "duration": 59,
    "start_time": "2021-06-11T16:56:33.910Z"
   },
   {
    "duration": 19,
    "start_time": "2021-06-11T16:56:33.972Z"
   },
   {
    "duration": 42,
    "start_time": "2021-06-11T16:56:33.993Z"
   },
   {
    "duration": 36,
    "start_time": "2021-06-11T16:56:34.038Z"
   },
   {
    "duration": 26,
    "start_time": "2021-06-11T16:56:34.086Z"
   },
   {
    "duration": 3,
    "start_time": "2021-06-11T16:56:34.114Z"
   },
   {
    "duration": 170,
    "start_time": "2021-06-11T16:56:34.121Z"
   },
   {
    "duration": 134,
    "start_time": "2021-06-11T16:56:34.296Z"
   },
   {
    "duration": 153,
    "start_time": "2021-06-11T16:56:34.433Z"
   },
   {
    "duration": 138,
    "start_time": "2021-06-11T16:56:34.590Z"
   },
   {
    "duration": 430,
    "start_time": "2021-06-11T16:56:34.731Z"
   },
   {
    "duration": 223,
    "start_time": "2021-06-11T16:56:35.164Z"
   },
   {
    "duration": 481,
    "start_time": "2021-06-11T16:56:35.391Z"
   },
   {
    "duration": 59,
    "start_time": "2021-06-11T16:57:17.797Z"
   },
   {
    "duration": 30,
    "start_time": "2021-06-11T16:57:17.859Z"
   },
   {
    "duration": 20,
    "start_time": "2021-06-11T16:57:17.892Z"
   },
   {
    "duration": 33,
    "start_time": "2021-06-11T16:57:17.915Z"
   },
   {
    "duration": 30,
    "start_time": "2021-06-11T16:57:17.986Z"
   },
   {
    "duration": 3,
    "start_time": "2021-06-11T16:57:18.018Z"
   },
   {
    "duration": 165,
    "start_time": "2021-06-11T16:57:18.025Z"
   },
   {
    "duration": 138,
    "start_time": "2021-06-11T16:57:18.193Z"
   },
   {
    "duration": 160,
    "start_time": "2021-06-11T16:57:18.333Z"
   },
   {
    "duration": 132,
    "start_time": "2021-06-11T16:57:18.496Z"
   },
   {
    "duration": 433,
    "start_time": "2021-06-11T16:57:18.631Z"
   },
   {
    "duration": 222,
    "start_time": "2021-06-11T16:57:19.067Z"
   },
   {
    "duration": 475,
    "start_time": "2021-06-11T16:57:19.292Z"
   },
   {
    "duration": 430,
    "start_time": "2021-06-11T16:58:30.358Z"
   },
   {
    "duration": 349,
    "start_time": "2021-06-11T16:58:53.138Z"
   },
   {
    "duration": 117,
    "start_time": "2021-06-11T16:59:50.600Z"
   },
   {
    "duration": 125,
    "start_time": "2021-06-11T17:00:14.597Z"
   },
   {
    "duration": 1369,
    "start_time": "2021-06-11T21:20:46.153Z"
   },
   {
    "duration": 19,
    "start_time": "2021-06-11T21:20:47.525Z"
   },
   {
    "duration": 23,
    "start_time": "2021-06-11T21:20:47.547Z"
   },
   {
    "duration": 70,
    "start_time": "2021-06-11T21:20:47.573Z"
   },
   {
    "duration": 32,
    "start_time": "2021-06-11T21:20:47.646Z"
   },
   {
    "duration": 2,
    "start_time": "2021-06-11T21:20:47.680Z"
   },
   {
    "duration": 104,
    "start_time": "2021-06-11T21:20:47.725Z"
   },
   {
    "duration": 138,
    "start_time": "2021-06-11T21:20:47.832Z"
   },
   {
    "duration": 2051,
    "start_time": "2021-06-11T21:20:47.973Z"
   },
   {
    "duration": 100,
    "start_time": "2021-06-11T21:20:50.026Z"
   },
   {
    "duration": 139,
    "start_time": "2021-06-11T21:20:50.128Z"
   },
   {
    "duration": 425,
    "start_time": "2021-06-11T21:20:50.269Z"
   },
   {
    "duration": 230,
    "start_time": "2021-06-11T21:20:50.696Z"
   },
   {
    "duration": 244,
    "start_time": "2021-06-11T21:20:50.928Z"
   },
   {
    "duration": 163,
    "start_time": "2021-06-11T21:20:51.174Z"
   },
   {
    "duration": 48512,
    "start_time": "2021-06-11T21:21:13.112Z"
   },
   {
    "duration": 18779,
    "start_time": "2021-06-11T21:22:44.510Z"
   },
   {
    "duration": 95,
    "start_time": "2021-06-11T21:23:57.591Z"
   },
   {
    "duration": 1927,
    "start_time": "2021-06-11T21:24:08.225Z"
   },
   {
    "duration": 2011,
    "start_time": "2021-06-11T21:26:01.379Z"
   },
   {
    "duration": 2061,
    "start_time": "2021-06-11T21:27:17.671Z"
   },
   {
    "duration": 1409,
    "start_time": "2021-06-13T07:27:48.576Z"
   },
   {
    "duration": 22,
    "start_time": "2021-06-13T07:27:49.988Z"
   },
   {
    "duration": 22,
    "start_time": "2021-06-13T07:27:50.013Z"
   },
   {
    "duration": 78,
    "start_time": "2021-06-13T07:27:50.038Z"
   },
   {
    "duration": 28,
    "start_time": "2021-06-13T07:27:50.119Z"
   },
   {
    "duration": 38,
    "start_time": "2021-06-13T07:27:50.149Z"
   },
   {
    "duration": 102,
    "start_time": "2021-06-13T07:27:50.190Z"
   },
   {
    "duration": 46,
    "start_time": "2021-06-13T07:27:50.385Z"
   },
   {
    "duration": 2015,
    "start_time": "2021-06-13T07:27:50.435Z"
   },
   {
    "duration": 134,
    "start_time": "2021-06-13T07:27:52.452Z"
   },
   {
    "duration": 136,
    "start_time": "2021-06-13T07:27:52.590Z"
   },
   {
    "duration": 416,
    "start_time": "2021-06-13T07:27:52.728Z"
   },
   {
    "duration": 246,
    "start_time": "2021-06-13T07:27:53.146Z"
   },
   {
    "duration": 244,
    "start_time": "2021-06-13T07:27:53.394Z"
   },
   {
    "duration": 306,
    "start_time": "2021-06-13T07:27:53.640Z"
   },
   {
    "duration": 262,
    "start_time": "2021-06-13T07:28:21.451Z"
   },
   {
    "duration": 287,
    "start_time": "2021-06-13T07:29:05.121Z"
   },
   {
    "duration": 158,
    "start_time": "2021-06-13T07:30:09.856Z"
   },
   {
    "duration": 170,
    "start_time": "2021-06-13T07:30:49.560Z"
   },
   {
    "duration": 130,
    "start_time": "2021-06-13T07:31:10.779Z"
   },
   {
    "duration": 155,
    "start_time": "2021-06-13T07:31:41.600Z"
   },
   {
    "duration": 109,
    "start_time": "2021-06-13T07:37:38.763Z"
   },
   {
    "duration": 134,
    "start_time": "2021-06-13T07:41:17.752Z"
   },
   {
    "duration": 201,
    "start_time": "2021-06-13T07:41:25.693Z"
   },
   {
    "duration": 291,
    "start_time": "2021-06-13T07:41:38.387Z"
   },
   {
    "duration": 200,
    "start_time": "2021-06-13T07:41:48.041Z"
   },
   {
    "duration": 212,
    "start_time": "2021-06-13T07:45:05.996Z"
   },
   {
    "duration": 111,
    "start_time": "2021-06-13T07:45:25.707Z"
   },
   {
    "duration": 105,
    "start_time": "2021-06-13T07:45:42.554Z"
   },
   {
    "duration": 110,
    "start_time": "2021-06-13T07:45:48.915Z"
   },
   {
    "duration": 113,
    "start_time": "2021-06-13T07:45:55.913Z"
   },
   {
    "duration": 60,
    "start_time": "2021-06-13T07:46:19.396Z"
   },
   {
    "duration": 18,
    "start_time": "2021-06-13T07:46:19.458Z"
   },
   {
    "duration": 20,
    "start_time": "2021-06-13T07:46:19.485Z"
   },
   {
    "duration": 33,
    "start_time": "2021-06-13T07:46:19.508Z"
   },
   {
    "duration": 60,
    "start_time": "2021-06-13T07:46:19.544Z"
   },
   {
    "duration": 4,
    "start_time": "2021-06-13T07:46:19.607Z"
   },
   {
    "duration": 173,
    "start_time": "2021-06-13T07:46:19.613Z"
   },
   {
    "duration": 138,
    "start_time": "2021-06-13T07:46:19.791Z"
   },
   {
    "duration": 2094,
    "start_time": "2021-06-13T07:46:19.932Z"
   },
   {
    "duration": 157,
    "start_time": "2021-06-13T07:46:22.029Z"
   },
   {
    "duration": 140,
    "start_time": "2021-06-13T07:46:22.189Z"
   },
   {
    "duration": 429,
    "start_time": "2021-06-13T07:46:22.332Z"
   },
   {
    "duration": 227,
    "start_time": "2021-06-13T07:46:22.763Z"
   },
   {
    "duration": 227,
    "start_time": "2021-06-13T07:46:22.992Z"
   },
   {
    "duration": 180,
    "start_time": "2021-06-13T07:46:23.286Z"
   },
   {
    "duration": 128,
    "start_time": "2021-06-13T07:46:23.470Z"
   },
   {
    "duration": 117,
    "start_time": "2021-06-13T07:47:27.362Z"
   },
   {
    "duration": 112,
    "start_time": "2021-06-13T07:47:33.348Z"
   },
   {
    "duration": 116,
    "start_time": "2021-06-13T07:48:49.275Z"
   },
   {
    "duration": 116,
    "start_time": "2021-06-13T07:49:05.046Z"
   },
   {
    "duration": 138,
    "start_time": "2021-06-13T07:49:27.832Z"
   },
   {
    "duration": 205,
    "start_time": "2021-06-13T07:49:33.788Z"
   },
   {
    "duration": 298,
    "start_time": "2021-06-13T07:49:40.866Z"
   },
   {
    "duration": 393,
    "start_time": "2021-06-13T07:49:49.793Z"
   },
   {
    "duration": 507,
    "start_time": "2021-06-13T07:49:57.946Z"
   },
   {
    "duration": 556,
    "start_time": "2021-06-13T07:50:37.356Z"
   },
   {
    "duration": 530,
    "start_time": "2021-06-13T07:50:46.771Z"
   },
   {
    "duration": 513,
    "start_time": "2021-06-13T07:50:53.831Z"
   },
   {
    "duration": 434,
    "start_time": "2021-06-13T07:51:01.879Z"
   },
   {
    "duration": 471,
    "start_time": "2021-06-13T07:51:10.966Z"
   },
   {
    "duration": 112,
    "start_time": "2021-06-13T07:54:41.491Z"
   },
   {
    "duration": 3194,
    "start_time": "2021-06-13T07:54:49.869Z"
   },
   {
    "duration": 3127,
    "start_time": "2021-06-13T07:55:11.234Z"
   },
   {
    "duration": 4394,
    "start_time": "2021-06-13T07:55:32.647Z"
   },
   {
    "duration": 571,
    "start_time": "2021-06-13T07:55:53.066Z"
   },
   {
    "duration": 118,
    "start_time": "2021-06-13T08:00:05.159Z"
   },
   {
    "duration": 2239,
    "start_time": "2021-06-13T08:01:38.166Z"
   },
   {
    "duration": 119,
    "start_time": "2021-06-13T08:03:10.523Z"
   },
   {
    "duration": 662,
    "start_time": "2021-06-13T08:04:11.336Z"
   },
   {
    "duration": 265,
    "start_time": "2021-06-13T08:04:49.867Z"
   },
   {
    "duration": 4513,
    "start_time": "2021-06-13T08:05:31.581Z"
   },
   {
    "duration": 4277,
    "start_time": "2021-06-13T08:05:49.349Z"
   },
   {
    "duration": 549,
    "start_time": "2021-06-13T08:16:36.190Z"
   },
   {
    "duration": 62,
    "start_time": "2021-06-13T08:16:48.238Z"
   },
   {
    "duration": 18,
    "start_time": "2021-06-13T08:16:48.303Z"
   },
   {
    "duration": 21,
    "start_time": "2021-06-13T08:16:48.324Z"
   },
   {
    "duration": 35,
    "start_time": "2021-06-13T08:16:48.387Z"
   },
   {
    "duration": 63,
    "start_time": "2021-06-13T08:16:48.424Z"
   },
   {
    "duration": 3,
    "start_time": "2021-06-13T08:16:48.489Z"
   },
   {
    "duration": 95,
    "start_time": "2021-06-13T08:16:48.495Z"
   },
   {
    "duration": 137,
    "start_time": "2021-06-13T08:16:48.596Z"
   },
   {
    "duration": 145,
    "start_time": "2021-06-13T08:16:48.735Z"
   },
   {
    "duration": 203,
    "start_time": "2021-06-13T08:16:48.885Z"
   },
   {
    "duration": 117,
    "start_time": "2021-06-13T08:16:49.091Z"
   },
   {
    "duration": 125,
    "start_time": "2021-06-13T08:16:49.211Z"
   },
   {
    "duration": 668,
    "start_time": "2021-06-13T08:16:49.339Z"
   },
   {
    "duration": 232,
    "start_time": "2021-06-13T08:16:50.010Z"
   },
   {
    "duration": 277,
    "start_time": "2021-06-13T08:16:50.245Z"
   },
   {
    "duration": 184,
    "start_time": "2021-06-13T08:16:50.525Z"
   },
   {
    "duration": 4662,
    "start_time": "2021-06-13T08:16:50.712Z"
   },
   {
    "duration": 641,
    "start_time": "2021-06-13T08:16:55.377Z"
   },
   {
    "duration": 207,
    "start_time": "2021-06-13T08:17:38.716Z"
   },
   {
    "duration": 498,
    "start_time": "2021-06-13T08:17:56.922Z"
   },
   {
    "duration": 101,
    "start_time": "2021-06-13T08:18:51.391Z"
   },
   {
    "duration": 218,
    "start_time": "2021-06-13T08:19:07.354Z"
   },
   {
    "duration": 4623,
    "start_time": "2021-06-13T08:19:33.313Z"
   },
   {
    "duration": 4711,
    "start_time": "2021-06-13T08:20:39.912Z"
   },
   {
    "duration": 208,
    "start_time": "2021-06-13T08:20:57.478Z"
   },
   {
    "duration": 562,
    "start_time": "2021-06-13T08:22:32.625Z"
   },
   {
    "duration": 198,
    "start_time": "2021-06-13T08:37:44.171Z"
   },
   {
    "duration": 154,
    "start_time": "2021-06-13T08:38:09.873Z"
   },
   {
    "duration": 132,
    "start_time": "2021-06-13T08:43:09.228Z"
   },
   {
    "duration": 97,
    "start_time": "2021-06-13T08:43:57.490Z"
   },
   {
    "duration": 474,
    "start_time": "2021-06-13T08:44:28.634Z"
   },
   {
    "duration": 277,
    "start_time": "2021-06-13T08:44:47.514Z"
   },
   {
    "duration": 606,
    "start_time": "2021-06-13T08:54:24.683Z"
   },
   {
    "duration": 4559,
    "start_time": "2021-06-13T09:02:25.969Z"
   },
   {
    "duration": 1680,
    "start_time": "2021-06-13T11:01:07.284Z"
   },
   {
    "duration": 21,
    "start_time": "2021-06-13T11:01:08.967Z"
   },
   {
    "duration": 20,
    "start_time": "2021-06-13T11:01:08.992Z"
   },
   {
    "duration": 70,
    "start_time": "2021-06-13T11:01:09.015Z"
   },
   {
    "duration": 25,
    "start_time": "2021-06-13T11:01:09.087Z"
   },
   {
    "duration": 146,
    "start_time": "2021-06-13T11:01:09.114Z"
   },
   {
    "duration": 134,
    "start_time": "2021-06-13T11:01:09.263Z"
   },
   {
    "duration": 124,
    "start_time": "2021-06-13T11:01:09.400Z"
   },
   {
    "duration": 133,
    "start_time": "2021-06-13T11:01:09.527Z"
   },
   {
    "duration": 134,
    "start_time": "2021-06-13T11:01:09.663Z"
   },
   {
    "duration": 119,
    "start_time": "2021-06-13T11:01:09.799Z"
   },
   {
    "duration": 796,
    "start_time": "2021-06-13T11:01:09.920Z"
   },
   {
    "duration": 284,
    "start_time": "2021-06-13T11:01:10.718Z"
   },
   {
    "duration": 261,
    "start_time": "2021-06-13T11:01:11.004Z"
   },
   {
    "duration": 148,
    "start_time": "2021-06-13T11:01:11.267Z"
   },
   {
    "duration": 4118,
    "start_time": "2021-06-13T11:01:11.417Z"
   },
   {
    "duration": 553,
    "start_time": "2021-06-13T11:01:15.538Z"
   },
   {
    "duration": 1128,
    "start_time": "2021-06-13T11:01:25.487Z"
   },
   {
    "duration": 745,
    "start_time": "2021-06-13T11:01:37.687Z"
   },
   {
    "duration": 849,
    "start_time": "2021-06-13T11:01:46.573Z"
   },
   {
    "duration": 284,
    "start_time": "2021-06-13T11:02:06.098Z"
   },
   {
    "duration": 233,
    "start_time": "2021-06-13T11:02:13.077Z"
   },
   {
    "duration": 99,
    "start_time": "2021-06-13T11:04:24.001Z"
   },
   {
    "duration": 2319,
    "start_time": "2021-08-23T15:23:32.645Z"
   },
   {
    "duration": 1403,
    "start_time": "2021-08-31T07:44:04.362Z"
   },
   {
    "duration": 14,
    "start_time": "2021-08-31T07:44:05.767Z"
   },
   {
    "duration": 15,
    "start_time": "2021-08-31T07:44:05.783Z"
   },
   {
    "duration": 25,
    "start_time": "2021-08-31T07:44:05.800Z"
   },
   {
    "duration": 51,
    "start_time": "2021-08-31T07:44:05.827Z"
   },
   {
    "duration": 101,
    "start_time": "2021-08-31T07:44:05.879Z"
   },
   {
    "duration": 130,
    "start_time": "2021-08-31T07:44:05.983Z"
   },
   {
    "duration": 108,
    "start_time": "2021-08-31T07:44:06.116Z"
   },
   {
    "duration": 152,
    "start_time": "2021-08-31T07:44:06.227Z"
   },
   {
    "duration": 128,
    "start_time": "2021-08-31T07:44:06.381Z"
   },
   {
    "duration": 103,
    "start_time": "2021-08-31T07:44:06.511Z"
   },
   {
    "duration": 647,
    "start_time": "2021-08-31T07:44:06.615Z"
   },
   {
    "duration": 259,
    "start_time": "2021-08-31T07:44:07.264Z"
   },
   {
    "duration": 256,
    "start_time": "2021-08-31T07:44:07.525Z"
   },
   {
    "duration": 115,
    "start_time": "2021-08-31T07:44:07.784Z"
   },
   {
    "duration": 3514,
    "start_time": "2021-08-31T07:44:07.901Z"
   },
   {
    "duration": 488,
    "start_time": "2021-08-31T07:44:11.417Z"
   }
  ],
  "kernelspec": {
   "display_name": "Python 3",
   "language": "python",
   "name": "python3"
  },
  "language_info": {
   "codemirror_mode": {
    "name": "ipython",
    "version": 3
   },
   "file_extension": ".py",
   "mimetype": "text/x-python",
   "name": "python",
   "nbconvert_exporter": "python",
   "pygments_lexer": "ipython3",
   "version": "3.7.8"
  },
  "toc": {
   "base_numbering": 1,
   "nav_menu": {},
   "number_sections": true,
   "sideBar": true,
   "skip_h1_title": true,
   "title_cell": "Содержание",
   "title_sidebar": "Contents",
   "toc_cell": true,
   "toc_position": {},
   "toc_section_display": true,
   "toc_window_display": false
  }
 },
 "nbformat": 4,
 "nbformat_minor": 2
}
