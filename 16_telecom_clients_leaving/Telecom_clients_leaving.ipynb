{
 "cells": [
  {
   "cell_type": "markdown",
   "metadata": {},
   "source": [
    "**Прогнозирование оттока клиентов телекоммуникационной компании**"
   ]
  },
  {
   "cell_type": "markdown",
   "metadata": {},
   "source": [
    "Оператор связи хочет научиться прогнозировать отток клиентов. Если выяснится, что пользователь планирует уйти, ему будут предложены промокоды и специальные условия. Команда оператора собрала персональные данные о некоторых клиентах, информацию об их тарифах и договорах."
   ]
  },
  {
   "cell_type": "markdown",
   "metadata": {},
   "source": [
    "**Составим план работы.**\n",
    "\n",
    "1. Загрузка библиотек, знакомство с данными.\n",
    "\n",
    "Необходимо посмотреть, каким объемом данных мы распологаем, какие есть пересекающиеся поля в разных файлах, изучить типы данных, узнать, есть ли пропуски в данных и сколько их.\n",
    "\n",
    "2. Объединение таблиц, предобработка данных.\n",
    "\n",
    "Работать с несколткими таблицами неудобно, их следует объединить. Если будут обнаружены проблемы в данных (не верные типы данных, пропуски и т.д.), их необходимо обработать.\n",
    "\n",
    "3. Работа с признаками и тагетами.\n",
    "\n",
    "В этом разделе необходимо определить, какие признаки будем использовать для обучения моделей. Техникой OHE категориальные признаки переведём в численные. Также поступим с целевыми признаками: есть дата ухода клиента - значение тагета равно 1, нет - 0. После кодирования признаков проведем разбиение данных на обучающую, валидационную тестовую выборки.\n",
    "\n",
    "4. Построение моделей.\n",
    "\n",
    "Построим разные модели: LogisticRegression, DecisionTreeClassifier, RandomForestClassifier. Применим кроссвалидацию, изменим значение порога и посмотрим, какими станут метрики на валидационной выборке, подберем оптимальные гиперпараметры.\n",
    "\n",
    "5. Тестирование модели.\n",
    "\n",
    "Получим значения метрик на тестовой выборке."
   ]
  },
  {
   "cell_type": "markdown",
   "metadata": {},
   "source": [
    "**1. Загрузка библиотек и файлов, знакомство с данными**"
   ]
  },
  {
   "cell_type": "code",
   "execution_count": 1,
   "metadata": {},
   "outputs": [],
   "source": [
    "# Импортируем необходимые библиотеки\n",
    "import numpy as np\n",
    "import pandas as pd\n",
    "import matplotlib.pyplot as plt\n",
    "\n",
    "from sklearn.metrics import accuracy_score, roc_auc_score, roc_curve\n",
    "from sklearn.model_selection import train_test_split, cross_validate\n",
    "from sklearn.pipeline import Pipeline\n",
    "from sklearn.preprocessing import StandardScaler\n",
    "\n",
    "from sklearn.linear_model import LogisticRegression, SGDClassifier\n",
    "from sklearn.ensemble import RandomForestClassifier, GradientBoostingClassifier\n",
    "from sklearn.neural_network import MLPClassifier\n",
    "from catboost import CatBoostClassifier\n",
    "\n",
    "from tqdm import notebook"
   ]
  },
  {
   "cell_type": "code",
   "execution_count": 2,
   "metadata": {},
   "outputs": [],
   "source": [
    "# Загрузим исходные таблицы\n",
    "contract = pd.read_csv('/datasets/final_provider/contract.csv')\n",
    "personal = pd.read_csv('/datasets/final_provider/personal.csv')\n",
    "internet = pd.read_csv('/datasets/final_provider/internet.csv')\n",
    "phone = pd.read_csv('/datasets/final_provider/phone.csv')"
   ]
  },
  {
   "cell_type": "code",
   "execution_count": 3,
   "metadata": {},
   "outputs": [
    {
     "name": "stdout",
     "output_type": "stream",
     "text": [
      "<class 'pandas.core.frame.DataFrame'>\n",
      "Int64Index: 7043 entries, 0 to 7042\n",
      "Data columns (total 20 columns):\n",
      "customerid          7043 non-null object\n",
      "begindate           7043 non-null object\n",
      "enddate             7043 non-null object\n",
      "type                7043 non-null object\n",
      "paperlessbilling    7043 non-null object\n",
      "paymentmethod       7043 non-null object\n",
      "monthlycharges      7043 non-null float64\n",
      "totalcharges        7043 non-null object\n",
      "gender              7043 non-null object\n",
      "seniorcitizen       7043 non-null int64\n",
      "partner             7043 non-null object\n",
      "dependents          7043 non-null object\n",
      "multiplelines       6361 non-null object\n",
      "internetservice     5517 non-null object\n",
      "onlinesecurity      5517 non-null object\n",
      "onlinebackup        5517 non-null object\n",
      "deviceprotection    5517 non-null object\n",
      "techsupport         5517 non-null object\n",
      "streamingtv         5517 non-null object\n",
      "streamingmovies     5517 non-null object\n",
      "dtypes: float64(1), int64(1), object(18)\n",
      "memory usage: 1.1+ MB\n"
     ]
    },
    {
     "data": {
      "text/html": [
       "<div>\n",
       "<style scoped>\n",
       "    .dataframe tbody tr th:only-of-type {\n",
       "        vertical-align: middle;\n",
       "    }\n",
       "\n",
       "    .dataframe tbody tr th {\n",
       "        vertical-align: top;\n",
       "    }\n",
       "\n",
       "    .dataframe thead th {\n",
       "        text-align: right;\n",
       "    }\n",
       "</style>\n",
       "<table border=\"1\" class=\"dataframe\">\n",
       "  <thead>\n",
       "    <tr style=\"text-align: right;\">\n",
       "      <th></th>\n",
       "      <th>customerid</th>\n",
       "      <th>begindate</th>\n",
       "      <th>enddate</th>\n",
       "      <th>type</th>\n",
       "      <th>paperlessbilling</th>\n",
       "      <th>paymentmethod</th>\n",
       "      <th>monthlycharges</th>\n",
       "      <th>totalcharges</th>\n",
       "      <th>gender</th>\n",
       "      <th>seniorcitizen</th>\n",
       "      <th>partner</th>\n",
       "      <th>dependents</th>\n",
       "      <th>multiplelines</th>\n",
       "      <th>internetservice</th>\n",
       "      <th>onlinesecurity</th>\n",
       "      <th>onlinebackup</th>\n",
       "      <th>deviceprotection</th>\n",
       "      <th>techsupport</th>\n",
       "      <th>streamingtv</th>\n",
       "      <th>streamingmovies</th>\n",
       "    </tr>\n",
       "  </thead>\n",
       "  <tbody>\n",
       "    <tr>\n",
       "      <td>0</td>\n",
       "      <td>7590-VHVEG</td>\n",
       "      <td>2020-01-01</td>\n",
       "      <td>No</td>\n",
       "      <td>Month-to-month</td>\n",
       "      <td>Yes</td>\n",
       "      <td>Electronic check</td>\n",
       "      <td>29.85</td>\n",
       "      <td>29.85</td>\n",
       "      <td>Female</td>\n",
       "      <td>0</td>\n",
       "      <td>Yes</td>\n",
       "      <td>No</td>\n",
       "      <td>NaN</td>\n",
       "      <td>DSL</td>\n",
       "      <td>No</td>\n",
       "      <td>Yes</td>\n",
       "      <td>No</td>\n",
       "      <td>No</td>\n",
       "      <td>No</td>\n",
       "      <td>No</td>\n",
       "    </tr>\n",
       "    <tr>\n",
       "      <td>1</td>\n",
       "      <td>5575-GNVDE</td>\n",
       "      <td>2017-04-01</td>\n",
       "      <td>No</td>\n",
       "      <td>One year</td>\n",
       "      <td>No</td>\n",
       "      <td>Mailed check</td>\n",
       "      <td>56.95</td>\n",
       "      <td>1889.5</td>\n",
       "      <td>Male</td>\n",
       "      <td>0</td>\n",
       "      <td>No</td>\n",
       "      <td>No</td>\n",
       "      <td>No</td>\n",
       "      <td>DSL</td>\n",
       "      <td>Yes</td>\n",
       "      <td>No</td>\n",
       "      <td>Yes</td>\n",
       "      <td>No</td>\n",
       "      <td>No</td>\n",
       "      <td>No</td>\n",
       "    </tr>\n",
       "    <tr>\n",
       "      <td>2</td>\n",
       "      <td>3668-QPYBK</td>\n",
       "      <td>2019-10-01</td>\n",
       "      <td>2019-12-01 00:00:00</td>\n",
       "      <td>Month-to-month</td>\n",
       "      <td>Yes</td>\n",
       "      <td>Mailed check</td>\n",
       "      <td>53.85</td>\n",
       "      <td>108.15</td>\n",
       "      <td>Male</td>\n",
       "      <td>0</td>\n",
       "      <td>No</td>\n",
       "      <td>No</td>\n",
       "      <td>No</td>\n",
       "      <td>DSL</td>\n",
       "      <td>Yes</td>\n",
       "      <td>Yes</td>\n",
       "      <td>No</td>\n",
       "      <td>No</td>\n",
       "      <td>No</td>\n",
       "      <td>No</td>\n",
       "    </tr>\n",
       "    <tr>\n",
       "      <td>3</td>\n",
       "      <td>7795-CFOCW</td>\n",
       "      <td>2016-05-01</td>\n",
       "      <td>No</td>\n",
       "      <td>One year</td>\n",
       "      <td>No</td>\n",
       "      <td>Bank transfer (automatic)</td>\n",
       "      <td>42.30</td>\n",
       "      <td>1840.75</td>\n",
       "      <td>Male</td>\n",
       "      <td>0</td>\n",
       "      <td>No</td>\n",
       "      <td>No</td>\n",
       "      <td>NaN</td>\n",
       "      <td>DSL</td>\n",
       "      <td>Yes</td>\n",
       "      <td>No</td>\n",
       "      <td>Yes</td>\n",
       "      <td>Yes</td>\n",
       "      <td>No</td>\n",
       "      <td>No</td>\n",
       "    </tr>\n",
       "    <tr>\n",
       "      <td>4</td>\n",
       "      <td>9237-HQITU</td>\n",
       "      <td>2019-09-01</td>\n",
       "      <td>2019-11-01 00:00:00</td>\n",
       "      <td>Month-to-month</td>\n",
       "      <td>Yes</td>\n",
       "      <td>Electronic check</td>\n",
       "      <td>70.70</td>\n",
       "      <td>151.65</td>\n",
       "      <td>Female</td>\n",
       "      <td>0</td>\n",
       "      <td>No</td>\n",
       "      <td>No</td>\n",
       "      <td>No</td>\n",
       "      <td>Fiber optic</td>\n",
       "      <td>No</td>\n",
       "      <td>No</td>\n",
       "      <td>No</td>\n",
       "      <td>No</td>\n",
       "      <td>No</td>\n",
       "      <td>No</td>\n",
       "    </tr>\n",
       "  </tbody>\n",
       "</table>\n",
       "</div>"
      ],
      "text/plain": [
       "   customerid   begindate              enddate            type  \\\n",
       "0  7590-VHVEG  2020-01-01                   No  Month-to-month   \n",
       "1  5575-GNVDE  2017-04-01                   No        One year   \n",
       "2  3668-QPYBK  2019-10-01  2019-12-01 00:00:00  Month-to-month   \n",
       "3  7795-CFOCW  2016-05-01                   No        One year   \n",
       "4  9237-HQITU  2019-09-01  2019-11-01 00:00:00  Month-to-month   \n",
       "\n",
       "  paperlessbilling              paymentmethod  monthlycharges totalcharges  \\\n",
       "0              Yes           Electronic check           29.85        29.85   \n",
       "1               No               Mailed check           56.95       1889.5   \n",
       "2              Yes               Mailed check           53.85       108.15   \n",
       "3               No  Bank transfer (automatic)           42.30      1840.75   \n",
       "4              Yes           Electronic check           70.70       151.65   \n",
       "\n",
       "   gender  seniorcitizen partner dependents multiplelines internetservice  \\\n",
       "0  Female              0     Yes         No           NaN             DSL   \n",
       "1    Male              0      No         No            No             DSL   \n",
       "2    Male              0      No         No            No             DSL   \n",
       "3    Male              0      No         No           NaN             DSL   \n",
       "4  Female              0      No         No            No     Fiber optic   \n",
       "\n",
       "  onlinesecurity onlinebackup deviceprotection techsupport streamingtv  \\\n",
       "0             No          Yes               No          No          No   \n",
       "1            Yes           No              Yes          No          No   \n",
       "2            Yes          Yes               No          No          No   \n",
       "3            Yes           No              Yes         Yes          No   \n",
       "4             No           No               No          No          No   \n",
       "\n",
       "  streamingmovies  \n",
       "0              No  \n",
       "1              No  \n",
       "2              No  \n",
       "3              No  \n",
       "4              No  "
      ]
     },
     "metadata": {},
     "output_type": "display_data"
    }
   ],
   "source": [
    "# Объединим исходные таблицы в одну\n",
    "df = (contract\n",
    "      .merge(personal, on='customerID', how='left')\n",
    "      .merge(phone, on='customerID', how='left')\n",
    "      .merge(internet, on='customerID', how='left'))\n",
    "\n",
    "# Приведем названия столбцов к нижнему регистру\n",
    "df.columns = df.columns.str.lower()\n",
    "\n",
    "# Посмотрим, что получилось\n",
    "df.info()\n",
    "display(df.head())"
   ]
  },
  {
   "cell_type": "code",
   "execution_count": 4,
   "metadata": {},
   "outputs": [
    {
     "data": {
      "text/html": [
       "<div>\n",
       "<style scoped>\n",
       "    .dataframe tbody tr th:only-of-type {\n",
       "        vertical-align: middle;\n",
       "    }\n",
       "\n",
       "    .dataframe tbody tr th {\n",
       "        vertical-align: top;\n",
       "    }\n",
       "\n",
       "    .dataframe thead th {\n",
       "        text-align: right;\n",
       "    }\n",
       "</style>\n",
       "<table border=\"1\" class=\"dataframe\">\n",
       "  <thead>\n",
       "    <tr style=\"text-align: right;\">\n",
       "      <th></th>\n",
       "      <th>customerid</th>\n",
       "      <th>begindate</th>\n",
       "      <th>enddate</th>\n",
       "      <th>type</th>\n",
       "      <th>paperlessbilling</th>\n",
       "      <th>paymentmethod</th>\n",
       "      <th>monthlycharges</th>\n",
       "      <th>totalcharges</th>\n",
       "      <th>gender</th>\n",
       "      <th>seniorcitizen</th>\n",
       "      <th>partner</th>\n",
       "      <th>dependents</th>\n",
       "      <th>multiplelines</th>\n",
       "      <th>internetservice</th>\n",
       "      <th>onlinesecurity</th>\n",
       "      <th>onlinebackup</th>\n",
       "      <th>deviceprotection</th>\n",
       "      <th>techsupport</th>\n",
       "      <th>streamingtv</th>\n",
       "      <th>streamingmovies</th>\n",
       "    </tr>\n",
       "  </thead>\n",
       "  <tbody>\n",
       "    <tr>\n",
       "      <td>488</td>\n",
       "      <td>4472-LVYGI</td>\n",
       "      <td>2020-02-01</td>\n",
       "      <td>No</td>\n",
       "      <td>Two year</td>\n",
       "      <td>Yes</td>\n",
       "      <td>Bank transfer (automatic)</td>\n",
       "      <td>52.55</td>\n",
       "      <td></td>\n",
       "      <td>Female</td>\n",
       "      <td>0</td>\n",
       "      <td>Yes</td>\n",
       "      <td>Yes</td>\n",
       "      <td>NaN</td>\n",
       "      <td>DSL</td>\n",
       "      <td>Yes</td>\n",
       "      <td>No</td>\n",
       "      <td>Yes</td>\n",
       "      <td>Yes</td>\n",
       "      <td>Yes</td>\n",
       "      <td>No</td>\n",
       "    </tr>\n",
       "    <tr>\n",
       "      <td>753</td>\n",
       "      <td>3115-CZMZD</td>\n",
       "      <td>2020-02-01</td>\n",
       "      <td>No</td>\n",
       "      <td>Two year</td>\n",
       "      <td>No</td>\n",
       "      <td>Mailed check</td>\n",
       "      <td>20.25</td>\n",
       "      <td></td>\n",
       "      <td>Male</td>\n",
       "      <td>0</td>\n",
       "      <td>No</td>\n",
       "      <td>Yes</td>\n",
       "      <td>No</td>\n",
       "      <td>NaN</td>\n",
       "      <td>NaN</td>\n",
       "      <td>NaN</td>\n",
       "      <td>NaN</td>\n",
       "      <td>NaN</td>\n",
       "      <td>NaN</td>\n",
       "      <td>NaN</td>\n",
       "    </tr>\n",
       "    <tr>\n",
       "      <td>936</td>\n",
       "      <td>5709-LVOEQ</td>\n",
       "      <td>2020-02-01</td>\n",
       "      <td>No</td>\n",
       "      <td>Two year</td>\n",
       "      <td>No</td>\n",
       "      <td>Mailed check</td>\n",
       "      <td>80.85</td>\n",
       "      <td></td>\n",
       "      <td>Female</td>\n",
       "      <td>0</td>\n",
       "      <td>Yes</td>\n",
       "      <td>Yes</td>\n",
       "      <td>No</td>\n",
       "      <td>DSL</td>\n",
       "      <td>Yes</td>\n",
       "      <td>Yes</td>\n",
       "      <td>Yes</td>\n",
       "      <td>No</td>\n",
       "      <td>Yes</td>\n",
       "      <td>Yes</td>\n",
       "    </tr>\n",
       "    <tr>\n",
       "      <td>1082</td>\n",
       "      <td>4367-NUYAO</td>\n",
       "      <td>2020-02-01</td>\n",
       "      <td>No</td>\n",
       "      <td>Two year</td>\n",
       "      <td>No</td>\n",
       "      <td>Mailed check</td>\n",
       "      <td>25.75</td>\n",
       "      <td></td>\n",
       "      <td>Male</td>\n",
       "      <td>0</td>\n",
       "      <td>Yes</td>\n",
       "      <td>Yes</td>\n",
       "      <td>Yes</td>\n",
       "      <td>NaN</td>\n",
       "      <td>NaN</td>\n",
       "      <td>NaN</td>\n",
       "      <td>NaN</td>\n",
       "      <td>NaN</td>\n",
       "      <td>NaN</td>\n",
       "      <td>NaN</td>\n",
       "    </tr>\n",
       "    <tr>\n",
       "      <td>1340</td>\n",
       "      <td>1371-DWPAZ</td>\n",
       "      <td>2020-02-01</td>\n",
       "      <td>No</td>\n",
       "      <td>Two year</td>\n",
       "      <td>No</td>\n",
       "      <td>Credit card (automatic)</td>\n",
       "      <td>56.05</td>\n",
       "      <td></td>\n",
       "      <td>Female</td>\n",
       "      <td>0</td>\n",
       "      <td>Yes</td>\n",
       "      <td>Yes</td>\n",
       "      <td>NaN</td>\n",
       "      <td>DSL</td>\n",
       "      <td>Yes</td>\n",
       "      <td>Yes</td>\n",
       "      <td>Yes</td>\n",
       "      <td>Yes</td>\n",
       "      <td>Yes</td>\n",
       "      <td>No</td>\n",
       "    </tr>\n",
       "    <tr>\n",
       "      <td>3331</td>\n",
       "      <td>7644-OMVMY</td>\n",
       "      <td>2020-02-01</td>\n",
       "      <td>No</td>\n",
       "      <td>Two year</td>\n",
       "      <td>No</td>\n",
       "      <td>Mailed check</td>\n",
       "      <td>19.85</td>\n",
       "      <td></td>\n",
       "      <td>Male</td>\n",
       "      <td>0</td>\n",
       "      <td>Yes</td>\n",
       "      <td>Yes</td>\n",
       "      <td>No</td>\n",
       "      <td>NaN</td>\n",
       "      <td>NaN</td>\n",
       "      <td>NaN</td>\n",
       "      <td>NaN</td>\n",
       "      <td>NaN</td>\n",
       "      <td>NaN</td>\n",
       "      <td>NaN</td>\n",
       "    </tr>\n",
       "    <tr>\n",
       "      <td>3826</td>\n",
       "      <td>3213-VVOLG</td>\n",
       "      <td>2020-02-01</td>\n",
       "      <td>No</td>\n",
       "      <td>Two year</td>\n",
       "      <td>No</td>\n",
       "      <td>Mailed check</td>\n",
       "      <td>25.35</td>\n",
       "      <td></td>\n",
       "      <td>Male</td>\n",
       "      <td>0</td>\n",
       "      <td>Yes</td>\n",
       "      <td>Yes</td>\n",
       "      <td>Yes</td>\n",
       "      <td>NaN</td>\n",
       "      <td>NaN</td>\n",
       "      <td>NaN</td>\n",
       "      <td>NaN</td>\n",
       "      <td>NaN</td>\n",
       "      <td>NaN</td>\n",
       "      <td>NaN</td>\n",
       "    </tr>\n",
       "    <tr>\n",
       "      <td>4380</td>\n",
       "      <td>2520-SGTTA</td>\n",
       "      <td>2020-02-01</td>\n",
       "      <td>No</td>\n",
       "      <td>Two year</td>\n",
       "      <td>No</td>\n",
       "      <td>Mailed check</td>\n",
       "      <td>20.00</td>\n",
       "      <td></td>\n",
       "      <td>Female</td>\n",
       "      <td>0</td>\n",
       "      <td>Yes</td>\n",
       "      <td>Yes</td>\n",
       "      <td>No</td>\n",
       "      <td>NaN</td>\n",
       "      <td>NaN</td>\n",
       "      <td>NaN</td>\n",
       "      <td>NaN</td>\n",
       "      <td>NaN</td>\n",
       "      <td>NaN</td>\n",
       "      <td>NaN</td>\n",
       "    </tr>\n",
       "    <tr>\n",
       "      <td>5218</td>\n",
       "      <td>2923-ARZLG</td>\n",
       "      <td>2020-02-01</td>\n",
       "      <td>No</td>\n",
       "      <td>One year</td>\n",
       "      <td>Yes</td>\n",
       "      <td>Mailed check</td>\n",
       "      <td>19.70</td>\n",
       "      <td></td>\n",
       "      <td>Male</td>\n",
       "      <td>0</td>\n",
       "      <td>Yes</td>\n",
       "      <td>Yes</td>\n",
       "      <td>No</td>\n",
       "      <td>NaN</td>\n",
       "      <td>NaN</td>\n",
       "      <td>NaN</td>\n",
       "      <td>NaN</td>\n",
       "      <td>NaN</td>\n",
       "      <td>NaN</td>\n",
       "      <td>NaN</td>\n",
       "    </tr>\n",
       "    <tr>\n",
       "      <td>6670</td>\n",
       "      <td>4075-WKNIU</td>\n",
       "      <td>2020-02-01</td>\n",
       "      <td>No</td>\n",
       "      <td>Two year</td>\n",
       "      <td>No</td>\n",
       "      <td>Mailed check</td>\n",
       "      <td>73.35</td>\n",
       "      <td></td>\n",
       "      <td>Female</td>\n",
       "      <td>0</td>\n",
       "      <td>Yes</td>\n",
       "      <td>Yes</td>\n",
       "      <td>Yes</td>\n",
       "      <td>DSL</td>\n",
       "      <td>No</td>\n",
       "      <td>Yes</td>\n",
       "      <td>Yes</td>\n",
       "      <td>Yes</td>\n",
       "      <td>Yes</td>\n",
       "      <td>No</td>\n",
       "    </tr>\n",
       "    <tr>\n",
       "      <td>6754</td>\n",
       "      <td>2775-SEFEE</td>\n",
       "      <td>2020-02-01</td>\n",
       "      <td>No</td>\n",
       "      <td>Two year</td>\n",
       "      <td>Yes</td>\n",
       "      <td>Bank transfer (automatic)</td>\n",
       "      <td>61.90</td>\n",
       "      <td></td>\n",
       "      <td>Male</td>\n",
       "      <td>0</td>\n",
       "      <td>No</td>\n",
       "      <td>Yes</td>\n",
       "      <td>Yes</td>\n",
       "      <td>DSL</td>\n",
       "      <td>Yes</td>\n",
       "      <td>Yes</td>\n",
       "      <td>No</td>\n",
       "      <td>Yes</td>\n",
       "      <td>No</td>\n",
       "      <td>No</td>\n",
       "    </tr>\n",
       "  </tbody>\n",
       "</table>\n",
       "</div>"
      ],
      "text/plain": [
       "      customerid   begindate enddate      type paperlessbilling  \\\n",
       "488   4472-LVYGI  2020-02-01      No  Two year              Yes   \n",
       "753   3115-CZMZD  2020-02-01      No  Two year               No   \n",
       "936   5709-LVOEQ  2020-02-01      No  Two year               No   \n",
       "1082  4367-NUYAO  2020-02-01      No  Two year               No   \n",
       "1340  1371-DWPAZ  2020-02-01      No  Two year               No   \n",
       "3331  7644-OMVMY  2020-02-01      No  Two year               No   \n",
       "3826  3213-VVOLG  2020-02-01      No  Two year               No   \n",
       "4380  2520-SGTTA  2020-02-01      No  Two year               No   \n",
       "5218  2923-ARZLG  2020-02-01      No  One year              Yes   \n",
       "6670  4075-WKNIU  2020-02-01      No  Two year               No   \n",
       "6754  2775-SEFEE  2020-02-01      No  Two year              Yes   \n",
       "\n",
       "                  paymentmethod  monthlycharges totalcharges  gender  \\\n",
       "488   Bank transfer (automatic)           52.55               Female   \n",
       "753                Mailed check           20.25                 Male   \n",
       "936                Mailed check           80.85               Female   \n",
       "1082               Mailed check           25.75                 Male   \n",
       "1340    Credit card (automatic)           56.05               Female   \n",
       "3331               Mailed check           19.85                 Male   \n",
       "3826               Mailed check           25.35                 Male   \n",
       "4380               Mailed check           20.00               Female   \n",
       "5218               Mailed check           19.70                 Male   \n",
       "6670               Mailed check           73.35               Female   \n",
       "6754  Bank transfer (automatic)           61.90                 Male   \n",
       "\n",
       "      seniorcitizen partner dependents multiplelines internetservice  \\\n",
       "488               0     Yes        Yes           NaN             DSL   \n",
       "753               0      No        Yes            No             NaN   \n",
       "936               0     Yes        Yes            No             DSL   \n",
       "1082              0     Yes        Yes           Yes             NaN   \n",
       "1340              0     Yes        Yes           NaN             DSL   \n",
       "3331              0     Yes        Yes            No             NaN   \n",
       "3826              0     Yes        Yes           Yes             NaN   \n",
       "4380              0     Yes        Yes            No             NaN   \n",
       "5218              0     Yes        Yes            No             NaN   \n",
       "6670              0     Yes        Yes           Yes             DSL   \n",
       "6754              0      No        Yes           Yes             DSL   \n",
       "\n",
       "     onlinesecurity onlinebackup deviceprotection techsupport streamingtv  \\\n",
       "488             Yes           No              Yes         Yes         Yes   \n",
       "753             NaN          NaN              NaN         NaN         NaN   \n",
       "936             Yes          Yes              Yes          No         Yes   \n",
       "1082            NaN          NaN              NaN         NaN         NaN   \n",
       "1340            Yes          Yes              Yes         Yes         Yes   \n",
       "3331            NaN          NaN              NaN         NaN         NaN   \n",
       "3826            NaN          NaN              NaN         NaN         NaN   \n",
       "4380            NaN          NaN              NaN         NaN         NaN   \n",
       "5218            NaN          NaN              NaN         NaN         NaN   \n",
       "6670             No          Yes              Yes         Yes         Yes   \n",
       "6754            Yes          Yes               No         Yes          No   \n",
       "\n",
       "     streamingmovies  \n",
       "488               No  \n",
       "753              NaN  \n",
       "936              Yes  \n",
       "1082             NaN  \n",
       "1340              No  \n",
       "3331             NaN  \n",
       "3826             NaN  \n",
       "4380             NaN  \n",
       "5218             NaN  \n",
       "6670              No  \n",
       "6754              No  "
      ]
     },
     "execution_count": 4,
     "metadata": {},
     "output_type": "execute_result"
    }
   ],
   "source": [
    "# Найдем строки, где в столбце totalcharges стоят пробелы\n",
    "df[df['totalcharges'] == ' ']"
   ]
  },
  {
   "cell_type": "markdown",
   "metadata": {},
   "source": [
    "**Выводы**\n",
    "\n",
    "Мы получили данные по 7043 клиентам. Отдельные столбцы содержат нулевые значения. Изучив полученные данные мы видим ряд проблем, которые требуют устранения: данные из столбца totalcharges имеют тип object, 11 строк вместо значений содержат пробелы. Это скорее всего новые клиенты, которые ни разу не заплатили."
   ]
  },
  {
   "cell_type": "markdown",
   "metadata": {},
   "source": [
    "**2. Работа с признаками и таргетом**"
   ]
  },
  {
   "cell_type": "code",
   "execution_count": 5,
   "metadata": {},
   "outputs": [
    {
     "name": "stdout",
     "output_type": "stream",
     "text": [
      "<class 'pandas.core.frame.DataFrame'>\n",
      "Int64Index: 7043 entries, 0 to 7042\n",
      "Data columns (total 24 columns):\n",
      "customerid          7043 non-null object\n",
      "begindate           7043 non-null object\n",
      "enddate             7043 non-null object\n",
      "type                7043 non-null object\n",
      "paperlessbilling    7043 non-null object\n",
      "paymentmethod       7043 non-null object\n",
      "monthlycharges      7043 non-null float64\n",
      "totalcharges        7043 non-null float64\n",
      "gender              7043 non-null object\n",
      "seniorcitizen       7043 non-null int64\n",
      "partner             7043 non-null object\n",
      "dependents          7043 non-null object\n",
      "multiplelines       7043 non-null object\n",
      "internetservice     7043 non-null object\n",
      "onlinesecurity      7043 non-null object\n",
      "onlinebackup        7043 non-null object\n",
      "deviceprotection    7043 non-null object\n",
      "techsupport         7043 non-null object\n",
      "streamingtv         7043 non-null object\n",
      "streamingmovies     7043 non-null object\n",
      "days                7043 non-null int64\n",
      "on_off              7043 non-null int64\n",
      "phone               7043 non-null int64\n",
      "internet            7043 non-null int64\n",
      "dtypes: float64(2), int64(5), object(17)\n",
      "memory usage: 1.3+ MB\n"
     ]
    },
    {
     "data": {
      "text/html": [
       "<div>\n",
       "<style scoped>\n",
       "    .dataframe tbody tr th:only-of-type {\n",
       "        vertical-align: middle;\n",
       "    }\n",
       "\n",
       "    .dataframe tbody tr th {\n",
       "        vertical-align: top;\n",
       "    }\n",
       "\n",
       "    .dataframe thead th {\n",
       "        text-align: right;\n",
       "    }\n",
       "</style>\n",
       "<table border=\"1\" class=\"dataframe\">\n",
       "  <thead>\n",
       "    <tr style=\"text-align: right;\">\n",
       "      <th></th>\n",
       "      <th>customerid</th>\n",
       "      <th>begindate</th>\n",
       "      <th>enddate</th>\n",
       "      <th>type</th>\n",
       "      <th>paperlessbilling</th>\n",
       "      <th>paymentmethod</th>\n",
       "      <th>monthlycharges</th>\n",
       "      <th>totalcharges</th>\n",
       "      <th>gender</th>\n",
       "      <th>seniorcitizen</th>\n",
       "      <th>...</th>\n",
       "      <th>onlinesecurity</th>\n",
       "      <th>onlinebackup</th>\n",
       "      <th>deviceprotection</th>\n",
       "      <th>techsupport</th>\n",
       "      <th>streamingtv</th>\n",
       "      <th>streamingmovies</th>\n",
       "      <th>days</th>\n",
       "      <th>on_off</th>\n",
       "      <th>phone</th>\n",
       "      <th>internet</th>\n",
       "    </tr>\n",
       "  </thead>\n",
       "  <tbody>\n",
       "    <tr>\n",
       "      <td>0</td>\n",
       "      <td>7590-VHVEG</td>\n",
       "      <td>2020-01-01</td>\n",
       "      <td>No</td>\n",
       "      <td>Month-to-month</td>\n",
       "      <td>Yes</td>\n",
       "      <td>Electronic check</td>\n",
       "      <td>29.85</td>\n",
       "      <td>29.85</td>\n",
       "      <td>Female</td>\n",
       "      <td>0</td>\n",
       "      <td>...</td>\n",
       "      <td>No</td>\n",
       "      <td>Yes</td>\n",
       "      <td>No</td>\n",
       "      <td>No</td>\n",
       "      <td>No</td>\n",
       "      <td>No</td>\n",
       "      <td>31</td>\n",
       "      <td>0</td>\n",
       "      <td>0</td>\n",
       "      <td>1</td>\n",
       "    </tr>\n",
       "    <tr>\n",
       "      <td>1</td>\n",
       "      <td>5575-GNVDE</td>\n",
       "      <td>2017-04-01</td>\n",
       "      <td>No</td>\n",
       "      <td>One year</td>\n",
       "      <td>No</td>\n",
       "      <td>Mailed check</td>\n",
       "      <td>56.95</td>\n",
       "      <td>1889.50</td>\n",
       "      <td>Male</td>\n",
       "      <td>0</td>\n",
       "      <td>...</td>\n",
       "      <td>Yes</td>\n",
       "      <td>No</td>\n",
       "      <td>Yes</td>\n",
       "      <td>No</td>\n",
       "      <td>No</td>\n",
       "      <td>No</td>\n",
       "      <td>1036</td>\n",
       "      <td>0</td>\n",
       "      <td>1</td>\n",
       "      <td>1</td>\n",
       "    </tr>\n",
       "    <tr>\n",
       "      <td>2</td>\n",
       "      <td>3668-QPYBK</td>\n",
       "      <td>2019-10-01</td>\n",
       "      <td>2019-12-01 00:00:00</td>\n",
       "      <td>Month-to-month</td>\n",
       "      <td>Yes</td>\n",
       "      <td>Mailed check</td>\n",
       "      <td>53.85</td>\n",
       "      <td>108.15</td>\n",
       "      <td>Male</td>\n",
       "      <td>0</td>\n",
       "      <td>...</td>\n",
       "      <td>Yes</td>\n",
       "      <td>Yes</td>\n",
       "      <td>No</td>\n",
       "      <td>No</td>\n",
       "      <td>No</td>\n",
       "      <td>No</td>\n",
       "      <td>61</td>\n",
       "      <td>1</td>\n",
       "      <td>1</td>\n",
       "      <td>1</td>\n",
       "    </tr>\n",
       "    <tr>\n",
       "      <td>3</td>\n",
       "      <td>7795-CFOCW</td>\n",
       "      <td>2016-05-01</td>\n",
       "      <td>No</td>\n",
       "      <td>One year</td>\n",
       "      <td>No</td>\n",
       "      <td>Bank transfer (automatic)</td>\n",
       "      <td>42.30</td>\n",
       "      <td>1840.75</td>\n",
       "      <td>Male</td>\n",
       "      <td>0</td>\n",
       "      <td>...</td>\n",
       "      <td>Yes</td>\n",
       "      <td>No</td>\n",
       "      <td>Yes</td>\n",
       "      <td>Yes</td>\n",
       "      <td>No</td>\n",
       "      <td>No</td>\n",
       "      <td>1371</td>\n",
       "      <td>0</td>\n",
       "      <td>0</td>\n",
       "      <td>1</td>\n",
       "    </tr>\n",
       "    <tr>\n",
       "      <td>4</td>\n",
       "      <td>9237-HQITU</td>\n",
       "      <td>2019-09-01</td>\n",
       "      <td>2019-11-01 00:00:00</td>\n",
       "      <td>Month-to-month</td>\n",
       "      <td>Yes</td>\n",
       "      <td>Electronic check</td>\n",
       "      <td>70.70</td>\n",
       "      <td>151.65</td>\n",
       "      <td>Female</td>\n",
       "      <td>0</td>\n",
       "      <td>...</td>\n",
       "      <td>No</td>\n",
       "      <td>No</td>\n",
       "      <td>No</td>\n",
       "      <td>No</td>\n",
       "      <td>No</td>\n",
       "      <td>No</td>\n",
       "      <td>61</td>\n",
       "      <td>1</td>\n",
       "      <td>1</td>\n",
       "      <td>1</td>\n",
       "    </tr>\n",
       "  </tbody>\n",
       "</table>\n",
       "<p>5 rows × 24 columns</p>\n",
       "</div>"
      ],
      "text/plain": [
       "   customerid   begindate              enddate            type  \\\n",
       "0  7590-VHVEG  2020-01-01                   No  Month-to-month   \n",
       "1  5575-GNVDE  2017-04-01                   No        One year   \n",
       "2  3668-QPYBK  2019-10-01  2019-12-01 00:00:00  Month-to-month   \n",
       "3  7795-CFOCW  2016-05-01                   No        One year   \n",
       "4  9237-HQITU  2019-09-01  2019-11-01 00:00:00  Month-to-month   \n",
       "\n",
       "  paperlessbilling              paymentmethod  monthlycharges  totalcharges  \\\n",
       "0              Yes           Electronic check           29.85         29.85   \n",
       "1               No               Mailed check           56.95       1889.50   \n",
       "2              Yes               Mailed check           53.85        108.15   \n",
       "3               No  Bank transfer (automatic)           42.30       1840.75   \n",
       "4              Yes           Electronic check           70.70        151.65   \n",
       "\n",
       "   gender  seniorcitizen  ... onlinesecurity onlinebackup deviceprotection  \\\n",
       "0  Female              0  ...             No          Yes               No   \n",
       "1    Male              0  ...            Yes           No              Yes   \n",
       "2    Male              0  ...            Yes          Yes               No   \n",
       "3    Male              0  ...            Yes           No              Yes   \n",
       "4  Female              0  ...             No           No               No   \n",
       "\n",
       "  techsupport streamingtv streamingmovies  days on_off phone internet  \n",
       "0          No          No              No    31      0     0        1  \n",
       "1          No          No              No  1036      0     1        1  \n",
       "2          No          No              No    61      1     1        1  \n",
       "3         Yes          No              No  1371      0     0        1  \n",
       "4          No          No              No    61      1     1        1  \n",
       "\n",
       "[5 rows x 24 columns]"
      ]
     },
     "metadata": {},
     "output_type": "display_data"
    }
   ],
   "source": [
    "# Посчитаем сколько дней клиент пользовался услугами оператора\n",
    "df['days'] = (pd.to_datetime(df.enddate.replace({'No': '2020-02-01'}))\n",
    "                  - pd.to_datetime(df.begindate)).dt.days\n",
    "\n",
    "# Разметим, расторг клиент контракт, или нет\n",
    "df['on_off'] = df.enddate.apply([lambda x: 0 if x == 'No' else 1])\n",
    "\n",
    "# Разметим, подключена ли клиенту услуга многоканальной телефонной линии\n",
    "df['phone'] = df.multiplelines.apply([lambda x: 0 if pd.isna(x) else 1])\n",
    "\n",
    "# Разметим, подключен ли к клиент к Интернету\n",
    "df['internet'] = df.internetservice.apply([lambda x: 0 if pd.isna(x) else 1])\n",
    "\n",
    "# Заполним столбец totalcharges для новых клиентов значениями из столбца monthlycharges\n",
    "df.totalcharges = df.totalcharges.replace(' ', np.nan).astype('float').fillna(df.monthlycharges)\n",
    "\n",
    "# Заполним пропуски в данных\n",
    "values = dict(multiplelines='No', internetservice='No',\n",
    "              onlinesecurity='No', onlinebackup='No',\n",
    "              deviceprotection='No', techsupport='No',\n",
    "              streamingtv='No', streamingmovies='No')\n",
    "\n",
    "df.fillna(value='values', inplace=True)\n",
    "\n",
    "# Посмотрим, что получилось\n",
    "df.info()\n",
    "display(df.head())"
   ]
  },
  {
   "cell_type": "code",
   "execution_count": 6,
   "metadata": {},
   "outputs": [
    {
     "name": "stdout",
     "output_type": "stream",
     "text": [
      "                monthlycharges  totalcharges  seniorcitizen      days  \\\n",
      "monthlycharges        1.000000      0.651182       0.220173  0.247754   \n",
      "totalcharges          0.651182      1.000000       0.102997  0.826095   \n",
      "seniorcitizen         0.220173      0.102997       1.000000  0.016514   \n",
      "days                  0.247754      0.826095       0.016514  1.000000   \n",
      "on_off                0.193356     -0.198347       0.150889 -0.352673   \n",
      "phone                 0.247398      0.113203       0.008576  0.008446   \n",
      "internet              0.763557      0.375229       0.182742  0.038951   \n",
      "\n",
      "                  on_off     phone  internet  \n",
      "monthlycharges  0.193356  0.247398  0.763557  \n",
      "totalcharges   -0.198347  0.113203  0.375229  \n",
      "seniorcitizen   0.150889  0.008576  0.182742  \n",
      "days           -0.352673  0.008446  0.038951  \n",
      "on_off          1.000000  0.011942  0.227890  \n",
      "phone           0.011942  1.000000 -0.172209  \n",
      "internet        0.227890 -0.172209  1.000000  \n"
     ]
    }
   ],
   "source": [
    "# Построим матрицу корреляции\n",
    "print(df.corr())"
   ]
  },
  {
   "cell_type": "code",
   "execution_count": 7,
   "metadata": {},
   "outputs": [],
   "source": [
    "# Удалим ненужные для обучения столбцы\n",
    "drop = ['customerid', 'begindate', 'enddate', 'on_off', 'internet', 'phone', 'totalcharges']\n",
    "\n",
    "# Техникой OHE категориальные признаки переведём в численные\n",
    "X = pd.get_dummies(df.drop(drop, axis=1), drop_first=True)\n",
    "\n",
    "# Целевой признак\n",
    "y = df['on_off']\n",
    "\n",
    "# Разобъем данные обучающую и тестовую выборки\n",
    "X_train, X_test, y_train, y_test = train_test_split(\n",
    "    X, y, test_size=0.25, random_state=1234)"
   ]
  },
  {
   "cell_type": "markdown",
   "metadata": {},
   "source": [
    "**Выводы**\n",
    "\n",
    "В данном разделе мы провели предобработку данных, создали новые столбцы, необходимые для обучения, удалили ненужные. Из полученной таблицы выделили целевой признак, данные разбили на обучающую и тестовую выборки.\n",
    "\n",
    "Построив матрицу корреляции, мы видим существенную зависимость двух факторов: days и totalcharges. Действительно, чем больше дней у клиента действует контракт, тем больше денег в сумме он заплатил. Удалим признак totalcharges."
   ]
  },
  {
   "cell_type": "markdown",
   "metadata": {},
   "source": [
    "**3. Выбор лучшей модели**"
   ]
  },
  {
   "cell_type": "code",
   "execution_count": 8,
   "metadata": {},
   "outputs": [
    {
     "data": {
      "application/vnd.jupyter.widget-view+json": {
       "model_id": "2526daf266ab47b8b679338cf3e8b697",
       "version_major": 2,
       "version_minor": 0
      },
      "text/plain": [
       "HBox(children=(HTML(value=''), FloatProgress(value=0.0, max=5.0), HTML(value='')))"
      ]
     },
     "metadata": {},
     "output_type": "display_data"
    },
    {
     "name": "stderr",
     "output_type": "stream",
     "text": [
      "/opt/conda/lib/python3.7/site-packages/sklearn/model_selection/_split.py:1978: FutureWarning: The default value of cv will change from 3 to 5 in version 0.22. Specify it explicitly to silence this warning.\n",
      "  warnings.warn(CV_WARNING, FutureWarning)\n",
      "/opt/conda/lib/python3.7/site-packages/sklearn/linear_model/logistic.py:432: FutureWarning: Default solver will be changed to 'lbfgs' in 0.22. Specify a solver to silence this warning.\n",
      "  FutureWarning)\n",
      "/opt/conda/lib/python3.7/site-packages/sklearn/linear_model/logistic.py:432: FutureWarning: Default solver will be changed to 'lbfgs' in 0.22. Specify a solver to silence this warning.\n",
      "  FutureWarning)\n",
      "/opt/conda/lib/python3.7/site-packages/sklearn/linear_model/logistic.py:432: FutureWarning: Default solver will be changed to 'lbfgs' in 0.22. Specify a solver to silence this warning.\n",
      "  FutureWarning)\n",
      "/opt/conda/lib/python3.7/site-packages/sklearn/model_selection/_split.py:1978: FutureWarning: The default value of cv will change from 3 to 5 in version 0.22. Specify it explicitly to silence this warning.\n",
      "  warnings.warn(CV_WARNING, FutureWarning)\n",
      "/opt/conda/lib/python3.7/site-packages/sklearn/ensemble/forest.py:245: FutureWarning: The default value of n_estimators will change from 10 in version 0.20 to 100 in 0.22.\n",
      "  \"10 in version 0.20 to 100 in 0.22.\", FutureWarning)\n",
      "/opt/conda/lib/python3.7/site-packages/sklearn/ensemble/forest.py:245: FutureWarning: The default value of n_estimators will change from 10 in version 0.20 to 100 in 0.22.\n",
      "  \"10 in version 0.20 to 100 in 0.22.\", FutureWarning)\n",
      "/opt/conda/lib/python3.7/site-packages/sklearn/ensemble/forest.py:245: FutureWarning: The default value of n_estimators will change from 10 in version 0.20 to 100 in 0.22.\n",
      "  \"10 in version 0.20 to 100 in 0.22.\", FutureWarning)\n",
      "/opt/conda/lib/python3.7/site-packages/sklearn/model_selection/_split.py:1978: FutureWarning: The default value of cv will change from 3 to 5 in version 0.22. Specify it explicitly to silence this warning.\n",
      "  warnings.warn(CV_WARNING, FutureWarning)\n",
      "/opt/conda/lib/python3.7/site-packages/sklearn/model_selection/_split.py:1978: FutureWarning: The default value of cv will change from 3 to 5 in version 0.22. Specify it explicitly to silence this warning.\n",
      "  warnings.warn(CV_WARNING, FutureWarning)\n",
      "/opt/conda/lib/python3.7/site-packages/sklearn/model_selection/_split.py:1978: FutureWarning: The default value of cv will change from 3 to 5 in version 0.22. Specify it explicitly to silence this warning.\n",
      "  warnings.warn(CV_WARNING, FutureWarning)\n",
      "/opt/conda/lib/python3.7/site-packages/sklearn/neural_network/multilayer_perceptron.py:566: ConvergenceWarning: Stochastic Optimizer: Maximum iterations (200) reached and the optimization hasn't converged yet.\n",
      "  % self.max_iter, ConvergenceWarning)\n",
      "/opt/conda/lib/python3.7/site-packages/sklearn/neural_network/multilayer_perceptron.py:566: ConvergenceWarning: Stochastic Optimizer: Maximum iterations (200) reached and the optimization hasn't converged yet.\n",
      "  % self.max_iter, ConvergenceWarning)\n",
      "/opt/conda/lib/python3.7/site-packages/sklearn/neural_network/multilayer_perceptron.py:566: ConvergenceWarning: Stochastic Optimizer: Maximum iterations (200) reached and the optimization hasn't converged yet.\n",
      "  % self.max_iter, ConvergenceWarning)\n"
     ]
    },
    {
     "name": "stdout",
     "output_type": "stream",
     "text": [
      "\n"
     ]
    },
    {
     "data": {
      "text/html": [
       "<div>\n",
       "<style scoped>\n",
       "    .dataframe tbody tr th:only-of-type {\n",
       "        vertical-align: middle;\n",
       "    }\n",
       "\n",
       "    .dataframe tbody tr th {\n",
       "        vertical-align: top;\n",
       "    }\n",
       "\n",
       "    .dataframe thead th {\n",
       "        text-align: right;\n",
       "    }\n",
       "</style>\n",
       "<table border=\"1\" class=\"dataframe\">\n",
       "  <thead>\n",
       "    <tr style=\"text-align: right;\">\n",
       "      <th></th>\n",
       "      <th>Обучение (сек)</th>\n",
       "      <th>Предсказание (сек)</th>\n",
       "      <th>Среднее ROC-AUC на валидации</th>\n",
       "      <th>Среднее Accuracy на валидации</th>\n",
       "    </tr>\n",
       "    <tr>\n",
       "      <th>Модель</th>\n",
       "      <th></th>\n",
       "      <th></th>\n",
       "      <th></th>\n",
       "      <th></th>\n",
       "    </tr>\n",
       "  </thead>\n",
       "  <tbody>\n",
       "    <tr>\n",
       "      <td>Gradient Boosting</td>\n",
       "      <td>0.483366</td>\n",
       "      <td>0.014486</td>\n",
       "      <td>0.886121</td>\n",
       "      <td>0.835100</td>\n",
       "    </tr>\n",
       "    <tr>\n",
       "      <td>Logistic Regression</td>\n",
       "      <td>0.161780</td>\n",
       "      <td>0.043805</td>\n",
       "      <td>0.847773</td>\n",
       "      <td>0.804809</td>\n",
       "    </tr>\n",
       "    <tr>\n",
       "      <td>Multi-layer Perceptron</td>\n",
       "      <td>2.553393</td>\n",
       "      <td>0.044863</td>\n",
       "      <td>0.833812</td>\n",
       "      <td>0.791555</td>\n",
       "    </tr>\n",
       "    <tr>\n",
       "      <td>Stochastic Gradient Descent</td>\n",
       "      <td>0.131767</td>\n",
       "      <td>0.054381</td>\n",
       "      <td>0.820965</td>\n",
       "      <td>0.774704</td>\n",
       "    </tr>\n",
       "    <tr>\n",
       "      <td>Random Forest</td>\n",
       "      <td>0.089800</td>\n",
       "      <td>0.015948</td>\n",
       "      <td>0.809814</td>\n",
       "      <td>0.793448</td>\n",
       "    </tr>\n",
       "  </tbody>\n",
       "</table>\n",
       "</div>"
      ],
      "text/plain": [
       "                             Обучение (сек)  Предсказание (сек)  \\\n",
       "Модель                                                            \n",
       "Gradient Boosting                  0.483366            0.014486   \n",
       "Logistic Regression                0.161780            0.043805   \n",
       "Multi-layer Perceptron             2.553393            0.044863   \n",
       "Stochastic Gradient Descent        0.131767            0.054381   \n",
       "Random Forest                      0.089800            0.015948   \n",
       "\n",
       "                             Среднее ROC-AUC на валидации  \\\n",
       "Модель                                                      \n",
       "Gradient Boosting                                0.886121   \n",
       "Logistic Regression                              0.847773   \n",
       "Multi-layer Perceptron                           0.833812   \n",
       "Stochastic Gradient Descent                      0.820965   \n",
       "Random Forest                                    0.809814   \n",
       "\n",
       "                             Среднее Accuracy на валидации  \n",
       "Модель                                                      \n",
       "Gradient Boosting                                 0.835100  \n",
       "Logistic Regression                               0.804809  \n",
       "Multi-layer Perceptron                            0.791555  \n",
       "Stochastic Gradient Descent                       0.774704  \n",
       "Random Forest                                     0.793448  "
      ]
     },
     "metadata": {},
     "output_type": "display_data"
    }
   ],
   "source": [
    "# Сформируем перечень моделей, которые будут обучены\n",
    "models = [\n",
    "    ('Logistic Regression', LogisticRegression(random_state=1234)),\n",
    "    ('Random Forest', RandomForestClassifier(random_state=1234)),\n",
    "    ('Gradient Boosting', GradientBoostingClassifier(random_state=1234)),\n",
    "    ('Stochastic Gradient Descent', SGDClassifier(random_state=1234)),\n",
    "    ('Multi-layer Perceptron', MLPClassifier(hidden_layer_sizes=(10, 5), random_state=1234)),\n",
    "]\n",
    "\n",
    "scoring = ('roc_auc', 'accuracy')\n",
    "results = pd.DataFrame()\n",
    "\n",
    "# Проведем выбор лучшей модели по двум метрикам\n",
    "for name, model in notebook.tqdm(models):\n",
    "    pipe = Pipeline([('scaler', StandardScaler()), ('clf', model)])\n",
    "    cval = cross_validate(pipe, X_train, y_train, scoring=scoring, n_jobs=-1)\n",
    "    cval.update(model=name)\n",
    "\n",
    "    results = pd.concat([results, pd.DataFrame(cval)])\n",
    "\n",
    "# Выведем результаты\n",
    "results = results.groupby('model').mean().sort_values(by='test_roc_auc', ascending=False)\n",
    "results.index.name = 'Модель'\n",
    "results.columns = ['Обучение (сек)', 'Предсказание (сек)',\n",
    "                   'Среднее ROC-AUC на валидации', 'Среднее Accuracy на валидации']\n",
    "display(results)"
   ]
  },
  {
   "cell_type": "markdown",
   "metadata": {},
   "source": [
    "**Выводы**\n",
    "\n",
    "На данном этапе работы мы определили модель которая показала наибольшие метрики ROC-AUC и Accuracy. Это модель Gradient Boosting. Проверим ее на тестовых данных, а также запустим более продвинутую модель этого вида CatBoostClassifier."
   ]
  },
  {
   "cell_type": "markdown",
   "metadata": {},
   "source": [
    "**4. Тестирование модели**"
   ]
  },
  {
   "cell_type": "code",
   "execution_count": 9,
   "metadata": {},
   "outputs": [
    {
     "name": "stdout",
     "output_type": "stream",
     "text": [
      "ROC-AUC на тестовой выборке: 0.872\n",
      "Accuracy на тестовой выборке: 0.841 \n"
     ]
    }
   ],
   "source": [
    "# Проверим работу модели GradientBoostingClassifier на тестовой выборке\n",
    "model = models[2][1]\n",
    "model.fit(X_train, y_train)\n",
    "predict = model.predict(X_test)\n",
    "predict_proba = model.predict_proba(X_test)[:, 1]\n",
    "\n",
    "print('ROC-AUC на тестовой выборке: %.3f' % roc_auc_score(y_test, predict_proba))\n",
    "print('Accuracy на тестовой выборке: %.3f ' % accuracy_score(y_test, predict))"
   ]
  },
  {
   "cell_type": "code",
   "execution_count": 10,
   "metadata": {},
   "outputs": [
    {
     "data": {
      "image/png": "[encoded data removed]",
      "text/plain": [
       "<Figure size 432x288 with 1 Axes>"
      ]
     },
     "metadata": {
      "needs_background": "light"
     },
     "output_type": "display_data"
    }
   ],
   "source": [
    "# Построим ROC-кривую\n",
    "fpr, tpr, thresholds = roc_curve(y_test, predict_proba)  \n",
    "\n",
    "plt.figure()\n",
    "plt.plot(fpr, tpr)\n",
    "plt.xlim([0.0, 1.0])\n",
    "plt.ylim([0.0, 1.0])\n",
    "plt.xlabel('False Positive Rate')\n",
    "plt.ylabel('True Positive Rate')\n",
    "plt.title('ROC-кривая')\n",
    "plt.show() "
   ]
  },
  {
   "cell_type": "code",
   "execution_count": 11,
   "metadata": {},
   "outputs": [
    {
     "name": "stdout",
     "output_type": "stream",
     "text": [
      "0:\ttest: 0.7946975\tbest: 0.7946975 (0)\ttotal: 57.8ms\tremaining: 1m 3s\n",
      "200:\ttest: 0.8921363\tbest: 0.8921363 (200)\ttotal: 5.26s\tremaining: 23.5s\n",
      "400:\ttest: 0.9097626\tbest: 0.9098180 (398)\ttotal: 10s\tremaining: 17.5s\n",
      "600:\ttest: 0.9169816\tbest: 0.9171595 (596)\ttotal: 16.5s\tremaining: 13.7s\n",
      "800:\ttest: 0.9186798\tbest: 0.9186999 (799)\ttotal: 21.2s\tremaining: 7.9s\n",
      "1000:\ttest: 0.9189466\tbest: 0.9193594 (812)\ttotal: 26.1s\tremaining: 2.58s\n",
      "1099:\ttest: 0.9196178\tbest: 0.9199350 (1091)\ttotal: 28.5s\tremaining: 0us\n",
      "\n",
      "bestTest = 0.9199349586\n",
      "bestIteration = 1091\n",
      "\n",
      "Shrink model to first 1092 iterations.\n",
      "ROC-AUC на тестовой выборке: 0.920\n",
      "Accuracy на тестовой выборке: 0.880 \n"
     ]
    }
   ],
   "source": [
    "# Проверим работу модели CatBoostClassifier на тестовой выборке\n",
    "catboost = CatBoostClassifier(\n",
    "    iterations=1100,\n",
    "    learning_rate=0.1,\n",
    "    depth=4,\n",
    "    verbose=200,\n",
    "    loss_function='CrossEntropy',\n",
    "    eval_metric='AUC',\n",
    "    random_state=1234\n",
    ")\n",
    "catboost.fit(\n",
    "    X_train, y_train,\n",
    "    eval_set=(X_test, y_test)\n",
    ")\n",
    "\n",
    "predict = catboost.predict(X_test)\n",
    "predict_proba = catboost.predict_proba(X_test)[:, 1]\n",
    "\n",
    "print('ROC-AUC на тестовой выборке: %.3f' % roc_auc_score(y_test, predict_proba))\n",
    "print('Accuracy на тестовой выборке: %.3f ' % accuracy_score(y_test, predict))"
   ]
  },
  {
   "cell_type": "code",
   "execution_count": 12,
   "metadata": {},
   "outputs": [
    {
     "data": {
      "image/png": "[encoded data removed]",
      "text/plain": [
       "<Figure size 432x288 with 1 Axes>"
      ]
     },
     "metadata": {
      "needs_background": "light"
     },
     "output_type": "display_data"
    }
   ],
   "source": [
    "# Построим ROC-кривую\n",
    "fpr, tpr, thresholds = roc_curve(y_test, predict_proba)  \n",
    "\n",
    "plt.figure()\n",
    "plt.plot(fpr, tpr)\n",
    "plt.xlim([0.0, 1.0])\n",
    "plt.ylim([0.0, 1.0])\n",
    "plt.xlabel('False Positive Rate')\n",
    "plt.ylabel('True Positive Rate')\n",
    "plt.title('ROC-кривая')\n",
    "plt.show() "
   ]
  },
  {
   "cell_type": "markdown",
   "metadata": {},
   "source": [
    "**Выводы**\n",
    "\n",
    "Модели GradientBoostingClassifier и CatBoostClassifier показали высокие значения метрики ROC-AUC на тестовой выборке: 0.872 и 0.920 соответственно. Время обучения моделей и формирования прогнозов получилось незначительным. Таким образом, модели могут быть применены для прогнозирования перехода клиентов к другим операторам."
   ]
  },
  {
   "cell_type": "markdown",
   "metadata": {},
   "source": [
    "**Общий вывод**\n",
    "\n",
    "Нам были предоставлены данные о клентах оператора связи, у которых действует контракт и которые ушли от данного оператора. Нашей задачей было сформировать модель для прогнозирования ухода клиента, чтобы попытаться его удержать в компании путем предоставления скидки или промокода. \n",
    "\n",
    "Мы проведи предобработку данных, разделили их на обучающую и тестовую выборки. Далее выбрали модели, которые показали наилучший результат на тестовой выборке.\n",
    "\n",
    "Теперь компания может увеличивать свою прибыль за счет снижения оттока клиентов."
   ]
  }
 ],
 "metadata": {
  "ExecuteTimeLog": [
   {
    "duration": 1688,
    "start_time": "2021-10-26T08:57:13.763Z"
   },
   {
    "duration": 323,
    "start_time": "2021-10-26T08:57:49.780Z"
   },
   {
    "duration": 5,
    "start_time": "2021-10-26T10:47:39.061Z"
   },
   {
    "duration": 144,
    "start_time": "2021-10-26T10:49:38.708Z"
   },
   {
    "duration": 858,
    "start_time": "2021-10-26T10:57:06.426Z"
   },
   {
    "duration": 53,
    "start_time": "2021-10-26T11:00:01.356Z"
   },
   {
    "duration": 302,
    "start_time": "2021-10-26T11:06:04.831Z"
   },
   {
    "duration": 32,
    "start_time": "2021-10-26T11:06:24.282Z"
   },
   {
    "duration": 277,
    "start_time": "2021-10-26T11:08:12.964Z"
   },
   {
    "duration": 8781,
    "start_time": "2021-10-26T11:08:34.852Z"
   },
   {
    "duration": 8760,
    "start_time": "2021-10-26T11:10:42.089Z"
   },
   {
    "duration": 267,
    "start_time": "2021-10-26T11:13:46.236Z"
   },
   {
    "duration": 27698,
    "start_time": "2021-10-26T11:13:53.827Z"
   },
   {
    "duration": 253,
    "start_time": "2021-10-26T11:16:24.661Z"
   },
   {
    "duration": 1494,
    "start_time": "2021-10-26T11:19:01.471Z"
   },
   {
    "duration": 553,
    "start_time": "2021-10-26T11:19:28.074Z"
   },
   {
    "duration": 15,
    "start_time": "2021-10-26T11:19:36.151Z"
   },
   {
    "duration": 123,
    "start_time": "2021-10-26T11:32:05.948Z"
   },
   {
    "duration": 57,
    "start_time": "2021-10-26T12:12:03.340Z"
   },
   {
    "duration": 58,
    "start_time": "2021-10-26T12:26:43.454Z"
   },
   {
    "duration": 5,
    "start_time": "2021-10-26T12:34:51.870Z"
   },
   {
    "duration": 7886,
    "start_time": "2021-10-26T12:35:15.064Z"
   },
   {
    "duration": 8538,
    "start_time": "2021-10-26T12:36:29.408Z"
   },
   {
    "duration": 8955,
    "start_time": "2021-10-26T12:45:03.997Z"
   },
   {
    "duration": 24521,
    "start_time": "2021-10-26T12:57:15.265Z"
   },
   {
    "duration": 27724,
    "start_time": "2021-10-26T12:58:25.137Z"
   },
   {
    "duration": 27880,
    "start_time": "2021-10-26T13:04:12.553Z"
   },
   {
    "duration": 24662,
    "start_time": "2021-10-26T13:05:53.137Z"
   },
   {
    "duration": 25083,
    "start_time": "2021-10-26T14:06:20.660Z"
   },
   {
    "duration": 534,
    "start_time": "2021-10-26T14:12:31.920Z"
   },
   {
    "duration": 694,
    "start_time": "2021-10-26T20:44:24.892Z"
   },
   {
    "duration": 684,
    "start_time": "2021-10-26T20:44:41.053Z"
   },
   {
    "duration": 280,
    "start_time": "2021-10-26T20:50:43.183Z"
   },
   {
    "duration": 4,
    "start_time": "2021-10-26T20:51:36.114Z"
   },
   {
    "duration": 220,
    "start_time": "2021-10-26T20:51:47.634Z"
   },
   {
    "duration": 220,
    "start_time": "2021-10-26T20:53:07.070Z"
   },
   {
    "duration": 1296,
    "start_time": "2021-10-26T20:56:15.801Z"
   },
   {
    "duration": 99,
    "start_time": "2021-10-26T20:56:17.099Z"
   },
   {
    "duration": 71,
    "start_time": "2021-10-26T20:56:17.200Z"
   },
   {
    "duration": 90,
    "start_time": "2021-10-26T20:56:17.273Z"
   },
   {
    "duration": 364,
    "start_time": "2021-10-26T20:56:17.365Z"
   },
   {
    "duration": -878,
    "start_time": "2021-10-26T20:56:18.609Z"
   },
   {
    "duration": -899,
    "start_time": "2021-10-26T20:56:18.632Z"
   },
   {
    "duration": -931,
    "start_time": "2021-10-26T20:56:18.665Z"
   },
   {
    "duration": -952,
    "start_time": "2021-10-26T20:56:18.687Z"
   },
   {
    "duration": -977,
    "start_time": "2021-10-26T20:56:18.714Z"
   },
   {
    "duration": 1126,
    "start_time": "2021-10-26T20:56:49.782Z"
   },
   {
    "duration": 92,
    "start_time": "2021-10-26T20:56:50.910Z"
   },
   {
    "duration": 51,
    "start_time": "2021-10-26T20:56:51.004Z"
   },
   {
    "duration": 57,
    "start_time": "2021-10-26T20:56:51.056Z"
   },
   {
    "duration": 44,
    "start_time": "2021-10-26T20:56:51.114Z"
   },
   {
    "duration": 391,
    "start_time": "2021-10-26T20:56:51.160Z"
   },
   {
    "duration": -770,
    "start_time": "2021-10-26T20:56:52.323Z"
   },
   {
    "duration": -773,
    "start_time": "2021-10-26T20:56:52.327Z"
   },
   {
    "duration": -776,
    "start_time": "2021-10-26T20:56:52.330Z"
   },
   {
    "duration": -784,
    "start_time": "2021-10-26T20:56:52.339Z"
   },
   {
    "duration": 1186,
    "start_time": "2021-10-26T20:57:39.123Z"
   },
   {
    "duration": 89,
    "start_time": "2021-10-26T20:57:40.310Z"
   },
   {
    "duration": 49,
    "start_time": "2021-10-26T20:57:40.401Z"
   },
   {
    "duration": 54,
    "start_time": "2021-10-26T20:57:40.452Z"
   },
   {
    "duration": 40,
    "start_time": "2021-10-26T20:57:40.508Z"
   },
   {
    "duration": 7697,
    "start_time": "2021-10-26T20:57:40.549Z"
   },
   {
    "duration": 536,
    "start_time": "2021-10-26T20:57:48.248Z"
   },
   {
    "duration": 164,
    "start_time": "2021-10-26T20:57:48.787Z"
   },
   {
    "duration": 24697,
    "start_time": "2021-10-26T20:57:48.953Z"
   },
   {
    "duration": 151,
    "start_time": "2021-10-26T20:58:13.652Z"
   },
   {
    "duration": 1101,
    "start_time": "2021-10-26T20:59:02.799Z"
   },
   {
    "duration": 95,
    "start_time": "2021-10-26T20:59:03.902Z"
   },
   {
    "duration": 49,
    "start_time": "2021-10-26T20:59:03.999Z"
   },
   {
    "duration": 52,
    "start_time": "2021-10-26T20:59:04.050Z"
   },
   {
    "duration": 778,
    "start_time": "2021-10-26T20:59:04.104Z"
   },
   {
    "duration": 1176,
    "start_time": "2021-10-26T21:06:31.624Z"
   },
   {
    "duration": 90,
    "start_time": "2021-10-26T21:06:32.801Z"
   },
   {
    "duration": 49,
    "start_time": "2021-10-26T21:06:32.893Z"
   },
   {
    "duration": 54,
    "start_time": "2021-10-26T21:06:32.944Z"
   },
   {
    "duration": 45,
    "start_time": "2021-10-26T21:06:33.000Z"
   },
   {
    "duration": 7299,
    "start_time": "2021-10-26T21:06:33.047Z"
   },
   {
    "duration": 480,
    "start_time": "2021-10-26T21:06:40.347Z"
   },
   {
    "duration": 162,
    "start_time": "2021-10-26T21:06:40.829Z"
   },
   {
    "duration": 23635,
    "start_time": "2021-10-26T21:06:40.993Z"
   },
   {
    "duration": 141,
    "start_time": "2021-10-26T21:07:04.629Z"
   },
   {
    "duration": 50,
    "start_time": "2021-10-26T21:09:24.819Z"
   },
   {
    "duration": 380,
    "start_time": "2021-10-26T21:14:38.189Z"
   },
   {
    "duration": 58,
    "start_time": "2021-10-26T21:17:25.297Z"
   },
   {
    "duration": 1904,
    "start_time": "2021-10-26T21:18:03.233Z"
   },
   {
    "duration": 1090,
    "start_time": "2021-10-26T21:20:56.853Z"
   },
   {
    "duration": 296,
    "start_time": "2021-10-26T21:22:36.235Z"
   },
   {
    "duration": 55,
    "start_time": "2021-10-26T21:27:27.420Z"
   },
   {
    "duration": 1253,
    "start_time": "2021-10-27T08:14:49.017Z"
   },
   {
    "duration": 102,
    "start_time": "2021-10-27T08:14:50.925Z"
   },
   {
    "duration": 57,
    "start_time": "2021-10-27T08:14:53.389Z"
   },
   {
    "duration": 21,
    "start_time": "2021-10-27T08:14:56.531Z"
   },
   {
    "duration": 63,
    "start_time": "2021-10-27T08:22:59.352Z"
   },
   {
    "duration": 33,
    "start_time": "2021-10-27T08:23:11.082Z"
   },
   {
    "duration": 1228,
    "start_time": "2021-10-27T09:11:09.275Z"
   },
   {
    "duration": 102,
    "start_time": "2021-10-27T09:11:10.505Z"
   },
   {
    "duration": 60,
    "start_time": "2021-10-27T09:11:10.609Z"
   },
   {
    "duration": 24,
    "start_time": "2021-10-27T09:11:10.672Z"
   },
   {
    "duration": 84,
    "start_time": "2021-10-27T09:11:10.697Z"
   },
   {
    "duration": 33,
    "start_time": "2021-10-27T09:11:10.783Z"
   },
   {
    "duration": 8250,
    "start_time": "2021-10-27T09:11:10.817Z"
   },
   {
    "duration": 546,
    "start_time": "2021-10-27T09:11:19.070Z"
   },
   {
    "duration": 176,
    "start_time": "2021-10-27T09:11:19.618Z"
   },
   {
    "duration": 43581,
    "start_time": "2021-10-27T09:11:19.796Z"
   },
   {
    "duration": 250,
    "start_time": "2021-10-27T09:12:03.380Z"
   },
   {
    "duration": 1309,
    "start_time": "2021-10-27T10:24:00.085Z"
   },
   {
    "duration": 98,
    "start_time": "2021-10-27T10:25:31.716Z"
   },
   {
    "duration": 58,
    "start_time": "2021-10-27T10:25:33.214Z"
   },
   {
    "duration": 22,
    "start_time": "2021-10-27T10:26:27.371Z"
   },
   {
    "duration": 66,
    "start_time": "2021-10-27T10:26:51.473Z"
   },
   {
    "duration": 35,
    "start_time": "2021-10-27T10:27:51.104Z"
   },
   {
    "duration": 508,
    "start_time": "2021-10-27T10:30:48.763Z"
   },
   {
    "duration": -2,
    "start_time": "2021-10-27T10:30:49.276Z"
   },
   {
    "duration": 4968,
    "start_time": "2021-10-27T10:30:50.439Z"
   },
   {
    "duration": 173,
    "start_time": "2021-10-27T10:30:55.409Z"
   },
   {
    "duration": 8340,
    "start_time": "2021-10-27T10:34:00.339Z"
   },
   {
    "duration": 543,
    "start_time": "2021-10-27T10:34:12.655Z"
   },
   {
    "duration": 172,
    "start_time": "2021-10-27T10:34:14.892Z"
   },
   {
    "duration": 4963,
    "start_time": "2021-10-27T10:34:15.909Z"
   },
   {
    "duration": 165,
    "start_time": "2021-10-27T10:34:20.874Z"
   },
   {
    "duration": 1681,
    "start_time": "2021-10-27T19:36:28.430Z"
   },
   {
    "duration": 101,
    "start_time": "2021-10-27T19:36:30.113Z"
   },
   {
    "duration": 87,
    "start_time": "2021-10-27T19:36:32.647Z"
   },
   {
    "duration": 34,
    "start_time": "2021-10-27T19:36:39.446Z"
   },
   {
    "duration": 96,
    "start_time": "2021-10-27T19:36:45.502Z"
   },
   {
    "duration": 12,
    "start_time": "2021-10-27T19:36:56.955Z"
   },
   {
    "duration": 536,
    "start_time": "2021-10-27T19:45:57.626Z"
   },
   {
    "duration": 12372,
    "start_time": "2021-10-27T19:46:09.181Z"
   },
   {
    "duration": 593,
    "start_time": "2021-10-27T19:47:42.226Z"
   },
   {
    "duration": 12,
    "start_time": "2021-10-27T19:48:14.721Z"
   },
   {
    "duration": 1465,
    "start_time": "2021-10-27T20:02:43.106Z"
   },
   {
    "duration": 93,
    "start_time": "2021-10-27T20:02:44.573Z"
   },
   {
    "duration": 82,
    "start_time": "2021-10-27T20:02:44.669Z"
   },
   {
    "duration": 32,
    "start_time": "2021-10-27T20:02:44.768Z"
   },
   {
    "duration": 113,
    "start_time": "2021-10-27T20:02:44.802Z"
   },
   {
    "duration": 12,
    "start_time": "2021-10-27T20:02:44.917Z"
   },
   {
    "duration": 73,
    "start_time": "2021-10-27T20:02:44.931Z"
   },
   {
    "duration": 11262,
    "start_time": "2021-10-27T20:02:45.009Z"
   },
   {
    "duration": 736,
    "start_time": "2021-10-27T20:02:56.273Z"
   },
   {
    "duration": 287,
    "start_time": "2021-10-27T20:02:57.011Z"
   },
   {
    "duration": 31648,
    "start_time": "2021-10-27T20:02:57.300Z"
   },
   {
    "duration": 251,
    "start_time": "2021-10-27T20:03:28.950Z"
   }
  ],
  "kernelspec": {
   "display_name": "Python 3 (ipykernel)",
   "language": "python",
   "name": "python3"
  },
  "language_info": {
   "codemirror_mode": {
    "name": "ipython",
    "version": 3
   },
   "file_extension": ".py",
   "mimetype": "text/x-python",
   "name": "python",
   "nbconvert_exporter": "python",
   "pygments_lexer": "ipython3",
   "version": "3.9.7"
  },
  "toc": {
   "base_numbering": 1,
   "nav_menu": {},
   "number_sections": true,
   "sideBar": true,
   "skip_h1_title": true,
   "title_cell": "Table of Contents",
   "title_sidebar": "Contents",
   "toc_cell": false,
   "toc_position": {},
   "toc_section_display": true,
   "toc_window_display": false
  }
 },
 "nbformat": 4,
 "nbformat_minor": 2
}
