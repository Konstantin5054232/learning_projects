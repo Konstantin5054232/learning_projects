{
 "cells": [
  {
   "cell_type": "markdown",
   "metadata": {},
   "source": [
    "# Определение стоимости автомобилей"
   ]
  },
  {
   "cell_type": "markdown",
   "metadata": {},
   "source": [
    "Сервис по продаже автомобилей с пробегомразрабатывает приложение для привлечения новых клиентов. В нём можно быстро узнать рыночную стоимость своего автомобиля. В вашем распоряжении исторические данные: технические характеристики, комплектации и цены автомобилей. Необходимо построить модель для определения стоимости. \n",
    "\n",
    "Заказчику важны:\n",
    "\n",
    "- качество предсказания;\n",
    "- скорость предсказания;\n",
    "- время обучения."
   ]
  },
  {
   "cell_type": "markdown",
   "metadata": {},
   "source": [
    "## Подготовка данных"
   ]
  },
  {
   "cell_type": "code",
   "execution_count": 76,
   "metadata": {},
   "outputs": [],
   "source": [
    "import pandas as pd\n",
    "import numpy as np\n",
    "from sklearn.model_selection import train_test_split\n",
    "from sklearn.linear_model import LinearRegression\n",
    "from sklearn.tree import DecisionTreeRegressor\n",
    "from sklearn.ensemble import RandomForestRegressor\n",
    "from sklearn.metrics import mean_squared_error\n",
    "from sklearn.model_selection import GridSearchCV\n",
    "from sklearn.metrics.scorer import make_scorer\n",
    "from sklearn.datasets import make_regression"
   ]
  },
  {
   "cell_type": "code",
   "execution_count": 77,
   "metadata": {},
   "outputs": [
    {
     "name": "stdout",
     "output_type": "stream",
     "text": [
      "<class 'pandas.core.frame.DataFrame'>\n",
      "RangeIndex: 354369 entries, 0 to 354368\n",
      "Data columns (total 16 columns):\n",
      "DateCrawled          354369 non-null object\n",
      "Price                354369 non-null int64\n",
      "VehicleType          316879 non-null object\n",
      "RegistrationYear     354369 non-null int64\n",
      "Gearbox              334536 non-null object\n",
      "Power                354369 non-null int64\n",
      "Model                334664 non-null object\n",
      "Kilometer            354369 non-null int64\n",
      "RegistrationMonth    354369 non-null int64\n",
      "FuelType             321474 non-null object\n",
      "Brand                354369 non-null object\n",
      "NotRepaired          283215 non-null object\n",
      "DateCreated          354369 non-null object\n",
      "NumberOfPictures     354369 non-null int64\n",
      "PostalCode           354369 non-null int64\n",
      "LastSeen             354369 non-null object\n",
      "dtypes: int64(7), object(9)\n",
      "memory usage: 43.3+ MB\n"
     ]
    },
    {
     "data": {
      "text/plain": [
       "(354369, 16)"
      ]
     },
     "metadata": {},
     "output_type": "display_data"
    },
    {
     "data": {
      "text/html": [
       "<div>\n",
       "<style scoped>\n",
       "    .dataframe tbody tr th:only-of-type {\n",
       "        vertical-align: middle;\n",
       "    }\n",
       "\n",
       "    .dataframe tbody tr th {\n",
       "        vertical-align: top;\n",
       "    }\n",
       "\n",
       "    .dataframe thead th {\n",
       "        text-align: right;\n",
       "    }\n",
       "</style>\n",
       "<table border=\"1\" class=\"dataframe\">\n",
       "  <thead>\n",
       "    <tr style=\"text-align: right;\">\n",
       "      <th></th>\n",
       "      <th>DateCrawled</th>\n",
       "      <th>Price</th>\n",
       "      <th>VehicleType</th>\n",
       "      <th>RegistrationYear</th>\n",
       "      <th>Gearbox</th>\n",
       "      <th>Power</th>\n",
       "      <th>Model</th>\n",
       "      <th>Kilometer</th>\n",
       "      <th>RegistrationMonth</th>\n",
       "      <th>FuelType</th>\n",
       "      <th>Brand</th>\n",
       "      <th>NotRepaired</th>\n",
       "      <th>DateCreated</th>\n",
       "      <th>NumberOfPictures</th>\n",
       "      <th>PostalCode</th>\n",
       "      <th>LastSeen</th>\n",
       "    </tr>\n",
       "  </thead>\n",
       "  <tbody>\n",
       "    <tr>\n",
       "      <td>0</td>\n",
       "      <td>2016-03-24 11:52:17</td>\n",
       "      <td>480</td>\n",
       "      <td>NaN</td>\n",
       "      <td>1993</td>\n",
       "      <td>manual</td>\n",
       "      <td>0</td>\n",
       "      <td>golf</td>\n",
       "      <td>150000</td>\n",
       "      <td>0</td>\n",
       "      <td>petrol</td>\n",
       "      <td>volkswagen</td>\n",
       "      <td>NaN</td>\n",
       "      <td>2016-03-24 00:00:00</td>\n",
       "      <td>0</td>\n",
       "      <td>70435</td>\n",
       "      <td>2016-04-07 03:16:57</td>\n",
       "    </tr>\n",
       "    <tr>\n",
       "      <td>1</td>\n",
       "      <td>2016-03-24 10:58:45</td>\n",
       "      <td>18300</td>\n",
       "      <td>coupe</td>\n",
       "      <td>2011</td>\n",
       "      <td>manual</td>\n",
       "      <td>190</td>\n",
       "      <td>NaN</td>\n",
       "      <td>125000</td>\n",
       "      <td>5</td>\n",
       "      <td>gasoline</td>\n",
       "      <td>audi</td>\n",
       "      <td>yes</td>\n",
       "      <td>2016-03-24 00:00:00</td>\n",
       "      <td>0</td>\n",
       "      <td>66954</td>\n",
       "      <td>2016-04-07 01:46:50</td>\n",
       "    </tr>\n",
       "    <tr>\n",
       "      <td>2</td>\n",
       "      <td>2016-03-14 12:52:21</td>\n",
       "      <td>9800</td>\n",
       "      <td>suv</td>\n",
       "      <td>2004</td>\n",
       "      <td>auto</td>\n",
       "      <td>163</td>\n",
       "      <td>grand</td>\n",
       "      <td>125000</td>\n",
       "      <td>8</td>\n",
       "      <td>gasoline</td>\n",
       "      <td>jeep</td>\n",
       "      <td>NaN</td>\n",
       "      <td>2016-03-14 00:00:00</td>\n",
       "      <td>0</td>\n",
       "      <td>90480</td>\n",
       "      <td>2016-04-05 12:47:46</td>\n",
       "    </tr>\n",
       "    <tr>\n",
       "      <td>3</td>\n",
       "      <td>2016-03-17 16:54:04</td>\n",
       "      <td>1500</td>\n",
       "      <td>small</td>\n",
       "      <td>2001</td>\n",
       "      <td>manual</td>\n",
       "      <td>75</td>\n",
       "      <td>golf</td>\n",
       "      <td>150000</td>\n",
       "      <td>6</td>\n",
       "      <td>petrol</td>\n",
       "      <td>volkswagen</td>\n",
       "      <td>no</td>\n",
       "      <td>2016-03-17 00:00:00</td>\n",
       "      <td>0</td>\n",
       "      <td>91074</td>\n",
       "      <td>2016-03-17 17:40:17</td>\n",
       "    </tr>\n",
       "    <tr>\n",
       "      <td>4</td>\n",
       "      <td>2016-03-31 17:25:20</td>\n",
       "      <td>3600</td>\n",
       "      <td>small</td>\n",
       "      <td>2008</td>\n",
       "      <td>manual</td>\n",
       "      <td>69</td>\n",
       "      <td>fabia</td>\n",
       "      <td>90000</td>\n",
       "      <td>7</td>\n",
       "      <td>gasoline</td>\n",
       "      <td>skoda</td>\n",
       "      <td>no</td>\n",
       "      <td>2016-03-31 00:00:00</td>\n",
       "      <td>0</td>\n",
       "      <td>60437</td>\n",
       "      <td>2016-04-06 10:17:21</td>\n",
       "    </tr>\n",
       "  </tbody>\n",
       "</table>\n",
       "</div>"
      ],
      "text/plain": [
       "           DateCrawled  Price VehicleType  RegistrationYear Gearbox  Power  \\\n",
       "0  2016-03-24 11:52:17    480         NaN              1993  manual      0   \n",
       "1  2016-03-24 10:58:45  18300       coupe              2011  manual    190   \n",
       "2  2016-03-14 12:52:21   9800         suv              2004    auto    163   \n",
       "3  2016-03-17 16:54:04   1500       small              2001  manual     75   \n",
       "4  2016-03-31 17:25:20   3600       small              2008  manual     69   \n",
       "\n",
       "   Model  Kilometer  RegistrationMonth  FuelType       Brand NotRepaired  \\\n",
       "0   golf     150000                  0    petrol  volkswagen         NaN   \n",
       "1    NaN     125000                  5  gasoline        audi         yes   \n",
       "2  grand     125000                  8  gasoline        jeep         NaN   \n",
       "3   golf     150000                  6    petrol  volkswagen          no   \n",
       "4  fabia      90000                  7  gasoline       skoda          no   \n",
       "\n",
       "           DateCreated  NumberOfPictures  PostalCode             LastSeen  \n",
       "0  2016-03-24 00:00:00                 0       70435  2016-04-07 03:16:57  \n",
       "1  2016-03-24 00:00:00                 0       66954  2016-04-07 01:46:50  \n",
       "2  2016-03-14 00:00:00                 0       90480  2016-04-05 12:47:46  \n",
       "3  2016-03-17 00:00:00                 0       91074  2016-03-17 17:40:17  \n",
       "4  2016-03-31 00:00:00                 0       60437  2016-04-06 10:17:21  "
      ]
     },
     "execution_count": 77,
     "metadata": {},
     "output_type": "execute_result"
    }
   ],
   "source": [
    "df = pd.read_csv('/datasets/autos.csv')\n",
    "\n",
    "df.info()\n",
    "display(df.shape)\n",
    "df.head()"
   ]
  },
  {
   "cell_type": "markdown",
   "metadata": {},
   "source": [
    "Удалим ненужные для анализа столбцы. Условиями, определяющими цену, на наш взгляд, являются: год выпуска, пробег, марка и модель, а также подвергалась ли машина ремонту. Моделей существует большое множество, но у нас есть данные о мощности автомобилей. Чтобы ускорить работу моеделй, предположим, что у одной марки может существовать только одна модель заданной мощности, что также определяет тип автомобиля, вид коробки передач и тип топлива."
   ]
  },
  {
   "cell_type": "code",
   "execution_count": 78,
   "metadata": {},
   "outputs": [
    {
     "name": "stdout",
     "output_type": "stream",
     "text": [
      "<class 'pandas.core.frame.DataFrame'>\n",
      "RangeIndex: 354369 entries, 0 to 354368\n",
      "Data columns (total 6 columns):\n",
      "Price               354369 non-null int64\n",
      "RegistrationYear    354369 non-null int64\n",
      "Power               354369 non-null int64\n",
      "Kilometer           354369 non-null int64\n",
      "Brand               354369 non-null object\n",
      "NotRepaired         283215 non-null object\n",
      "dtypes: int64(4), object(2)\n",
      "memory usage: 16.2+ MB\n"
     ]
    },
    {
     "data": {
      "text/plain": [
       "None"
      ]
     },
     "metadata": {},
     "output_type": "display_data"
    },
    {
     "data": {
      "text/plain": [
       "(354369, 6)"
      ]
     },
     "metadata": {},
     "output_type": "display_data"
    },
    {
     "data": {
      "text/html": [
       "<div>\n",
       "<style scoped>\n",
       "    .dataframe tbody tr th:only-of-type {\n",
       "        vertical-align: middle;\n",
       "    }\n",
       "\n",
       "    .dataframe tbody tr th {\n",
       "        vertical-align: top;\n",
       "    }\n",
       "\n",
       "    .dataframe thead th {\n",
       "        text-align: right;\n",
       "    }\n",
       "</style>\n",
       "<table border=\"1\" class=\"dataframe\">\n",
       "  <thead>\n",
       "    <tr style=\"text-align: right;\">\n",
       "      <th></th>\n",
       "      <th>Price</th>\n",
       "      <th>RegistrationYear</th>\n",
       "      <th>Power</th>\n",
       "      <th>Kilometer</th>\n",
       "      <th>Brand</th>\n",
       "      <th>NotRepaired</th>\n",
       "    </tr>\n",
       "  </thead>\n",
       "  <tbody>\n",
       "    <tr>\n",
       "      <td>0</td>\n",
       "      <td>480</td>\n",
       "      <td>1993</td>\n",
       "      <td>0</td>\n",
       "      <td>150000</td>\n",
       "      <td>volkswagen</td>\n",
       "      <td>NaN</td>\n",
       "    </tr>\n",
       "    <tr>\n",
       "      <td>1</td>\n",
       "      <td>18300</td>\n",
       "      <td>2011</td>\n",
       "      <td>190</td>\n",
       "      <td>125000</td>\n",
       "      <td>audi</td>\n",
       "      <td>yes</td>\n",
       "    </tr>\n",
       "    <tr>\n",
       "      <td>2</td>\n",
       "      <td>9800</td>\n",
       "      <td>2004</td>\n",
       "      <td>163</td>\n",
       "      <td>125000</td>\n",
       "      <td>jeep</td>\n",
       "      <td>NaN</td>\n",
       "    </tr>\n",
       "    <tr>\n",
       "      <td>3</td>\n",
       "      <td>1500</td>\n",
       "      <td>2001</td>\n",
       "      <td>75</td>\n",
       "      <td>150000</td>\n",
       "      <td>volkswagen</td>\n",
       "      <td>no</td>\n",
       "    </tr>\n",
       "    <tr>\n",
       "      <td>4</td>\n",
       "      <td>3600</td>\n",
       "      <td>2008</td>\n",
       "      <td>69</td>\n",
       "      <td>90000</td>\n",
       "      <td>skoda</td>\n",
       "      <td>no</td>\n",
       "    </tr>\n",
       "  </tbody>\n",
       "</table>\n",
       "</div>"
      ],
      "text/plain": [
       "   Price  RegistrationYear  Power  Kilometer       Brand NotRepaired\n",
       "0    480              1993      0     150000  volkswagen         NaN\n",
       "1  18300              2011    190     125000        audi         yes\n",
       "2   9800              2004    163     125000        jeep         NaN\n",
       "3   1500              2001     75     150000  volkswagen          no\n",
       "4   3600              2008     69      90000       skoda          no"
      ]
     },
     "execution_count": 78,
     "metadata": {},
     "output_type": "execute_result"
    }
   ],
   "source": [
    "df.drop(['DateCrawled', 'VehicleType', 'RegistrationMonth', 'DateCreated', 'NumberOfPictures', 'PostalCode', \n",
    "         'LastSeen', 'Model', 'Gearbox', 'FuelType'], axis=1, inplace = True)\n",
    "\n",
    "display(df.info())\n",
    "display(df.shape)\n",
    "df.head()"
   ]
  },
  {
   "cell_type": "code",
   "execution_count": 79,
   "metadata": {
    "scrolled": true
   },
   "outputs": [
    {
     "data": {
      "text/plain": [
       "(354369, 44)"
      ]
     },
     "metadata": {},
     "output_type": "display_data"
    },
    {
     "data": {
      "text/html": [
       "<div>\n",
       "<style scoped>\n",
       "    .dataframe tbody tr th:only-of-type {\n",
       "        vertical-align: middle;\n",
       "    }\n",
       "\n",
       "    .dataframe tbody tr th {\n",
       "        vertical-align: top;\n",
       "    }\n",
       "\n",
       "    .dataframe thead th {\n",
       "        text-align: right;\n",
       "    }\n",
       "</style>\n",
       "<table border=\"1\" class=\"dataframe\">\n",
       "  <thead>\n",
       "    <tr style=\"text-align: right;\">\n",
       "      <th></th>\n",
       "      <th>Price</th>\n",
       "      <th>RegistrationYear</th>\n",
       "      <th>Power</th>\n",
       "      <th>Kilometer</th>\n",
       "      <th>Brand_audi</th>\n",
       "      <th>Brand_bmw</th>\n",
       "      <th>Brand_chevrolet</th>\n",
       "      <th>Brand_chrysler</th>\n",
       "      <th>Brand_citroen</th>\n",
       "      <th>Brand_dacia</th>\n",
       "      <th>...</th>\n",
       "      <th>Brand_skoda</th>\n",
       "      <th>Brand_smart</th>\n",
       "      <th>Brand_sonstige_autos</th>\n",
       "      <th>Brand_subaru</th>\n",
       "      <th>Brand_suzuki</th>\n",
       "      <th>Brand_toyota</th>\n",
       "      <th>Brand_trabant</th>\n",
       "      <th>Brand_volkswagen</th>\n",
       "      <th>Brand_volvo</th>\n",
       "      <th>NotRepaired_yes</th>\n",
       "    </tr>\n",
       "  </thead>\n",
       "  <tbody>\n",
       "    <tr>\n",
       "      <td>0</td>\n",
       "      <td>480</td>\n",
       "      <td>1993</td>\n",
       "      <td>0</td>\n",
       "      <td>150000</td>\n",
       "      <td>0</td>\n",
       "      <td>0</td>\n",
       "      <td>0</td>\n",
       "      <td>0</td>\n",
       "      <td>0</td>\n",
       "      <td>0</td>\n",
       "      <td>...</td>\n",
       "      <td>0</td>\n",
       "      <td>0</td>\n",
       "      <td>0</td>\n",
       "      <td>0</td>\n",
       "      <td>0</td>\n",
       "      <td>0</td>\n",
       "      <td>0</td>\n",
       "      <td>1</td>\n",
       "      <td>0</td>\n",
       "      <td>0</td>\n",
       "    </tr>\n",
       "    <tr>\n",
       "      <td>1</td>\n",
       "      <td>18300</td>\n",
       "      <td>2011</td>\n",
       "      <td>190</td>\n",
       "      <td>125000</td>\n",
       "      <td>1</td>\n",
       "      <td>0</td>\n",
       "      <td>0</td>\n",
       "      <td>0</td>\n",
       "      <td>0</td>\n",
       "      <td>0</td>\n",
       "      <td>...</td>\n",
       "      <td>0</td>\n",
       "      <td>0</td>\n",
       "      <td>0</td>\n",
       "      <td>0</td>\n",
       "      <td>0</td>\n",
       "      <td>0</td>\n",
       "      <td>0</td>\n",
       "      <td>0</td>\n",
       "      <td>0</td>\n",
       "      <td>1</td>\n",
       "    </tr>\n",
       "    <tr>\n",
       "      <td>2</td>\n",
       "      <td>9800</td>\n",
       "      <td>2004</td>\n",
       "      <td>163</td>\n",
       "      <td>125000</td>\n",
       "      <td>0</td>\n",
       "      <td>0</td>\n",
       "      <td>0</td>\n",
       "      <td>0</td>\n",
       "      <td>0</td>\n",
       "      <td>0</td>\n",
       "      <td>...</td>\n",
       "      <td>0</td>\n",
       "      <td>0</td>\n",
       "      <td>0</td>\n",
       "      <td>0</td>\n",
       "      <td>0</td>\n",
       "      <td>0</td>\n",
       "      <td>0</td>\n",
       "      <td>0</td>\n",
       "      <td>0</td>\n",
       "      <td>0</td>\n",
       "    </tr>\n",
       "    <tr>\n",
       "      <td>3</td>\n",
       "      <td>1500</td>\n",
       "      <td>2001</td>\n",
       "      <td>75</td>\n",
       "      <td>150000</td>\n",
       "      <td>0</td>\n",
       "      <td>0</td>\n",
       "      <td>0</td>\n",
       "      <td>0</td>\n",
       "      <td>0</td>\n",
       "      <td>0</td>\n",
       "      <td>...</td>\n",
       "      <td>0</td>\n",
       "      <td>0</td>\n",
       "      <td>0</td>\n",
       "      <td>0</td>\n",
       "      <td>0</td>\n",
       "      <td>0</td>\n",
       "      <td>0</td>\n",
       "      <td>1</td>\n",
       "      <td>0</td>\n",
       "      <td>0</td>\n",
       "    </tr>\n",
       "    <tr>\n",
       "      <td>4</td>\n",
       "      <td>3600</td>\n",
       "      <td>2008</td>\n",
       "      <td>69</td>\n",
       "      <td>90000</td>\n",
       "      <td>0</td>\n",
       "      <td>0</td>\n",
       "      <td>0</td>\n",
       "      <td>0</td>\n",
       "      <td>0</td>\n",
       "      <td>0</td>\n",
       "      <td>...</td>\n",
       "      <td>1</td>\n",
       "      <td>0</td>\n",
       "      <td>0</td>\n",
       "      <td>0</td>\n",
       "      <td>0</td>\n",
       "      <td>0</td>\n",
       "      <td>0</td>\n",
       "      <td>0</td>\n",
       "      <td>0</td>\n",
       "      <td>0</td>\n",
       "    </tr>\n",
       "  </tbody>\n",
       "</table>\n",
       "<p>5 rows × 44 columns</p>\n",
       "</div>"
      ],
      "text/plain": [
       "   Price  RegistrationYear  Power  Kilometer  Brand_audi  Brand_bmw  \\\n",
       "0    480              1993      0     150000           0          0   \n",
       "1  18300              2011    190     125000           1          0   \n",
       "2   9800              2004    163     125000           0          0   \n",
       "3   1500              2001     75     150000           0          0   \n",
       "4   3600              2008     69      90000           0          0   \n",
       "\n",
       "   Brand_chevrolet  Brand_chrysler  Brand_citroen  Brand_dacia  ...  \\\n",
       "0                0               0              0            0  ...   \n",
       "1                0               0              0            0  ...   \n",
       "2                0               0              0            0  ...   \n",
       "3                0               0              0            0  ...   \n",
       "4                0               0              0            0  ...   \n",
       "\n",
       "   Brand_skoda  Brand_smart  Brand_sonstige_autos  Brand_subaru  Brand_suzuki  \\\n",
       "0            0            0                     0             0             0   \n",
       "1            0            0                     0             0             0   \n",
       "2            0            0                     0             0             0   \n",
       "3            0            0                     0             0             0   \n",
       "4            1            0                     0             0             0   \n",
       "\n",
       "   Brand_toyota  Brand_trabant  Brand_volkswagen  Brand_volvo  NotRepaired_yes  \n",
       "0             0              0                 1            0                0  \n",
       "1             0              0                 0            0                1  \n",
       "2             0              0                 0            0                0  \n",
       "3             0              0                 1            0                0  \n",
       "4             0              0                 0            0                0  \n",
       "\n",
       "[5 rows x 44 columns]"
      ]
     },
     "metadata": {},
     "output_type": "display_data"
    }
   ],
   "source": [
    "# Заменим категориальные признаки числовыми\n",
    "df_ohe = pd.get_dummies(df, drop_first=True)\n",
    "display(df_ohe.shape)\n",
    "display(df_ohe.head())"
   ]
  },
  {
   "cell_type": "code",
   "execution_count": 80,
   "metadata": {
    "scrolled": true
   },
   "outputs": [
    {
     "data": {
      "text/plain": [
       "(212621, 43)"
      ]
     },
     "metadata": {},
     "output_type": "display_data"
    },
    {
     "data": {
      "text/plain": [
       "(70874, 43)"
      ]
     },
     "metadata": {},
     "output_type": "display_data"
    },
    {
     "data": {
      "text/plain": [
       "(70874, 43)"
      ]
     },
     "metadata": {},
     "output_type": "display_data"
    },
    {
     "data": {
      "text/plain": [
       "0.5999988712330931"
      ]
     },
     "metadata": {},
     "output_type": "display_data"
    },
    {
     "data": {
      "text/plain": [
       "0.2000005643834534"
      ]
     },
     "metadata": {},
     "output_type": "display_data"
    },
    {
     "data": {
      "text/plain": [
       "0.2000005643834534"
      ]
     },
     "metadata": {},
     "output_type": "display_data"
    }
   ],
   "source": [
    "# Выделим целевые признаки и условия\n",
    "target = df_ohe['Price']\n",
    "features = df_ohe.drop('Price', axis=1)\n",
    "\n",
    "# Разобьём данные на выборки\n",
    "features_train_1, features_valid, target_train_1, target_valid = train_test_split(features, target, test_size=0.20, random_state=12345)\n",
    "features_train, features_test, target_train, target_test = train_test_split(features_train_1, target_train_1, test_size=0.25, random_state=12345)\n",
    "\n",
    "# Проверим, правильно ли распределились данные\n",
    "display(features_train.shape)\n",
    "display(features_valid.shape)\n",
    "display(features_test.shape)\n",
    "\n",
    "display (len(features_train) / (len(features_train) + len(features_valid) + len(features_test)))\n",
    "display (len(features_valid) / (len(features_train) + len(features_valid) + len(features_test)))\n",
    "display (len(features_test) / (len(features_train) + len(features_valid) + len(features_test)))\n"
   ]
  },
  {
   "cell_type": "markdown",
   "metadata": {},
   "source": [
    "## Обучение моделей"
   ]
  },
  {
   "cell_type": "markdown",
   "metadata": {},
   "source": [
    "Подберем оптимальные гиперпараметры для различных моделей"
   ]
  },
  {
   "cell_type": "code",
   "execution_count": 65,
   "metadata": {},
   "outputs": [
    {
     "name": "stdout",
     "output_type": "stream",
     "text": [
      "LinearRegression 3852.607989423627\n",
      "CPU times: user 1.03 s, sys: 387 ms, total: 1.42 s\n",
      "Wall time: 1.41 s\n"
     ]
    }
   ],
   "source": [
    "%%time\n",
    "model = LinearRegression()\n",
    "model.fit(features_train, target_train)\n",
    "predictions = model.predict(features_valid) \n",
    "result = mean_squared_error(target_valid, predictions) ** 0.5 \n",
    "print(\"LinearRegression\", result)"
   ]
  },
  {
   "cell_type": "code",
   "execution_count": 66,
   "metadata": {},
   "outputs": [
    {
     "name": "stdout",
     "output_type": "stream",
     "text": [
      "14 2145.6947851677387\n"
     ]
    }
   ],
   "source": [
    "best_result = 5000\n",
    "best_depth = 0\n",
    "for depth in range(10, 20, 1):\n",
    "    model = DecisionTreeRegressor(max_depth=depth, random_state=12345)\n",
    "    model.fit(features_train, target_train)\n",
    "    predictions_valid = model.predict(features_valid)\n",
    "    result = mean_squared_error(target_valid, predictions_valid) ** 0.5\n",
    "    if result < best_result:\n",
    "        best_result = result\n",
    "        best_depth = depth\n",
    "    \n",
    "print(best_depth, best_result)"
   ]
  },
  {
   "cell_type": "code",
   "execution_count": 67,
   "metadata": {},
   "outputs": [
    {
     "name": "stdout",
     "output_type": "stream",
     "text": [
      "DecisionTreeRegressor 2147.1326066776414\n",
      "CPU times: user 1.17 s, sys: 28.9 ms, total: 1.2 s\n",
      "Wall time: 1.31 s\n"
     ]
    }
   ],
   "source": [
    "%%time\n",
    "model = DecisionTreeRegressor(random_state=12345, max_depth=13) \n",
    "model.fit(features_train, target_train)\n",
    "predictions = model.predict(features_valid)\n",
    "result = mean_squared_error(target_valid, predictions) ** 0.5\n",
    "print('DecisionTreeRegressor', result)"
   ]
  },
  {
   "cell_type": "code",
   "execution_count": 68,
   "metadata": {},
   "outputs": [
    {
     "name": "stdout",
     "output_type": "stream",
     "text": [
      "80 10 2128.51862315896\n"
     ]
    }
   ],
   "source": [
    "best_result = 5000\n",
    "best_est = 0\n",
    "best_depth = 0\n",
    "for est in range(70, 91, 10):\n",
    "    for depth in range (9, 11, 1):\n",
    "        model = RandomForestRegressor(random_state=12345, n_estimators=est, max_depth=depth)\n",
    "        model.fit(features_train, target_train) \n",
    "        predictions_valid = model.predict(features_valid) \n",
    "        result = mean_squared_error(target_valid, predictions_valid)**0.5 \n",
    "        if result < best_result:\n",
    "            best_result = result\n",
    "            best_est = est\n",
    "            best_depth = depth\n",
    "            \n",
    "print(best_est, best_depth, best_result)"
   ]
  },
  {
   "cell_type": "code",
   "execution_count": 69,
   "metadata": {},
   "outputs": [
    {
     "name": "stdout",
     "output_type": "stream",
     "text": [
      "RandomForestRegressor 2128.51862315896\n",
      "CPU times: user 48.7 s, sys: 23 ms, total: 48.7 s\n",
      "Wall time: 49 s\n"
     ]
    }
   ],
   "source": [
    "%%time\n",
    "model = RandomForestRegressor(random_state=12345, n_estimators=80, max_depth=10)\n",
    "model.fit(features_train, target_train) \n",
    "predictions = model.predict(features_valid) \n",
    "result = mean_squared_error(target_valid, predictions)**0.5 \n",
    "print('RandomForestRegressor', result)"
   ]
  },
  {
   "cell_type": "code",
   "execution_count": 70,
   "metadata": {},
   "outputs": [
    {
     "name": "stdout",
     "output_type": "stream",
     "text": [
      "2000 10 1929.3007566272267\n"
     ]
    }
   ],
   "source": [
    "best_result = 5000\n",
    "best_est = 0\n",
    "best_depth = 0\n",
    "for est in range(2000, 2201, 100):\n",
    "    for depth in range (9, 11, 1):\n",
    "        model = LGBMRegressor(n_estimators=est, max_depth=depth)\n",
    "        model.fit(features_train, target_train) \n",
    "        predictions_valid = model.predict(features_valid) \n",
    "        result = mean_squared_error(target_valid, predictions_valid)**0.5 \n",
    "        if result < best_result:\n",
    "            best_result = result\n",
    "            best_est = est\n",
    "            best_depth = depth\n",
    "            \n",
    "print(best_est, best_depth, best_result)"
   ]
  },
  {
   "cell_type": "code",
   "execution_count": 71,
   "metadata": {},
   "outputs": [
    {
     "name": "stdout",
     "output_type": "stream",
     "text": [
      "LGBMRegressor 1929.718654917422\n",
      "CPU times: user 1min 51s, sys: 681 ms, total: 1min 52s\n",
      "Wall time: 1min 53s\n"
     ]
    }
   ],
   "source": [
    "%%time\n",
    "model = LGBMRegressor(n_estimators=2200, max_depth=10)\n",
    "model.fit(features_train, target_train) \n",
    "predictions_valid = model.predict(features_valid) \n",
    "result = mean_squared_error(target_valid, predictions_valid)**0.5 \n",
    "print('LGBMRegressor', result)"
   ]
  },
  {
   "cell_type": "markdown",
   "metadata": {},
   "source": [
    "## Анализ моделей"
   ]
  },
  {
   "cell_type": "markdown",
   "metadata": {},
   "source": [
    "Проверим работу различных моделей на тестовой выборке и посмотрим, какое время требуется для их обучения"
   ]
  },
  {
   "cell_type": "code",
   "execution_count": 81,
   "metadata": {},
   "outputs": [
    {
     "name": "stdout",
     "output_type": "stream",
     "text": [
      "CPU times: user 1.04 s, sys: 495 ms, total: 1.53 s\n",
      "Wall time: 1.54 s\n"
     ]
    },
    {
     "data": {
      "text/plain": [
       "LinearRegression(copy_X=True, fit_intercept=True, n_jobs=None, normalize=False)"
      ]
     },
     "execution_count": 81,
     "metadata": {},
     "output_type": "execute_result"
    }
   ],
   "source": [
    "%%time\n",
    "model = LinearRegression()\n",
    "model.fit(features_train, target_train)"
   ]
  },
  {
   "cell_type": "code",
   "execution_count": 82,
   "metadata": {},
   "outputs": [
    {
     "name": "stdout",
     "output_type": "stream",
     "text": [
      "LinearRegression 3841.780370810574\n",
      "CPU times: user 33.8 ms, sys: 4.26 ms, total: 38.1 ms\n",
      "Wall time: 20.3 ms\n"
     ]
    }
   ],
   "source": [
    "%%time\n",
    "predictions = model.predict(features_test) \n",
    "result = mean_squared_error(target_test, predictions) ** 0.5 \n",
    "print(\"LinearRegression\", result)"
   ]
  },
  {
   "cell_type": "code",
   "execution_count": 83,
   "metadata": {},
   "outputs": [
    {
     "name": "stdout",
     "output_type": "stream",
     "text": [
      "CPU times: user 1.25 s, sys: 24.8 ms, total: 1.27 s\n",
      "Wall time: 1.29 s\n"
     ]
    },
    {
     "data": {
      "text/plain": [
       "DecisionTreeRegressor(criterion='mse', max_depth=13, max_features=None,\n",
       "                      max_leaf_nodes=None, min_impurity_decrease=0.0,\n",
       "                      min_impurity_split=None, min_samples_leaf=1,\n",
       "                      min_samples_split=2, min_weight_fraction_leaf=0.0,\n",
       "                      presort=False, random_state=12345, splitter='best')"
      ]
     },
     "execution_count": 83,
     "metadata": {},
     "output_type": "execute_result"
    }
   ],
   "source": [
    "%%time\n",
    "model = DecisionTreeRegressor(random_state=12345, max_depth=13) \n",
    "model.fit(features_train, target_train)"
   ]
  },
  {
   "cell_type": "code",
   "execution_count": 84,
   "metadata": {},
   "outputs": [
    {
     "name": "stdout",
     "output_type": "stream",
     "text": [
      "DecisionTreeRegressor 2096.399540937694\n",
      "CPU times: user 27.4 ms, sys: 8.25 ms, total: 35.7 ms\n",
      "Wall time: 33.2 ms\n"
     ]
    }
   ],
   "source": [
    "%%time\n",
    "predictions = model.predict(features_test)\n",
    "result = mean_squared_error(target_test, predictions) ** 0.5\n",
    "print('DecisionTreeRegressor', result)"
   ]
  },
  {
   "cell_type": "code",
   "execution_count": 85,
   "metadata": {},
   "outputs": [
    {
     "name": "stdout",
     "output_type": "stream",
     "text": [
      "CPU times: user 55 s, sys: 20.8 ms, total: 55.1 s\n",
      "Wall time: 55.8 s\n"
     ]
    },
    {
     "data": {
      "text/plain": [
       "RandomForestRegressor(bootstrap=True, criterion='mse', max_depth=10,\n",
       "                      max_features='auto', max_leaf_nodes=None,\n",
       "                      min_impurity_decrease=0.0, min_impurity_split=None,\n",
       "                      min_samples_leaf=1, min_samples_split=2,\n",
       "                      min_weight_fraction_leaf=0.0, n_estimators=80,\n",
       "                      n_jobs=None, oob_score=False, random_state=12345,\n",
       "                      verbose=0, warm_start=False)"
      ]
     },
     "execution_count": 85,
     "metadata": {},
     "output_type": "execute_result"
    }
   ],
   "source": [
    "%%time\n",
    "model = RandomForestRegressor(random_state=12345, n_estimators=80, max_depth=10)\n",
    "model.fit(features_train, target_train) "
   ]
  },
  {
   "cell_type": "code",
   "execution_count": 86,
   "metadata": {},
   "outputs": [
    {
     "name": "stdout",
     "output_type": "stream",
     "text": [
      "RandomForestRegressor 2104.6924403219837\n",
      "CPU times: user 687 ms, sys: 0 ns, total: 687 ms\n",
      "Wall time: 698 ms\n"
     ]
    }
   ],
   "source": [
    "%%time\n",
    "predictions = model.predict(features_test) \n",
    "result = mean_squared_error(target_test, predictions)**0.5 \n",
    "print('RandomForestRegressor', result)"
   ]
  },
  {
   "cell_type": "code",
   "execution_count": 87,
   "metadata": {},
   "outputs": [
    {
     "name": "stdout",
     "output_type": "stream",
     "text": [
      "CPU times: user 10min 48s, sys: 3.9 s, total: 10min 52s\n",
      "Wall time: 10min 57s\n"
     ]
    },
    {
     "data": {
      "text/plain": [
       "LGBMRegressor(boosting_type='gbdt', class_weight=None, colsample_bytree=1.0,\n",
       "              importance_type='split', learning_rate=0.1, max_depth=10,\n",
       "              min_child_samples=20, min_child_weight=0.001, min_split_gain=0.0,\n",
       "              n_estimators=2200, n_jobs=-1, num_leaves=31, objective=None,\n",
       "              random_state=None, reg_alpha=0.0, reg_lambda=0.0, silent=True,\n",
       "              subsample=1.0, subsample_for_bin=200000, subsample_freq=0)"
      ]
     },
     "execution_count": 87,
     "metadata": {},
     "output_type": "execute_result"
    }
   ],
   "source": [
    "%%time\n",
    "model = LGBMRegressor(n_estimators=2200, max_depth=10)\n",
    "model.fit(features_train, target_train) "
   ]
  },
  {
   "cell_type": "code",
   "execution_count": 88,
   "metadata": {},
   "outputs": [
    {
     "name": "stdout",
     "output_type": "stream",
     "text": [
      "LGBMRegressor 1900.7876821950622\n",
      "CPU times: user 20.8 s, sys: 13.3 ms, total: 20.8 s\n",
      "Wall time: 20.8 s\n"
     ]
    }
   ],
   "source": [
    "%%time\n",
    "predictions = model.predict(features_test) \n",
    "result = mean_squared_error(target_test, predictions)**0.5 \n",
    "print('LGBMRegressor', result)"
   ]
  },
  {
   "cell_type": "markdown",
   "metadata": {},
   "source": [
    "**Вывод**\n",
    "\n",
    "Мы видим, что наибольшее качество, т.е. метрику RMSE показала модлель LGBMRegressor, при этом у данной модели самое значительное время обучения - более 10 минут, и время на предсказания - более 20 секунд. Представим полученные результаты в виде таблицы:"
   ]
  },
  {
   "cell_type": "code",
   "execution_count": 94,
   "metadata": {},
   "outputs": [
    {
     "data": {
      "text/html": [
       "<div>\n",
       "<style scoped>\n",
       "    .dataframe tbody tr th:only-of-type {\n",
       "        vertical-align: middle;\n",
       "    }\n",
       "\n",
       "    .dataframe tbody tr th {\n",
       "        vertical-align: top;\n",
       "    }\n",
       "\n",
       "    .dataframe thead th {\n",
       "        text-align: right;\n",
       "    }\n",
       "</style>\n",
       "<table border=\"1\" class=\"dataframe\">\n",
       "  <thead>\n",
       "    <tr style=\"text-align: right;\">\n",
       "      <th></th>\n",
       "      <th>Время обучения</th>\n",
       "      <th>Время предсказания</th>\n",
       "      <th>RMSE</th>\n",
       "    </tr>\n",
       "  </thead>\n",
       "  <tbody>\n",
       "    <tr>\n",
       "      <td>LinearRegression</td>\n",
       "      <td>1.54 s</td>\n",
       "      <td>20.3 ms</td>\n",
       "      <td>3842</td>\n",
       "    </tr>\n",
       "    <tr>\n",
       "      <td>DecisionTreeRegressor</td>\n",
       "      <td>1.29 s</td>\n",
       "      <td>33.2 ms</td>\n",
       "      <td>2096</td>\n",
       "    </tr>\n",
       "    <tr>\n",
       "      <td>RandomForestRegressor</td>\n",
       "      <td>55.8 s</td>\n",
       "      <td>698 ms</td>\n",
       "      <td>2105</td>\n",
       "    </tr>\n",
       "    <tr>\n",
       "      <td>LGBMRegressor</td>\n",
       "      <td>10min 57s</td>\n",
       "      <td>20.8 s</td>\n",
       "      <td>1901</td>\n",
       "    </tr>\n",
       "  </tbody>\n",
       "</table>\n",
       "</div>"
      ],
      "text/plain": [
       "                      Время обучения Время предсказания  RMSE\n",
       "LinearRegression              1.54 s            20.3 ms  3842\n",
       "DecisionTreeRegressor         1.29 s            33.2 ms  2096\n",
       "RandomForestRegressor         55.8 s             698 ms  2105\n",
       "LGBMRegressor              10min 57s             20.8 s  1901"
      ]
     },
     "metadata": {},
     "output_type": "display_data"
    }
   ],
   "source": [
    "display(pd.DataFrame([['1.54 s', '20.3 ms', '3842'], \n",
    "                    ['1.29 s', '33.2 ms', '2096'], \n",
    "                    ['55.8 s', '698 ms', '2105'],\n",
    "                    ['10min 57s', '20.8 s', '1901']], \n",
    "                     columns=[\"Время обучения\",\"Время предсказания\", \"RMSE\"],\n",
    "                    index = ['LinearRegression', 'DecisionTreeRegressor', 'RandomForestRegressor', 'LGBMRegressor']))"
   ]
  }
 ],
 "metadata": {
  "ExecuteTimeLog": [
   {
    "duration": 1273,
    "start_time": "2021-08-02T10:45:02.893Z"
   },
   {
    "duration": 1323,
    "start_time": "2021-08-02T10:45:04.169Z"
   },
   {
    "duration": 312,
    "start_time": "2021-08-02T12:22:10.294Z"
   },
   {
    "duration": 250,
    "start_time": "2021-08-02T12:22:17.254Z"
   },
   {
    "duration": 229,
    "start_time": "2021-08-02T12:22:25.602Z"
   },
   {
    "duration": 3,
    "start_time": "2021-08-02T12:22:49.810Z"
   },
   {
    "duration": 814,
    "start_time": "2021-08-02T12:22:49.814Z"
   },
   {
    "duration": 27,
    "start_time": "2021-08-02T12:22:50.630Z"
   },
   {
    "duration": 236,
    "start_time": "2021-08-02T12:24:12.089Z"
   },
   {
    "duration": 3,
    "start_time": "2021-08-02T12:24:19.614Z"
   },
   {
    "duration": 814,
    "start_time": "2021-08-02T12:24:19.628Z"
   },
   {
    "duration": 47,
    "start_time": "2021-08-02T12:24:20.444Z"
   },
   {
    "duration": 247,
    "start_time": "2021-08-02T12:24:26.061Z"
   },
   {
    "duration": 2,
    "start_time": "2021-08-02T12:24:29.943Z"
   },
   {
    "duration": 858,
    "start_time": "2021-08-02T12:24:29.947Z"
   },
   {
    "duration": 98,
    "start_time": "2021-08-02T12:24:30.806Z"
   },
   {
    "duration": 3,
    "start_time": "2021-08-02T12:27:30.295Z"
   },
   {
    "duration": 864,
    "start_time": "2021-08-02T12:27:30.299Z"
   },
   {
    "duration": 96,
    "start_time": "2021-08-02T12:27:31.165Z"
   },
   {
    "duration": 3,
    "start_time": "2021-08-02T12:27:58.382Z"
   },
   {
    "duration": 798,
    "start_time": "2021-08-02T12:27:58.386Z"
   },
   {
    "duration": 90,
    "start_time": "2021-08-02T12:27:59.186Z"
   },
   {
    "duration": 234,
    "start_time": "2021-08-02T12:30:37.501Z"
   },
   {
    "duration": 2,
    "start_time": "2021-08-02T12:30:40.407Z"
   },
   {
    "duration": 836,
    "start_time": "2021-08-02T12:30:40.425Z"
   },
   {
    "duration": 103,
    "start_time": "2021-08-02T12:30:41.262Z"
   },
   {
    "duration": 3,
    "start_time": "2021-08-02T12:32:09.439Z"
   },
   {
    "duration": 776,
    "start_time": "2021-08-02T12:32:09.443Z"
   },
   {
    "duration": 43,
    "start_time": "2021-08-02T12:32:10.221Z"
   },
   {
    "duration": 36,
    "start_time": "2021-08-02T14:02:14.078Z"
   },
   {
    "duration": 792,
    "start_time": "2021-08-02T14:02:14.116Z"
   },
   {
    "duration": 29,
    "start_time": "2021-08-02T14:02:14.910Z"
   },
   {
    "duration": 170,
    "start_time": "2021-08-02T14:02:14.941Z"
   },
   {
    "duration": 232,
    "start_time": "2021-08-02T14:02:15.113Z"
   },
   {
    "duration": 158,
    "start_time": "2021-08-02T14:02:15.189Z"
   },
   {
    "duration": 233,
    "start_time": "2021-08-02T14:03:50.089Z"
   },
   {
    "duration": 79,
    "start_time": "2021-08-02T14:03:57.277Z"
   },
   {
    "duration": 261,
    "start_time": "2021-08-02T14:06:14.455Z"
   },
   {
    "duration": 3,
    "start_time": "2021-08-02T14:19:32.629Z"
   },
   {
    "duration": 796,
    "start_time": "2021-08-02T14:19:32.634Z"
   },
   {
    "duration": 32,
    "start_time": "2021-08-02T14:19:33.432Z"
   },
   {
    "duration": 98,
    "start_time": "2021-08-02T14:19:33.465Z"
   },
   {
    "duration": 245,
    "start_time": "2021-08-02T14:19:33.564Z"
   },
   {
    "duration": 221,
    "start_time": "2021-08-02T14:19:33.810Z"
   },
   {
    "duration": 169,
    "start_time": "2021-08-02T14:19:33.864Z"
   },
   {
    "duration": 149,
    "start_time": "2021-08-02T14:19:33.885Z"
   },
   {
    "duration": 149,
    "start_time": "2021-08-02T14:19:33.886Z"
   },
   {
    "duration": 3,
    "start_time": "2021-08-02T14:20:02.390Z"
   },
   {
    "duration": 785,
    "start_time": "2021-08-02T14:20:02.395Z"
   },
   {
    "duration": 34,
    "start_time": "2021-08-02T14:20:03.182Z"
   },
   {
    "duration": 85,
    "start_time": "2021-08-02T14:20:03.218Z"
   },
   {
    "duration": 250,
    "start_time": "2021-08-02T14:20:03.305Z"
   },
   {
    "duration": 236,
    "start_time": "2021-08-02T14:20:03.557Z"
   },
   {
    "duration": 147,
    "start_time": "2021-08-02T14:20:03.648Z"
   },
   {
    "duration": 147,
    "start_time": "2021-08-02T14:20:03.649Z"
   },
   {
    "duration": 142,
    "start_time": "2021-08-02T14:20:03.656Z"
   },
   {
    "duration": 4,
    "start_time": "2021-08-02T14:25:31.035Z"
   },
   {
    "duration": 777,
    "start_time": "2021-08-02T14:25:31.043Z"
   },
   {
    "duration": 30,
    "start_time": "2021-08-02T14:25:31.822Z"
   },
   {
    "duration": 89,
    "start_time": "2021-08-02T14:25:31.853Z"
   },
   {
    "duration": 248,
    "start_time": "2021-08-02T14:25:31.943Z"
   },
   {
    "duration": 2,
    "start_time": "2021-08-02T14:25:32.193Z"
   },
   {
    "duration": 1451,
    "start_time": "2021-08-02T14:25:32.197Z"
   },
   {
    "duration": 80,
    "start_time": "2021-08-02T14:25:33.570Z"
   },
   {
    "duration": 74,
    "start_time": "2021-08-02T14:25:33.577Z"
   },
   {
    "duration": 74,
    "start_time": "2021-08-02T14:25:33.578Z"
   },
   {
    "duration": 3,
    "start_time": "2021-08-02T14:26:21.093Z"
   },
   {
    "duration": 52914,
    "start_time": "2021-08-02T14:26:23.734Z"
   },
   {
    "duration": 1639,
    "start_time": "2021-08-02T14:43:12.670Z"
   },
   {
    "duration": 1375,
    "start_time": "2021-08-02T14:43:30.747Z"
   },
   {
    "duration": 13998,
    "start_time": "2021-08-02T14:49:45.982Z"
   },
   {
    "duration": 13600,
    "start_time": "2021-08-02T14:50:25.280Z"
   },
   {
    "duration": 14186,
    "start_time": "2021-08-02T14:50:49.073Z"
   },
   {
    "duration": 4074,
    "start_time": "2021-08-02T14:51:09.627Z"
   },
   {
    "duration": 10553,
    "start_time": "2021-08-02T14:51:51.975Z"
   },
   {
    "duration": 11229,
    "start_time": "2021-08-02T14:52:35.688Z"
   },
   {
    "duration": 12886,
    "start_time": "2021-08-02T14:53:33.382Z"
   },
   {
    "duration": 20668,
    "start_time": "2021-08-02T14:54:53.902Z"
   },
   {
    "duration": 20210,
    "start_time": "2021-08-02T14:55:58.396Z"
   },
   {
    "duration": 20617,
    "start_time": "2021-08-02T14:56:32.694Z"
   },
   {
    "duration": 1044,
    "start_time": "2021-08-02T14:57:05.034Z"
   },
   {
    "duration": 10073,
    "start_time": "2021-08-02T14:57:19.183Z"
   },
   {
    "duration": 984,
    "start_time": "2021-08-02T15:15:53.262Z"
   },
   {
    "duration": 9497,
    "start_time": "2021-08-02T15:26:42.590Z"
   },
   {
    "duration": 10366,
    "start_time": "2021-08-02T15:28:27.592Z"
   },
   {
    "duration": 20792,
    "start_time": "2021-08-02T15:29:00.070Z"
   },
   {
    "duration": 14696,
    "start_time": "2021-08-02T15:29:54.487Z"
   },
   {
    "duration": 889,
    "start_time": "2021-08-02T15:30:27.391Z"
   },
   {
    "duration": 434093,
    "start_time": "2021-08-02T15:32:23.153Z"
   },
   {
    "duration": 107255,
    "start_time": "2021-08-02T15:40:56.002Z"
   },
   {
    "duration": 104816,
    "start_time": "2021-08-02T16:01:30.135Z"
   },
   {
    "duration": 138738,
    "start_time": "2021-08-02T16:03:55.087Z"
   },
   {
    "duration": 117933,
    "start_time": "2021-08-02T16:07:19.918Z"
   },
   {
    "duration": 229690,
    "start_time": "2021-08-02T16:09:45.023Z"
   },
   {
    "duration": 39390,
    "start_time": "2021-08-02T16:13:43.107Z"
   },
   {
    "duration": 1166,
    "start_time": "2021-08-02T16:21:11.826Z"
   },
   {
    "duration": 1117,
    "start_time": "2021-08-02T16:21:27.191Z"
   },
   {
    "duration": 1410,
    "start_time": "2021-08-03T07:29:16.923Z"
   },
   {
    "duration": 1400,
    "start_time": "2021-08-03T07:29:18.336Z"
   },
   {
    "duration": 65,
    "start_time": "2021-08-03T07:29:19.739Z"
   },
   {
    "duration": 139,
    "start_time": "2021-08-03T07:29:19.807Z"
   },
   {
    "duration": 426,
    "start_time": "2021-08-03T07:29:19.949Z"
   },
   {
    "duration": 93,
    "start_time": "2021-08-03T07:29:20.377Z"
   },
   {
    "duration": 535,
    "start_time": "2021-08-03T07:29:53.851Z"
   },
   {
    "duration": 29,
    "start_time": "2021-08-03T07:30:05.438Z"
   },
   {
    "duration": 187,
    "start_time": "2021-08-03T07:30:26.882Z"
   },
   {
    "duration": 8,
    "start_time": "2021-08-03T07:30:51.899Z"
   },
   {
    "duration": 9,
    "start_time": "2021-08-03T07:31:02.542Z"
   },
   {
    "duration": 1524,
    "start_time": "2021-08-03T07:34:05.043Z"
   },
   {
    "duration": 3831,
    "start_time": "2021-08-03T07:42:27.463Z"
   },
   {
    "duration": 246,
    "start_time": "2021-08-03T07:42:58.323Z"
   },
   {
    "duration": 14,
    "start_time": "2021-08-03T07:43:20.971Z"
   },
   {
    "duration": 216,
    "start_time": "2021-08-03T07:49:19.256Z"
   },
   {
    "duration": 115,
    "start_time": "2021-08-03T07:52:48.459Z"
   },
   {
    "duration": 6040,
    "start_time": "2021-08-03T07:55:14.051Z"
   },
   {
    "duration": 55714,
    "start_time": "2021-08-03T08:42:59.768Z"
   },
   {
    "duration": 306312,
    "start_time": "2021-08-03T08:48:17.819Z"
   },
   {
    "duration": 76362,
    "start_time": "2021-08-03T08:54:55.219Z"
   },
   {
    "duration": 34810,
    "start_time": "2021-08-03T08:56:45.379Z"
   },
   {
    "duration": 51948,
    "start_time": "2021-08-03T08:59:11.139Z"
   },
   {
    "duration": 62413,
    "start_time": "2021-08-03T09:00:36.371Z"
   },
   {
    "duration": 82668,
    "start_time": "2021-08-03T09:02:29.299Z"
   },
   {
    "duration": 133677,
    "start_time": "2021-08-03T09:04:10.722Z"
   },
   {
    "duration": 191638,
    "start_time": "2021-08-03T09:07:31.352Z"
   },
   {
    "duration": 293085,
    "start_time": "2021-08-03T09:11:22.923Z"
   },
   {
    "duration": 99039,
    "start_time": "2021-08-03T09:17:32.843Z"
   },
   {
    "duration": 184401,
    "start_time": "2021-08-03T09:19:32.604Z"
   },
   {
    "duration": 104821,
    "start_time": "2021-08-03T09:23:54.764Z"
   },
   {
    "duration": 222517,
    "start_time": "2021-08-03T09:25:56.052Z"
   },
   {
    "duration": 93080,
    "start_time": "2021-08-03T09:30:21.099Z"
   },
   {
    "duration": 105384,
    "start_time": "2021-08-03T09:34:27.909Z"
   },
   {
    "duration": 271838,
    "start_time": "2021-08-03T09:37:10.859Z"
   },
   {
    "duration": 199,
    "start_time": "2021-08-03T09:46:28.031Z"
   },
   {
    "duration": 1424,
    "start_time": "2021-08-03T09:46:45.355Z"
   },
   {
    "duration": 221,
    "start_time": "2021-08-03T09:46:59.732Z"
   },
   {
    "duration": 5,
    "start_time": "2021-08-03T09:48:24.105Z"
   },
   {
    "duration": 1279,
    "start_time": "2021-08-03T09:48:24.113Z"
   },
   {
    "duration": 72,
    "start_time": "2021-08-03T09:48:25.396Z"
   },
   {
    "duration": 115,
    "start_time": "2021-08-03T09:48:25.471Z"
   },
   {
    "duration": 360,
    "start_time": "2021-08-03T09:48:25.588Z"
   },
   {
    "duration": 1328,
    "start_time": "2021-08-03T09:48:25.950Z"
   },
   {
    "duration": 199,
    "start_time": "2021-08-03T09:48:27.366Z"
   },
   {
    "duration": 1404,
    "start_time": "2021-08-03T09:48:59.678Z"
   },
   {
    "duration": 1323,
    "start_time": "2021-08-03T09:50:27.450Z"
   },
   {
    "duration": 2341,
    "start_time": "2021-08-03T09:50:43.331Z"
   },
   {
    "duration": 1091,
    "start_time": "2021-08-03T09:51:10.019Z"
   },
   {
    "duration": 47068,
    "start_time": "2021-08-03T09:52:21.185Z"
   },
   {
    "duration": 95108,
    "start_time": "2021-08-03T09:54:35.498Z"
   },
   {
    "duration": 279,
    "start_time": "2021-08-03T09:57:21.123Z"
   },
   {
    "duration": 5,
    "start_time": "2021-08-03T09:58:28.131Z"
   },
   {
    "duration": 1461,
    "start_time": "2021-08-03T09:58:28.138Z"
   },
   {
    "duration": 84,
    "start_time": "2021-08-03T09:58:29.602Z"
   },
   {
    "duration": 151,
    "start_time": "2021-08-03T09:58:29.688Z"
   },
   {
    "duration": 391,
    "start_time": "2021-08-03T09:58:29.843Z"
   },
   {
    "duration": 1546,
    "start_time": "2021-08-03T09:58:30.237Z"
   },
   {
    "duration": 1587,
    "start_time": "2021-08-03T09:58:31.787Z"
   },
   {
    "duration": 5,
    "start_time": "2021-08-03T10:00:24.814Z"
   },
   {
    "duration": 1214,
    "start_time": "2021-08-03T10:00:24.821Z"
   },
   {
    "duration": 81,
    "start_time": "2021-08-03T10:00:26.038Z"
   },
   {
    "duration": 156,
    "start_time": "2021-08-03T10:00:26.122Z"
   },
   {
    "duration": 369,
    "start_time": "2021-08-03T10:00:26.281Z"
   },
   {
    "duration": 1412,
    "start_time": "2021-08-03T10:00:26.668Z"
   },
   {
    "duration": 13150,
    "start_time": "2021-08-03T10:00:28.084Z"
   },
   {
    "duration": 1316,
    "start_time": "2021-08-03T10:00:41.236Z"
   },
   {
    "duration": 282594,
    "start_time": "2021-08-03T10:00:42.557Z"
   },
   {
    "duration": 49025,
    "start_time": "2021-08-03T10:05:25.155Z"
   },
   {
    "duration": 1198194,
    "start_time": "2021-08-03T10:06:14.183Z"
   },
   {
    "duration": 113901,
    "start_time": "2021-08-03T10:26:12.380Z"
   },
   {
    "duration": 1396,
    "start_time": "2021-08-03T10:28:06.283Z"
   },
   {
    "duration": 1307,
    "start_time": "2021-08-03T10:28:07.682Z"
   },
   {
    "duration": 48617,
    "start_time": "2021-08-03T10:28:08.992Z"
   },
   {
    "duration": 249458,
    "start_time": "2021-08-03T10:28:57.611Z"
   },
   {
    "duration": 5,
    "start_time": "2021-08-03T14:50:54.946Z"
   },
   {
    "duration": 1397,
    "start_time": "2021-08-03T14:51:00.974Z"
   },
   {
    "duration": 82,
    "start_time": "2021-08-03T14:51:09.541Z"
   },
   {
    "duration": 165,
    "start_time": "2021-08-03T14:51:16.233Z"
   },
   {
    "duration": 410,
    "start_time": "2021-08-03T14:51:23.331Z"
   },
   {
    "duration": 1549,
    "start_time": "2021-08-03T14:51:35.041Z"
   },
   {
    "duration": 26,
    "start_time": "2021-08-03T14:51:42.451Z"
   },
   {
    "duration": 1296,
    "start_time": "2021-08-03T14:52:33.629Z"
   },
   {
    "duration": 39,
    "start_time": "2021-08-03T14:52:44.450Z"
   },
   {
    "duration": 55845,
    "start_time": "2021-08-03T14:54:29.498Z"
   },
   {
    "duration": 704,
    "start_time": "2021-08-03T14:55:51.073Z"
   },
   {
    "duration": 657786,
    "start_time": "2021-08-03T14:56:53.113Z"
   },
   {
    "duration": 20789,
    "start_time": "2021-08-03T15:08:46.640Z"
   },
   {
    "duration": 9,
    "start_time": "2021-08-03T15:10:46.379Z"
   },
   {
    "duration": 18,
    "start_time": "2021-08-03T15:11:11.860Z"
   },
   {
    "duration": 12,
    "start_time": "2021-08-03T15:13:25.383Z"
   },
   {
    "duration": 12,
    "start_time": "2021-08-03T15:13:37.298Z"
   },
   {
    "duration": 13,
    "start_time": "2021-08-03T15:14:56.306Z"
   },
   {
    "duration": 14,
    "start_time": "2021-08-03T15:15:10.974Z"
   }
  ],
  "kernelspec": {
   "display_name": "Python 3",
   "language": "python",
   "name": "python3"
  },
  "language_info": {
   "codemirror_mode": {
    "name": "ipython",
    "version": 3
   },
   "file_extension": ".py",
   "mimetype": "text/x-python",
   "name": "python",
   "nbconvert_exporter": "python",
   "pygments_lexer": "ipython3",
   "version": "3.7.8"
  },
  "toc": {
   "base_numbering": 1,
   "nav_menu": {},
   "number_sections": true,
   "sideBar": true,
   "skip_h1_title": true,
   "title_cell": "Table of Contents",
   "title_sidebar": "Contents",
   "toc_cell": false,
   "toc_position": {},
   "toc_section_display": true,
   "toc_window_display": false
  }
 },
 "nbformat": 4,
 "nbformat_minor": 2
}
