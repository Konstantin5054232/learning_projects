{
 "cells": [
  {
   "cell_type": "markdown",
   "metadata": {},
   "source": [
    "#  Прогнозирование заказов такси"
   ]
  },
  {
   "cell_type": "markdown",
   "metadata": {},
   "source": [
    "Таксопарк собрал исторические данные о заказах такси в аэропортах. Чтобы привлекать больше водителей в период пиковой нагрузки, нужно спрогнозировать количество заказов такси на следующий час. Необходимо построить модель для такого предсказания."
   ]
  },
  {
   "cell_type": "markdown",
   "metadata": {},
   "source": [
    "## Подготовка"
   ]
  },
  {
   "cell_type": "code",
   "execution_count": 1,
   "metadata": {},
   "outputs": [],
   "source": [
    "import pandas as pd\n",
    "import numpy as np\n",
    "from sklearn.model_selection import train_test_split\n",
    "from sklearn.linear_model import LinearRegression\n",
    "from sklearn.tree import DecisionTreeRegressor\n",
    "from sklearn.ensemble import RandomForestRegressor\n",
    "from sklearn.metrics import mean_squared_error\n",
    "from statsmodels.tsa.seasonal import seasonal_decompose\n",
    "import matplotlib.pyplot as plt\n",
    "from sklearn.model_selection import GridSearchCV\n",
    "from sklearn.metrics.scorer import make_scorer\n",
    "from sklearn.model_selection import TimeSeriesSplit"
   ]
  },
  {
   "cell_type": "code",
   "execution_count": 2,
   "metadata": {},
   "outputs": [
    {
     "name": "stdout",
     "output_type": "stream",
     "text": [
      "<class 'pandas.core.frame.DataFrame'>\n",
      "DatetimeIndex: 26496 entries, 2018-03-01 00:00:00 to 2018-08-31 23:50:00\n",
      "Data columns (total 1 columns):\n",
      "num_orders    26496 non-null int64\n",
      "dtypes: int64(1)\n",
      "memory usage: 414.0 KB\n"
     ]
    },
    {
     "data": {
      "text/plain": [
       "(26496, 1)"
      ]
     },
     "metadata": {},
     "output_type": "display_data"
    },
    {
     "data": {
      "text/html": [
       "<div>\n",
       "<style scoped>\n",
       "    .dataframe tbody tr th:only-of-type {\n",
       "        vertical-align: middle;\n",
       "    }\n",
       "\n",
       "    .dataframe tbody tr th {\n",
       "        vertical-align: top;\n",
       "    }\n",
       "\n",
       "    .dataframe thead th {\n",
       "        text-align: right;\n",
       "    }\n",
       "</style>\n",
       "<table border=\"1\" class=\"dataframe\">\n",
       "  <thead>\n",
       "    <tr style=\"text-align: right;\">\n",
       "      <th></th>\n",
       "      <th>num_orders</th>\n",
       "    </tr>\n",
       "    <tr>\n",
       "      <th>datetime</th>\n",
       "      <th></th>\n",
       "    </tr>\n",
       "  </thead>\n",
       "  <tbody>\n",
       "    <tr>\n",
       "      <td>2018-03-01 00:00:00</td>\n",
       "      <td>9</td>\n",
       "    </tr>\n",
       "    <tr>\n",
       "      <td>2018-03-01 00:10:00</td>\n",
       "      <td>14</td>\n",
       "    </tr>\n",
       "    <tr>\n",
       "      <td>2018-03-01 00:20:00</td>\n",
       "      <td>28</td>\n",
       "    </tr>\n",
       "    <tr>\n",
       "      <td>2018-03-01 00:30:00</td>\n",
       "      <td>20</td>\n",
       "    </tr>\n",
       "    <tr>\n",
       "      <td>2018-03-01 00:40:00</td>\n",
       "      <td>32</td>\n",
       "    </tr>\n",
       "    <tr>\n",
       "      <td>...</td>\n",
       "      <td>...</td>\n",
       "    </tr>\n",
       "    <tr>\n",
       "      <td>2018-08-31 23:10:00</td>\n",
       "      <td>32</td>\n",
       "    </tr>\n",
       "    <tr>\n",
       "      <td>2018-08-31 23:20:00</td>\n",
       "      <td>24</td>\n",
       "    </tr>\n",
       "    <tr>\n",
       "      <td>2018-08-31 23:30:00</td>\n",
       "      <td>27</td>\n",
       "    </tr>\n",
       "    <tr>\n",
       "      <td>2018-08-31 23:40:00</td>\n",
       "      <td>39</td>\n",
       "    </tr>\n",
       "    <tr>\n",
       "      <td>2018-08-31 23:50:00</td>\n",
       "      <td>53</td>\n",
       "    </tr>\n",
       "  </tbody>\n",
       "</table>\n",
       "<p>26496 rows × 1 columns</p>\n",
       "</div>"
      ],
      "text/plain": [
       "                     num_orders\n",
       "datetime                       \n",
       "2018-03-01 00:00:00           9\n",
       "2018-03-01 00:10:00          14\n",
       "2018-03-01 00:20:00          28\n",
       "2018-03-01 00:30:00          20\n",
       "2018-03-01 00:40:00          32\n",
       "...                         ...\n",
       "2018-08-31 23:10:00          32\n",
       "2018-08-31 23:20:00          24\n",
       "2018-08-31 23:30:00          27\n",
       "2018-08-31 23:40:00          39\n",
       "2018-08-31 23:50:00          53\n",
       "\n",
       "[26496 rows x 1 columns]"
      ]
     },
     "metadata": {},
     "output_type": "display_data"
    },
    {
     "data": {
      "text/plain": [
       "<matplotlib.axes._subplots.AxesSubplot at 0x7fc97abf5c10>"
      ]
     },
     "execution_count": 2,
     "metadata": {},
     "output_type": "execute_result"
    },
    {
     "data": {
      "image/png": "[encoded data removed]",
      "text/plain": [
       "<Figure size 1080x360 with 1 Axes>"
      ]
     },
     "metadata": {
      "needs_background": "light"
     },
     "output_type": "display_data"
    }
   ],
   "source": [
    "df = pd.read_csv('/datasets/taxi.csv', index_col=[0], parse_dates=[0])\n",
    "\n",
    "df.info()\n",
    "display(df.shape)\n",
    "display(df)\n",
    "df.plot(figsize=(15, 5))"
   ]
  },
  {
   "cell_type": "code",
   "execution_count": 3,
   "metadata": {},
   "outputs": [],
   "source": [
    "df.sort_index(inplace=True)\n",
    "df_1 = df.resample('1D').sum()"
   ]
  },
  {
   "cell_type": "code",
   "execution_count": 4,
   "metadata": {},
   "outputs": [
    {
     "data": {
      "text/plain": [
       "Text(0.5, 1.0, 'Trend')"
      ]
     },
     "execution_count": 4,
     "metadata": {},
     "output_type": "execute_result"
    },
    {
     "data": {
      "image/png": "[encoded data removed]",
      "text/plain": [
       "<Figure size 1080x360 with 1 Axes>"
      ]
     },
     "metadata": {
      "needs_background": "light"
     },
     "output_type": "display_data"
    }
   ],
   "source": [
    "decomposed = seasonal_decompose(df_1)\n",
    "decomposed.trend.plot(figsize=(15, 5))\n",
    "plt.title('Trend')"
   ]
  },
  {
   "cell_type": "code",
   "execution_count": 5,
   "metadata": {},
   "outputs": [
    {
     "data": {
      "text/plain": [
       "Text(0.5, 1.0, 'Seasonality')"
      ]
     },
     "execution_count": 5,
     "metadata": {},
     "output_type": "execute_result"
    },
    {
     "data": {
      "image/png": "[encoded data removed]",
      "text/plain": [
       "<Figure size 1080x360 with 1 Axes>"
      ]
     },
     "metadata": {
      "needs_background": "light"
     },
     "output_type": "display_data"
    }
   ],
   "source": [
    "decomposed = seasonal_decompose(df_1)\n",
    "decomposed.seasonal.plot(figsize=(15, 5))\n",
    "plt.title('Seasonality')"
   ]
  },
  {
   "cell_type": "code",
   "execution_count": 6,
   "metadata": {},
   "outputs": [
    {
     "data": {
      "text/plain": [
       "Text(0.5, 1.0, 'Seasonality')"
      ]
     },
     "execution_count": 6,
     "metadata": {},
     "output_type": "execute_result"
    },
    {
     "data": {
      "image/png": "[encoded data removed]",
      "text/plain": [
       "<Figure size 1080x360 with 1 Axes>"
      ]
     },
     "metadata": {
      "needs_background": "light"
     },
     "output_type": "display_data"
    }
   ],
   "source": [
    "decomposed = seasonal_decompose(df_1)\n",
    "decomposed.seasonal['2018-07-01':'2018-07-31'].plot(figsize=(15, 5))\n",
    "plt.title('Seasonality')"
   ]
  },
  {
   "cell_type": "code",
   "execution_count": 7,
   "metadata": {},
   "outputs": [
    {
     "data": {
      "text/plain": [
       "Text(0.5, 1.0, 'Trend')"
      ]
     },
     "execution_count": 7,
     "metadata": {},
     "output_type": "execute_result"
    },
    {
     "data": {
      "image/png": "[encoded data removed]",
      "text/plain": [
       "<Figure size 1080x360 with 1 Axes>"
      ]
     },
     "metadata": {
      "needs_background": "light"
     },
     "output_type": "display_data"
    }
   ],
   "source": [
    "decomposed = seasonal_decompose(df_1)\n",
    "decomposed.resid.plot(figsize=(15, 5))\n",
    "plt.title('Trend')"
   ]
  },
  {
   "cell_type": "markdown",
   "metadata": {},
   "source": [
    "**ВЫВОД**\n",
    "\n",
    "Проанализировав график тренда мы видим, что количество заказов такси, начиная с апреля, заметно увеличивается, особенно в августе. Это может быть связано с наступлением сезона отпусков и ростом активности начеления по перемещению. График сезонности показывает нам зависимость между количеством заказов такси и днями недели. Более подробно проанализируем сезонность, построив график по июлю.\n",
    "\n",
    "Мы видим, что больше всего заказов такси происходит в пятницу и понедельник, а меньше всего во втроник. Скорее всего это связано с перемещением пассажиров на выходные дни."
   ]
  },
  {
   "cell_type": "markdown",
   "metadata": {},
   "source": [
    "## Анализ"
   ]
  },
  {
   "cell_type": "code",
   "execution_count": 8,
   "metadata": {},
   "outputs": [],
   "source": [
    "df = df.resample('1H').sum()\n",
    "df['rolling_mean'] = df.rolling(10).mean()"
   ]
  },
  {
   "cell_type": "markdown",
   "metadata": {},
   "source": [
    "Напишем функцию создания признаков для улучшения качества работы моделей."
   ]
  },
  {
   "cell_type": "code",
   "execution_count": 9,
   "metadata": {},
   "outputs": [],
   "source": [
    "def make_features(data, max_lag, rolling_mean_size):\n",
    "    data['hour'] = data.index.hour\n",
    "    data['month'] = data.index.month\n",
    "    data['day'] = data.index.day\n",
    "    data['dayofweek'] = data.index.dayofweek\n",
    "    \n",
    "    \n",
    "    for lag in range(1, max_lag + 1):\n",
    "        data['lag_{}'.format(lag)] = data['num_orders'].shift(lag)\n",
    "\n",
    "    data['rolling_mean'] = data['num_orders'].shift().rolling(rolling_mean_size).mean()\n",
    "    return data"
   ]
  },
  {
   "cell_type": "markdown",
   "metadata": {},
   "source": [
    "## Обучение"
   ]
  },
  {
   "cell_type": "markdown",
   "metadata": {},
   "source": [
    "Запустим функцию make_features, разделим данные на обучающую и тестовую выборки"
   ]
  },
  {
   "cell_type": "code",
   "execution_count": 10,
   "metadata": {},
   "outputs": [],
   "source": [
    "make_features(df, 6, 10)\n",
    "\n",
    "train, test = train_test_split(df, shuffle=False, test_size=0.1)\n",
    "train = train.dropna()\n",
    "\n",
    "features_train = train.drop(['num_orders'], axis=1)\n",
    "target_train = train['num_orders']\n",
    "\n",
    "features_test = test.drop(['num_orders'], axis=1)\n",
    "target_test = test['num_orders']"
   ]
  },
  {
   "cell_type": "markdown",
   "metadata": {},
   "source": [
    "Обучим разные модели и подберем оптимальные гиперпараметры"
   ]
  },
  {
   "cell_type": "code",
   "execution_count": 11,
   "metadata": {},
   "outputs": [
    {
     "name": "stdout",
     "output_type": "stream",
     "text": [
      "RMSE обучающей выборки:  30.48000710682953\n"
     ]
    }
   ],
   "source": [
    "model = LinearRegression() \n",
    "model.fit(features_train, target_train)\n",
    "predictions = model.predict(features_train)\n",
    "\n",
    "print(\"RMSE обучающей выборки: \", mean_squared_error(target_train, predictions)**0.5)"
   ]
  },
  {
   "cell_type": "code",
   "execution_count": 12,
   "metadata": {},
   "outputs": [
    {
     "name": "stdout",
     "output_type": "stream",
     "text": [
      "best_depth:  30 RMSE обучающей выборки:  0.0\n"
     ]
    }
   ],
   "source": [
    "best_result = 100\n",
    "best_depth = 0\n",
    "for depth in range(30, 50):\n",
    "    model = DecisionTreeRegressor(max_depth=depth, random_state=12345)\n",
    "    model.fit(features_train, target_train)\n",
    "    predictions = model.predict(features_train)\n",
    "    result = mean_squared_error(target_train, predictions) ** 0.5\n",
    "    if result < best_result:\n",
    "        best_result = result\n",
    "        best_depth = depth\n",
    "    \n",
    "print('best_depth: ', best_depth, 'RMSE обучающей выборки: ', best_result)"
   ]
  },
  {
   "cell_type": "code",
   "execution_count": 13,
   "metadata": {},
   "outputs": [
    {
     "name": "stdout",
     "output_type": "stream",
     "text": [
      "best_est:  60 best_depth:  30 RMSE обучающей выборки:  8.693000896733725\n"
     ]
    }
   ],
   "source": [
    "best_result = 100\n",
    "best_est = 0\n",
    "best_depth = 0\n",
    "for est in range(40, 61, 10):\n",
    "    for depth in range (10, 51, 10):\n",
    "        model = RandomForestRegressor(random_state=12345, n_estimators=est, max_depth=depth)\n",
    "        model.fit(features_train, target_train) \n",
    "        predictions = model.predict(features_train) \n",
    "        result = mean_squared_error(target_train, predictions)**0.5 \n",
    "        if result < best_result:\n",
    "            best_result = result\n",
    "            best_est = est\n",
    "            best_depth = depth\n",
    "            \n",
    "print('best_est: ', best_est, 'best_depth: ', best_depth, 'RMSE обучающей выборки: ', best_result)"
   ]
  },
  {
   "cell_type": "code",
   "execution_count": 14,
   "metadata": {},
   "outputs": [
    {
     "data": {
      "text/plain": [
       "{'max_depth': 34}"
      ]
     },
     "metadata": {},
     "output_type": "display_data"
    },
    {
     "data": {
      "text/plain": [
       "-36.12153623112571"
      ]
     },
     "metadata": {},
     "output_type": "display_data"
    }
   ],
   "source": [
    "tscv = TimeSeriesSplit(n_splits=3)\n",
    "\n",
    "def metric(target, predict): \n",
    "    return mean_squared_error(target, predict)**0.5\n",
    "\n",
    "my_metric = make_scorer(metric, greater_is_better=False)\n",
    "\n",
    "model = DecisionTreeRegressor()\n",
    "parameters = {'max_depth':[30, 31, 32, 33, 34]}\n",
    " \n",
    "grid = GridSearchCV(model, parameters, cv = tscv, scoring = my_metric)\n",
    "grid.fit(features_train, target_train)\n",
    "\n",
    "display(grid.best_params_)\n",
    "display(grid.best_score_)"
   ]
  },
  {
   "cell_type": "code",
   "execution_count": 15,
   "metadata": {},
   "outputs": [
    {
     "name": "stderr",
     "output_type": "stream",
     "text": [
      "/opt/conda/lib/python3.7/site-packages/sklearn/ensemble/forest.py:245: FutureWarning: The default value of n_estimators will change from 10 in version 0.20 to 100 in 0.22.\n",
      "  \"10 in version 0.20 to 100 in 0.22.\", FutureWarning)\n",
      "/opt/conda/lib/python3.7/site-packages/sklearn/ensemble/forest.py:245: FutureWarning: The default value of n_estimators will change from 10 in version 0.20 to 100 in 0.22.\n",
      "  \"10 in version 0.20 to 100 in 0.22.\", FutureWarning)\n",
      "/opt/conda/lib/python3.7/site-packages/sklearn/ensemble/forest.py:245: FutureWarning: The default value of n_estimators will change from 10 in version 0.20 to 100 in 0.22.\n",
      "  \"10 in version 0.20 to 100 in 0.22.\", FutureWarning)\n",
      "/opt/conda/lib/python3.7/site-packages/sklearn/ensemble/forest.py:245: FutureWarning: The default value of n_estimators will change from 10 in version 0.20 to 100 in 0.22.\n",
      "  \"10 in version 0.20 to 100 in 0.22.\", FutureWarning)\n",
      "/opt/conda/lib/python3.7/site-packages/sklearn/ensemble/forest.py:245: FutureWarning: The default value of n_estimators will change from 10 in version 0.20 to 100 in 0.22.\n",
      "  \"10 in version 0.20 to 100 in 0.22.\", FutureWarning)\n",
      "/opt/conda/lib/python3.7/site-packages/sklearn/ensemble/forest.py:245: FutureWarning: The default value of n_estimators will change from 10 in version 0.20 to 100 in 0.22.\n",
      "  \"10 in version 0.20 to 100 in 0.22.\", FutureWarning)\n",
      "/opt/conda/lib/python3.7/site-packages/sklearn/ensemble/forest.py:245: FutureWarning: The default value of n_estimators will change from 10 in version 0.20 to 100 in 0.22.\n",
      "  \"10 in version 0.20 to 100 in 0.22.\", FutureWarning)\n",
      "/opt/conda/lib/python3.7/site-packages/sklearn/ensemble/forest.py:245: FutureWarning: The default value of n_estimators will change from 10 in version 0.20 to 100 in 0.22.\n",
      "  \"10 in version 0.20 to 100 in 0.22.\", FutureWarning)\n",
      "/opt/conda/lib/python3.7/site-packages/sklearn/ensemble/forest.py:245: FutureWarning: The default value of n_estimators will change from 10 in version 0.20 to 100 in 0.22.\n",
      "  \"10 in version 0.20 to 100 in 0.22.\", FutureWarning)\n",
      "/opt/conda/lib/python3.7/site-packages/sklearn/ensemble/forest.py:245: FutureWarning: The default value of n_estimators will change from 10 in version 0.20 to 100 in 0.22.\n",
      "  \"10 in version 0.20 to 100 in 0.22.\", FutureWarning)\n",
      "/opt/conda/lib/python3.7/site-packages/sklearn/ensemble/forest.py:245: FutureWarning: The default value of n_estimators will change from 10 in version 0.20 to 100 in 0.22.\n",
      "  \"10 in version 0.20 to 100 in 0.22.\", FutureWarning)\n",
      "/opt/conda/lib/python3.7/site-packages/sklearn/ensemble/forest.py:245: FutureWarning: The default value of n_estimators will change from 10 in version 0.20 to 100 in 0.22.\n",
      "  \"10 in version 0.20 to 100 in 0.22.\", FutureWarning)\n",
      "/opt/conda/lib/python3.7/site-packages/sklearn/ensemble/forest.py:245: FutureWarning: The default value of n_estimators will change from 10 in version 0.20 to 100 in 0.22.\n",
      "  \"10 in version 0.20 to 100 in 0.22.\", FutureWarning)\n",
      "/opt/conda/lib/python3.7/site-packages/sklearn/ensemble/forest.py:245: FutureWarning: The default value of n_estimators will change from 10 in version 0.20 to 100 in 0.22.\n",
      "  \"10 in version 0.20 to 100 in 0.22.\", FutureWarning)\n",
      "/opt/conda/lib/python3.7/site-packages/sklearn/ensemble/forest.py:245: FutureWarning: The default value of n_estimators will change from 10 in version 0.20 to 100 in 0.22.\n",
      "  \"10 in version 0.20 to 100 in 0.22.\", FutureWarning)\n",
      "/opt/conda/lib/python3.7/site-packages/sklearn/ensemble/forest.py:245: FutureWarning: The default value of n_estimators will change from 10 in version 0.20 to 100 in 0.22.\n",
      "  \"10 in version 0.20 to 100 in 0.22.\", FutureWarning)\n"
     ]
    },
    {
     "data": {
      "text/plain": [
       "{'max_depth': 30}"
      ]
     },
     "metadata": {},
     "output_type": "display_data"
    },
    {
     "data": {
      "text/plain": [
       "-28.22317015680149"
      ]
     },
     "metadata": {},
     "output_type": "display_data"
    }
   ],
   "source": [
    "tscv = TimeSeriesSplit(n_splits=3)\n",
    "\n",
    "def metric(target, predict): \n",
    "    return mean_squared_error(target, predict)**0.5\n",
    "\n",
    "my_metric = make_scorer(metric, greater_is_better=False)\n",
    "\n",
    "model = RandomForestRegressor()\n",
    "parametrs = { 'n_estimators': range (50, 60, 70),\n",
    "              'max_depth': range (30, 40, 50) }\n",
    " \n",
    "grid = GridSearchCV(model, parameters, cv = tscv, scoring = my_metric)\n",
    "grid.fit(features_train, target_train)\n",
    "\n",
    "display(grid.best_params_)\n",
    "display(grid.best_score_)"
   ]
  },
  {
   "cell_type": "markdown",
   "metadata": {},
   "source": [
    "## Тестирование"
   ]
  },
  {
   "cell_type": "markdown",
   "metadata": {},
   "source": [
    "Проверим качество работы моделей на тестовой выборке."
   ]
  },
  {
   "cell_type": "code",
   "execution_count": 16,
   "metadata": {},
   "outputs": [
    {
     "name": "stdout",
     "output_type": "stream",
     "text": [
      "RMSE тестовой выборки LinearRegression:  53.1632088605757\n"
     ]
    }
   ],
   "source": [
    "model = LinearRegression() \n",
    "model.fit(features_train, target_train)\n",
    "predictions = model.predict(features_test)\n",
    "\n",
    "print(\"RMSE тестовой выборки LinearRegression: \", mean_squared_error(target_test, predictions)**0.5)"
   ]
  },
  {
   "cell_type": "code",
   "execution_count": 17,
   "metadata": {},
   "outputs": [
    {
     "name": "stdout",
     "output_type": "stream",
     "text": [
      "RMSE тестовой выборки DecisionTreeRegressor:  60.00656072728\n"
     ]
    }
   ],
   "source": [
    "model = DecisionTreeRegressor(max_depth=32, random_state=12345)\n",
    "model.fit(features_train, target_train)\n",
    "predictions = model.predict(features_test)\n",
    "\n",
    "print(\"RMSE тестовой выборки DecisionTreeRegressor: \", mean_squared_error(target_test, predictions)**0.5)"
   ]
  },
  {
   "cell_type": "code",
   "execution_count": 18,
   "metadata": {},
   "outputs": [
    {
     "name": "stdout",
     "output_type": "stream",
     "text": [
      "RMSE тестовой выборки RandomForestRegressor:  45.86941069472275\n"
     ]
    }
   ],
   "source": [
    "model = RandomForestRegressor(random_state=12345, n_estimators=60, max_depth=40)\n",
    "model.fit(features_train, target_train) \n",
    "predictions = model.predict(features_test) \n",
    "print(\"RMSE тестовой выборки RandomForestRegressor: \", mean_squared_error(target_test, predictions)**0.5)"
   ]
  },
  {
   "cell_type": "code",
   "execution_count": 19,
   "metadata": {},
   "outputs": [
    {
     "data": {
      "text/plain": [
       "<matplotlib.axes._subplots.AxesSubplot at 0x7fc97244a1d0>"
      ]
     },
     "execution_count": 19,
     "metadata": {},
     "output_type": "execute_result"
    },
    {
     "data": {
      "image/png": "[encoded data removed]",
      "text/plain": [
       "<Figure size 1080x360 with 1 Axes>"
      ]
     },
     "metadata": {
      "needs_background": "light"
     },
     "output_type": "display_data"
    }
   ],
   "source": [
    "pd.DataFrame({'predictions': predictions, 'targets': target_test}, \n",
    "             index = target_test.index).resample('1H').sum().plot(figsize=(15, 5))"
   ]
  },
  {
   "cell_type": "markdown",
   "metadata": {},
   "source": [
    "**ВЫВОД**\n",
    "\n",
    "Лучше всего на тестовой выборке себя показала модель RandomForestRegressor. Нам удалось достичь целевого показателя RMSE. Теперь мы можем прогнозировать необходимое количество водителей такси у аэропорта в час пик.\n",
    "\n",
    "Предварительный анализ данных позволяет нам определить дни пиковой нагрузки в зависимости от сезона, дня недели и времени суток. Эта работа позволит увеличить прибыль организаций, предоставлящих услуги такси, т.к. в при наибольшим спросе можно направить в аэропорт больше автомобилей или перераспредлить их на другие объекты при снижении спроса."
   ]
  }
 ],
 "metadata": {
  "ExecuteTimeLog": [
   {
    "duration": 1404,
    "start_time": "2021-08-10T09:14:48.146Z"
   },
   {
    "duration": 92,
    "start_time": "2021-08-10T09:14:49.552Z"
   },
   {
    "duration": 4,
    "start_time": "2021-08-10T09:14:52.542Z"
   },
   {
    "duration": 56,
    "start_time": "2021-08-10T09:14:52.549Z"
   },
   {
    "duration": 56,
    "start_time": "2021-08-10T09:15:57.586Z"
   },
   {
    "duration": 17,
    "start_time": "2021-08-10T09:17:17.520Z"
   },
   {
    "duration": 15,
    "start_time": "2021-08-10T09:17:33.754Z"
   },
   {
    "duration": 59,
    "start_time": "2021-08-10T09:19:29.573Z"
   },
   {
    "duration": 57,
    "start_time": "2021-08-10T09:24:22.988Z"
   },
   {
    "duration": 16,
    "start_time": "2021-08-10T09:24:29.836Z"
   },
   {
    "duration": 6368,
    "start_time": "2021-08-10T09:26:01.227Z"
   },
   {
    "duration": 181,
    "start_time": "2021-08-10T09:26:36.187Z"
   },
   {
    "duration": 124,
    "start_time": "2021-08-10T09:27:21.349Z"
   },
   {
    "duration": 129,
    "start_time": "2021-08-10T09:28:05.842Z"
   },
   {
    "duration": 269,
    "start_time": "2021-08-10T10:13:58.256Z"
   },
   {
    "duration": 360,
    "start_time": "2021-08-10T10:14:35.388Z"
   },
   {
    "duration": 648,
    "start_time": "2021-08-10T10:17:22.884Z"
   },
   {
    "duration": 403,
    "start_time": "2021-08-10T10:19:41.674Z"
   },
   {
    "duration": 1417,
    "start_time": "2021-08-10T15:11:55.146Z"
   },
   {
    "duration": 73,
    "start_time": "2021-08-10T15:11:56.565Z"
   },
   {
    "duration": 472,
    "start_time": "2021-08-10T15:11:56.641Z"
   },
   {
    "duration": 47,
    "start_time": "2021-08-10T15:11:57.069Z"
   },
   {
    "duration": 46,
    "start_time": "2021-08-10T15:11:57.071Z"
   },
   {
    "duration": 4,
    "start_time": "2021-08-10T15:12:11.894Z"
   },
   {
    "duration": 65,
    "start_time": "2021-08-10T15:12:11.900Z"
   },
   {
    "duration": 16,
    "start_time": "2021-08-10T15:12:11.968Z"
   },
   {
    "duration": 80,
    "start_time": "2021-08-10T15:12:11.986Z"
   },
   {
    "duration": 408,
    "start_time": "2021-08-10T15:12:12.157Z"
   },
   {
    "duration": 394,
    "start_time": "2021-08-10T15:15:59.516Z"
   },
   {
    "duration": 399,
    "start_time": "2021-08-10T15:16:08.275Z"
   },
   {
    "duration": 389,
    "start_time": "2021-08-10T15:16:13.872Z"
   },
   {
    "duration": 380,
    "start_time": "2021-08-10T15:16:20.840Z"
   },
   {
    "duration": 390,
    "start_time": "2021-08-10T15:16:27.740Z"
   },
   {
    "duration": 401,
    "start_time": "2021-08-10T15:16:33.900Z"
   },
   {
    "duration": 1384,
    "start_time": "2021-08-10T15:17:07.892Z"
   },
   {
    "duration": 8168,
    "start_time": "2021-08-10T15:17:35.180Z"
   },
   {
    "duration": 1494,
    "start_time": "2021-08-10T15:19:04.892Z"
   },
   {
    "duration": 181396,
    "start_time": "2021-08-10T15:19:39.919Z"
   },
   {
    "duration": 18551,
    "start_time": "2021-08-10T15:23:04.262Z"
   },
   {
    "duration": 41,
    "start_time": "2021-08-10T15:23:43.844Z"
   },
   {
    "duration": 71,
    "start_time": "2021-08-10T15:23:56.388Z"
   },
   {
    "duration": 95,
    "start_time": "2021-08-10T15:25:27.268Z"
   },
   {
    "duration": 38066,
    "start_time": "2021-08-10T15:28:35.704Z"
   },
   {
    "duration": 39100,
    "start_time": "2021-08-10T15:34:03.757Z"
   },
   {
    "duration": 76,
    "start_time": "2021-08-10T15:35:48.788Z"
   },
   {
    "duration": 83,
    "start_time": "2021-08-10T15:36:17.812Z"
   },
   {
    "duration": 22156,
    "start_time": "2021-08-10T15:36:29.251Z"
   },
   {
    "duration": 28716,
    "start_time": "2021-08-10T15:37:21.292Z"
   },
   {
    "duration": 41065,
    "start_time": "2021-08-10T15:37:59.293Z"
   },
   {
    "duration": 30823,
    "start_time": "2021-08-10T15:38:48.321Z"
   },
   {
    "duration": 38,
    "start_time": "2021-08-10T15:45:33.444Z"
   },
   {
    "duration": 33,
    "start_time": "2021-08-10T15:46:12.585Z"
   },
   {
    "duration": 32,
    "start_time": "2021-08-10T15:46:22.025Z"
   },
   {
    "duration": 68,
    "start_time": "2021-08-10T15:46:59.595Z"
   },
   {
    "duration": 99,
    "start_time": "2021-08-10T15:47:56.858Z"
   },
   {
    "duration": 116,
    "start_time": "2021-08-10T15:48:07.748Z"
   },
   {
    "duration": 101,
    "start_time": "2021-08-10T15:48:22.956Z"
   },
   {
    "duration": 137,
    "start_time": "2021-08-10T15:49:52.620Z"
   },
   {
    "duration": 166,
    "start_time": "2021-08-10T15:50:04.789Z"
   },
   {
    "duration": 132,
    "start_time": "2021-08-10T15:50:54.728Z"
   },
   {
    "duration": 636,
    "start_time": "2021-08-10T15:54:07.179Z"
   },
   {
    "duration": 56,
    "start_time": "2021-08-10T15:54:58.139Z"
   },
   {
    "duration": 43,
    "start_time": "2021-08-10T15:55:11.916Z"
   },
   {
    "duration": 22,
    "start_time": "2021-08-10T15:55:18.983Z"
   },
   {
    "duration": 26,
    "start_time": "2021-08-10T15:55:27.340Z"
   },
   {
    "duration": 32,
    "start_time": "2021-08-10T15:55:40.142Z"
   },
   {
    "duration": 36,
    "start_time": "2021-08-10T15:55:46.372Z"
   },
   {
    "duration": 40,
    "start_time": "2021-08-10T15:55:52.381Z"
   },
   {
    "duration": 46,
    "start_time": "2021-08-10T15:56:03.835Z"
   },
   {
    "duration": 51,
    "start_time": "2021-08-10T15:56:13.748Z"
   },
   {
    "duration": 871,
    "start_time": "2021-08-10T15:56:36.317Z"
   },
   {
    "duration": 755,
    "start_time": "2021-08-10T15:56:49.836Z"
   },
   {
    "duration": 80,
    "start_time": "2021-08-10T15:57:08.291Z"
   },
   {
    "duration": 82,
    "start_time": "2021-08-10T15:57:16.060Z"
   },
   {
    "duration": 760,
    "start_time": "2021-08-10T15:58:04.228Z"
   },
   {
    "duration": 1500,
    "start_time": "2021-08-10T15:58:18.859Z"
   },
   {
    "duration": 3941,
    "start_time": "2021-08-10T15:58:36.076Z"
   },
   {
    "duration": 46,
    "start_time": "2021-08-10T15:59:08.257Z"
   },
   {
    "duration": 31087,
    "start_time": "2021-08-10T16:00:13.052Z"
   },
   {
    "duration": 2185,
    "start_time": "2021-08-10T16:01:07.501Z"
   },
   {
    "duration": 37519,
    "start_time": "2021-08-10T16:01:54.699Z"
   },
   {
    "duration": 2320,
    "start_time": "2021-08-10T16:02:59.340Z"
   },
   {
    "duration": 31662,
    "start_time": "2021-08-10T16:03:57.284Z"
   },
   {
    "duration": 1723,
    "start_time": "2021-08-10T16:05:03.604Z"
   },
   {
    "duration": 32463,
    "start_time": "2021-08-10T16:05:39.970Z"
   },
   {
    "duration": 2620,
    "start_time": "2021-08-10T16:06:28.620Z"
   },
   {
    "duration": 12,
    "start_time": "2021-08-10T16:43:28.480Z"
   },
   {
    "duration": 16,
    "start_time": "2021-08-10T16:45:54.584Z"
   },
   {
    "duration": 45,
    "start_time": "2021-08-10T16:46:07.288Z"
   },
   {
    "duration": 2663,
    "start_time": "2021-08-10T16:46:12.859Z"
   },
   {
    "duration": 11,
    "start_time": "2021-08-10T16:46:50.553Z"
   },
   {
    "duration": 57,
    "start_time": "2021-08-10T16:47:03.286Z"
   },
   {
    "duration": 2681,
    "start_time": "2021-08-10T16:47:13.616Z"
   },
   {
    "duration": 161,
    "start_time": "2021-08-10T16:51:10.795Z"
   },
   {
    "duration": 3938,
    "start_time": "2021-08-10T16:52:10.139Z"
   },
   {
    "duration": 972,
    "start_time": "2021-08-10T16:53:00.957Z"
   },
   {
    "duration": 1376,
    "start_time": "2021-08-10T16:53:18.415Z"
   },
   {
    "duration": 3818,
    "start_time": "2021-08-10T16:53:35.732Z"
   },
   {
    "duration": 1535,
    "start_time": "2021-08-10T16:54:44.140Z"
   },
   {
    "duration": 80,
    "start_time": "2021-08-10T16:55:08.563Z"
   },
   {
    "duration": 32025,
    "start_time": "2021-08-10T16:55:50.076Z"
   },
   {
    "duration": 139,
    "start_time": "2021-08-10T16:58:58.430Z"
   },
   {
    "duration": 31783,
    "start_time": "2021-08-10T16:59:09.499Z"
   },
   {
    "duration": 1360,
    "start_time": "2021-08-12T07:38:07.158Z"
   },
   {
    "duration": 71,
    "start_time": "2021-08-12T07:38:08.521Z"
   },
   {
    "duration": 600,
    "start_time": "2021-08-12T07:38:08.595Z"
   },
   {
    "duration": 6,
    "start_time": "2021-08-12T07:38:09.198Z"
   },
   {
    "duration": 35,
    "start_time": "2021-08-12T07:38:09.206Z"
   },
   {
    "duration": 123,
    "start_time": "2021-08-12T07:38:09.243Z"
   },
   {
    "duration": 956,
    "start_time": "2021-08-12T07:38:09.370Z"
   },
   {
    "duration": 18780,
    "start_time": "2021-08-12T07:38:10.328Z"
   },
   {
    "duration": 14,
    "start_time": "2021-08-12T07:38:29.111Z"
   },
   {
    "duration": 166,
    "start_time": "2021-08-12T07:38:29.129Z"
   },
   {
    "duration": 1586,
    "start_time": "2021-08-12T07:38:29.297Z"
   },
   {
    "duration": 1106,
    "start_time": "2021-08-12T07:52:00.488Z"
   },
   {
    "duration": 4,
    "start_time": "2021-08-12T09:01:11.290Z"
   },
   {
    "duration": 481,
    "start_time": "2021-08-12T09:01:14.990Z"
   },
   {
    "duration": 58,
    "start_time": "2021-08-12T09:01:39.587Z"
   },
   {
    "duration": 493,
    "start_time": "2021-08-12T09:01:47.390Z"
   },
   {
    "duration": 5,
    "start_time": "2021-08-12T09:03:41.514Z"
   },
   {
    "duration": 26,
    "start_time": "2021-08-12T09:03:53.878Z"
   },
   {
    "duration": 567,
    "start_time": "2021-08-12T09:06:21.318Z"
   },
   {
    "duration": 1379,
    "start_time": "2021-08-12T09:07:44.564Z"
   },
   {
    "duration": 278,
    "start_time": "2021-08-12T09:07:45.946Z"
   },
   {
    "duration": 649,
    "start_time": "2021-08-12T09:07:46.226Z"
   },
   {
    "duration": 467,
    "start_time": "2021-08-12T09:07:46.878Z"
   },
   {
    "duration": 6,
    "start_time": "2021-08-12T09:07:47.347Z"
   },
   {
    "duration": 451,
    "start_time": "2021-08-12T09:07:47.367Z"
   },
   {
    "duration": -100,
    "start_time": "2021-08-12T09:07:47.921Z"
   },
   {
    "duration": -101,
    "start_time": "2021-08-12T09:07:47.924Z"
   },
   {
    "duration": -103,
    "start_time": "2021-08-12T09:07:47.927Z"
   },
   {
    "duration": -105,
    "start_time": "2021-08-12T09:07:47.930Z"
   },
   {
    "duration": -105,
    "start_time": "2021-08-12T09:07:47.932Z"
   },
   {
    "duration": -114,
    "start_time": "2021-08-12T09:07:47.943Z"
   },
   {
    "duration": 23,
    "start_time": "2021-08-12T09:09:30.220Z"
   },
   {
    "duration": 4,
    "start_time": "2021-08-12T09:10:23.703Z"
   },
   {
    "duration": 102,
    "start_time": "2021-08-12T09:10:23.710Z"
   },
   {
    "duration": 531,
    "start_time": "2021-08-12T09:10:23.815Z"
   },
   {
    "duration": 570,
    "start_time": "2021-08-12T09:10:24.349Z"
   },
   {
    "duration": 5,
    "start_time": "2021-08-12T09:10:24.922Z"
   },
   {
    "duration": 54,
    "start_time": "2021-08-12T09:10:24.931Z"
   },
   {
    "duration": 9,
    "start_time": "2021-08-12T09:10:24.988Z"
   },
   {
    "duration": 153,
    "start_time": "2021-08-12T09:10:25.001Z"
   },
   {
    "duration": 2373,
    "start_time": "2021-08-12T09:10:25.159Z"
   },
   {
    "duration": 11,
    "start_time": "2021-08-12T09:10:27.535Z"
   },
   {
    "duration": 28,
    "start_time": "2021-08-12T09:10:27.548Z"
   },
   {
    "duration": 172,
    "start_time": "2021-08-12T09:10:27.579Z"
   },
   {
    "duration": 498,
    "start_time": "2021-08-12T09:11:02.274Z"
   },
   {
    "duration": 395,
    "start_time": "2021-08-12T09:11:39.224Z"
   },
   {
    "duration": 1419,
    "start_time": "2021-08-12T09:11:55.402Z"
   },
   {
    "duration": 98,
    "start_time": "2021-08-12T09:11:56.825Z"
   },
   {
    "duration": 663,
    "start_time": "2021-08-12T09:11:56.927Z"
   },
   {
    "duration": 467,
    "start_time": "2021-08-12T09:11:57.593Z"
   },
   {
    "duration": 416,
    "start_time": "2021-08-12T09:11:58.063Z"
   },
   {
    "duration": 394,
    "start_time": "2021-08-12T09:11:58.482Z"
   },
   {
    "duration": 9,
    "start_time": "2021-08-12T09:11:58.879Z"
   },
   {
    "duration": 27,
    "start_time": "2021-08-12T09:11:58.891Z"
   },
   {
    "duration": 400,
    "start_time": "2021-08-12T09:11:58.921Z"
   },
   {
    "duration": -197,
    "start_time": "2021-08-12T09:11:59.521Z"
   },
   {
    "duration": -197,
    "start_time": "2021-08-12T09:11:59.522Z"
   },
   {
    "duration": -216,
    "start_time": "2021-08-12T09:11:59.542Z"
   },
   {
    "duration": -218,
    "start_time": "2021-08-12T09:11:59.545Z"
   },
   {
    "duration": -225,
    "start_time": "2021-08-12T09:11:59.554Z"
   },
   {
    "duration": 464,
    "start_time": "2021-08-12T09:12:17.142Z"
   },
   {
    "duration": 331,
    "start_time": "2021-08-12T09:12:26.986Z"
   },
   {
    "duration": 1328,
    "start_time": "2021-08-12T09:12:30.511Z"
   },
   {
    "duration": 70,
    "start_time": "2021-08-12T09:12:31.842Z"
   },
   {
    "duration": 643,
    "start_time": "2021-08-12T09:12:31.915Z"
   },
   {
    "duration": 465,
    "start_time": "2021-08-12T09:12:32.561Z"
   },
   {
    "duration": 409,
    "start_time": "2021-08-12T09:12:33.028Z"
   },
   {
    "duration": 320,
    "start_time": "2021-08-12T09:12:33.439Z"
   },
   {
    "duration": 10,
    "start_time": "2021-08-12T09:12:33.761Z"
   },
   {
    "duration": 27,
    "start_time": "2021-08-12T09:12:33.774Z"
   },
   {
    "duration": 380,
    "start_time": "2021-08-12T09:12:33.804Z"
   },
   {
    "duration": -130,
    "start_time": "2021-08-12T09:12:34.317Z"
   },
   {
    "duration": -130,
    "start_time": "2021-08-12T09:12:34.318Z"
   },
   {
    "duration": -130,
    "start_time": "2021-08-12T09:12:34.319Z"
   },
   {
    "duration": -130,
    "start_time": "2021-08-12T09:12:34.320Z"
   },
   {
    "duration": -129,
    "start_time": "2021-08-12T09:12:34.321Z"
   },
   {
    "duration": 1348,
    "start_time": "2021-08-12T09:13:06.961Z"
   },
   {
    "duration": 74,
    "start_time": "2021-08-12T09:13:08.313Z"
   },
   {
    "duration": 626,
    "start_time": "2021-08-12T09:13:08.393Z"
   },
   {
    "duration": 464,
    "start_time": "2021-08-12T09:13:09.021Z"
   },
   {
    "duration": 417,
    "start_time": "2021-08-12T09:13:09.488Z"
   },
   {
    "duration": 317,
    "start_time": "2021-08-12T09:13:09.907Z"
   },
   {
    "duration": 6,
    "start_time": "2021-08-12T09:13:10.228Z"
   },
   {
    "duration": 48,
    "start_time": "2021-08-12T09:13:10.236Z"
   },
   {
    "duration": 383,
    "start_time": "2021-08-12T09:13:10.287Z"
   },
   {
    "duration": -135,
    "start_time": "2021-08-12T09:13:10.808Z"
   },
   {
    "duration": -135,
    "start_time": "2021-08-12T09:13:10.810Z"
   },
   {
    "duration": -134,
    "start_time": "2021-08-12T09:13:10.811Z"
   },
   {
    "duration": -133,
    "start_time": "2021-08-12T09:13:10.812Z"
   },
   {
    "duration": -186,
    "start_time": "2021-08-12T09:13:10.868Z"
   },
   {
    "duration": 1479,
    "start_time": "2021-08-12T09:14:16.233Z"
   },
   {
    "duration": 691,
    "start_time": "2021-08-12T09:14:17.715Z"
   },
   {
    "duration": 650,
    "start_time": "2021-08-12T09:14:18.408Z"
   },
   {
    "duration": 469,
    "start_time": "2021-08-12T09:14:19.061Z"
   },
   {
    "duration": 416,
    "start_time": "2021-08-12T09:14:19.533Z"
   },
   {
    "duration": 332,
    "start_time": "2021-08-12T09:14:19.951Z"
   },
   {
    "duration": 6,
    "start_time": "2021-08-12T09:14:20.285Z"
   },
   {
    "duration": 28,
    "start_time": "2021-08-12T09:14:20.293Z"
   },
   {
    "duration": 418,
    "start_time": "2021-08-12T09:14:20.324Z"
   },
   {
    "duration": -99,
    "start_time": "2021-08-12T09:14:20.843Z"
   },
   {
    "duration": -99,
    "start_time": "2021-08-12T09:14:20.845Z"
   },
   {
    "duration": -99,
    "start_time": "2021-08-12T09:14:20.846Z"
   },
   {
    "duration": -105,
    "start_time": "2021-08-12T09:14:20.854Z"
   },
   {
    "duration": -106,
    "start_time": "2021-08-12T09:14:20.856Z"
   },
   {
    "duration": 1365,
    "start_time": "2021-08-12T09:16:12.035Z"
   },
   {
    "duration": 1056,
    "start_time": "2021-08-12T09:16:13.403Z"
   },
   {
    "duration": 572,
    "start_time": "2021-08-12T09:16:14.466Z"
   },
   {
    "duration": 472,
    "start_time": "2021-08-12T09:16:15.041Z"
   },
   {
    "duration": 424,
    "start_time": "2021-08-12T09:16:15.516Z"
   },
   {
    "duration": 331,
    "start_time": "2021-08-12T09:16:15.943Z"
   },
   {
    "duration": 5,
    "start_time": "2021-08-12T09:16:16.277Z"
   },
   {
    "duration": 34,
    "start_time": "2021-08-12T09:16:16.285Z"
   },
   {
    "duration": 425,
    "start_time": "2021-08-12T09:16:16.323Z"
   },
   {
    "duration": -96,
    "start_time": "2021-08-12T09:16:16.847Z"
   },
   {
    "duration": -118,
    "start_time": "2021-08-12T09:16:16.871Z"
   },
   {
    "duration": -119,
    "start_time": "2021-08-12T09:16:16.873Z"
   },
   {
    "duration": -119,
    "start_time": "2021-08-12T09:16:16.874Z"
   },
   {
    "duration": -119,
    "start_time": "2021-08-12T09:16:16.876Z"
   },
   {
    "duration": 21,
    "start_time": "2021-08-12T09:19:24.571Z"
   },
   {
    "duration": 243,
    "start_time": "2021-08-12T09:19:41.979Z"
   },
   {
    "duration": 6,
    "start_time": "2021-08-12T09:20:48.148Z"
   },
   {
    "duration": 18,
    "start_time": "2021-08-12T09:20:51.842Z"
   },
   {
    "duration": 235,
    "start_time": "2021-08-12T09:20:55.162Z"
   },
   {
    "duration": 6,
    "start_time": "2021-08-12T09:22:22.511Z"
   },
   {
    "duration": 19,
    "start_time": "2021-08-12T09:22:25.623Z"
   },
   {
    "duration": 708,
    "start_time": "2021-08-12T09:22:28.562Z"
   },
   {
    "duration": 4,
    "start_time": "2021-08-12T09:22:36.571Z"
   },
   {
    "duration": 945,
    "start_time": "2021-08-12T09:22:36.578Z"
   },
   {
    "duration": 507,
    "start_time": "2021-08-12T09:22:37.526Z"
   },
   {
    "duration": 470,
    "start_time": "2021-08-12T09:22:38.036Z"
   },
   {
    "duration": 503,
    "start_time": "2021-08-12T09:22:38.509Z"
   },
   {
    "duration": 319,
    "start_time": "2021-08-12T09:22:39.015Z"
   },
   {
    "duration": 6,
    "start_time": "2021-08-12T09:22:39.336Z"
   },
   {
    "duration": 44,
    "start_time": "2021-08-12T09:22:39.344Z"
   },
   {
    "duration": 278,
    "start_time": "2021-08-12T09:22:39.391Z"
   },
   {
    "duration": -133,
    "start_time": "2021-08-12T09:22:39.804Z"
   },
   {
    "duration": -132,
    "start_time": "2021-08-12T09:22:39.805Z"
   },
   {
    "duration": -132,
    "start_time": "2021-08-12T09:22:39.806Z"
   },
   {
    "duration": -131,
    "start_time": "2021-08-12T09:22:39.807Z"
   },
   {
    "duration": -131,
    "start_time": "2021-08-12T09:22:39.808Z"
   },
   {
    "duration": 20,
    "start_time": "2021-08-12T09:27:54.982Z"
   },
   {
    "duration": 5,
    "start_time": "2021-08-12T09:27:59.827Z"
   },
   {
    "duration": 20,
    "start_time": "2021-08-12T09:28:04.163Z"
   },
   {
    "duration": 12,
    "start_time": "2021-08-12T09:28:07.615Z"
   },
   {
    "duration": 83,
    "start_time": "2021-08-12T09:29:13.443Z"
   },
   {
    "duration": 1598,
    "start_time": "2021-08-12T09:29:19.371Z"
   },
   {
    "duration": 10,
    "start_time": "2021-08-12T09:29:26.028Z"
   },
   {
    "duration": 11,
    "start_time": "2021-08-12T09:29:29.248Z"
   },
   {
    "duration": 130,
    "start_time": "2021-08-12T09:29:32.203Z"
   },
   {
    "duration": 4,
    "start_time": "2021-08-12T09:29:46.319Z"
   },
   {
    "duration": 997,
    "start_time": "2021-08-12T09:29:46.327Z"
   },
   {
    "duration": 512,
    "start_time": "2021-08-12T09:29:47.327Z"
   },
   {
    "duration": 461,
    "start_time": "2021-08-12T09:29:47.842Z"
   },
   {
    "duration": 419,
    "start_time": "2021-08-12T09:29:48.306Z"
   },
   {
    "duration": 415,
    "start_time": "2021-08-12T09:29:48.727Z"
   },
   {
    "duration": 23,
    "start_time": "2021-08-12T09:29:49.145Z"
   },
   {
    "duration": 5,
    "start_time": "2021-08-12T09:29:49.171Z"
   },
   {
    "duration": 31,
    "start_time": "2021-08-12T09:29:49.180Z"
   },
   {
    "duration": 154,
    "start_time": "2021-08-12T09:29:49.214Z"
   },
   {
    "duration": 106,
    "start_time": "2021-08-12T09:29:49.371Z"
   },
   {
    "duration": 5,
    "start_time": "2021-08-12T09:30:53.555Z"
   },
   {
    "duration": 919,
    "start_time": "2021-08-12T09:30:53.562Z"
   },
   {
    "duration": 509,
    "start_time": "2021-08-12T09:30:54.484Z"
   },
   {
    "duration": 475,
    "start_time": "2021-08-12T09:30:54.995Z"
   },
   {
    "duration": 419,
    "start_time": "2021-08-12T09:30:55.472Z"
   },
   {
    "duration": 322,
    "start_time": "2021-08-12T09:30:55.893Z"
   },
   {
    "duration": 14,
    "start_time": "2021-08-12T09:30:56.218Z"
   },
   {
    "duration": 6,
    "start_time": "2021-08-12T09:30:56.235Z"
   },
   {
    "duration": 49,
    "start_time": "2021-08-12T09:30:56.244Z"
   },
   {
    "duration": 78,
    "start_time": "2021-08-12T09:30:56.296Z"
   },
   {
    "duration": 169,
    "start_time": "2021-08-12T09:30:56.377Z"
   },
   {
    "duration": 1621,
    "start_time": "2021-08-12T09:30:56.567Z"
   },
   {
    "duration": 10,
    "start_time": "2021-08-12T09:30:58.191Z"
   },
   {
    "duration": 10,
    "start_time": "2021-08-12T09:30:58.204Z"
   },
   {
    "duration": 211,
    "start_time": "2021-08-12T09:30:58.267Z"
   },
   {
    "duration": 5,
    "start_time": "2021-08-12T09:32:22.654Z"
   },
   {
    "duration": 1022,
    "start_time": "2021-08-12T09:32:22.661Z"
   },
   {
    "duration": 516,
    "start_time": "2021-08-12T09:32:23.687Z"
   },
   {
    "duration": 6,
    "start_time": "2021-08-12T09:32:24.207Z"
   },
   {
    "duration": 51,
    "start_time": "2021-08-12T09:32:24.216Z"
   },
   {
    "duration": 13,
    "start_time": "2021-08-12T09:32:24.270Z"
   },
   {
    "duration": 1268,
    "start_time": "2021-08-12T09:32:24.285Z"
   },
   {
    "duration": 18925,
    "start_time": "2021-08-12T09:32:25.555Z"
   },
   {
    "duration": 12,
    "start_time": "2021-08-12T09:32:44.483Z"
   },
   {
    "duration": 169,
    "start_time": "2021-08-12T09:32:44.498Z"
   },
   {
    "duration": 1588,
    "start_time": "2021-08-12T09:32:44.670Z"
   },
   {
    "duration": 1033,
    "start_time": "2021-08-12T09:34:25.451Z"
   },
   {
    "duration": 1366,
    "start_time": "2021-08-12T09:34:56.536Z"
   },
   {
    "duration": 1073,
    "start_time": "2021-08-12T09:34:57.905Z"
   },
   {
    "duration": 581,
    "start_time": "2021-08-12T09:34:58.981Z"
   },
   {
    "duration": 520,
    "start_time": "2021-08-12T09:34:59.568Z"
   },
   {
    "duration": 7,
    "start_time": "2021-08-12T09:35:00.091Z"
   },
   {
    "duration": 35,
    "start_time": "2021-08-12T09:35:00.101Z"
   },
   {
    "duration": 37,
    "start_time": "2021-08-12T09:35:00.139Z"
   },
   {
    "duration": 961,
    "start_time": "2021-08-12T09:35:00.267Z"
   },
   {
    "duration": 18678,
    "start_time": "2021-08-12T09:35:01.231Z"
   },
   {
    "duration": 11,
    "start_time": "2021-08-12T09:35:19.911Z"
   },
   {
    "duration": 156,
    "start_time": "2021-08-12T09:35:19.925Z"
   },
   {
    "duration": 1547,
    "start_time": "2021-08-12T09:35:20.083Z"
   },
   {
    "duration": 1282,
    "start_time": "2021-08-12T09:35:32.322Z"
   },
   {
    "duration": 1067,
    "start_time": "2021-08-12T09:35:33.607Z"
   },
   {
    "duration": 314,
    "start_time": "2021-08-12T09:35:34.677Z"
   },
   {
    "duration": 487,
    "start_time": "2021-08-12T09:35:34.994Z"
   },
   {
    "duration": 6,
    "start_time": "2021-08-12T09:35:35.484Z"
   },
   {
    "duration": 374,
    "start_time": "2021-08-12T09:35:35.493Z"
   },
   {
    "duration": -117,
    "start_time": "2021-08-12T09:35:35.988Z"
   },
   {
    "duration": -116,
    "start_time": "2021-08-12T09:35:35.989Z"
   },
   {
    "duration": -132,
    "start_time": "2021-08-12T09:35:36.007Z"
   },
   {
    "duration": -132,
    "start_time": "2021-08-12T09:35:36.009Z"
   },
   {
    "duration": -131,
    "start_time": "2021-08-12T09:35:36.010Z"
   },
   {
    "duration": -130,
    "start_time": "2021-08-12T09:35:36.011Z"
   },
   {
    "duration": 1363,
    "start_time": "2021-08-12T09:36:17.747Z"
   },
   {
    "duration": 1097,
    "start_time": "2021-08-12T09:36:19.113Z"
   },
   {
    "duration": 308,
    "start_time": "2021-08-12T09:36:20.213Z"
   },
   {
    "duration": 518,
    "start_time": "2021-08-12T09:36:20.524Z"
   },
   {
    "duration": 5,
    "start_time": "2021-08-12T09:36:21.044Z"
   },
   {
    "duration": 39,
    "start_time": "2021-08-12T09:36:21.051Z"
   },
   {
    "duration": 80,
    "start_time": "2021-08-12T09:36:21.093Z"
   },
   {
    "duration": 167,
    "start_time": "2021-08-12T09:36:21.177Z"
   },
   {
    "duration": 1569,
    "start_time": "2021-08-12T09:36:21.346Z"
   },
   {
    "duration": 10,
    "start_time": "2021-08-12T09:36:22.917Z"
   },
   {
    "duration": 50,
    "start_time": "2021-08-12T09:36:22.929Z"
   },
   {
    "duration": 200,
    "start_time": "2021-08-12T09:36:22.981Z"
   },
   {
    "duration": 809,
    "start_time": "2021-08-12T09:38:53.628Z"
   },
   {
    "duration": 1383,
    "start_time": "2021-08-12T09:39:13.130Z"
   },
   {
    "duration": 1065,
    "start_time": "2021-08-12T09:39:14.515Z"
   },
   {
    "duration": 976,
    "start_time": "2021-08-12T09:39:15.583Z"
   },
   {
    "duration": 538,
    "start_time": "2021-08-12T09:39:16.566Z"
   },
   {
    "duration": 6,
    "start_time": "2021-08-12T09:39:17.107Z"
   },
   {
    "duration": 34,
    "start_time": "2021-08-12T09:39:17.115Z"
   },
   {
    "duration": 24,
    "start_time": "2021-08-12T09:39:17.152Z"
   },
   {
    "duration": 1036,
    "start_time": "2021-08-12T09:39:17.179Z"
   },
   {
    "duration": 19394,
    "start_time": "2021-08-12T09:39:18.218Z"
   },
   {
    "duration": 11,
    "start_time": "2021-08-12T09:39:37.615Z"
   },
   {
    "duration": 155,
    "start_time": "2021-08-12T09:39:37.628Z"
   },
   {
    "duration": 1621,
    "start_time": "2021-08-12T09:39:37.785Z"
   },
   {
    "duration": 394,
    "start_time": "2021-08-12T09:40:23.519Z"
   },
   {
    "duration": 1459,
    "start_time": "2021-08-12T09:40:32.554Z"
   },
   {
    "duration": 1070,
    "start_time": "2021-08-12T09:40:34.015Z"
   },
   {
    "duration": 288,
    "start_time": "2021-08-12T09:40:35.088Z"
   },
   {
    "duration": 678,
    "start_time": "2021-08-12T09:40:35.379Z"
   },
   {
    "duration": 5,
    "start_time": "2021-08-12T09:40:36.067Z"
   },
   {
    "duration": 34,
    "start_time": "2021-08-12T09:40:36.074Z"
   },
   {
    "duration": 60,
    "start_time": "2021-08-12T09:40:36.110Z"
   },
   {
    "duration": 958,
    "start_time": "2021-08-12T09:40:36.173Z"
   },
   {
    "duration": 18825,
    "start_time": "2021-08-12T09:40:37.135Z"
   },
   {
    "duration": 11,
    "start_time": "2021-08-12T09:40:55.962Z"
   },
   {
    "duration": 121,
    "start_time": "2021-08-12T09:40:55.975Z"
   },
   {
    "duration": 1575,
    "start_time": "2021-08-12T09:40:56.168Z"
   },
   {
    "duration": 1358,
    "start_time": "2021-08-12T09:45:22.244Z"
   },
   {
    "duration": 1069,
    "start_time": "2021-08-12T09:45:23.605Z"
   },
   {
    "duration": 569,
    "start_time": "2021-08-12T09:45:24.677Z"
   },
   {
    "duration": 401,
    "start_time": "2021-08-12T09:45:25.248Z"
   },
   {
    "duration": 290,
    "start_time": "2021-08-12T09:45:25.652Z"
   },
   {
    "duration": 6,
    "start_time": "2021-08-12T09:45:25.944Z"
   },
   {
    "duration": 40,
    "start_time": "2021-08-12T09:45:25.952Z"
   },
   {
    "duration": 76,
    "start_time": "2021-08-12T09:45:25.995Z"
   },
   {
    "duration": 977,
    "start_time": "2021-08-12T09:45:26.076Z"
   },
   {
    "duration": 18712,
    "start_time": "2021-08-12T09:45:27.056Z"
   },
   {
    "duration": 15,
    "start_time": "2021-08-12T09:45:45.771Z"
   },
   {
    "duration": 182,
    "start_time": "2021-08-12T09:45:45.789Z"
   },
   {
    "duration": 1661,
    "start_time": "2021-08-12T09:45:45.973Z"
   },
   {
    "duration": 1281,
    "start_time": "2021-08-12T09:47:13.124Z"
   },
   {
    "duration": 1079,
    "start_time": "2021-08-12T09:47:14.408Z"
   },
   {
    "duration": 583,
    "start_time": "2021-08-12T09:47:15.490Z"
   },
   {
    "duration": 410,
    "start_time": "2021-08-12T09:47:16.076Z"
   },
   {
    "duration": 302,
    "start_time": "2021-08-12T09:47:16.489Z"
   },
   {
    "duration": 6,
    "start_time": "2021-08-12T09:47:16.793Z"
   },
   {
    "duration": 29,
    "start_time": "2021-08-12T09:47:16.801Z"
   },
   {
    "duration": 40,
    "start_time": "2021-08-12T09:47:16.832Z"
   },
   {
    "duration": 1036,
    "start_time": "2021-08-12T09:47:16.877Z"
   },
   {
    "duration": 18785,
    "start_time": "2021-08-12T09:47:17.916Z"
   },
   {
    "duration": 12,
    "start_time": "2021-08-12T09:47:36.703Z"
   },
   {
    "duration": 161,
    "start_time": "2021-08-12T09:47:36.718Z"
   },
   {
    "duration": 1561,
    "start_time": "2021-08-12T09:47:36.881Z"
   },
   {
    "duration": 1603,
    "start_time": "2021-08-12T09:47:52.992Z"
   },
   {
    "duration": 1111,
    "start_time": "2021-08-12T09:47:54.598Z"
   },
   {
    "duration": 603,
    "start_time": "2021-08-12T09:47:55.712Z"
   },
   {
    "duration": 660,
    "start_time": "2021-08-12T09:47:56.319Z"
   },
   {
    "duration": 439,
    "start_time": "2021-08-12T09:47:56.983Z"
   },
   {
    "duration": 7,
    "start_time": "2021-08-12T09:47:57.425Z"
   },
   {
    "duration": 62,
    "start_time": "2021-08-12T09:47:57.435Z"
   },
   {
    "duration": 71,
    "start_time": "2021-08-12T09:47:57.500Z"
   },
   {
    "duration": 1295,
    "start_time": "2021-08-12T09:47:57.576Z"
   },
   {
    "duration": 19410,
    "start_time": "2021-08-12T09:47:58.873Z"
   },
   {
    "duration": 14,
    "start_time": "2021-08-12T09:48:18.286Z"
   },
   {
    "duration": 188,
    "start_time": "2021-08-12T09:48:18.303Z"
   },
   {
    "duration": 1732,
    "start_time": "2021-08-12T09:48:18.494Z"
   },
   {
    "duration": 1510,
    "start_time": "2021-08-12T09:49:00.647Z"
   },
   {
    "duration": 1161,
    "start_time": "2021-08-12T09:49:02.160Z"
   },
   {
    "duration": 623,
    "start_time": "2021-08-12T09:49:03.325Z"
   },
   {
    "duration": 454,
    "start_time": "2021-08-12T09:49:03.951Z"
   },
   {
    "duration": 308,
    "start_time": "2021-08-12T09:49:04.408Z"
   },
   {
    "duration": 6,
    "start_time": "2021-08-12T09:49:04.718Z"
   },
   {
    "duration": 33,
    "start_time": "2021-08-12T09:49:04.727Z"
   },
   {
    "duration": 111,
    "start_time": "2021-08-12T09:49:04.767Z"
   },
   {
    "duration": 1055,
    "start_time": "2021-08-12T09:49:04.884Z"
   },
   {
    "duration": 20265,
    "start_time": "2021-08-12T09:49:05.943Z"
   },
   {
    "duration": 13,
    "start_time": "2021-08-12T09:49:26.211Z"
   },
   {
    "duration": 165,
    "start_time": "2021-08-12T09:49:26.227Z"
   },
   {
    "duration": 1561,
    "start_time": "2021-08-12T09:49:26.394Z"
   },
   {
    "duration": 1293,
    "start_time": "2021-08-12T10:13:50.811Z"
   },
   {
    "duration": 1070,
    "start_time": "2021-08-12T10:13:52.107Z"
   },
   {
    "duration": 587,
    "start_time": "2021-08-12T10:13:53.180Z"
   },
   {
    "duration": 407,
    "start_time": "2021-08-12T10:13:53.769Z"
   },
   {
    "duration": 305,
    "start_time": "2021-08-12T10:13:54.179Z"
   },
   {
    "duration": 6,
    "start_time": "2021-08-12T10:13:54.487Z"
   },
   {
    "duration": 32,
    "start_time": "2021-08-12T10:13:54.496Z"
   },
   {
    "duration": 43,
    "start_time": "2021-08-12T10:13:54.530Z"
   },
   {
    "duration": 1050,
    "start_time": "2021-08-12T10:13:54.578Z"
   },
   {
    "duration": 19059,
    "start_time": "2021-08-12T10:13:55.631Z"
   },
   {
    "duration": 11,
    "start_time": "2021-08-12T10:14:14.693Z"
   },
   {
    "duration": 162,
    "start_time": "2021-08-12T10:14:14.707Z"
   },
   {
    "duration": 1698,
    "start_time": "2021-08-12T10:14:14.872Z"
   },
   {
    "duration": 1432,
    "start_time": "2021-08-12T11:56:41.374Z"
   },
   {
    "duration": 1062,
    "start_time": "2021-08-12T11:56:42.810Z"
   },
   {
    "duration": 592,
    "start_time": "2021-08-12T11:56:43.875Z"
   },
   {
    "duration": 461,
    "start_time": "2021-08-12T11:56:44.469Z"
   },
   {
    "duration": 426,
    "start_time": "2021-08-12T11:56:44.932Z"
   },
   {
    "duration": 291,
    "start_time": "2021-08-12T11:56:45.361Z"
   },
   {
    "duration": 12,
    "start_time": "2021-08-12T11:56:45.655Z"
   },
   {
    "duration": 31,
    "start_time": "2021-08-12T11:56:45.671Z"
   },
   {
    "duration": 65,
    "start_time": "2021-08-12T11:56:45.705Z"
   },
   {
    "duration": 967,
    "start_time": "2021-08-12T11:56:45.773Z"
   },
   {
    "duration": 19058,
    "start_time": "2021-08-12T11:56:46.742Z"
   },
   {
    "duration": 13,
    "start_time": "2021-08-12T11:57:05.802Z"
   },
   {
    "duration": 175,
    "start_time": "2021-08-12T11:57:05.819Z"
   },
   {
    "duration": 1607,
    "start_time": "2021-08-12T11:57:05.996Z"
   },
   {
    "duration": 568,
    "start_time": "2021-08-12T12:01:15.919Z"
   },
   {
    "duration": 773,
    "start_time": "2021-08-12T12:01:28.331Z"
   },
   {
    "duration": 1323,
    "start_time": "2021-08-12T12:01:41.387Z"
   },
   {
    "duration": 1100,
    "start_time": "2021-08-12T12:01:42.713Z"
   },
   {
    "duration": 581,
    "start_time": "2021-08-12T12:01:43.816Z"
   },
   {
    "duration": 470,
    "start_time": "2021-08-12T12:01:44.400Z"
   },
   {
    "duration": 661,
    "start_time": "2021-08-12T12:01:44.872Z"
   },
   {
    "duration": 413,
    "start_time": "2021-08-12T12:01:45.536Z"
   },
   {
    "duration": 304,
    "start_time": "2021-08-12T12:01:45.952Z"
   },
   {
    "duration": 10,
    "start_time": "2021-08-12T12:01:46.258Z"
   },
   {
    "duration": 32,
    "start_time": "2021-08-12T12:01:46.271Z"
   },
   {
    "duration": 12,
    "start_time": "2021-08-12T12:01:46.305Z"
   },
   {
    "duration": 983,
    "start_time": "2021-08-12T12:01:46.369Z"
   },
   {
    "duration": 19118,
    "start_time": "2021-08-12T12:01:47.354Z"
   },
   {
    "duration": 14,
    "start_time": "2021-08-12T12:02:06.475Z"
   },
   {
    "duration": 194,
    "start_time": "2021-08-12T12:02:06.492Z"
   },
   {
    "duration": 1578,
    "start_time": "2021-08-12T12:02:06.689Z"
   },
   {
    "duration": 1293,
    "start_time": "2021-08-12T12:03:22.702Z"
   },
   {
    "duration": 1062,
    "start_time": "2021-08-12T12:03:23.998Z"
   },
   {
    "duration": 567,
    "start_time": "2021-08-12T12:03:25.063Z"
   },
   {
    "duration": 457,
    "start_time": "2021-08-12T12:03:25.632Z"
   },
   {
    "duration": 472,
    "start_time": "2021-08-12T12:03:26.092Z"
   },
   {
    "duration": 408,
    "start_time": "2021-08-12T12:03:26.567Z"
   },
   {
    "duration": 290,
    "start_time": "2021-08-12T12:03:26.977Z"
   },
   {
    "duration": 6,
    "start_time": "2021-08-12T12:03:27.269Z"
   },
   {
    "duration": 45,
    "start_time": "2021-08-12T12:03:27.278Z"
   },
   {
    "duration": 48,
    "start_time": "2021-08-12T12:03:27.325Z"
   },
   {
    "duration": 871,
    "start_time": "2021-08-12T12:03:27.467Z"
   },
   {
    "duration": 18593,
    "start_time": "2021-08-12T12:03:28.340Z"
   },
   {
    "duration": 31,
    "start_time": "2021-08-12T12:03:46.936Z"
   },
   {
    "duration": 121,
    "start_time": "2021-08-12T12:03:46.970Z"
   },
   {
    "duration": 1588,
    "start_time": "2021-08-12T12:03:47.094Z"
   },
   {
    "duration": 1346,
    "start_time": "2021-08-12T12:05:15.669Z"
   },
   {
    "duration": 1082,
    "start_time": "2021-08-12T12:05:17.018Z"
   },
   {
    "duration": 583,
    "start_time": "2021-08-12T12:05:18.104Z"
   },
   {
    "duration": 470,
    "start_time": "2021-08-12T12:05:18.690Z"
   },
   {
    "duration": 366,
    "start_time": "2021-08-12T12:05:19.162Z"
   },
   {
    "duration": -1171,
    "start_time": "2021-08-12T12:05:20.702Z"
   },
   {
    "duration": -1179,
    "start_time": "2021-08-12T12:05:20.712Z"
   },
   {
    "duration": -1182,
    "start_time": "2021-08-12T12:05:20.717Z"
   },
   {
    "duration": -1182,
    "start_time": "2021-08-12T12:05:20.720Z"
   },
   {
    "duration": -1185,
    "start_time": "2021-08-12T12:05:20.724Z"
   },
   {
    "duration": -1217,
    "start_time": "2021-08-12T12:05:20.758Z"
   },
   {
    "duration": -1220,
    "start_time": "2021-08-12T12:05:20.762Z"
   },
   {
    "duration": -1220,
    "start_time": "2021-08-12T12:05:20.764Z"
   },
   {
    "duration": -1220,
    "start_time": "2021-08-12T12:05:20.765Z"
   },
   {
    "duration": -1335,
    "start_time": "2021-08-12T12:05:20.881Z"
   },
   {
    "duration": 299,
    "start_time": "2021-08-12T12:06:08.259Z"
   },
   {
    "duration": 329,
    "start_time": "2021-08-12T12:08:45.680Z"
   },
   {
    "duration": 282,
    "start_time": "2021-08-12T12:09:13.427Z"
   },
   {
    "duration": 450,
    "start_time": "2021-08-12T12:09:39.663Z"
   },
   {
    "duration": 446,
    "start_time": "2021-08-12T12:11:31.918Z"
   },
   {
    "duration": 404,
    "start_time": "2021-08-12T12:14:55.446Z"
   },
   {
    "duration": 419,
    "start_time": "2021-08-12T12:17:08.478Z"
   },
   {
    "duration": 401,
    "start_time": "2021-08-12T12:20:47.832Z"
   },
   {
    "duration": 470,
    "start_time": "2021-08-12T12:26:00.271Z"
   },
   {
    "duration": 474,
    "start_time": "2021-08-12T12:26:33.096Z"
   },
   {
    "duration": 451,
    "start_time": "2021-08-12T12:27:25.672Z"
   },
   {
    "duration": 600,
    "start_time": "2021-08-12T12:29:48.144Z"
   },
   {
    "duration": 6,
    "start_time": "2021-08-12T13:45:22.158Z"
   },
   {
    "duration": 43,
    "start_time": "2021-08-12T13:45:25.184Z"
   },
   {
    "duration": 79,
    "start_time": "2021-08-12T13:45:30.190Z"
   },
   {
    "duration": 6,
    "start_time": "2021-08-12T13:46:24.079Z"
   },
   {
    "duration": 25,
    "start_time": "2021-08-12T13:46:29.264Z"
   },
   {
    "duration": 36,
    "start_time": "2021-08-12T13:46:31.744Z"
   },
   {
    "duration": 40,
    "start_time": "2021-08-12T13:49:28.616Z"
   },
   {
    "duration": 1653,
    "start_time": "2021-08-12T13:52:51.744Z"
   },
   {
    "duration": 1821,
    "start_time": "2021-08-12T13:53:30.658Z"
   },
   {
    "duration": 1993,
    "start_time": "2021-08-12T13:54:34.025Z"
   },
   {
    "duration": 1798,
    "start_time": "2021-08-12T13:58:06.897Z"
   },
   {
    "duration": 2189,
    "start_time": "2021-08-12T13:58:31.032Z"
   },
   {
    "duration": 496,
    "start_time": "2021-08-12T13:59:53.344Z"
   },
   {
    "duration": 570,
    "start_time": "2021-08-12T14:00:47.256Z"
   },
   {
    "duration": 561,
    "start_time": "2021-08-12T14:06:36.640Z"
   },
   {
    "duration": 266,
    "start_time": "2021-08-12T14:44:20.525Z"
   },
   {
    "duration": 266,
    "start_time": "2021-08-12T14:44:43.798Z"
   },
   {
    "duration": 842,
    "start_time": "2021-08-12T14:48:27.938Z"
   },
   {
    "duration": 887,
    "start_time": "2021-08-12T14:49:22.110Z"
   },
   {
    "duration": 1266,
    "start_time": "2021-08-12T14:49:34.403Z"
   },
   {
    "duration": 1145,
    "start_time": "2021-08-12T14:49:41.122Z"
   },
   {
    "duration": 1056,
    "start_time": "2021-08-12T14:49:46.251Z"
   },
   {
    "duration": 8,
    "start_time": "2021-08-12T14:58:12.777Z"
   },
   {
    "duration": 8,
    "start_time": "2021-08-12T15:00:07.426Z"
   },
   {
    "duration": 432,
    "start_time": "2021-08-12T15:04:18.189Z"
   },
   {
    "duration": 440,
    "start_time": "2021-08-12T15:05:12.669Z"
   },
   {
    "duration": 428,
    "start_time": "2021-08-12T15:05:22.385Z"
   },
   {
    "duration": 427,
    "start_time": "2021-08-12T15:05:31.070Z"
   },
   {
    "duration": 476,
    "start_time": "2021-08-12T15:05:35.257Z"
   },
   {
    "duration": 434,
    "start_time": "2021-08-12T15:07:19.214Z"
   },
   {
    "duration": 1737,
    "start_time": "2021-08-12T16:02:11.877Z"
   },
   {
    "duration": 1586,
    "start_time": "2021-08-12T16:02:13.617Z"
   },
   {
    "duration": 829,
    "start_time": "2021-08-12T16:02:15.207Z"
   },
   {
    "duration": 487,
    "start_time": "2021-08-12T16:02:16.040Z"
   },
   {
    "duration": 553,
    "start_time": "2021-08-12T16:02:16.529Z"
   },
   {
    "duration": 494,
    "start_time": "2021-08-12T16:02:17.084Z"
   },
   {
    "duration": 487,
    "start_time": "2021-08-12T16:02:17.585Z"
   },
   {
    "duration": 433,
    "start_time": "2021-08-12T16:02:18.075Z"
   },
   {
    "duration": 6,
    "start_time": "2021-08-12T16:02:18.514Z"
   },
   {
    "duration": 50,
    "start_time": "2021-08-12T16:02:18.524Z"
   },
   {
    "duration": 14,
    "start_time": "2021-08-12T16:02:18.576Z"
   },
   {
    "duration": 1124,
    "start_time": "2021-08-12T16:02:18.593Z"
   },
   {
    "duration": 20037,
    "start_time": "2021-08-12T16:02:19.720Z"
   },
   {
    "duration": 444,
    "start_time": "2021-08-12T16:02:39.768Z"
   },
   {
    "duration": 10,
    "start_time": "2021-08-12T16:02:40.214Z"
   },
   {
    "duration": 160,
    "start_time": "2021-08-12T16:02:40.227Z"
   },
   {
    "duration": 1696,
    "start_time": "2021-08-12T16:02:40.390Z"
   },
   {
    "duration": 453,
    "start_time": "2021-08-12T16:02:42.089Z"
   },
   {
    "duration": 994,
    "start_time": "2021-08-13T08:06:51.919Z"
   },
   {
    "duration": 653,
    "start_time": "2021-08-13T08:06:55.067Z"
   },
   {
    "duration": 339,
    "start_time": "2021-08-13T08:07:00.791Z"
   },
   {
    "duration": 316,
    "start_time": "2021-08-13T08:07:03.588Z"
   },
   {
    "duration": 251,
    "start_time": "2021-08-13T08:07:16.613Z"
   },
   {
    "duration": 21,
    "start_time": "2021-08-13T08:07:38.231Z"
   },
   {
    "duration": 222,
    "start_time": "2021-08-13T08:07:43.672Z"
   },
   {
    "duration": 237,
    "start_time": "2021-08-13T08:09:20.643Z"
   },
   {
    "duration": 8,
    "start_time": "2021-08-13T08:10:31.020Z"
   },
   {
    "duration": 297,
    "start_time": "2021-08-13T08:10:34.639Z"
   },
   {
    "duration": 302,
    "start_time": "2021-08-13T08:10:53.340Z"
   },
   {
    "duration": 7,
    "start_time": "2021-08-13T08:11:38.112Z"
   },
   {
    "duration": 266,
    "start_time": "2021-08-13T08:11:39.871Z"
   },
   {
    "duration": 8,
    "start_time": "2021-08-13T08:12:11.059Z"
   },
   {
    "duration": 403,
    "start_time": "2021-08-13T08:12:11.551Z"
   },
   {
    "duration": 285,
    "start_time": "2021-08-13T08:12:24.911Z"
   },
   {
    "duration": 331,
    "start_time": "2021-08-13T08:13:09.031Z"
   },
   {
    "duration": 311,
    "start_time": "2021-08-13T08:13:46.460Z"
   },
   {
    "duration": 8,
    "start_time": "2021-08-13T08:15:21.676Z"
   },
   {
    "duration": 311,
    "start_time": "2021-08-13T08:15:24.093Z"
   },
   {
    "duration": 1035,
    "start_time": "2021-08-13T08:21:06.944Z"
   },
   {
    "duration": 590,
    "start_time": "2021-08-13T08:21:07.981Z"
   },
   {
    "duration": 19,
    "start_time": "2021-08-13T08:21:08.573Z"
   },
   {
    "duration": 196,
    "start_time": "2021-08-13T08:21:08.593Z"
   },
   {
    "duration": 323,
    "start_time": "2021-08-13T08:21:08.791Z"
   },
   {
    "duration": 241,
    "start_time": "2021-08-13T08:21:09.115Z"
   },
   {
    "duration": 242,
    "start_time": "2021-08-13T08:21:09.357Z"
   },
   {
    "duration": 254,
    "start_time": "2021-08-13T08:21:09.601Z"
   },
   {
    "duration": 245,
    "start_time": "2021-08-13T08:21:09.857Z"
   },
   {
    "duration": 225,
    "start_time": "2021-08-13T08:21:10.104Z"
   },
   {
    "duration": 3,
    "start_time": "2021-08-13T08:21:10.331Z"
   },
   {
    "duration": 24,
    "start_time": "2021-08-13T08:21:10.336Z"
   },
   {
    "duration": 128,
    "start_time": "2021-08-13T08:21:10.362Z"
   },
   {
    "duration": 142,
    "start_time": "2021-08-13T08:21:10.494Z"
   },
   {
    "duration": 1097,
    "start_time": "2021-08-13T08:21:10.637Z"
   },
   {
    "duration": 67,
    "start_time": "2021-08-13T08:21:11.735Z"
   },
   {
    "duration": 7,
    "start_time": "2021-08-13T08:21:11.803Z"
   },
   {
    "duration": 8,
    "start_time": "2021-08-13T08:21:11.811Z"
   },
   {
    "duration": 228,
    "start_time": "2021-08-13T08:21:11.820Z"
   },
   {
    "duration": 217,
    "start_time": "2021-08-13T08:21:12.050Z"
   },
   {
    "duration": 1129,
    "start_time": "2021-08-13T08:22:25.756Z"
   },
   {
    "duration": 582,
    "start_time": "2021-08-13T08:22:28.279Z"
   },
   {
    "duration": 9,
    "start_time": "2021-08-13T08:22:33.756Z"
   },
   {
    "duration": 183,
    "start_time": "2021-08-13T08:22:34.566Z"
   },
   {
    "duration": 281,
    "start_time": "2021-08-13T08:23:05.087Z"
   },
   {
    "duration": 216,
    "start_time": "2021-08-13T08:24:35.799Z"
   },
   {
    "duration": 214,
    "start_time": "2021-08-13T08:25:51.066Z"
   },
   {
    "duration": 236,
    "start_time": "2021-08-13T08:26:07.959Z"
   },
   {
    "duration": 219,
    "start_time": "2021-08-13T08:27:15.299Z"
   },
   {
    "duration": 246,
    "start_time": "2021-08-13T08:27:22.653Z"
   },
   {
    "duration": 549,
    "start_time": "2021-08-13T08:29:36.717Z"
   },
   {
    "duration": 254,
    "start_time": "2021-08-13T08:30:01.787Z"
   },
   {
    "duration": 248,
    "start_time": "2021-08-13T08:30:38.247Z"
   },
   {
    "duration": 278,
    "start_time": "2021-08-13T08:31:46.737Z"
   },
   {
    "duration": 340,
    "start_time": "2021-08-13T08:32:13.900Z"
   },
   {
    "duration": 311,
    "start_time": "2021-08-13T08:32:22.548Z"
   },
   {
    "duration": 347,
    "start_time": "2021-08-13T08:32:46.068Z"
   },
   {
    "duration": 657,
    "start_time": "2021-08-13T08:38:59.116Z"
   },
   {
    "duration": 277,
    "start_time": "2021-08-13T08:39:04.724Z"
   },
   {
    "duration": 8,
    "start_time": "2021-08-13T08:39:17.159Z"
   },
   {
    "duration": 301,
    "start_time": "2021-08-13T08:39:18.016Z"
   },
   {
    "duration": 265,
    "start_time": "2021-08-13T08:39:23.504Z"
   },
   {
    "duration": 272,
    "start_time": "2021-08-13T08:40:47.004Z"
   },
   {
    "duration": 318,
    "start_time": "2021-08-13T08:50:29.999Z"
   },
   {
    "duration": 7,
    "start_time": "2021-08-13T08:50:32.600Z"
   },
   {
    "duration": 258,
    "start_time": "2021-08-13T08:50:33.750Z"
   },
   {
    "duration": 294,
    "start_time": "2021-08-13T08:53:10.956Z"
   },
   {
    "duration": 1280,
    "start_time": "2021-08-13T09:10:05.019Z"
   },
   {
    "duration": 724,
    "start_time": "2021-08-13T09:10:06.301Z"
   },
   {
    "duration": 9,
    "start_time": "2021-08-13T09:10:07.027Z"
   },
   {
    "duration": 275,
    "start_time": "2021-08-13T09:10:07.038Z"
   },
   {
    "duration": 390,
    "start_time": "2021-08-13T09:10:07.315Z"
   },
   {
    "duration": 296,
    "start_time": "2021-08-13T09:10:07.707Z"
   },
   {
    "duration": 295,
    "start_time": "2021-08-13T09:10:08.004Z"
   },
   {
    "duration": 10,
    "start_time": "2021-08-13T09:10:08.301Z"
   },
   {
    "duration": 4,
    "start_time": "2021-08-13T09:10:08.313Z"
   },
   {
    "duration": 18,
    "start_time": "2021-08-13T09:10:08.319Z"
   },
   {
    "duration": 56,
    "start_time": "2021-08-13T09:10:08.339Z"
   },
   {
    "duration": 697,
    "start_time": "2021-08-13T09:10:08.397Z"
   },
   {
    "duration": 13198,
    "start_time": "2021-08-13T09:10:09.095Z"
   },
   {
    "duration": 339,
    "start_time": "2021-08-13T09:10:22.295Z"
   },
   {
    "duration": 270,
    "start_time": "2021-08-13T09:10:22.366Z"
   },
   {
    "duration": 268,
    "start_time": "2021-08-13T09:10:22.368Z"
   },
   {
    "duration": 267,
    "start_time": "2021-08-13T09:10:22.370Z"
   },
   {
    "duration": 263,
    "start_time": "2021-08-13T09:10:22.375Z"
   },
   {
    "duration": 263,
    "start_time": "2021-08-13T09:10:22.376Z"
   },
   {
    "duration": 262,
    "start_time": "2021-08-13T09:10:22.378Z"
   },
   {
    "duration": 286,
    "start_time": "2021-08-13T09:10:53.894Z"
   },
   {
    "duration": 284,
    "start_time": "2021-08-13T09:11:29.845Z"
   },
   {
    "duration": 1602,
    "start_time": "2021-08-13T09:11:38.502Z"
   },
   {
    "duration": 1619,
    "start_time": "2021-08-13T09:12:29.450Z"
   },
   {
    "duration": 1045,
    "start_time": "2021-08-13T09:15:47.952Z"
   },
   {
    "duration": 692,
    "start_time": "2021-08-13T09:15:48.999Z"
   },
   {
    "duration": 9,
    "start_time": "2021-08-13T09:15:49.693Z"
   },
   {
    "duration": 276,
    "start_time": "2021-08-13T09:15:49.704Z"
   },
   {
    "duration": 386,
    "start_time": "2021-08-13T09:15:49.981Z"
   },
   {
    "duration": 288,
    "start_time": "2021-08-13T09:15:50.369Z"
   },
   {
    "duration": 289,
    "start_time": "2021-08-13T09:15:50.659Z"
   },
   {
    "duration": 9,
    "start_time": "2021-08-13T09:15:50.951Z"
   },
   {
    "duration": 4,
    "start_time": "2021-08-13T09:15:50.962Z"
   },
   {
    "duration": 31,
    "start_time": "2021-08-13T09:15:50.967Z"
   },
   {
    "duration": 193,
    "start_time": "2021-08-13T09:15:50.999Z"
   },
   {
    "duration": 608,
    "start_time": "2021-08-13T09:15:51.194Z"
   },
   {
    "duration": 13100,
    "start_time": "2021-08-13T09:15:51.804Z"
   },
   {
    "duration": 306,
    "start_time": "2021-08-13T09:16:04.906Z"
   },
   {
    "duration": 1714,
    "start_time": "2021-08-13T09:16:05.214Z"
   },
   {
    "duration": 6,
    "start_time": "2021-08-13T09:16:06.930Z"
   },
   {
    "duration": 81,
    "start_time": "2021-08-13T09:16:06.938Z"
   },
   {
    "duration": 1153,
    "start_time": "2021-08-13T09:16:07.021Z"
   },
   {
    "duration": 223,
    "start_time": "2021-08-13T09:16:08.176Z"
   },
   {
    "duration": 10742,
    "start_time": "2021-08-13T09:20:19.695Z"
   },
   {
    "duration": 284,
    "start_time": "2021-08-13T09:20:57.961Z"
   },
   {
    "duration": 4,
    "start_time": "2021-08-13T09:23:18.506Z"
   },
   {
    "duration": 675,
    "start_time": "2021-08-13T09:23:18.519Z"
   },
   {
    "duration": 8,
    "start_time": "2021-08-13T09:23:19.195Z"
   },
   {
    "duration": 289,
    "start_time": "2021-08-13T09:23:19.205Z"
   },
   {
    "duration": 410,
    "start_time": "2021-08-13T09:23:19.496Z"
   },
   {
    "duration": 296,
    "start_time": "2021-08-13T09:23:19.908Z"
   },
   {
    "duration": 298,
    "start_time": "2021-08-13T09:23:20.206Z"
   },
   {
    "duration": 9,
    "start_time": "2021-08-13T09:23:20.505Z"
   },
   {
    "duration": 23,
    "start_time": "2021-08-13T09:23:20.517Z"
   },
   {
    "duration": 21,
    "start_time": "2021-08-13T09:23:20.542Z"
   },
   {
    "duration": 6,
    "start_time": "2021-08-13T09:23:20.565Z"
   },
   {
    "duration": 117,
    "start_time": "2021-08-13T09:23:20.572Z"
   },
   {
    "duration": 2293,
    "start_time": "2021-08-13T09:23:20.690Z"
   },
   {
    "duration": 77,
    "start_time": "2021-08-13T09:23:22.985Z"
   },
   {
    "duration": 390,
    "start_time": "2021-08-13T09:23:23.063Z"
   },
   {
    "duration": 5,
    "start_time": "2021-08-13T09:23:23.455Z"
   },
   {
    "duration": 23,
    "start_time": "2021-08-13T09:23:23.462Z"
   },
   {
    "duration": 191,
    "start_time": "2021-08-13T09:23:23.486Z"
   },
   {
    "duration": 303,
    "start_time": "2021-08-13T09:23:23.679Z"
   },
   {
    "duration": 4,
    "start_time": "2021-08-13T09:24:39.661Z"
   },
   {
    "duration": 704,
    "start_time": "2021-08-13T09:24:39.670Z"
   },
   {
    "duration": 18,
    "start_time": "2021-08-13T09:24:40.376Z"
   },
   {
    "duration": 284,
    "start_time": "2021-08-13T09:24:40.396Z"
   },
   {
    "duration": 321,
    "start_time": "2021-08-13T09:24:40.682Z"
   },
   {
    "duration": 412,
    "start_time": "2021-08-13T09:24:41.004Z"
   },
   {
    "duration": 297,
    "start_time": "2021-08-13T09:24:41.418Z"
   },
   {
    "duration": 9,
    "start_time": "2021-08-13T09:24:41.717Z"
   },
   {
    "duration": 3,
    "start_time": "2021-08-13T09:24:41.728Z"
   },
   {
    "duration": 20,
    "start_time": "2021-08-13T09:24:41.733Z"
   },
   {
    "duration": 44,
    "start_time": "2021-08-13T09:24:41.755Z"
   },
   {
    "duration": 718,
    "start_time": "2021-08-13T09:24:41.801Z"
   },
   {
    "duration": 1702,
    "start_time": "2021-09-01T13:28:41.908Z"
   },
   {
    "duration": 1111,
    "start_time": "2021-09-01T13:28:43.612Z"
   },
   {
    "duration": 14,
    "start_time": "2021-09-01T13:28:44.726Z"
   },
   {
    "duration": 538,
    "start_time": "2021-09-01T13:28:44.742Z"
   },
   {
    "duration": 659,
    "start_time": "2021-09-01T13:28:45.283Z"
   },
   {
    "duration": 562,
    "start_time": "2021-09-01T13:28:45.945Z"
   },
   {
    "duration": 527,
    "start_time": "2021-09-01T13:28:46.516Z"
   },
   {
    "duration": 15,
    "start_time": "2021-09-01T13:28:47.045Z"
   },
   {
    "duration": 5,
    "start_time": "2021-09-01T13:28:47.064Z"
   },
   {
    "duration": 56,
    "start_time": "2021-09-01T13:28:47.071Z"
   },
   {
    "duration": 187,
    "start_time": "2021-09-01T13:28:47.129Z"
   },
   {
    "duration": 862,
    "start_time": "2021-09-01T13:28:47.318Z"
   },
   {
    "duration": 18872,
    "start_time": "2021-09-01T13:28:48.183Z"
   },
   {
    "duration": 422,
    "start_time": "2021-09-01T13:29:07.057Z"
   },
   {
    "duration": 2383,
    "start_time": "2021-09-01T13:29:07.482Z"
   },
   {
    "duration": 10,
    "start_time": "2021-09-01T13:29:09.867Z"
   },
   {
    "duration": 152,
    "start_time": "2021-09-01T13:29:09.879Z"
   },
   {
    "duration": 1683,
    "start_time": "2021-09-01T13:29:10.034Z"
   },
   {
    "duration": 533,
    "start_time": "2021-09-01T13:29:11.719Z"
   }
  ],
  "kernelspec": {
   "display_name": "Python 3",
   "language": "python",
   "name": "python3"
  },
  "language_info": {
   "codemirror_mode": {
    "name": "ipython",
    "version": 3
   },
   "file_extension": ".py",
   "mimetype": "text/x-python",
   "name": "python",
   "nbconvert_exporter": "python",
   "pygments_lexer": "ipython3",
   "version": "3.7.8"
  },
  "toc": {
   "base_numbering": 1,
   "nav_menu": {},
   "number_sections": true,
   "sideBar": true,
   "skip_h1_title": true,
   "title_cell": "Содержание",
   "title_sidebar": "Contents",
   "toc_cell": true,
   "toc_position": {},
   "toc_section_display": true,
   "toc_window_display": false
  }
 },
 "nbformat": 4,
 "nbformat_minor": 2
}
