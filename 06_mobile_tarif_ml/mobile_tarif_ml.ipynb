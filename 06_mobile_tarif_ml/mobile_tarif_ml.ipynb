{
 "cells": [
  {
   "cell_type": "markdown",
   "metadata": {},
   "source": [
    "# Рекомендация тарифов"
   ]
  },
  {
   "cell_type": "markdown",
   "metadata": {},
   "source": [
    "В нашем распоряжении данные о поведении клиентов, которые уже перешли на тарифы «Смарт» или «Ультра». Необходимо построить модель для задачи классификации, которая выберет подходящий тариф.\n",
    "\n",
    "Построим модель с максимально большим значением *accuracy*. Проверим *accuracy* на тестовой выборке."
   ]
  },
  {
   "cell_type": "markdown",
   "metadata": {},
   "source": [
    "## Откроем и изучим файл"
   ]
  },
  {
   "cell_type": "code",
   "execution_count": 1,
   "metadata": {},
   "outputs": [
    {
     "name": "stdout",
     "output_type": "stream",
     "text": [
      "<class 'pandas.core.frame.DataFrame'>\n",
      "RangeIndex: 3214 entries, 0 to 3213\n",
      "Data columns (total 5 columns):\n",
      "calls       3214 non-null float64\n",
      "minutes     3214 non-null float64\n",
      "messages    3214 non-null float64\n",
      "mb_used     3214 non-null float64\n",
      "is_ultra    3214 non-null int64\n",
      "dtypes: float64(4), int64(1)\n",
      "memory usage: 125.7 KB\n"
     ]
    },
    {
     "data": {
      "text/plain": [
       "None"
      ]
     },
     "metadata": {},
     "output_type": "display_data"
    },
    {
     "data": {
      "text/plain": [
       "(3214, 5)"
      ]
     },
     "metadata": {},
     "output_type": "display_data"
    },
    {
     "data": {
      "text/html": [
       "<div>\n",
       "<style scoped>\n",
       "    .dataframe tbody tr th:only-of-type {\n",
       "        vertical-align: middle;\n",
       "    }\n",
       "\n",
       "    .dataframe tbody tr th {\n",
       "        vertical-align: top;\n",
       "    }\n",
       "\n",
       "    .dataframe thead th {\n",
       "        text-align: right;\n",
       "    }\n",
       "</style>\n",
       "<table border=\"1\" class=\"dataframe\">\n",
       "  <thead>\n",
       "    <tr style=\"text-align: right;\">\n",
       "      <th></th>\n",
       "      <th>calls</th>\n",
       "      <th>minutes</th>\n",
       "      <th>messages</th>\n",
       "      <th>mb_used</th>\n",
       "      <th>is_ultra</th>\n",
       "    </tr>\n",
       "  </thead>\n",
       "  <tbody>\n",
       "    <tr>\n",
       "      <td>0</td>\n",
       "      <td>40.0</td>\n",
       "      <td>311.90</td>\n",
       "      <td>83.0</td>\n",
       "      <td>19915.42</td>\n",
       "      <td>0</td>\n",
       "    </tr>\n",
       "    <tr>\n",
       "      <td>1</td>\n",
       "      <td>85.0</td>\n",
       "      <td>516.75</td>\n",
       "      <td>56.0</td>\n",
       "      <td>22696.96</td>\n",
       "      <td>0</td>\n",
       "    </tr>\n",
       "    <tr>\n",
       "      <td>2</td>\n",
       "      <td>77.0</td>\n",
       "      <td>467.66</td>\n",
       "      <td>86.0</td>\n",
       "      <td>21060.45</td>\n",
       "      <td>0</td>\n",
       "    </tr>\n",
       "    <tr>\n",
       "      <td>3</td>\n",
       "      <td>106.0</td>\n",
       "      <td>745.53</td>\n",
       "      <td>81.0</td>\n",
       "      <td>8437.39</td>\n",
       "      <td>1</td>\n",
       "    </tr>\n",
       "    <tr>\n",
       "      <td>4</td>\n",
       "      <td>66.0</td>\n",
       "      <td>418.74</td>\n",
       "      <td>1.0</td>\n",
       "      <td>14502.75</td>\n",
       "      <td>0</td>\n",
       "    </tr>\n",
       "  </tbody>\n",
       "</table>\n",
       "</div>"
      ],
      "text/plain": [
       "   calls  minutes  messages   mb_used  is_ultra\n",
       "0   40.0   311.90      83.0  19915.42         0\n",
       "1   85.0   516.75      56.0  22696.96         0\n",
       "2   77.0   467.66      86.0  21060.45         0\n",
       "3  106.0   745.53      81.0   8437.39         1\n",
       "4   66.0   418.74       1.0  14502.75         0"
      ]
     },
     "metadata": {},
     "output_type": "display_data"
    },
    {
     "data": {
      "text/html": [
       "<div>\n",
       "<style scoped>\n",
       "    .dataframe tbody tr th:only-of-type {\n",
       "        vertical-align: middle;\n",
       "    }\n",
       "\n",
       "    .dataframe tbody tr th {\n",
       "        vertical-align: top;\n",
       "    }\n",
       "\n",
       "    .dataframe thead th {\n",
       "        text-align: right;\n",
       "    }\n",
       "</style>\n",
       "<table border=\"1\" class=\"dataframe\">\n",
       "  <thead>\n",
       "    <tr style=\"text-align: right;\">\n",
       "      <th></th>\n",
       "      <th>calls</th>\n",
       "      <th>minutes</th>\n",
       "      <th>messages</th>\n",
       "      <th>mb_used</th>\n",
       "      <th>is_ultra</th>\n",
       "    </tr>\n",
       "  </thead>\n",
       "  <tbody>\n",
       "    <tr>\n",
       "      <td>3209</td>\n",
       "      <td>122.0</td>\n",
       "      <td>910.98</td>\n",
       "      <td>20.0</td>\n",
       "      <td>35124.90</td>\n",
       "      <td>1</td>\n",
       "    </tr>\n",
       "    <tr>\n",
       "      <td>3210</td>\n",
       "      <td>25.0</td>\n",
       "      <td>190.36</td>\n",
       "      <td>0.0</td>\n",
       "      <td>3275.61</td>\n",
       "      <td>0</td>\n",
       "    </tr>\n",
       "    <tr>\n",
       "      <td>3211</td>\n",
       "      <td>97.0</td>\n",
       "      <td>634.44</td>\n",
       "      <td>70.0</td>\n",
       "      <td>13974.06</td>\n",
       "      <td>0</td>\n",
       "    </tr>\n",
       "    <tr>\n",
       "      <td>3212</td>\n",
       "      <td>64.0</td>\n",
       "      <td>462.32</td>\n",
       "      <td>90.0</td>\n",
       "      <td>31239.78</td>\n",
       "      <td>0</td>\n",
       "    </tr>\n",
       "    <tr>\n",
       "      <td>3213</td>\n",
       "      <td>80.0</td>\n",
       "      <td>566.09</td>\n",
       "      <td>6.0</td>\n",
       "      <td>29480.52</td>\n",
       "      <td>1</td>\n",
       "    </tr>\n",
       "  </tbody>\n",
       "</table>\n",
       "</div>"
      ],
      "text/plain": [
       "      calls  minutes  messages   mb_used  is_ultra\n",
       "3209  122.0   910.98      20.0  35124.90         1\n",
       "3210   25.0   190.36       0.0   3275.61         0\n",
       "3211   97.0   634.44      70.0  13974.06         0\n",
       "3212   64.0   462.32      90.0  31239.78         0\n",
       "3213   80.0   566.09       6.0  29480.52         1"
      ]
     },
     "metadata": {},
     "output_type": "display_data"
    }
   ],
   "source": [
    "import pandas as pd\n",
    "from sklearn.tree import DecisionTreeClassifier\n",
    "from sklearn.ensemble import RandomForestClassifier\n",
    "from sklearn.metrics import accuracy_score\n",
    "from sklearn.model_selection import train_test_split\n",
    "\n",
    "# Загрузим таблицу с данными\n",
    "df = pd.read_csv('/datasets/users_behavior.csv')\n",
    "\n",
    "# Изучим полученную таблицу\n",
    "display(df.info())\n",
    "display(df.shape)\n",
    "display(df.head())\n",
    "display(df.tail())"
   ]
  },
  {
   "cell_type": "markdown",
   "metadata": {},
   "source": [
    "**ВЫВОД**\n",
    "\n",
    "В таблице 3214 строк, 5 столбцов, предобработка не требуется, т.к. выполнена ранее."
   ]
  },
  {
   "cell_type": "markdown",
   "metadata": {},
   "source": [
    "## Разобъем данные на выборки"
   ]
  },
  {
   "cell_type": "code",
   "execution_count": 2,
   "metadata": {},
   "outputs": [
    {
     "data": {
      "text/plain": [
       "(1928, 5)"
      ]
     },
     "metadata": {},
     "output_type": "display_data"
    },
    {
     "data": {
      "text/plain": [
       "(643, 5)"
      ]
     },
     "metadata": {},
     "output_type": "display_data"
    },
    {
     "data": {
      "text/plain": [
       "(643, 5)"
      ]
     },
     "metadata": {},
     "output_type": "display_data"
    },
    {
     "data": {
      "text/plain": [
       "0.5998755444928439"
      ]
     },
     "metadata": {},
     "output_type": "display_data"
    },
    {
     "data": {
      "text/plain": [
       "0.2000622277535781"
      ]
     },
     "metadata": {},
     "output_type": "display_data"
    },
    {
     "data": {
      "text/plain": [
       "0.2000622277535781"
      ]
     },
     "metadata": {},
     "output_type": "display_data"
    }
   ],
   "source": [
    "# Разобьём данные на выборки\n",
    "df_train_1, df_valid = train_test_split(df, test_size=0.2, random_state=12345)\n",
    "df_train, df_test = train_test_split(df_train_1, test_size=0.25, random_state=12345)\n",
    "\n",
    "# Проверим, правильно ли распределились данные\n",
    "display(df_train.shape)\n",
    "display(df_valid.shape)\n",
    "display(df_test.shape)\n",
    "\n",
    "display (len(df_train) / (len(df_train) + len(df_valid) + len(df_test)))\n",
    "display (len(df_valid) / (len(df_train) + len(df_valid) + len(df_test)))\n",
    "display (len(df_test) / (len(df_train) + len(df_valid) + len(df_test)))"
   ]
  },
  {
   "cell_type": "markdown",
   "metadata": {},
   "source": [
    "**ВЫВОД**\n",
    "\n",
    "Мы видим, что данные распределены так, как мы и планировали: в обучающую выборку попало 60% данных, в валидационную и тестовую - по 20%. "
   ]
  },
  {
   "cell_type": "markdown",
   "metadata": {},
   "source": [
    "## Исследуем модели"
   ]
  },
  {
   "cell_type": "code",
   "execution_count": 3,
   "metadata": {},
   "outputs": [
    {
     "name": "stdout",
     "output_type": "stream",
     "text": [
      "max_depth = 1 : 0.7480559875583204\n",
      "max_depth = 2 : 0.7838258164852255\n",
      "max_depth = 3 : 0.7869362363919129\n",
      "max_depth = 4 : 0.7869362363919129\n",
      "max_depth = 5 : 0.7884914463452566\n",
      "max_depth = 6 : 0.7791601866251944\n",
      "max_depth = 7 : 0.7884914463452566\n",
      "max_depth = 8 : 0.7807153965785381\n",
      "max_depth = 9 : 0.7776049766718507\n",
      "max_depth = 10 : 0.7713841368584758\n",
      "max_depth = 11 : 0.7651632970451011\n",
      "max_depth = 12 : 0.7667185069984448\n",
      "max_depth = 13 : 0.749611197511664\n",
      "max_depth = 14 : 0.7542768273716952\n",
      "max_depth = 15 : 0.7418351477449455\n",
      "max_depth = 16 : 0.7433903576982893\n",
      "max_depth = 17 : 0.744945567651633\n",
      "max_depth = 18 : 0.7433903576982893\n",
      "max_depth = 19 : 0.7278382581648523\n",
      "Accuracy наилучшей модели на валидационной выборке: 0.7884914463452566\n"
     ]
    }
   ],
   "source": [
    "# Сформируем параметры для обучения и проверки моделей\n",
    "features_train = df_train.drop('is_ultra', axis=1)\n",
    "target_train = df_train['is_ultra']\n",
    "features_valid = df_valid.drop('is_ultra', axis=1)\n",
    "target_valid = df_valid['is_ultra']\n",
    "features_test = df_test.drop('is_ultra', axis=1)\n",
    "target_test = df_test['is_ultra']\n",
    "\n",
    "best_result = 0\n",
    "for depth in range(1, 20):\n",
    "    model = DecisionTreeClassifier(random_state=12345, max_depth=depth)\n",
    "    # Обучим модель на тренировочной выборке\n",
    "    model.fit(features_train, target_train)\n",
    "    # Найдем предсказания на валидационной выборке\n",
    "    predictions_valid = model.predict(features_valid) \n",
    "    print(\"max_depth =\", depth, \": \", end='')\n",
    "    print(accuracy_score(target_valid, predictions_valid))\n",
    "    # Посчитаем качество модели на валидационной выборке\n",
    "    result = model.score(features_valid, target_valid) \n",
    "    if result > best_result:\n",
    "        # Сохраним наилучшее значение метрики accuracy на валидационных данных\n",
    "        best_result = result \n",
    "print(\"Accuracy наилучшей модели на валидационной выборке:\", best_result)"
   ]
  },
  {
   "cell_type": "code",
   "execution_count": 4,
   "metadata": {},
   "outputs": [
    {
     "name": "stdout",
     "output_type": "stream",
     "text": [
      "est = 1 : 0.7340590979782271\n",
      "est = 2 : 0.7542768273716952\n",
      "est = 3 : 0.7729393468118196\n",
      "est = 4 : 0.7667185069984448\n",
      "est = 5 : 0.7807153965785381\n",
      "est = 6 : 0.7744945567651633\n",
      "est = 7 : 0.7729393468118196\n",
      "est = 8 : 0.776049766718507\n",
      "est = 9 : 0.7791601866251944\n",
      "est = 10 : 0.7869362363919129\n",
      "est = 11 : 0.7822706065318819\n",
      "est = 12 : 0.7822706065318819\n",
      "est = 13 : 0.7916018662519441\n",
      "est = 14 : 0.7884914463452566\n",
      "est = 15 : 0.7900466562986003\n",
      "est = 16 : 0.7838258164852255\n",
      "est = 17 : 0.7838258164852255\n",
      "est = 18 : 0.7853810264385692\n",
      "est = 19 : 0.7838258164852255\n",
      "Accuracy наилучшей модели на валидационной выборке: 0.7916018662519441\n"
     ]
    }
   ],
   "source": [
    "best_result = 0\n",
    "for est in range(1, 20):\n",
    "    model = RandomForestClassifier(random_state=12345, n_estimators=est) \n",
    "    # Обучим модель на тренировочной выборке\n",
    "    model.fit(features_train, target_train) \n",
    "    # Найдем предсказания на валидационной выборке\n",
    "    predictions_valid = model.predict(features_valid) \n",
    "    print(\"est =\", est, \": \", end='')\n",
    "    print(accuracy_score(target_valid, predictions_valid))\n",
    "    # Посчитаем качество модели на валидационной выборке\n",
    "    result = model.score(features_valid, target_valid) # посчитайте качество модели на валидационной выборке\n",
    "    if result > best_result:\n",
    "        # Сохраним наилучшее значение метрики accuracy на валидационных данных\n",
    "        best_result = result\n",
    "print(\"Accuracy наилучшей модели на валидационной выборке:\", best_result)"
   ]
  },
  {
   "cell_type": "markdown",
   "metadata": {},
   "source": [
    "**ВЫВОДЫ**\n",
    "\n",
    "Мы определили гиперпараметры, которые показывают наибольшее качество моделей."
   ]
  },
  {
   "cell_type": "markdown",
   "metadata": {},
   "source": [
    "## Проверим модель на тестовой выборке"
   ]
  },
  {
   "cell_type": "code",
   "execution_count": 5,
   "metadata": {},
   "outputs": [
    {
     "name": "stdout",
     "output_type": "stream",
     "text": [
      "0.7589424572317263\n",
      "0.7776049766718507\n"
     ]
    }
   ],
   "source": [
    "model = DecisionTreeClassifier(random_state=12345, max_depth=5)\n",
    "# Обучим модель на тренировочной выборке\n",
    "model.fit(features_train, target_train)\n",
    "# Найдем предсказания на тестовой выборке\n",
    "predictions_test = model.predict(features_test) \n",
    "print(accuracy_score(target_test, predictions_test))\n",
    "\n",
    "model = RandomForestClassifier(random_state=12345, n_estimators=13) # обучите модель с заданным количеством деревьев\n",
    " # Обучим модель на тренировочной выборке\n",
    "model.fit(features_train, target_train) # обучите модель на тренировочной выборке\n",
    "# Найдем предсказания на тестовой выборке\n",
    "predictions_test = model.predict(features_test) \n",
    "print(accuracy_score(target_test, predictions_test))"
   ]
  },
  {
   "cell_type": "markdown",
   "metadata": {},
   "source": [
    "**ВЫВОДЫ**\n",
    "\n",
    "Значением accuracy при проверке моделей на тестовой выборке несколько ниже, чем на валидационной, однако выше 75%."
   ]
  },
  {
   "cell_type": "markdown",
   "metadata": {},
   "source": [
    "## Проверим модели на адекватность"
   ]
  },
  {
   "cell_type": "code",
   "execution_count": 6,
   "metadata": {},
   "outputs": [
    {
     "data": {
      "text/html": [
       "<div>\n",
       "<style scoped>\n",
       "    .dataframe tbody tr th:only-of-type {\n",
       "        vertical-align: middle;\n",
       "    }\n",
       "\n",
       "    .dataframe tbody tr th {\n",
       "        vertical-align: top;\n",
       "    }\n",
       "\n",
       "    .dataframe thead th {\n",
       "        text-align: right;\n",
       "    }\n",
       "</style>\n",
       "<table border=\"1\" class=\"dataframe\">\n",
       "  <thead>\n",
       "    <tr style=\"text-align: right;\">\n",
       "      <th></th>\n",
       "      <th>calls</th>\n",
       "      <th>minutes</th>\n",
       "      <th>messages</th>\n",
       "      <th>mb_used</th>\n",
       "      <th>is_ultra</th>\n",
       "      <th>random_ultra</th>\n",
       "    </tr>\n",
       "  </thead>\n",
       "  <tbody>\n",
       "    <tr>\n",
       "      <td>0</td>\n",
       "      <td>40.0</td>\n",
       "      <td>311.90</td>\n",
       "      <td>83.0</td>\n",
       "      <td>19915.42</td>\n",
       "      <td>0</td>\n",
       "      <td>1</td>\n",
       "    </tr>\n",
       "    <tr>\n",
       "      <td>1</td>\n",
       "      <td>85.0</td>\n",
       "      <td>516.75</td>\n",
       "      <td>56.0</td>\n",
       "      <td>22696.96</td>\n",
       "      <td>0</td>\n",
       "      <td>0</td>\n",
       "    </tr>\n",
       "    <tr>\n",
       "      <td>2</td>\n",
       "      <td>77.0</td>\n",
       "      <td>467.66</td>\n",
       "      <td>86.0</td>\n",
       "      <td>21060.45</td>\n",
       "      <td>0</td>\n",
       "      <td>0</td>\n",
       "    </tr>\n",
       "    <tr>\n",
       "      <td>3</td>\n",
       "      <td>106.0</td>\n",
       "      <td>745.53</td>\n",
       "      <td>81.0</td>\n",
       "      <td>8437.39</td>\n",
       "      <td>1</td>\n",
       "      <td>1</td>\n",
       "    </tr>\n",
       "    <tr>\n",
       "      <td>4</td>\n",
       "      <td>66.0</td>\n",
       "      <td>418.74</td>\n",
       "      <td>1.0</td>\n",
       "      <td>14502.75</td>\n",
       "      <td>0</td>\n",
       "      <td>1</td>\n",
       "    </tr>\n",
       "    <tr>\n",
       "      <td>5</td>\n",
       "      <td>58.0</td>\n",
       "      <td>344.56</td>\n",
       "      <td>21.0</td>\n",
       "      <td>15823.37</td>\n",
       "      <td>0</td>\n",
       "      <td>1</td>\n",
       "    </tr>\n",
       "    <tr>\n",
       "      <td>6</td>\n",
       "      <td>57.0</td>\n",
       "      <td>431.64</td>\n",
       "      <td>20.0</td>\n",
       "      <td>3738.90</td>\n",
       "      <td>1</td>\n",
       "      <td>1</td>\n",
       "    </tr>\n",
       "    <tr>\n",
       "      <td>7</td>\n",
       "      <td>15.0</td>\n",
       "      <td>132.40</td>\n",
       "      <td>6.0</td>\n",
       "      <td>21911.60</td>\n",
       "      <td>0</td>\n",
       "      <td>1</td>\n",
       "    </tr>\n",
       "    <tr>\n",
       "      <td>8</td>\n",
       "      <td>7.0</td>\n",
       "      <td>43.39</td>\n",
       "      <td>3.0</td>\n",
       "      <td>2538.67</td>\n",
       "      <td>1</td>\n",
       "      <td>1</td>\n",
       "    </tr>\n",
       "    <tr>\n",
       "      <td>9</td>\n",
       "      <td>90.0</td>\n",
       "      <td>665.41</td>\n",
       "      <td>38.0</td>\n",
       "      <td>17358.61</td>\n",
       "      <td>0</td>\n",
       "      <td>0</td>\n",
       "    </tr>\n",
       "    <tr>\n",
       "      <td>10</td>\n",
       "      <td>82.0</td>\n",
       "      <td>560.51</td>\n",
       "      <td>20.0</td>\n",
       "      <td>9619.53</td>\n",
       "      <td>1</td>\n",
       "      <td>1</td>\n",
       "    </tr>\n",
       "    <tr>\n",
       "      <td>11</td>\n",
       "      <td>45.0</td>\n",
       "      <td>344.32</td>\n",
       "      <td>13.0</td>\n",
       "      <td>19898.81</td>\n",
       "      <td>0</td>\n",
       "      <td>0</td>\n",
       "    </tr>\n",
       "    <tr>\n",
       "      <td>12</td>\n",
       "      <td>51.0</td>\n",
       "      <td>437.13</td>\n",
       "      <td>61.0</td>\n",
       "      <td>21523.58</td>\n",
       "      <td>0</td>\n",
       "      <td>0</td>\n",
       "    </tr>\n",
       "    <tr>\n",
       "      <td>13</td>\n",
       "      <td>56.0</td>\n",
       "      <td>433.07</td>\n",
       "      <td>16.0</td>\n",
       "      <td>16702.36</td>\n",
       "      <td>0</td>\n",
       "      <td>1</td>\n",
       "    </tr>\n",
       "    <tr>\n",
       "      <td>14</td>\n",
       "      <td>108.0</td>\n",
       "      <td>587.90</td>\n",
       "      <td>0.0</td>\n",
       "      <td>14406.50</td>\n",
       "      <td>1</td>\n",
       "      <td>0</td>\n",
       "    </tr>\n",
       "  </tbody>\n",
       "</table>\n",
       "</div>"
      ],
      "text/plain": [
       "    calls  minutes  messages   mb_used  is_ultra  random_ultra\n",
       "0    40.0   311.90      83.0  19915.42         0             1\n",
       "1    85.0   516.75      56.0  22696.96         0             0\n",
       "2    77.0   467.66      86.0  21060.45         0             0\n",
       "3   106.0   745.53      81.0   8437.39         1             1\n",
       "4    66.0   418.74       1.0  14502.75         0             1\n",
       "5    58.0   344.56      21.0  15823.37         0             1\n",
       "6    57.0   431.64      20.0   3738.90         1             1\n",
       "7    15.0   132.40       6.0  21911.60         0             1\n",
       "8     7.0    43.39       3.0   2538.67         1             1\n",
       "9    90.0   665.41      38.0  17358.61         0             0\n",
       "10   82.0   560.51      20.0   9619.53         1             1\n",
       "11   45.0   344.32      13.0  19898.81         0             0\n",
       "12   51.0   437.13      61.0  21523.58         0             0\n",
       "13   56.0   433.07      16.0  16702.36         0             1\n",
       "14  108.0   587.90       0.0  14406.50         1             0"
      ]
     },
     "metadata": {},
     "output_type": "display_data"
    },
    {
     "data": {
      "text/html": [
       "<div>\n",
       "<style scoped>\n",
       "    .dataframe tbody tr th:only-of-type {\n",
       "        vertical-align: middle;\n",
       "    }\n",
       "\n",
       "    .dataframe tbody tr th {\n",
       "        vertical-align: top;\n",
       "    }\n",
       "\n",
       "    .dataframe thead th {\n",
       "        text-align: right;\n",
       "    }\n",
       "</style>\n",
       "<table border=\"1\" class=\"dataframe\">\n",
       "  <thead>\n",
       "    <tr style=\"text-align: right;\">\n",
       "      <th></th>\n",
       "      <th>calls</th>\n",
       "      <th>minutes</th>\n",
       "      <th>messages</th>\n",
       "      <th>mb_used</th>\n",
       "      <th>is_ultra</th>\n",
       "      <th>random_ultra</th>\n",
       "    </tr>\n",
       "  </thead>\n",
       "  <tbody>\n",
       "    <tr>\n",
       "      <td>3199</td>\n",
       "      <td>104.0</td>\n",
       "      <td>702.47</td>\n",
       "      <td>0.0</td>\n",
       "      <td>23611.32</td>\n",
       "      <td>0</td>\n",
       "      <td>0</td>\n",
       "    </tr>\n",
       "    <tr>\n",
       "      <td>3200</td>\n",
       "      <td>0.0</td>\n",
       "      <td>0.00</td>\n",
       "      <td>55.0</td>\n",
       "      <td>10858.90</td>\n",
       "      <td>1</td>\n",
       "      <td>1</td>\n",
       "    </tr>\n",
       "    <tr>\n",
       "      <td>3201</td>\n",
       "      <td>56.0</td>\n",
       "      <td>419.42</td>\n",
       "      <td>59.0</td>\n",
       "      <td>5177.62</td>\n",
       "      <td>1</td>\n",
       "      <td>1</td>\n",
       "    </tr>\n",
       "    <tr>\n",
       "      <td>3202</td>\n",
       "      <td>19.0</td>\n",
       "      <td>163.10</td>\n",
       "      <td>10.0</td>\n",
       "      <td>17999.50</td>\n",
       "      <td>0</td>\n",
       "      <td>1</td>\n",
       "    </tr>\n",
       "    <tr>\n",
       "      <td>3203</td>\n",
       "      <td>53.0</td>\n",
       "      <td>390.39</td>\n",
       "      <td>85.0</td>\n",
       "      <td>30550.30</td>\n",
       "      <td>1</td>\n",
       "      <td>0</td>\n",
       "    </tr>\n",
       "    <tr>\n",
       "      <td>3204</td>\n",
       "      <td>86.0</td>\n",
       "      <td>658.66</td>\n",
       "      <td>47.0</td>\n",
       "      <td>14153.10</td>\n",
       "      <td>0</td>\n",
       "      <td>1</td>\n",
       "    </tr>\n",
       "    <tr>\n",
       "      <td>3205</td>\n",
       "      <td>59.0</td>\n",
       "      <td>412.81</td>\n",
       "      <td>16.0</td>\n",
       "      <td>14105.03</td>\n",
       "      <td>0</td>\n",
       "      <td>1</td>\n",
       "    </tr>\n",
       "    <tr>\n",
       "      <td>3206</td>\n",
       "      <td>76.0</td>\n",
       "      <td>586.51</td>\n",
       "      <td>54.0</td>\n",
       "      <td>14345.74</td>\n",
       "      <td>0</td>\n",
       "      <td>1</td>\n",
       "    </tr>\n",
       "    <tr>\n",
       "      <td>3207</td>\n",
       "      <td>17.0</td>\n",
       "      <td>92.39</td>\n",
       "      <td>2.0</td>\n",
       "      <td>4299.25</td>\n",
       "      <td>0</td>\n",
       "      <td>1</td>\n",
       "    </tr>\n",
       "    <tr>\n",
       "      <td>3208</td>\n",
       "      <td>164.0</td>\n",
       "      <td>1016.98</td>\n",
       "      <td>71.0</td>\n",
       "      <td>17787.52</td>\n",
       "      <td>1</td>\n",
       "      <td>0</td>\n",
       "    </tr>\n",
       "    <tr>\n",
       "      <td>3209</td>\n",
       "      <td>122.0</td>\n",
       "      <td>910.98</td>\n",
       "      <td>20.0</td>\n",
       "      <td>35124.90</td>\n",
       "      <td>1</td>\n",
       "      <td>0</td>\n",
       "    </tr>\n",
       "    <tr>\n",
       "      <td>3210</td>\n",
       "      <td>25.0</td>\n",
       "      <td>190.36</td>\n",
       "      <td>0.0</td>\n",
       "      <td>3275.61</td>\n",
       "      <td>0</td>\n",
       "      <td>0</td>\n",
       "    </tr>\n",
       "    <tr>\n",
       "      <td>3211</td>\n",
       "      <td>97.0</td>\n",
       "      <td>634.44</td>\n",
       "      <td>70.0</td>\n",
       "      <td>13974.06</td>\n",
       "      <td>0</td>\n",
       "      <td>0</td>\n",
       "    </tr>\n",
       "    <tr>\n",
       "      <td>3212</td>\n",
       "      <td>64.0</td>\n",
       "      <td>462.32</td>\n",
       "      <td>90.0</td>\n",
       "      <td>31239.78</td>\n",
       "      <td>0</td>\n",
       "      <td>0</td>\n",
       "    </tr>\n",
       "    <tr>\n",
       "      <td>3213</td>\n",
       "      <td>80.0</td>\n",
       "      <td>566.09</td>\n",
       "      <td>6.0</td>\n",
       "      <td>29480.52</td>\n",
       "      <td>1</td>\n",
       "      <td>1</td>\n",
       "    </tr>\n",
       "  </tbody>\n",
       "</table>\n",
       "</div>"
      ],
      "text/plain": [
       "      calls  minutes  messages   mb_used  is_ultra  random_ultra\n",
       "3199  104.0   702.47       0.0  23611.32         0             0\n",
       "3200    0.0     0.00      55.0  10858.90         1             1\n",
       "3201   56.0   419.42      59.0   5177.62         1             1\n",
       "3202   19.0   163.10      10.0  17999.50         0             1\n",
       "3203   53.0   390.39      85.0  30550.30         1             0\n",
       "3204   86.0   658.66      47.0  14153.10         0             1\n",
       "3205   59.0   412.81      16.0  14105.03         0             1\n",
       "3206   76.0   586.51      54.0  14345.74         0             1\n",
       "3207   17.0    92.39       2.0   4299.25         0             1\n",
       "3208  164.0  1016.98      71.0  17787.52         1             0\n",
       "3209  122.0   910.98      20.0  35124.90         1             0\n",
       "3210   25.0   190.36       0.0   3275.61         0             0\n",
       "3211   97.0   634.44      70.0  13974.06         0             0\n",
       "3212   64.0   462.32      90.0  31239.78         0             0\n",
       "3213   80.0   566.09       6.0  29480.52         1             1"
      ]
     },
     "metadata": {},
     "output_type": "display_data"
    }
   ],
   "source": [
    "# Сформируем столбец random_ultra из случайного набора 0 и 1\n",
    "from random import randint\n",
    "\n",
    "def random_ultra (row):\n",
    "    row = randint(0, 1)\n",
    "    return row\n",
    "    \n",
    "df['random_ultra'] = df.apply(random_ultra, axis=1)\n",
    "display(df.head(15))\n",
    "display(df.tail(15))"
   ]
  },
  {
   "cell_type": "code",
   "execution_count": 7,
   "metadata": {},
   "outputs": [
    {
     "name": "stdout",
     "output_type": "stream",
     "text": [
      "0.49922239502332816\n",
      "0.49144634525660963\n"
     ]
    }
   ],
   "source": [
    "# Разобьём обновленную таблицу на выборки\n",
    "df_train_1, df_valid = train_test_split(df, test_size=0.2, random_state=12345)\n",
    "df_train, df_test = train_test_split(df_train_1, test_size=0.25, random_state=12345)\n",
    "\n",
    "# Сформируем параметры для обучения и проверки моделей\n",
    "features_train_random = df_train.drop('random_ultra', axis=1)\n",
    "target_train_random = df_train['random_ultra']\n",
    "features_test_random = df_test.drop('random_ultra', axis=1)\n",
    "target_test_random = df_test['random_ultra']\n",
    "\n",
    "model = DecisionTreeClassifier(random_state=12345, max_depth=5)\n",
    "# Обучим модель на тренировочной выборке\n",
    "model.fit(features_train_random, target_train_random)\n",
    "# Найдем предсказания на тестовой выборке\n",
    "predictions_test = model.predict(features_test_random) \n",
    "print(accuracy_score(target_test_random, predictions_test))\n",
    "\n",
    "model = RandomForestClassifier(random_state=12345, n_estimators=13) \n",
    "# Обучим модель на тренировочной выборке\n",
    "model.fit(features_train_random, target_train_random) \n",
    "# Найдем предсказания на тестовой выборке\n",
    "predictions_test = model.predict(features_test_random) \n",
    "print(accuracy_score(target_test_random, predictions_test))"
   ]
  },
  {
   "cell_type": "markdown",
   "metadata": {},
   "source": [
    "**ВЫВОД**\n",
    "\n",
    "Мы видим, что значение accuracy для моделей, обученных на случайных целевых значениях, существенно ниже, чем обученных на достоверных данных (около 50%), что говорит об адекватности наших моделей."
   ]
  }
 ],
 "metadata": {
  "kernelspec": {
   "display_name": "Python 3",
   "language": "python",
   "name": "python3"
  },
  "language_info": {
   "codemirror_mode": {
    "name": "ipython",
    "version": 3
   },
   "file_extension": ".py",
   "mimetype": "text/x-python",
   "name": "python",
   "nbconvert_exporter": "python",
   "pygments_lexer": "ipython3",
   "version": "3.7.8"
  },
  "toc": {
   "base_numbering": 1,
   "nav_menu": {},
   "number_sections": true,
   "sideBar": true,
   "skip_h1_title": true,
   "title_cell": "Table of Contents",
   "title_sidebar": "Contents",
   "toc_cell": false,
   "toc_position": {},
   "toc_section_display": true,
   "toc_window_display": false
  }
 },
 "nbformat": 4,
 "nbformat_minor": 2
}
